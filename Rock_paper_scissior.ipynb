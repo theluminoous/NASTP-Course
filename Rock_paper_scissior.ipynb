{
 "cells": [
  {
   "cell_type": "code",
   "execution_count": null,
   "id": "620d66bf",
   "metadata": {},
   "outputs": [],
   "source": [
    "import random\n",
    "option = (\"rock\", \"paper\", \"scissiors\")\n",
    "run = True\n",
    "while run:\n",
    "    player = None\n",
    "    computer = random.choice(option)\n",
    "    while player not in option:\n",
    "        player= input(\"Please choose from (rock, paper, and scissors) : \")\n",
    "    if player == computer:\n",
    "        print(\"It's Tie...!\")\n",
    "    elif player == \"paper\" and computer == 'rock':\n",
    "        print(\"you WIN...!\")\n",
    "    elif player == \"rock\" and computer == 'scissiors':\n",
    "        print(\"you WIN...!\")\n",
    "    elif player == \"scissiors\" and computer == 'paper':\n",
    "        print(\"you WIN...!\")\n",
    "    else:\n",
    "        print(\"you LOSE...!\")\n",
    "\n",
    "    play_again = input(\"do you want to play again (y/n)\").lower()\n",
    "    if not play_again == 'y':\n",
    "        run == False\n",
    "print(\"Thanks For Playing\")\n",
    "        \n",
    "        \n",
    "# print(f\"Player {player}\")\n",
    "# print(f\"computer {computer}\")"
   ]
  },
  {
   "cell_type": "code",
   "execution_count": null,
   "id": "ac7e332d",
   "metadata": {},
   "outputs": [],
   "source": []
  },
  {
   "cell_type": "code",
   "execution_count": null,
   "id": "01352fa9",
   "metadata": {},
   "outputs": [],
   "source": []
  }
 ],
 "metadata": {
  "kernelspec": {
   "display_name": "Python 3 (ipykernel)",
   "language": "python",
   "name": "python3"
  },
  "language_info": {
   "codemirror_mode": {
    "name": "ipython",
    "version": 3
   },
   "file_extension": ".py",
   "mimetype": "text/x-python",
   "name": "python",
   "nbconvert_exporter": "python",
   "pygments_lexer": "ipython3",
   "version": "3.9.12"
  }
 },
 "nbformat": 4,
 "nbformat_minor": 5
}
