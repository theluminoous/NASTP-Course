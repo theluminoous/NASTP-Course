{
 "cells": [
  {
   "cell_type": "markdown",
   "id": "01281333-dccd-4826-84cd-e7942d6d6fde",
   "metadata": {},
   "source": [
    "### Python's Introduction"
   ]
  },
  {
   "cell_type": "markdown",
   "id": "d89408dd-08aa-46d7-83c0-e5925a0d96e5",
   "metadata": {},
   "source": [
    "<h2>What is Python?</h2>\n",
    "\n",
    "Python is a popular programming language. It was created by Guido van Rossum, and released in 1991.\n",
    "\n",
    "<h5>It is used for:</h5>\n",
    "\n",
    "<ul>\n",
    "    <li>web development (server-side)</li>\n",
    "    <li>software development</li>\n",
    "    <li>mathematics</li>\n",
    "    <li>system scripting.</li>\n",
    "</ul>"
   ]
  },
  {
   "cell_type": "markdown",
   "id": "0e0e61a5-2505-438a-b7b4-f345e676df95",
   "metadata": {},
   "source": [
    "<h2>Python Syntax compared to other programming languages</h2>\n",
    "<ul>\n",
    "    <li>Python was designed for readability, and has some similarities to the English language with influence from mathematics.</li>\n",
    "    <li>Python uses new lines to complete a command, as opposed to other programming languages which often use semicolons or parentheses.</li>\n",
    "    <li>Python relies on indentation, using whitespace, to define scope; such as the scope of loops, functions and classes. Other programming languages often use curly-brackets for this purpose.</li>\n",
    "</ul>"
   ]
  },
  {
   "cell_type": "code",
   "execution_count": 2,
   "id": "919599fd-cf0f-4112-8212-6be574f38497",
   "metadata": {},
   "outputs": [
    {
     "name": "stdout",
     "output_type": "stream",
     "text": [
      "anything\n"
     ]
    }
   ],
   "source": [
    "## To print anything on screen\n",
    "print('anything')"
   ]
  },
  {
   "cell_type": "markdown",
   "id": "4d75b279-6938-4d7e-840f-229acb413333",
   "metadata": {},
   "source": [
    "### Escape sequences\n",
    "\n",
    "In Python, escape sequences are indicated by a backslash (\\).\n",
    "\n",
    "The most important one may be \\n which indicates a new line."
   ]
  },
  {
   "cell_type": "code",
   "execution_count": 3,
   "id": "13f8ad22-2115-4447-b4ab-6685e71b2be0",
   "metadata": {},
   "outputs": [
    {
     "name": "stdout",
     "output_type": "stream",
     "text": [
      "Line A \n",
      "Line B\n"
     ]
    }
   ],
   "source": [
    "print('Line A \\nLine B')"
   ]
  },
  {
   "cell_type": "markdown",
   "id": "61739c4a-f5d7-42bf-be9b-602d05ece22e",
   "metadata": {},
   "source": [
    "<b>Escape sequences in Python:</b>\n",
    "\n",
    "<Table style=\"width:100%\">\n",
    "    <tr>\n",
    "        <th>Escape sequence</th>\n",
    "        <th>Description</th>\n",
    "    </tr>\n",
    "    <tr>\n",
    "        <td>\\’</td>\n",
    "        <td>Single quote</td>\n",
    "    </tr>\n",
    "    <tr>\n",
    "        <td>\\”</td>\n",
    "        <td>Double quote</td>\n",
    "    </tr>\n",
    "    <tr>\n",
    "        <td>\\\\</td>\n",
    "        <td>Backslash</td>\n",
    "    </tr>\n",
    "    <tr>\n",
    "        <td>\\n</td>\n",
    "        <td>New line</td>\n",
    "    </tr>\n",
    "    <tr>\n",
    "        <td>\\t</td>\n",
    "        <td>Tab</td>\n",
    "    </tr>\n",
    "    <tr>\n",
    "        <td>\\b</td>\n",
    "        <td>Backspace</td>\n",
    "    </tr>\n",
    "</Table>"
   ]
  },
  {
   "cell_type": "code",
   "execution_count": 4,
   "id": "6971e031-3bd3-4b5b-a135-eadae33cb81f",
   "metadata": {},
   "outputs": [
    {
     "name": "stdout",
     "output_type": "stream",
     "text": [
      "I'm Haseeb\n"
     ]
    }
   ],
   "source": [
    "print('I\\'m Haseeb')"
   ]
  },
  {
   "cell_type": "code",
   "execution_count": 5,
   "id": "1b3399d4-a4eb-47c0-a0e6-894826cd2b9f",
   "metadata": {},
   "outputs": [
    {
     "ename": "SyntaxError",
     "evalue": "unterminated string literal (detected at line 1) (2563465567.py, line 1)",
     "output_type": "error",
     "traceback": [
      "\u001b[1;36m  Cell \u001b[1;32mIn[5], line 1\u001b[1;36m\u001b[0m\n\u001b[1;33m    print('I'm Haseeb')\u001b[0m\n\u001b[1;37m                     ^\u001b[0m\n\u001b[1;31mSyntaxError\u001b[0m\u001b[1;31m:\u001b[0m unterminated string literal (detected at line 1)\n"
     ]
    }
   ],
   "source": [
    "print('I'm Haseeb')"
   ]
  },
  {
   "cell_type": "markdown",
   "id": "41f0cbe9-a051-4c50-aa6d-28ea09182bd0",
   "metadata": {},
   "source": [
    "### Raw String\n",
    "\n",
    "Used to force escape sequences to behave like normal text"
   ]
  },
  {
   "cell_type": "code",
   "execution_count": 8,
   "id": "2c4ed77d-4840-455e-95a8-dc5b4860ae45",
   "metadata": {},
   "outputs": [
    {
     "name": "stdout",
     "output_type": "stream",
     "text": [
      "Line A \\nLine B\n"
     ]
    }
   ],
   "source": [
    "print(r'Line A \\nLine B')"
   ]
  },
  {
   "cell_type": "markdown",
   "id": "1c2eacc4-31be-4e8f-bc76-768516895930",
   "metadata": {},
   "source": [
    "### Python as a Calculator\n",
    "\n",
    "print() function can also used for calculation"
   ]
  },
  {
   "cell_type": "code",
   "execution_count": 9,
   "id": "0104936f-d4e7-450c-9e9c-c48698a4f8f2",
   "metadata": {},
   "outputs": [
    {
     "name": "stdout",
     "output_type": "stream",
     "text": [
      "14\n"
     ]
    }
   ],
   "source": [
    "print(2+3*4)"
   ]
  },
  {
   "cell_type": "markdown",
   "id": "a69ac84d-87ae-410d-9586-aff4595236e8",
   "metadata": {},
   "source": [
    "<b>Operators in python:</b>\n",
    "\n",
    "<Table style=\"width:100%\">\n",
    "    <tr>\n",
    "        <th>Operators</th>\n",
    "        <th>Description</th>\n",
    "        <th>Example</th>\n",
    "    </tr>\n",
    "    <tr>\n",
    "        <td>+</td>\n",
    "        <td>Addition</td>\n",
    "        <td>print(2+3): 5</td>\n",
    "    </tr>\n",
    "    <tr>\n",
    "        <td>-</td>\n",
    "        <td>Subtraction</td>\n",
    "        <td>print(2-3): -1</td>\n",
    "    </tr>\n",
    "    <tr>\n",
    "        <td>*</td>\n",
    "        <td>Multiplication</td>\n",
    "        <td>print(2*3): 6</td>\n",
    "    </tr>\n",
    "    <tr>\n",
    "        <td>/</td>\n",
    "        <td>Float Division</td>\n",
    "        <td>print(4/2): 2.0</td>\n",
    "    </tr>\n",
    "    <tr>\n",
    "        <td>//</td>\n",
    "        <td>Integer Division</td>\n",
    "        <td>print(4//2): 2</td>\n",
    "    </tr>\n",
    "    <tr>\n",
    "        <td>%</td>\n",
    "        <td>Modulo, it gives reminder</td>\n",
    "        <td>print(6%2): 0</td>\n",
    "    </tr>\n",
    "    <tr>\n",
    "        <td>**</td>\n",
    "        <td>Exponent</td>\n",
    "        <td>print(2**3): 8</td>\n",
    "    </tr>\n",
    "</Table>"
   ]
  },
  {
   "cell_type": "markdown",
   "id": "bf389026-bcb7-45f9-b659-9b2e3f8ad9eb",
   "metadata": {},
   "source": [
    "<b>Associativity of Python Operators</b>\n",
    "\n",
    "Associativity is the order in which an expression is evaluated that has multiple operators of the same precedence. For example, multiplication and division have the same precedence.\n",
    "\n",
    "<b>Forexample:</b>"
   ]
  },
  {
   "cell_type": "markdown",
   "id": "6fd17bb0-7ed7-4fba-b360-01c56632078d",
   "metadata": {},
   "source": [
    "<b>Precedence rules in Python:</b>\n",
    "\n",
    "<Table style=\"width:100%\">\n",
    "    <tr>\n",
    "        <th>Operators</th>\n",
    "        <th>Precedence and Associativity rule</th>\n",
    "    </tr>\n",
    "    <tr>\n",
    "        <td>Parenthesis</td>\n",
    "        <td>Highest</td>\n",
    "    </tr>\n",
    "    <tr>\n",
    "        <td>Exponent</td>\n",
    "        <td>Right to left</td>\n",
    "    </tr>\n",
    "    <tr>\n",
    "        <td>*, /, //, %</td>\n",
    "        <td>Left to Right</td>\n",
    "    </tr>\n",
    "    <tr>\n",
    "        <td>+, -</td>\n",
    "        <td>Left to Right</td>\n",
    "    </tr>\n",
    "</Table>"
   ]
  },
  {
   "cell_type": "code",
   "execution_count": 10,
   "id": "108e4ec2-55a5-4c96-bc0f-7463785698f0",
   "metadata": {},
   "outputs": [
    {
     "name": "stdout",
     "output_type": "stream",
     "text": [
      "0.5\n"
     ]
    }
   ],
   "source": [
    "print((2+3)*5/2%6)"
   ]
  },
  {
   "cell_type": "markdown",
   "id": "9d6dc250-2725-4cc6-b1a8-c11d7bcbfa6a",
   "metadata": {},
   "source": [
    "In above Example precedence is\n",
    "\n",
    "1: (parenthesis)\n",
    "\n",
    "2: For remaining operators precedence level is same, so we will follow associativity rule for these operators which is (left to right)"
   ]
  },
  {
   "cell_type": "code",
   "execution_count": 11,
   "id": "d98fe0d0-b086-4133-a47b-5522ce96f5c3",
   "metadata": {},
   "outputs": [
    {
     "name": "stdout",
     "output_type": "stream",
     "text": [
      "2417851639229258349412352\n"
     ]
    }
   ],
   "source": [
    "print(2**3**4)"
   ]
  },
  {
   "cell_type": "markdown",
   "id": "5cbbd6a2-fcd6-4e70-8b28-1f3665a60290",
   "metadata": {},
   "source": [
    "Now As Exponent’s associativity is (Right to left) so \n",
    "\n",
    "we will solve it as given below\n",
    "\n",
    "3**4\n",
    "\n",
    "2**81"
   ]
  },
  {
   "cell_type": "code",
   "execution_count": 12,
   "id": "5b78a88e-194e-4d12-966f-47a7d74b17f4",
   "metadata": {},
   "outputs": [
    {
     "name": "stdout",
     "output_type": "stream",
     "text": [
      "Ali\n"
     ]
    }
   ],
   "source": [
    "## variable declaration\n",
    "name = 'Ali'\n",
    "print(name)"
   ]
  },
  {
   "cell_type": "code",
   "execution_count": 13,
   "id": "65472138-0736-42cd-a922-a281822153e0",
   "metadata": {},
   "outputs": [
    {
     "name": "stdout",
     "output_type": "stream",
     "text": [
      "Ali\n",
      "27\n"
     ]
    }
   ],
   "source": [
    "## Multiple variables declaration in Single line\n",
    "name, age = 'Ali',27\n",
    "print(name)\n",
    "print(age)"
   ]
  },
  {
   "cell_type": "markdown",
   "id": "4c779cd4-51e1-4c67-a2f9-1c11e97328b0",
   "metadata": {},
   "source": [
    "<b>Dynamic Programing Language</b>\n",
    "\n",
    "Python is DPL because in this Language value of variable can change at each level\n",
    "\n",
    "Also there is no need to declare variable type because it is auto declared according to the input value"
   ]
  },
  {
   "cell_type": "code",
   "execution_count": 14,
   "id": "b94d9bf0-d8b2-43a5-b85f-32ccc9404ab0",
   "metadata": {},
   "outputs": [
    {
     "name": "stdout",
     "output_type": "stream",
     "text": [
      "2\n",
      "<class 'int'>\n"
     ]
    }
   ],
   "source": [
    "Number_1 = 2             # variable type is integer\n",
    "print(Number_1)\n",
    "print(type(Number_1))"
   ]
  },
  {
   "cell_type": "code",
   "execution_count": 15,
   "id": "b924af22-87ce-4a10-8ac3-722434433c62",
   "metadata": {},
   "outputs": [
    {
     "name": "stdout",
     "output_type": "stream",
     "text": [
      "fifty\n",
      "<class 'str'>\n"
     ]
    }
   ],
   "source": [
    "Number_1 = 'fifty'        # variable type is String\n",
    "print(Number_1)\n",
    "print(type(Number_1))"
   ]
  },
  {
   "cell_type": "markdown",
   "id": "308eaeb2-1c86-4cf0-87fa-91f4c055e6c2",
   "metadata": {},
   "source": [
    "<h2>Rules for Python's variables Declaration:</h2>\n",
    "<ul>\n",
    "    <li>A variable name must start with a letter or the underscore character</li>\n",
    "    <li>A variable name cannot start with a number</li>\n",
    "    <li>A variable name can only contain alpha-numeric characters and underscores (A-z, 0-9, and _ )</li>\n",
    "    <li>Variable names are case-sensitive (age, Age and AGE are three different variables)</li>\n",
    "<ul>"
   ]
  },
  {
   "cell_type": "markdown",
   "id": "cade9d8c-d91d-498b-9b44-340ae2b1f036",
   "metadata": {},
   "source": [
    "<h2>Naming Conventions for Python's variables Declaration:</h2>\n",
    "<ul>\n",
    "    <li>Python Uses Snake case</li>\n",
    "\n",
    "<ul>"
   ]
  },
  {
   "cell_type": "code",
   "execution_count": 16,
   "id": "787eee6c-7f5d-4e73-9697-865b9b682d09",
   "metadata": {},
   "outputs": [
    {
     "name": "stdin",
     "output_type": "stream",
     "text": [
      "Enter name  :  ali\n"
     ]
    },
    {
     "name": "stdout",
     "output_type": "stream",
     "text": [
      "ali\n"
     ]
    }
   ],
   "source": [
    "## Input from User\n",
    "name = input('Enter name  : ')\n",
    "print(name)"
   ]
  },
  {
   "cell_type": "markdown",
   "id": "f3519633-3d75-4a01-b00a-5eea9ff8e772",
   "metadata": {},
   "source": [
    "<h2> Variable Types </h2>\n",
    "<ul>\n",
    "    <li>String-----> 'Hellow'</li>\n",
    "    <li>Integer----> 27</li>\n",
    "    <li>Float------> 27.1</li>\n",
    "</ul>"
   ]
  },
  {
   "cell_type": "code",
   "execution_count": 17,
   "id": "856e5349-6f65-4841-8144-cec1f8132300",
   "metadata": {},
   "outputs": [
    {
     "name": "stdin",
     "output_type": "stream",
     "text": [
      "Enter name and age, seprated by comma(,) :  ali,29\n"
     ]
    }
   ],
   "source": [
    "## Split\n",
    "# The split() method splits a string into a list.\n",
    "# You can specify the separator, default separator is any whitespace.\n",
    "\n",
    "name, age = input('Enter name and age, seprated by comma(,) : ').split(',')"
   ]
  },
  {
   "cell_type": "code",
   "execution_count": 18,
   "id": "3d710a83-d3c5-4665-9f44-615da6665dfb",
   "metadata": {},
   "outputs": [
    {
     "name": "stdout",
     "output_type": "stream",
     "text": [
      "ali\n"
     ]
    }
   ],
   "source": [
    "print(name)"
   ]
  },
  {
   "cell_type": "code",
   "execution_count": 20,
   "id": "07dd203f-5c17-4aec-9be6-605a21b39e58",
   "metadata": {},
   "outputs": [
    {
     "name": "stdout",
     "output_type": "stream",
     "text": [
      "29\n"
     ]
    }
   ],
   "source": [
    "print(age)"
   ]
  },
  {
   "cell_type": "code",
   "execution_count": 21,
   "id": "1c141ac7-bb27-4f10-8c0e-3859f663550d",
   "metadata": {},
   "outputs": [
    {
     "name": "stdout",
     "output_type": "stream",
     "text": [
      "hellow ali your age is 29\n"
     ]
    }
   ],
   "source": [
    "## String Formatting\n",
    "print(f'hellow {name} your age is {age}')"
   ]
  },
  {
   "cell_type": "code",
   "execution_count": null,
   "id": "1b2c9f5b-2bd5-49b7-8307-193463d96600",
   "metadata": {},
   "outputs": [],
   "source": [
    "pip install jupyterthemes"
   ]
  },
  {
   "cell_type": "code",
   "execution_count": null,
   "id": "c4a420c4",
   "metadata": {},
   "outputs": [],
   "source": [
    "pip install --upgrade jupyterthemes"
   ]
  },
  {
   "cell_type": "code",
   "execution_count": null,
   "id": "803193fa",
   "metadata": {},
   "outputs": [],
   "source": [
    "jt -l"
   ]
  },
  {
   "cell_type": "code",
   "execution_count": null,
   "id": "902aaf16",
   "metadata": {},
   "outputs": [],
   "source": [
    "!jt -t monokai"
   ]
  },
  {
   "cell_type": "code",
   "execution_count": null,
   "id": "5975ed34",
   "metadata": {},
   "outputs": [],
   "source": []
  }
 ],
 "metadata": {
  "kernelspec": {
   "display_name": "Python 3 (ipykernel)",
   "language": "python",
   "name": "python3"
  },
  "language_info": {
   "codemirror_mode": {
    "name": "ipython",
    "version": 3
   },
   "file_extension": ".py",
   "mimetype": "text/x-python",
   "name": "python",
   "nbconvert_exporter": "python",
   "pygments_lexer": "ipython3",
   "version": "3.9.12"
  }
 },
 "nbformat": 4,
 "nbformat_minor": 5
}
