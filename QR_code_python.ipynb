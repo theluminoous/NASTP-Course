{
 "cells": [
  {
   "cell_type": "code",
   "execution_count": 7,
   "id": "111034e1",
   "metadata": {},
   "outputs": [
    {
     "name": "stdout",
     "output_type": "stream",
     "text": [
      "Requirement already satisfied: pyqrcode in c:\\users\\dell\\anaconda3\\lib\\site-packages (1.2.1)\n",
      "Requirement already satisfied: pypng in c:\\users\\dell\\anaconda3\\lib\\site-packages (0.20220715.0)\n"
     ]
    }
   ],
   "source": [
    "!pip install pyqrcode\n",
    "!pip install pypng"
   ]
  },
  {
   "cell_type": "code",
   "execution_count": 13,
   "id": "ebf3bf9c",
   "metadata": {},
   "outputs": [
    {
     "name": "stdout",
     "output_type": "stream",
     "text": [
      "Enter the link to generate a QR code : https://www.youtube.com/watch?v=nLzth1N1bvg&ab_channel=GabeGarcia\n"
     ]
    },
    {
     "data": {
      "image/png": "[encoded data removed]",
      "text/plain": [
       "<PIL.PngImagePlugin.PngImageFile image mode=1 size=285x285 at 0x224594BCAC0>"
      ]
     },
     "execution_count": 13,
     "metadata": {},
     "output_type": "execute_result"
    }
   ],
   "source": [
    "import pyqrcode\n",
    "from PIL import Image\n",
    "link = input(\"Enter the link to generate a QR code : \")\n",
    "qr_code = pyqrcode.create(link)\n",
    "qr_code.png(\"QRcode.png\", scale = 5)\n",
    "Image.open(\"QRcode.png\")"
   ]
  },
  {
   "cell_type": "code",
   "execution_count": null,
   "id": "5354676c",
   "metadata": {},
   "outputs": [],
   "source": []
  }
 ],
 "metadata": {
  "kernelspec": {
   "display_name": "Python 3 (ipykernel)",
   "language": "python",
   "name": "python3"
  },
  "language_info": {
   "codemirror_mode": {
    "name": "ipython",
    "version": 3
   },
   "file_extension": ".py",
   "mimetype": "text/x-python",
   "name": "python",
   "nbconvert_exporter": "python",
   "pygments_lexer": "ipython3",
   "version": "3.9.12"
  }
 },
 "nbformat": 4,
 "nbformat_minor": 5
}
