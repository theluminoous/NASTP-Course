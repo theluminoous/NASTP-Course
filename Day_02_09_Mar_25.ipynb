{
 "cells": [
  {
   "cell_type": "code",
   "execution_count": 2,
   "id": "1eb0c561-3a50-420c-a8e4-627ed11e052b",
   "metadata": {},
   "outputs": [
    {
     "name": "stdout",
     "output_type": "stream",
     "text": [
      "a\n",
      "d\n"
     ]
    }
   ],
   "source": [
    "## Indexing and Slicing\n",
    "# Indexing is used to obtain individual elements. While,\n",
    "\n",
    "name = \"Jamshaid\"\n",
    "print(name[1])\n",
    "print(name[-1])"
   ]
  },
  {
   "cell_type": "code",
   "execution_count": 3,
   "id": "e02ece34-0fb0-4c54-a846-f9e98f8e1211",
   "metadata": {},
   "outputs": [
    {
     "name": "stdout",
     "output_type": "stream",
     "text": [
      "pyt\n"
     ]
    }
   ],
   "source": [
    "# Slicing is used to obtain a sequence of elements\n",
    "language = 'python'\n",
    "print(language[0:3])"
   ]
  },
  {
   "cell_type": "code",
   "execution_count": 4,
   "id": "62f8b29d-7204-47dd-92d2-0a1a3934e884",
   "metadata": {},
   "outputs": [
    {
     "name": "stdout",
     "output_type": "stream",
     "text": [
      "ython\n",
      "pyt\n"
     ]
    }
   ],
   "source": [
    "print(language[1: ])\n",
    "print(language[ :3])"
   ]
  },
  {
   "cell_type": "code",
   "execution_count": 7,
   "id": "cfd4e4f2-89a7-4ad2-918f-9dc22a66d376",
   "metadata": {},
   "outputs": [
    {
     "name": "stdout",
     "output_type": "stream",
     "text": [
      "yth\n"
     ]
    }
   ],
   "source": [
    "print(language[1:4])"
   ]
  },
  {
   "cell_type": "code",
   "execution_count": 6,
   "id": "76a4f1f5-4ecc-4305-ab0e-a90547bb5318",
   "metadata": {},
   "outputs": [
    {
     "name": "stdout",
     "output_type": "stream",
     "text": [
      "yh\n"
     ]
    }
   ],
   "source": [
    "# Step Argument\n",
    "print(language[1:4:2])"
   ]
  },
  {
   "cell_type": "code",
   "execution_count": 8,
   "id": "1a8885eb-181a-4b6e-a238-c3932b0689b6",
   "metadata": {},
   "outputs": [
    {
     "name": "stdout",
     "output_type": "stream",
     "text": [
      "python\n"
     ]
    }
   ],
   "source": [
    "print(language[::1])"
   ]
  },
  {
   "cell_type": "code",
   "execution_count": 9,
   "id": "20531930-0ec5-42a3-80be-c487f8908eb2",
   "metadata": {},
   "outputs": [
    {
     "name": "stdout",
     "output_type": "stream",
     "text": [
      "pto\n"
     ]
    }
   ],
   "source": [
    "print(language[::2])"
   ]
  },
  {
   "cell_type": "code",
   "execution_count": 10,
   "id": "0d22df4f-8c3d-46ac-92c7-6c7393bc1989",
   "metadata": {},
   "outputs": [
    {
     "name": "stdout",
     "output_type": "stream",
     "text": [
      "ph\n"
     ]
    }
   ],
   "source": [
    "print(language[::3])"
   ]
  },
  {
   "cell_type": "code",
   "execution_count": 6,
   "id": "689f480c-b8ef-484e-98c7-fc4c387346b2",
   "metadata": {},
   "outputs": [
    {
     "name": "stdout",
     "output_type": "stream",
     "text": [
      "nohtyp\n"
     ]
    }
   ],
   "source": [
    "print(language[::-1])"
   ]
  },
  {
   "cell_type": "markdown",
   "id": "fda2e126-6a08-4a6b-972e-07c5905a6081",
   "metadata": {},
   "source": [
    "### Exercise\n",
    "### Ask class name from user and print in back order\n",
    "##### Note: (try to make your program in two lines using string formatting)"
   ]
  },
  {
   "cell_type": "code",
   "execution_count": 2,
   "id": "1faeaea8-97ca-4d08-b6b1-6245cafa50e4",
   "metadata": {},
   "outputs": [
    {
     "name": "stdout",
     "output_type": "stream",
     "text": [
      "You enetered word is :azhar and back order words is :rahza\n"
     ]
    }
   ],
   "source": [
    "words = input(\"Enter any word or name :\" )\n",
    "print(f\"You enetered word is :{words} and back order words is :{words[::-1]}\")"
   ]
  },
  {
   "cell_type": "code",
   "execution_count": 13,
   "id": "c6a53216-e8e4-4c78-9457-eb73bab93a77",
   "metadata": {},
   "outputs": [
    {
     "name": "stdout",
     "output_type": "stream",
     "text": [
      "python\n"
     ]
    }
   ],
   "source": [
    "print(language[:])"
   ]
  },
  {
   "cell_type": "code",
   "execution_count": 17,
   "id": "2c6610ab-317e-42b7-a704-846f07d7763b",
   "metadata": {},
   "outputs": [
    {
     "name": "stdout",
     "output_type": "stream",
     "text": [
      "python\n"
     ]
    }
   ],
   "source": [
    "print(language[::1])"
   ]
  },
  {
   "cell_type": "code",
   "execution_count": 20,
   "id": "0f63cb35-117c-436f-b3b2-a8a4e891a85b",
   "metadata": {},
   "outputs": [
    {
     "name": "stdout",
     "output_type": "stream",
     "text": [
      "nohtyp\n"
     ]
    }
   ],
   "source": [
    "print(language[::-1])"
   ]
  },
  {
   "cell_type": "code",
   "execution_count": 18,
   "id": "0b54ae90-e14a-4990-ae62-c10f45b765fc",
   "metadata": {},
   "outputs": [
    {
     "name": "stdout",
     "output_type": "stream",
     "text": [
      "nohtyp\n"
     ]
    }
   ],
   "source": [
    "print(language[-1::-1])"
   ]
  },
  {
   "cell_type": "code",
   "execution_count": 15,
   "id": "9732d1c6-9db2-40dc-a7c2-5fec09699b7c",
   "metadata": {},
   "outputs": [
    {
     "name": "stdout",
     "output_type": "stream",
     "text": [
      "nohtyp\n"
     ]
    }
   ],
   "source": [
    "print(language[::-1])"
   ]
  },
  {
   "cell_type": "code",
   "execution_count": 16,
   "id": "adc3f796-fca8-46b2-ad91-edb504905137",
   "metadata": {},
   "outputs": [
    {
     "name": "stdout",
     "output_type": "stream",
     "text": [
      "nhy\n"
     ]
    }
   ],
   "source": [
    "print(language[::-2])"
   ]
  },
  {
   "cell_type": "markdown",
   "id": "d42c4a66-ff42-47a8-90b6-43f92dad9ad1",
   "metadata": {},
   "source": [
    "### String methods\n",
    "\n",
    "We use string methods in Python to efficiently manipulate and process text data."
   ]
  },
  {
   "cell_type": "code",
   "execution_count": 21,
   "id": "db3cea66-94a7-4c50-81b2-940951533c46",
   "metadata": {},
   "outputs": [
    {
     "name": "stdout",
     "output_type": "stream",
     "text": [
      "8\n"
     ]
    }
   ],
   "source": [
    "## length Method\n",
    "print(len('Jamshaid')) # to check length"
   ]
  },
  {
   "cell_type": "code",
   "execution_count": 22,
   "id": "37868f72-2048-4f0f-8ff3-ac926d8b3fb9",
   "metadata": {},
   "outputs": [
    {
     "name": "stdout",
     "output_type": "stream",
     "text": [
      "jamshaid\n"
     ]
    }
   ],
   "source": [
    "## lower method\n",
    "name = 'JamsHaid'\n",
    "print(name.lower()) # to convert string in smaller letters"
   ]
  },
  {
   "cell_type": "code",
   "execution_count": 23,
   "id": "4bac70fa-6aa0-4b0e-8b11-27d2b8a22620",
   "metadata": {},
   "outputs": [
    {
     "name": "stdout",
     "output_type": "stream",
     "text": [
      "JAMSHAID\n"
     ]
    }
   ],
   "source": [
    "## upper method\n",
    "name = 'Jamshaid'\n",
    "print(name.upper()) # to convert string in Capital letters"
   ]
  },
  {
   "cell_type": "code",
   "execution_count": 24,
   "id": "ab1cca07-0664-443a-99a9-1bf88c39b48c",
   "metadata": {},
   "outputs": [
    {
     "name": "stdout",
     "output_type": "stream",
     "text": [
      "Jamshaid Ahmad\n"
     ]
    }
   ],
   "source": [
    "## title method\n",
    "name = 'JaMshaid ahmad'\n",
    "print(name.title()) # first letter of each word will capital"
   ]
  },
  {
   "cell_type": "code",
   "execution_count": 25,
   "id": "096e5db7-14e4-40d2-b878-9ff197f43925",
   "metadata": {},
   "outputs": [
    {
     "name": "stdout",
     "output_type": "stream",
     "text": [
      "2\n"
     ]
    }
   ],
   "source": [
    "## count method\n",
    "name = 'Jamshaid'\n",
    "print(name.count('a')) # counting of small a in whole string"
   ]
  },
  {
   "cell_type": "code",
   "execution_count": 26,
   "id": "42853a6c-8f85-4083-a2ed-1c097b6745b2",
   "metadata": {},
   "outputs": [
    {
     "name": "stdout",
     "output_type": "stream",
     "text": [
      "4\n"
     ]
    }
   ],
   "source": [
    "## count method\n",
    "name = 'This is a simple string. It is useful because it is clear.'\n",
    "print(name.count('is')) # counting of small a in whole string"
   ]
  },
  {
   "cell_type": "code",
   "execution_count": 27,
   "id": "82b0b09e-3ef8-4515-b5c9-388c812c38b4",
   "metadata": {},
   "outputs": [
    {
     "name": "stdout",
     "output_type": "stream",
     "text": [
      "18\n"
     ]
    }
   ],
   "source": [
    "# find method\n",
    "## give the starting index of string\n",
    "\n",
    "text = \"Hello, welcome to Python programming!\"\n",
    "print(text.find(\"Python\"))"
   ]
  },
  {
   "cell_type": "code",
   "execution_count": null,
   "id": "1548b6fd-8a8f-4332-b4bc-94fe40288a61",
   "metadata": {},
   "outputs": [],
   "source": [
    "## Exercise\n",
    "\n",
    "# Take 2 comma separated inputs from user\n",
    "    # username\n",
    "    # single character\n",
    "# Output Should be\n",
    "    # Username length?\n",
    "    # Count the single character from username   (case insensitive)"
   ]
  },
  {
   "cell_type": "code",
   "execution_count": 5,
   "id": "eb63b356-1616-4195-a522-e807c2fcab97",
   "metadata": {},
   "outputs": [
    {
     "name": "stdout",
     "output_type": "stream",
     "text": [
      "Enter username and a single character to find, separated by comma: xcgbfgh fgf\n"
     ]
    },
    {
     "ename": "ValueError",
     "evalue": "not enough values to unpack (expected 2, got 1)",
     "output_type": "error",
     "traceback": [
      "\u001b[1;31m---------------------------------------------------------------------------\u001b[0m",
      "\u001b[1;31mValueError\u001b[0m                                Traceback (most recent call last)",
      "Input \u001b[1;32mIn [5]\u001b[0m, in \u001b[0;36m<cell line: 3>\u001b[1;34m()\u001b[0m\n\u001b[0;32m      1\u001b[0m \u001b[38;5;66;03m## solution\u001b[39;00m\n\u001b[1;32m----> 3\u001b[0m username,character \u001b[38;5;241m=\u001b[39m \u001b[38;5;28minput\u001b[39m(\u001b[38;5;124m'\u001b[39m\u001b[38;5;124mEnter username and a single character to find, separated by comma: \u001b[39m\u001b[38;5;124m'\u001b[39m)\u001b[38;5;241m.\u001b[39msplit(\u001b[38;5;124m'\u001b[39m\u001b[38;5;124m,\u001b[39m\u001b[38;5;124m'\u001b[39m)\n\u001b[0;32m      4\u001b[0m \u001b[38;5;28mprint\u001b[39m(\u001b[38;5;124mf\u001b[39m\u001b[38;5;124m'\u001b[39m\u001b[38;5;124mname length is \u001b[39m\u001b[38;5;132;01m{\u001b[39;00m\u001b[38;5;28mlen\u001b[39m(username)\u001b[38;5;132;01m}\u001b[39;00m\u001b[38;5;124m and \u001b[39m\u001b[38;5;132;01m{\u001b[39;00m\u001b[38;5;28mlen\u001b[39m(character)\u001b[38;5;132;01m}\u001b[39;00m\u001b[38;5;124m comes \u001b[39m\u001b[38;5;132;01m{\u001b[39;00musername\u001b[38;5;241m.\u001b[39mlower()\u001b[38;5;241m.\u001b[39mcount(character\u001b[38;5;241m.\u001b[39mlower())\u001b[38;5;132;01m}\u001b[39;00m\u001b[38;5;124m times\u001b[39m\u001b[38;5;124m'\u001b[39m)\n",
      "\u001b[1;31mValueError\u001b[0m: not enough values to unpack (expected 2, got 1)"
     ]
    }
   ],
   "source": [
    "## solution\n",
    "\n",
    "username,character = input('Enter username and a single character to find, separated by comma: ').split(',')\n",
    "print(f'name length is {len(username)} and {len(character)} comes {username.lower().count(character.lower())} times')"
   ]
  },
  {
   "cell_type": "code",
   "execution_count": 29,
   "id": "a0b7004f-42df-4e34-a748-2b143a5e91c2",
   "metadata": {},
   "outputs": [
    {
     "data": {
      "text/plain": [
       "'JamshAid'"
      ]
     },
     "execution_count": 29,
     "metadata": {},
     "output_type": "execute_result"
    }
   ],
   "source": [
    "username"
   ]
  },
  {
   "cell_type": "code",
   "execution_count": 30,
   "id": "a13b081d-45a9-4225-ab64-154f0bcdb037",
   "metadata": {},
   "outputs": [
    {
     "data": {
      "text/plain": [
       "'a'"
      ]
     },
     "execution_count": 30,
     "metadata": {},
     "output_type": "execute_result"
    }
   ],
   "source": [
    "character"
   ]
  },
  {
   "cell_type": "code",
   "execution_count": 31,
   "id": "04f87071-93ac-4725-8a86-b99fa6b6da8a",
   "metadata": {},
   "outputs": [
    {
     "data": {
      "text/plain": [
       "'jamshaid'"
      ]
     },
     "execution_count": 31,
     "metadata": {},
     "output_type": "execute_result"
    }
   ],
   "source": [
    "username.lower()"
   ]
  },
  {
   "cell_type": "code",
   "execution_count": 34,
   "id": "ec459a76-10ab-43a9-b04a-c2281c618e63",
   "metadata": {},
   "outputs": [
    {
     "data": {
      "text/plain": [
       "2"
      ]
     },
     "execution_count": 34,
     "metadata": {},
     "output_type": "execute_result"
    }
   ],
   "source": [
    "username.lower().count('A'.lower())"
   ]
  },
  {
   "cell_type": "code",
   "execution_count": 37,
   "id": "041d013d-d61a-452d-bc0b-f3f6709fcc09",
   "metadata": {},
   "outputs": [
    {
     "data": {
      "text/plain": [
       "'This was a simple string. It was useful because it was clear.'"
      ]
     },
     "execution_count": 37,
     "metadata": {},
     "output_type": "execute_result"
    }
   ],
   "source": [
    "## replace method\n",
    "\n",
    "string = 'This is a simple string. It is useful because it is clear.'\n",
    "string.replace(' is', ' was')    # replace all is"
   ]
  },
  {
   "cell_type": "code",
   "execution_count": 39,
   "id": "37571ae7-01c3-4876-89d8-3390b2a24a38",
   "metadata": {},
   "outputs": [
    {
     "data": {
      "text/plain": [
       "'This was a simple string. It is useful because it is clear.'"
      ]
     },
     "execution_count": 39,
     "metadata": {},
     "output_type": "execute_result"
    }
   ],
   "source": [
    "string.replace(' is', ' was', 1) # replace first"
   ]
  },
  {
   "cell_type": "code",
   "execution_count": 40,
   "id": "a1983f5e-1a74-4a86-bce4-5160bb3decc9",
   "metadata": {},
   "outputs": [
    {
     "name": "stdout",
     "output_type": "stream",
     "text": [
      "This is a simple string. It is useful because it is clear.\n"
     ]
    }
   ],
   "source": [
    "print(string) #python strings are immutable, replace method just tempor the value"
   ]
  },
  {
   "cell_type": "code",
   "execution_count": 41,
   "id": "712bba49-a082-4e23-a765-2a29754122c6",
   "metadata": {},
   "outputs": [],
   "source": [
    "temp_var = string.replace(' is', ' was', 1)"
   ]
  },
  {
   "cell_type": "code",
   "execution_count": 42,
   "id": "00e2b291-5c19-4e6f-b1d4-b2a81ffe240b",
   "metadata": {},
   "outputs": [
    {
     "data": {
      "text/plain": [
       "'This was a simple string. It is useful because it is clear.'"
      ]
     },
     "execution_count": 42,
     "metadata": {},
     "output_type": "execute_result"
    }
   ],
   "source": [
    "temp_var"
   ]
  },
  {
   "cell_type": "markdown",
   "id": "2f877420-5106-4cf4-82db-0964547b689e",
   "metadata": {},
   "source": [
    "### Assignment operators\n",
    "\n",
    "###### Assignment operators are used in Python to assign values to variables. \n",
    "###### a = 5 is a simple assignment operator that assigns the value 5 on the right to the variable a on the left. \n",
    "###### There are various compound operators in Python like a += 5 that adds to the variable and later assigns the same.\n"
   ]
  },
  {
   "cell_type": "code",
   "execution_count": 43,
   "id": "d60ccd94-7c8e-479d-811c-93625e5cbbf4",
   "metadata": {},
   "outputs": [
    {
     "name": "stdout",
     "output_type": "stream",
     "text": [
      "25\n"
     ]
    }
   ],
   "source": [
    "age = 24\n",
    "\n",
    "# addition operator \n",
    "age = age+1\n",
    "print(age)    #25"
   ]
  },
  {
   "cell_type": "code",
   "execution_count": 44,
   "id": "67af86ea-3c41-4b89-868f-5ea9a97c75ee",
   "metadata": {},
   "outputs": [
    {
     "name": "stdout",
     "output_type": "stream",
     "text": [
      "15\n"
     ]
    }
   ],
   "source": [
    "# subtraction operator\n",
    "age -= 10\n",
    "print(age)    #15"
   ]
  },
  {
   "cell_type": "code",
   "execution_count": 45,
   "id": "25f0f274-b99d-4492-8ee9-f1889b5e58f3",
   "metadata": {},
   "outputs": [
    {
     "name": "stdout",
     "output_type": "stream",
     "text": [
      "75\n"
     ]
    }
   ],
   "source": [
    "# multiplication operator\n",
    "age *= 5\n",
    "print(age)    #75"
   ]
  },
  {
   "cell_type": "markdown",
   "id": "c03111b3-0fc8-4604-8e09-7d9454e31790",
   "metadata": {},
   "source": [
    "### Conditional Structures\n",
    "\n",
    "###### Conditional statements are also called decision-making statements. \n",
    "###### We use those statements while we want to execute a block of code when the given condition is true or false."
   ]
  },
  {
   "cell_type": "code",
   "execution_count": 47,
   "id": "b4a0f7f2-f6e7-428e-be60-ebafc0635700",
   "metadata": {},
   "outputs": [
    {
     "name": "stdout",
     "output_type": "stream",
     "text": [
      "Enter your age:  15\n",
      "You are above 14, you can continue\n"
     ]
    }
   ],
   "source": [
    "# if statement\n",
    "\n",
    "age = int(input(\"Enter your age: \"))\n",
    "if age>=14:\n",
    "    print(\"You are above 14, you can continue\")"
   ]
  },
  {
   "cell_type": "code",
   "execution_count": 48,
   "id": "c9d5c534-8024-4bf1-8db8-9d1da634f68e",
   "metadata": {},
   "outputs": [
    {
     "name": "stdout",
     "output_type": "stream",
     "text": [
      "Enter your age:  15\n"
     ]
    }
   ],
   "source": [
    "## pass statement\n",
    "\n",
    "age = int(input(\"Enter your age: \"))\n",
    "if age>=14:\n",
    "    pass          #  If we don’t want to write anything in the conditional block"
   ]
  },
  {
   "cell_type": "code",
   "execution_count": null,
   "id": "fae27e00-e380-4d34-b32c-6fa5ee5e8440",
   "metadata": {},
   "outputs": [],
   "source": [
    "## if-else statement\n",
    "\n",
    "age = int(input(\"Enter your age: \"))\n",
    "if age>=14:\n",
    "    print(\"You are above 14, you can continue\")\n",
    "else:\n",
    "    print(\"sorry! you can't continue`\")"
   ]
  },
  {
   "cell_type": "code",
   "execution_count": null,
   "id": "5ce12ab1-ad65-47b8-9d6b-7b58ec24f10b",
   "metadata": {},
   "outputs": [],
   "source": [
    "# Nested if-else\n",
    "age = int(input(\"Enter your age: \"))\n",
    "if age >= 18:\n",
    "    if age >= 60:\n",
    "        print(\"You are a senior citizen.\")\n",
    "    else:\n",
    "        print(\"You are an adult.\")\n",
    "else:\n",
    "    if age < 13:\n",
    "        print(\"You are a child.\")\n",
    "    else:\n",
    "        print(\"You are a teenager.\")"
   ]
  },
  {
   "cell_type": "code",
   "execution_count": null,
   "id": "920901a7-6c67-4c10-850b-d600bba8a9bf",
   "metadata": {},
   "outputs": [],
   "source": [
    "## Exercise\n",
    "\n",
    "## Guess number game\n",
    "\n",
    "# Make a variable like 'winning_number' and assign any number to it\n",
    "# Make a variable 'guess_number'Ask user to guess that number\n",
    "# If user guess correctly then print 'you win!!'\n",
    "# If user doesn’t guess correctly then:\n",
    "    # If user guess lower than actual number then print 'Its lower!!'\n",
    "    # If user guess greater than actual number then print 'It’s greater!!'"
   ]
  },
  {
   "cell_type": "code",
   "execution_count": 49,
   "id": "bb8d445d-9c76-4d7c-90c3-a0786913d2c8",
   "metadata": {},
   "outputs": [
    {
     "name": "stdout",
     "output_type": "stream",
     "text": [
      "Enter a number to guess:  13\n",
      "your number is small\n"
     ]
    }
   ],
   "source": [
    "## Solution\n",
    "\n",
    "winning_number = 15\n",
    "user_number = int(input(\"Enter a number to guess: \"))\n",
    "if winning_number == user_number:\n",
    "    print(\"you win!!\")\n",
    "else:\n",
    "    if user_number<winning_number:\n",
    "        print(\"your number is small\")\n",
    "    else:\n",
    "        print(\"your number is greater\")"
   ]
  },
  {
   "cell_type": "code",
   "execution_count": 50,
   "id": "1aacade0-6890-4211-9c35-7a072bf3059b",
   "metadata": {},
   "outputs": [
    {
     "name": "stdout",
     "output_type": "stream",
     "text": [
      "Enter name and password, seprated by comma:  ali,1234\n",
      "incorrect information\n"
     ]
    }
   ],
   "source": [
    "## and operator\n",
    "# Returns True if both statements are true\n",
    "\n",
    "name, password=input(\"Enter name and password, seprated by comma: \").split(\",\")\n",
    "if name==\"Ali\" and password==\"1234\": # If both sides will true then condition will run\n",
    "    print(\"Welcome!!\")\n",
    "else:\n",
    "    print(\"incorrect information\")"
   ]
  },
  {
   "cell_type": "code",
   "execution_count": null,
   "id": "feb48c17-a3f5-4c15-b177-73ca329384f7",
   "metadata": {},
   "outputs": [],
   "source": [
    "## or operator\n",
    "# Returns True if one of the statements is true\n",
    "\n",
    "name, password=input(\"Enter name and password, seprated by comma: \").split(\",\")\n",
    "if name==\"Ali\" or password==\"1234\":\n",
    "    print(\"information is correct\")\n",
    "else:\n",
    "    print(\"incorrect information\")"
   ]
  },
  {
   "cell_type": "code",
   "execution_count": 51,
   "id": "ad46458a-2098-45b1-bd83-081d213bb37e",
   "metadata": {},
   "outputs": [
    {
     "name": "stdout",
     "output_type": "stream",
     "text": [
      "It's the weekend! 🎉\n"
     ]
    }
   ],
   "source": [
    "\n",
    "day = \"Saturday\"\n",
    "\n",
    "if day == \"Saturday\" or day == \"Sunday\":\n",
    "    print(\"It's the weekend! 🎉\")\n",
    "else:\n",
    "    print(\"It's a weekday. Keep working! 💻\")"
   ]
  },
  {
   "cell_type": "code",
   "execution_count": null,
   "id": "6c0715ed-0b2c-4785-8d2b-5a6b2bf2eaca",
   "metadata": {},
   "outputs": [],
   "source": [
    "## Exercise\n",
    "\n",
    "# Ask user’s name and age\n",
    "# If user’s name start with (‘a’ or ‘A’) and age is above 10 then\n",
    "    # Print you can watch movie\n",
    "# Else print sorry you canot watch"
   ]
  },
  {
   "cell_type": "code",
   "execution_count": null,
   "id": "87371ef5-abf7-42a6-ab32-585ef72a88c6",
   "metadata": {},
   "outputs": [],
   "source": [
    "## Solution\n",
    "\n",
    "name= input(\"Enter the user name: \")\n",
    "age= int(input(\"Enter the user age: \"))\n",
    "if age>=10 and (name[0]== 'a' or name[0]=='A'):\n",
    "    print(\"You can watch movie\")\n",
    "else:\n",
    "    print(\"sorry! you can't watch movie\")"
   ]
  },
  {
   "cell_type": "code",
   "execution_count": null,
   "id": "c244089c-30d0-40e8-a1fb-b02afd3aeadd",
   "metadata": {},
   "outputs": [],
   "source": [
    "marks = 85\n",
    "\n",
    "if marks >= 90:\n",
    "    print(\"Grade: A+\")\n",
    "elif marks >= 80:\n",
    "    print(\"Grade: A\")\n",
    "elif marks >= 70:\n",
    "    print(\"Grade: B\")\n",
    "elif marks >= 60:\n",
    "    print(\"Grade: C\")\n",
    "else:\n",
    "    print(\"Grade: F\")"
   ]
  },
  {
   "cell_type": "code",
   "execution_count": null,
   "id": "d7587049-3ae9-49dd-96d9-8c6278dfbd35",
   "metadata": {},
   "outputs": [],
   "source": [
    "## if-elif-else\n",
    "# We use elif when there are multiple conditions to check at a time\n",
    "\n",
    "## Program\n",
    "# ask user for age and\n",
    "# show tickets pricing for different age groups\n",
    "#     1 to 5        (free)\n",
    "#     6 to 10      (100)\n",
    "#     11 to 30    (200)\n",
    "#     Above 30  (300)"
   ]
  },
  {
   "cell_type": "code",
   "execution_count": null,
   "id": "3ed308ad-ac5c-4b08-9755-8bba5454b46b",
   "metadata": {},
   "outputs": [],
   "source": [
    "## Solution\n",
    "\n",
    "age=int(input(\"Enter the age of viewer: \"))\n",
    "if 0<age<=5:\n",
    "    print(\"Your ticket is Free\")\n",
    "elif 5<age<=10:\n",
    "    print(\"Your ticket price is 100\")\n",
    "elif 10<age<=30:\n",
    "    print(\"Your ticket price is 200\")\n",
    "elif age>30:\n",
    "    print(\"Your ticket price is 300\")"
   ]
  },
  {
   "cell_type": "code",
   "execution_count": 52,
   "id": "18e97cd5-dcfa-46cc-abdb-0b5186cf70c3",
   "metadata": {},
   "outputs": [
    {
     "name": "stdout",
     "output_type": "stream",
     "text": [
      "enter the name:  ali\n",
      "a is present\n"
     ]
    }
   ],
   "source": [
    "## in keyword\n",
    "# \"in\" is used to check any character between given string\n",
    "\n",
    "name=input(\"enter the name: \")\n",
    "if 'a' in name:\n",
    "    print(\"a is present\")\n",
    "else:\n",
    "    print(\"a is not present\")"
   ]
  },
  {
   "cell_type": "code",
   "execution_count": 53,
   "id": "6df5fe82-8157-4456-b952-9b44f598d02f",
   "metadata": {},
   "outputs": [
    {
     "name": "stdout",
     "output_type": "stream",
     "text": [
      "enter the name:  ali\n",
      "a is present\n"
     ]
    }
   ],
   "source": [
    "## not in keyword\n",
    "\n",
    "name=input(\"enter the name: \")\n",
    "if 'a' not in name:\n",
    "    print(\"a is not present\")\n",
    "else:\n",
    "    print(\"a is present\")"
   ]
  },
  {
   "cell_type": "code",
   "execution_count": 55,
   "id": "0b3b5879-683b-4ca6-90a4-3da20cabf250",
   "metadata": {},
   "outputs": [
    {
     "name": "stdout",
     "output_type": "stream",
     "text": [
      "enter the name:  a\n",
      "your name is a\n"
     ]
    }
   ],
   "source": [
    "## string is empty or not\n",
    "# It is use to check that string is empty or not\n",
    "\n",
    "name=input(\"enter the name: \")\n",
    "if name:\n",
    "    print(f\"your name is {name}\")\n",
    "else:\n",
    "    print(\"you did not enter anything\")"
   ]
  },
  {
   "cell_type": "markdown",
   "id": "5423eb45-44a1-4072-b20e-b0ea6cea2645",
   "metadata": {},
   "source": [
    "### Loops"
   ]
  },
  {
   "cell_type": "code",
   "execution_count": 56,
   "id": "84bab021-a4d0-40e7-bfea-cc42aad9be45",
   "metadata": {},
   "outputs": [],
   "source": [
    "# Loop is used to execute specific code again and again\n",
    "# Programming languages has 2 loops, \n",
    "#     1: while loop\n",
    "#     2: for loop\n",
    "# “While loop” work can be done by “for loop” and vice versa"
   ]
  },
  {
   "cell_type": "code",
   "execution_count": 57,
   "id": "71851ba0-4e85-4df9-9b39-82160bfbf385",
   "metadata": {},
   "outputs": [
    {
     "name": "stdout",
     "output_type": "stream",
     "text": [
      "1: Hellow\n",
      "2: Hellow\n",
      "3: Hellow\n",
      "4: Hellow\n",
      "5: Hellow\n",
      "6: Hellow\n",
      "7: Hellow\n",
      "8: Hellow\n",
      "9: Hellow\n",
      "10: Hellow\n"
     ]
    }
   ],
   "source": [
    "## While Loop\n",
    "# We have to initialise a variable to run while loop\n",
    "# For example: print Hellow 10 times\n",
    "\n",
    "i=1\n",
    "while i<=10:\n",
    "    print(f\"{i}: Hellow\")\n",
    "    i=i+1\n",
    "\n",
    "# After every 1 cycle of loop, “i” increase one time\n",
    "# Loop will stop when while condition become false"
   ]
  },
  {
   "cell_type": "code",
   "execution_count": 59,
   "id": "fbfe085f-6da0-42f4-b769-c18e6402039c",
   "metadata": {},
   "outputs": [
    {
     "name": "stdout",
     "output_type": "stream",
     "text": [
      "1\n",
      "3\n",
      "6\n",
      "10\n",
      "15\n",
      "21\n",
      "28\n",
      "36\n",
      "45\n",
      "55\n"
     ]
    }
   ],
   "source": [
    "## Sum 1 to 10 in one variable\n",
    "\n",
    "add=0\n",
    "i=1\n",
    "while i<=10:\n",
    "    add+=i\n",
    "    print(add)\n",
    "    i+=1"
   ]
  },
  {
   "cell_type": "code",
   "execution_count": null,
   "id": "c0de7d36-2eea-4138-b3d7-ac789661c46f",
   "metadata": {},
   "outputs": [],
   "source": [
    "## Exercise\n",
    "\n",
    "# ask user to input a number containing more than one digit\n",
    "# forexample: 2357\n",
    "# calculate the sum of each character 2+3+5+7 and print the sum"
   ]
  },
  {
   "cell_type": "code",
   "execution_count": 60,
   "id": "9ea7ca63-cebe-4a76-bc74-186398a5fa9c",
   "metadata": {},
   "outputs": [
    {
     "name": "stdout",
     "output_type": "stream",
     "text": [
      "Enter a number containing more than one digit:  543789\n",
      "sum of 543789 is 36\n"
     ]
    }
   ],
   "source": [
    "## Solution\n",
    "\n",
    "number=input(\"Enter a number containing more than one digit: \") #1234\n",
    "add=0\n",
    "i=0\n",
    "while i<len(number):                                            #4\n",
    "    add+=int(number[i])\n",
    "    i+=1\n",
    "print(f\"sum of {number} is {add}\")"
   ]
  },
  {
   "cell_type": "code",
   "execution_count": null,
   "id": "2fa77e8b-fd94-4022-a726-cefcb1edd10d",
   "metadata": {},
   "outputs": [],
   "source": []
  }
 ],
 "metadata": {
  "kernelspec": {
   "display_name": "Python 3 (ipykernel)",
   "language": "python",
   "name": "python3"
  },
  "language_info": {
   "codemirror_mode": {
    "name": "ipython",
    "version": 3
   },
   "file_extension": ".py",
   "mimetype": "text/x-python",
   "name": "python",
   "nbconvert_exporter": "python",
   "pygments_lexer": "ipython3",
   "version": "3.9.12"
  }
 },
 "nbformat": 4,
 "nbformat_minor": 5
}
