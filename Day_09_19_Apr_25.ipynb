{
 "cells": [
  {
   "cell_type": "code",
   "execution_count": 1,
   "id": "b8bae84b-60ee-4d0e-9ff4-9bf9409edc21",
   "metadata": {},
   "outputs": [],
   "source": [
    "## Summary of Metacharacters\n",
    "#01 \\ Signals a special sequence\n",
    "#02 . Any character\n",
    "#03 ^ Starts with\n",
    "#04 $ Ends with\n",
    "#05 * Zero or more occurrences of Character\n",
    "#06 + One or more occurrences of Character\n",
    "#07 ? Zero or one occurrences of Character\n",
    "#08 {} Exactly the specified number of occurrences of Character\n",
    "#09 | Either or"
   ]
  },
  {
   "cell_type": "code",
   "execution_count": null,
   "id": "a6585b5d-eba5-4a9c-8b14-538ec265b8e0",
   "metadata": {},
   "outputs": [],
   "source": [
    "## Summary of Special Sequences\n",
    "#01 \\A Returns a match if the specified characters are at the beginning of the string\n",
    "#02 \\b Returns a match where the specified characters are at the beginning or at the end of a word\n",
    "#03 \\B inverse of \\b, Returns a match where the specified characters are present, but NOT at the beginning (or at the end) of a word\n",
    "#04 \\d Returns a match where the string contains digits (numbers from 0-9)\n",
    "#05 \\D Returns a match where the string DOES NOT contain digits.\n",
    "#06 \\s Returns a match where the string contains a white space character\n",
    "#07 \\S Returns a match where the string DOES NOT contain a white space character\n",
    "#08 \\w Returns a match where the string contains any word characters (characters from a to Z, digits from 0-9, and the underscore _ character)\n",
    "#09 \\W Returns a match where the string DOES NOT contain any word characters\n",
    "#10 \\Z Returns a match if the specified characters are at the end of the string"
   ]
  },
  {
   "cell_type": "markdown",
   "id": "323842bd-152c-4e35-b41e-d235d5d7a2a9",
   "metadata": {},
   "source": [
    "<h2>Sets</h2>\n",
    "\n",
    "A set is a set of characters inside a pair of square brackets [] with a special meaning:"
   ]
  },
  {
   "cell_type": "code",
   "execution_count": 2,
   "id": "2181110b-3801-479a-a275-8e99dfb6af74",
   "metadata": {},
   "outputs": [
    {
     "name": "stdout",
     "output_type": "stream",
     "text": [
      "['r', 'a', 'n', 'n', 'a', 'n', 'a', 'r', 'n']\n"
     ]
    }
   ],
   "source": [
    "import re\n",
    "## [arn]\n",
    "# Returns a match where one of the specified characters (a, r, or n) are present\n",
    "\n",
    "txt = \"The rain in Spain arn\"\n",
    "\n",
    "#Check if the string has any a, r, or n characters:\n",
    "\n",
    "x = re.findall(\"[arn]\", txt)\n",
    "\n",
    "print(x)"
   ]
  },
  {
   "cell_type": "code",
   "execution_count": 3,
   "id": "99232764-cc3c-4dd2-9ac8-e3b7b0e4f19a",
   "metadata": {},
   "outputs": [
    {
     "name": "stdout",
     "output_type": "stream",
     "text": [
      "['h', 'e', 'a', 'i', 'n', 'i', 'n', 'a', 'i', 'n']\n"
     ]
    }
   ],
   "source": [
    "## [a-n]\n",
    "# Returns a match for any lower case character, alphabetically between a and n\n",
    "\n",
    "txt = \"The rain in Spain\"\n",
    "\n",
    "#Check if the string has any characters between a and n:\n",
    "\n",
    "x = re.findall(\"[a-n]\", txt)\n",
    "\n",
    "print(x)"
   ]
  },
  {
   "cell_type": "code",
   "execution_count": 4,
   "id": "d8464db5-e4e2-4074-9f47-f54afb7ba723",
   "metadata": {},
   "outputs": [
    {
     "name": "stdout",
     "output_type": "stream",
     "text": [
      "['T', 'h', 'e', ' ', 'i', ' ', 'i', ' ', 'S', 'p', 'i']\n"
     ]
    }
   ],
   "source": [
    "## [^arn]\n",
    "# Returns a match for any character EXCEPT a, r, and n\n",
    "\n",
    "txt = \"The rain in Spain\"\n",
    "\n",
    "#Check if the string has other characters than a, r, or n:\n",
    "\n",
    "x = re.findall(\"[^arn]\", txt)\n",
    "\n",
    "print(x)"
   ]
  },
  {
   "cell_type": "code",
   "execution_count": 5,
   "id": "904da3c4-dc1d-48ed-9753-7e0177f00a3f",
   "metadata": {},
   "outputs": [
    {
     "name": "stdout",
     "output_type": "stream",
     "text": [
      "[]\n"
     ]
    }
   ],
   "source": [
    "## [0123]\n",
    "# Returns a match where any of the specified digits (0, 1, 2, or 3) are present\n",
    "\n",
    "txt = \"The rain in Spain\"\n",
    "\n",
    "#Check if the string has any 0, 1, 2, or 3 digits:\n",
    "\n",
    "x = re.findall(\"[0123]\", txt)\n",
    "\n",
    "print(x)"
   ]
  },
  {
   "cell_type": "code",
   "execution_count": 6,
   "id": "17a5d245-cca3-49e1-b05c-8d9370d39c57",
   "metadata": {},
   "outputs": [
    {
     "name": "stdout",
     "output_type": "stream",
     "text": [
      "['8', '1', '1', '4', '5']\n"
     ]
    }
   ],
   "source": [
    "## [0-9]\n",
    "# Returns a match for any digit between 0 and 9\n",
    "\n",
    "txt = \"8 times before 11:45 AM\"\n",
    "\n",
    "#Check if the string has any digits:\n",
    "\n",
    "x = re.findall(\"[0-9]\", txt)\n",
    "\n",
    "print(x)"
   ]
  },
  {
   "cell_type": "code",
   "execution_count": 8,
   "id": "569b7c91-a030-48bb-b866-b2a4d85c73c2",
   "metadata": {},
   "outputs": [
    {
     "name": "stdout",
     "output_type": "stream",
     "text": [
      "['11']\n"
     ]
    }
   ],
   "source": [
    "## [0-5][0-9]\n",
    "# Returns a match for any two-digit numbers from 00 and 59\n",
    "\n",
    "txt = \"8 times before 11:45 AM\"\n",
    "\n",
    "#Check if the string has any two-digit numbers, from 00 to 59:\n",
    "\n",
    "x = re.findall(\"[0-2][0-9]\", txt)\n",
    "\n",
    "print(x)"
   ]
  },
  {
   "cell_type": "code",
   "execution_count": 9,
   "id": "bc5a4f43-fe44-48df-96ff-2cbdfa05c51c",
   "metadata": {},
   "outputs": [
    {
     "name": "stdout",
     "output_type": "stream",
     "text": [
      "['t', 'i', 'm', 'e', 's', 'b', 'e', 'f', 'o', 'r', 'e', 'A', 'M']\n"
     ]
    }
   ],
   "source": [
    "## [a-zA-Z]\n",
    "# Returns a match for any character alphabetically between a and z, lower case OR upper case\n",
    "\n",
    "txt = \"8 times before 11:45 AM\"\n",
    "\n",
    "#Check if the string has any characters from a to z lower case, and A to Z upper case:\n",
    "\n",
    "x = re.findall(\"[a-zA-Z]\", txt)\n",
    "\n",
    "print(x)"
   ]
  },
  {
   "cell_type": "code",
   "execution_count": 12,
   "id": "f0fab79a-0307-4693-9b64-9460b76fda1f",
   "metadata": {},
   "outputs": [
    {
     "name": "stdout",
     "output_type": "stream",
     "text": [
      "[':']\n"
     ]
    }
   ],
   "source": [
    "## [+]\n",
    "# In sets, +, *, ., |, (), $,{} has no special meaning, so [+] means: return a match for any + character in the string\n",
    "\n",
    "txt = \"8 times before 11:45 AM\"\n",
    "\n",
    "#Check if the string has any + characters:\n",
    "\n",
    "x = re.findall(\"[:]\", txt)\n",
    "\n",
    "print(x)"
   ]
  },
  {
   "cell_type": "code",
   "execution_count": null,
   "id": "794e6492-e2e7-42d3-8543-5963b9496476",
   "metadata": {},
   "outputs": [],
   "source": [
    "## 1.Summary of Metacharacters\n",
    "#01 \\ Signals a special sequence\n",
    "#02 . Any character\n",
    "#03 ^ Starts with\n",
    "#04 $ Ends with\n",
    "#05 * Zero or more occurrences of Character\n",
    "#06 + One or more occurrences of Character\n",
    "#07 ? Zero or one occurrences of Character\n",
    "#08 {} Exactly the specified number of occurrences of Character\n",
    "#09 | Either or\n",
    "\n",
    "\n",
    "## 2.Summary of Special Sequences\n",
    "#01 \\A Returns a match if the specified characters are at the beginning of the string\n",
    "#02 \\b Returns a match where the specified characters are at the beginning or at the end of a word\n",
    "#03 \\B inverse of \\b, Returns a match where the specified characters are present, but NOT at the beginning (or at the end) of a word\n",
    "#04 \\d Returns a match where the string contains digits (numbers from 0-9)\n",
    "#05 \\D Returns a match where the string DOES NOT contain digits.\n",
    "#06 \\s Returns a match where the string contains a white space character\n",
    "#07 \\S Returns a match where the string DOES NOT contain a white space character\n",
    "#08 \\w Returns a match where the string contains any word characters (characters from a to Z, digits from 0-9, and the underscore _ character)\n",
    "#09 \\W Returns a match where the string DOES NOT contain any word characters\n",
    "#10 \\Z Returns a match if the specified characters are at the end of the string\n",
    "\n",
    "\n",
    "## 3.Summary of Sets\n",
    "#01 [arn]  Returns a match where one of the specified characters (a, r, or n) are present\n",
    "#02 [a-n]  Returns a match for any lower case character, alphabetically between a and n\n",
    "#03 [^arn] Returns a match for any character EXCEPT a, r, and n\n",
    "#04 [0123] Returns a match where any of the specified digits (0, 1, 2, or 3) are present\n",
    "#05 [0-9]  Returns a match for any digit between 0 and 9\n",
    "#06 [0-2][0-9] Returns a match for any two-digit numbers from 00 to 29\n",
    "#07 [a-zA-Z] Returns a match for any character alphabetically between a and z, lower case OR upper case\n",
    "#08 [:] In sets, +, *, ., |, (), $,{} has no special meaning, so [:] means: return a match for any : character in the string"
   ]
  },
  {
   "cell_type": "markdown",
   "id": "25e82f30-5cb1-40c0-a2e8-cf2a2304edb4",
   "metadata": {},
   "source": [
    "<h2>RegEx Functions</h2>\n",
    "\n",
    "The <b>re</b> module offers a set of functions that allows us to search a string for a match:"
   ]
  },
  {
   "cell_type": "markdown",
   "id": "70c56044-ce62-4551-831d-cdce61fd2b7d",
   "metadata": {},
   "source": [
    "## findall() function\n",
    "---\n",
    "Returns a list containing all matches\n",
    "\n",
    "The list contains the matches in the order they are found.\n",
    "\n",
    "If no matches are found, an empty list is returned"
   ]
  },
  {
   "cell_type": "code",
   "execution_count": 13,
   "id": "ced1453b-7a5c-4fa7-bb4a-9949c649dea8",
   "metadata": {},
   "outputs": [
    {
     "name": "stdout",
     "output_type": "stream",
     "text": [
      "['ai', 'ai']\n"
     ]
    }
   ],
   "source": [
    "#Return a list containing every occurrence of \"ai\":\n",
    "\n",
    "txt = \"The rain in Spain\"\n",
    "x = re.findall(\"ai\", txt)\n",
    "print(x)"
   ]
  },
  {
   "cell_type": "code",
   "execution_count": 14,
   "id": "0cafccfe-1eda-42d0-b052-04607e7a26f0",
   "metadata": {},
   "outputs": [
    {
     "name": "stdout",
     "output_type": "stream",
     "text": [
      "[]\n"
     ]
    }
   ],
   "source": [
    "# Return an empty list if no match was found:\n",
    "\n",
    "txt = \"The rain in Spain\"\n",
    "x = re.findall(\"Portugal\", txt)\n",
    "print(x)"
   ]
  },
  {
   "cell_type": "markdown",
   "id": "3823af13-716c-4253-9101-7f743c484042",
   "metadata": {},
   "source": [
    "### 2. search() function\n",
    "---\n",
    "The search() function searches the string for a match, and returns a Match object if there is a match.\n",
    "\n",
    "If there is more than one match, only the first occurrence of the match will be returned:"
   ]
  },
  {
   "cell_type": "code",
   "execution_count": 16,
   "id": "dd8b17aa-f838-4401-ad23-de27f565ff63",
   "metadata": {},
   "outputs": [
    {
     "name": "stdout",
     "output_type": "stream",
     "text": [
      "<re.Match object; span=(3, 4), match=' '>\n"
     ]
    }
   ],
   "source": [
    "txt = \"The rain in Spain\"\n",
    "x = re.search(r\"\\s\", txt)\n",
    "\n",
    "print(x)"
   ]
  },
  {
   "cell_type": "code",
   "execution_count": 17,
   "id": "a7e8bcf4-6f73-45b7-a5bd-360a8a1cf7b5",
   "metadata": {},
   "outputs": [
    {
     "name": "stdout",
     "output_type": "stream",
     "text": [
      "None\n"
     ]
    }
   ],
   "source": [
    "# If no matches are found, the value None is returned:\n",
    "\n",
    "txt = \"The rain in Spain\"\n",
    "x = re.search(\"Portugal\", txt)\n",
    "print(x)"
   ]
  },
  {
   "cell_type": "markdown",
   "id": "15827320-d809-4593-a373-3ca9637d7d12",
   "metadata": {},
   "source": [
    "### 3. split() function\n",
    "---\n",
    "The split() function returns a list where the string has been split at each match:"
   ]
  },
  {
   "cell_type": "code",
   "execution_count": 19,
   "id": "8a6f252d-af7b-4505-9c22-40cc51ae6f5f",
   "metadata": {},
   "outputs": [
    {
     "name": "stdout",
     "output_type": "stream",
     "text": [
      "['The', 'rain', 'in', 'Spain']\n"
     ]
    }
   ],
   "source": [
    "# Split at each white-space character:\n",
    "txt = \"The rain in Spain\"\n",
    "x = re.split(r\"\\s\", txt)\n",
    "print(x)"
   ]
  },
  {
   "cell_type": "code",
   "execution_count": 20,
   "id": "bb6a1c97-3423-4ba3-ac7d-9c3efd30d8b9",
   "metadata": {},
   "outputs": [
    {
     "name": "stdout",
     "output_type": "stream",
     "text": [
      "['The', 'rain', 'in', 'Spain']\n"
     ]
    }
   ],
   "source": [
    "txt = \"The rain in Spain\"\n",
    "x = re.split(\" \", txt)\n",
    "print(x)"
   ]
  },
  {
   "cell_type": "markdown",
   "id": "0a2b7edc-59bb-48c5-af0d-9d8aa42ba155",
   "metadata": {},
   "source": [
    "You can control the number of occurrences by specifying the maxsplit parameter:"
   ]
  },
  {
   "cell_type": "code",
   "execution_count": 22,
   "id": "063dbe6b-04ee-41e1-8a1d-f4e61c2152ab",
   "metadata": {},
   "outputs": [
    {
     "name": "stdout",
     "output_type": "stream",
     "text": [
      "['The', 'rain in Spain']\n"
     ]
    }
   ],
   "source": [
    "# Split the string only at the first occurrence:\n",
    "\n",
    "txt = \"The rain in Spain\"\n",
    "x = re.split(r\"\\s\", txt, 1)\n",
    "print(x)"
   ]
  },
  {
   "cell_type": "code",
   "execution_count": 23,
   "id": "5657e600-97f3-417b-ae70-b17012beb273",
   "metadata": {},
   "outputs": [
    {
     "name": "stdout",
     "output_type": "stream",
     "text": [
      "['The', 'rain', 'in Spain']\n"
     ]
    }
   ],
   "source": [
    "txt = \"The rain in Spain\"\n",
    "x = re.split(r\"\\s\", txt, 2)\n",
    "print(x)"
   ]
  },
  {
   "cell_type": "markdown",
   "id": "38f8a977-dbb8-4e41-b893-312e9626df0a",
   "metadata": {},
   "source": [
    "### 4. sub() function\n",
    "---\n",
    "The sub() function replaces the matches with the text of your choice:"
   ]
  },
  {
   "cell_type": "code",
   "execution_count": 25,
   "id": "5b22c4fa-d4ce-41b8-937c-0deb21dbe274",
   "metadata": {},
   "outputs": [
    {
     "name": "stdout",
     "output_type": "stream",
     "text": [
      "The9rain9in9Spain\n"
     ]
    }
   ],
   "source": [
    "# Replace every white-space character with the number 9:\n",
    "\n",
    "txt = \"The rain in Spain\"\n",
    "x = re.sub(r\"\\s\", \"9\", txt)\n",
    "print(x)"
   ]
  },
  {
   "cell_type": "code",
   "execution_count": 26,
   "id": "112214cb-079c-4bf3-b6cc-95f538cf3e8a",
   "metadata": {},
   "outputs": [
    {
     "name": "stdout",
     "output_type": "stream",
     "text": [
      "The9rain9in Spain\n"
     ]
    }
   ],
   "source": [
    "# Replace the first 2 occurrences:\n",
    "\n",
    "txt = \"The rain in Spain\"\n",
    "x = re.sub(r\"\\s\", \"9\", txt, 2)\n",
    "print(x)"
   ]
  },
  {
   "cell_type": "markdown",
   "id": "4e9f26f9-b909-4ce1-a6dc-99676e2f67f1",
   "metadata": {},
   "source": [
    "## 5. Match Object\n",
    "---\n",
    "A Match Object is an object containing information about the search and the result.\n",
    "\n",
    "<b>Note:</b> If there is no match, the value <b>None</b> will be returned, instead of the Match Object."
   ]
  },
  {
   "cell_type": "code",
   "execution_count": 27,
   "id": "254a5ca1-5bce-427e-a2a2-1d808d4f7699",
   "metadata": {},
   "outputs": [
    {
     "name": "stdout",
     "output_type": "stream",
     "text": [
      "<re.Match object; span=(5, 7), match='ai'>\n"
     ]
    }
   ],
   "source": [
    "# Do a search that will return a Match Object:\n",
    "\n",
    "txt = \"The rain in Spain\"\n",
    "x = re.search(\"ai\", txt)\n",
    "print(x) #this will print an object"
   ]
  },
  {
   "cell_type": "code",
   "execution_count": 29,
   "id": "3ae804f8-8026-452e-86f8-0a53271b9e11",
   "metadata": {},
   "outputs": [
    {
     "name": "stdout",
     "output_type": "stream",
     "text": [
      "<re.Match object; span=(12, 17), match='Spain'>\n"
     ]
    }
   ],
   "source": [
    "## .span()\n",
    "# returns a tuple containing the start-, and end positions of the match.\n",
    "\n",
    "txt = \"The rain in Spain\"\n",
    "x = re.search(r\"\\bS\\w+\", txt)\n",
    "print(x)"
   ]
  },
  {
   "cell_type": "code",
   "execution_count": 30,
   "id": "2f0b13f1-7f74-418a-a19b-568a9a903849",
   "metadata": {},
   "outputs": [
    {
     "name": "stdout",
     "output_type": "stream",
     "text": [
      "(12, 17)\n"
     ]
    }
   ],
   "source": [
    "print(x.span())"
   ]
  },
  {
   "cell_type": "code",
   "execution_count": 31,
   "id": "d9b718fe-8792-4d99-9894-114216746739",
   "metadata": {},
   "outputs": [
    {
     "name": "stdout",
     "output_type": "stream",
     "text": [
      "12\n"
     ]
    }
   ],
   "source": [
    "txt = \"The rain in Spain\"\n",
    "x = re.search(r\"\\bS\\w+\", txt)\n",
    "print(x.start())"
   ]
  },
  {
   "cell_type": "code",
   "execution_count": 32,
   "id": "871dbfb3-9439-4b28-a2ad-9c8ff82ecc4f",
   "metadata": {},
   "outputs": [
    {
     "name": "stdout",
     "output_type": "stream",
     "text": [
      "17\n"
     ]
    }
   ],
   "source": [
    "txt = \"The rain in Spain\"\n",
    "x = re.search(r\"\\bS\\w+\", txt)\n",
    "print(x.end())"
   ]
  },
  {
   "cell_type": "code",
   "execution_count": 33,
   "id": "7c21b57d-69ee-4c96-b68a-07e9af13eb59",
   "metadata": {},
   "outputs": [
    {
     "name": "stdout",
     "output_type": "stream",
     "text": [
      "The rain in Spain\n"
     ]
    }
   ],
   "source": [
    "## .string\n",
    "# returns the string passed into the function\n",
    "\n",
    "txt = \"The rain in Spain\"\n",
    "x = re.search(r\"\\bS\\w+\", txt)\n",
    "print(x.string)"
   ]
  },
  {
   "cell_type": "code",
   "execution_count": 34,
   "id": "f7d90164-0751-4005-9769-df1ae685ba11",
   "metadata": {},
   "outputs": [
    {
     "name": "stdout",
     "output_type": "stream",
     "text": [
      "Spain\n"
     ]
    }
   ],
   "source": [
    "## .group() \n",
    "# returns the part of the string where there was a match\n",
    "\n",
    "txt = \"The rain in Spain\"\n",
    "x = re.search(r\"\\bS\\w+\", txt)\n",
    "print(x.group())"
   ]
  },
  {
   "cell_type": "code",
   "execution_count": null,
   "id": "b735479a-0baa-491d-903e-fd5339a25f8d",
   "metadata": {},
   "outputs": [],
   "source": [
    "## Summary of RegEx Functions\n",
    "\n",
    "#4.1 findall() function: Returns a list containing all matches\n",
    "#4.2 search() function: The search() function searches the string for a match, and returns a Match object if there is a match.\n",
    "#4.3 Match Object:      A Match Object is an object containing information about the search and the result.\n",
    "#4.4 split() function: The split() function returns a list where the string has been split at each match\n",
    "#4.5 sub() function:   The sub() function replaces the matches with the text of your choice"
   ]
  },
  {
   "cell_type": "code",
   "execution_count": null,
   "id": "db087000-7479-400d-bcbf-a43ba44e463b",
   "metadata": {},
   "outputs": [],
   "source": [
    "## Summary of Metacharacters\n",
    "#1.1 [] A set of characters\n",
    "#1.2 \\ Signals a special sequence\n",
    "#1.3 . Any character\n",
    "#1.4 ^ Starts with\n",
    "#1.5 $ Ends with\n",
    "#1.6 * Zero or more occurrences of Character\n",
    "#1.7 + One or more occurrences of Character\n",
    "#1.8 ? Zero or one occurrences of Character\n",
    "#1.9 {} Exactly the specified number of occurrences of Character\n",
    "#1.10 | Either or\n",
    "\n",
    "\n",
    "## Summary of Special Sequences\n",
    "#2.1 \\A Returns a match if the specified characters are at the beginning of the string\n",
    "#2.2 \\b Returns a match where the specified characters are at the beginning or at the end of a word\n",
    "#2.3 \\B inverse of \\b, Returns a match where the specified characters are present, but NOT at the beginning (or at the end) of a word\n",
    "#2.4 \\d Returns a match where the string contains digits (numbers from 0-9)\n",
    "#2.5 \\D Returns a match where the string DOES NOT contain digits.\n",
    "#2.6 \\s Returns a match where the string contains a white space character\n",
    "#2.7 \\S Returns a match where the string DOES NOT contain a white space character\n",
    "#2.8 \\w Returns a match where the string contains any word characters (characters from a to Z, digits from 0-9, and the underscore _ character)\n",
    "#2.9 \\W Returns a match where the string DOES NOT contain any word characters\n",
    "#2.0 \\Z Returns a match if the specified characters are at the end of the string\n",
    "\n",
    "## Summary of Sets\n",
    "#3.1 [arn]  Returns a match where one of the specified characters (a, r, or n) are present\n",
    "#3.2 [a-n]  Returns a match for any lower case character, alphabetically between a and n\n",
    "#3.3 [^arn] Returns a match for any character EXCEPT a, r, and n\n",
    "#3.4 [0123] Returns a match where any of the specified digits (0, 1, 2, or 3) are present\n",
    "#3.5 [0-9]  Returns a match for any digit between 0 and 9\n",
    "#3.6 [0-2][0-9] Returns a match for any two-digit numbers from 00 to 29\n",
    "#3.7 [a-zA-Z] Returns a match for any character alphabetically between a and z, lower case OR upper case\n",
    "#3.8 [:] In sets, +, *, ., |, (), $,{} has no special meaning, so [:] means: return a match for any : character in the string\n",
    "\n",
    "\n",
    "## Summary of RegEx Functions\n",
    "#4.1 findall() function: Returns a list containing all matches\n",
    "#4.2 search() function: The search() function searches the string for a match, and returns a Match object if there is a match.\n",
    "#4.3 Match Object:      A Match Object is an object containing information about the search and the result.\n",
    "#4.4 split() function: The split() function returns a list where the string has been split at each match\n",
    "#4.5 sub() function:   The sub() function replaces the matches with the text of your choice"
   ]
  },
  {
   "cell_type": "markdown",
   "id": "04af9695-7d88-466b-b2e5-522b40dc373d",
   "metadata": {},
   "source": [
    "## Practical examples"
   ]
  },
  {
   "cell_type": "code",
   "execution_count": 36,
   "id": "e2914941-50bc-4842-8790-de9f5aa7ea52",
   "metadata": {},
   "outputs": [
    {
     "name": "stdout",
     "output_type": "stream",
     "text": [
      "matchObj.group() :  Cats are smarter than dogs\n",
      "matchObj.group(1) :  Cats\n",
      "matchObj.group(2) :  smarter\n"
     ]
    }
   ],
   "source": [
    "line = \"Cats are smarter than dogs\"\n",
    "\n",
    "matchObj = re.search( r'(.*) are (.*?) .*', line)\n",
    "\n",
    "if matchObj:\n",
    "    print(\"matchObj.group() : \", matchObj.group())\n",
    "    print(\"matchObj.group(1) : \", matchObj.group(1))\n",
    "    print(\"matchObj.group(2) : \", matchObj.group(2))\n",
    "else:\n",
    "    print(\"No match!!\")"
   ]
  },
  {
   "cell_type": "code",
   "execution_count": 37,
   "id": "867a9c75-90f5-407f-8dc5-3547cd465a48",
   "metadata": {},
   "outputs": [
    {
     "name": "stdout",
     "output_type": "stream",
     "text": [
      "matchObj.group() :  Cats are smarter than dogs\n",
      "matchObj.group(1) :  Cats\n",
      "matchObj.group(2) :  smarter\n",
      "matchObj.group(3) :  than dogs\n"
     ]
    }
   ],
   "source": [
    "line = \"Cats are smarter than dogs\"\n",
    "\n",
    "matchObj = re.search( r'(.*) are (.*?) (.*)', line)\n",
    "\n",
    "if matchObj:\n",
    "    print(\"matchObj.group() : \", matchObj.group())\n",
    "    print(\"matchObj.group(1) : \", matchObj.group(1))\n",
    "    print(\"matchObj.group(2) : \", matchObj.group(2))\n",
    "    print(\"matchObj.group(3) : \", matchObj.group(3))\n",
    "else:\n",
    "    print(\"No match!!\")"
   ]
  },
  {
   "cell_type": "code",
   "execution_count": 39,
   "id": "696a3b23-73c3-4c18-bec3-2114bde9e946",
   "metadata": {},
   "outputs": [
    {
     "name": "stdout",
     "output_type": "stream",
     "text": [
      "<re.Match object; span=(0, 18), match='regular expression'>\n"
     ]
    }
   ],
   "source": [
    "pattern = '^r.+n$'\n",
    "test_string = 'regular expression'\n",
    "result = re.search(pattern, test_string)\n",
    "\n",
    "print(result)"
   ]
  },
  {
   "cell_type": "code",
   "execution_count": 40,
   "id": "47c26ea1-f66c-4fef-9e0f-bc215e0bda74",
   "metadata": {},
   "outputs": [
    {
     "name": "stdout",
     "output_type": "stream",
     "text": [
      "<re.Match object; span=(0, 17), match='The rain in Spain'>\n"
     ]
    }
   ],
   "source": [
    "txt = \"The rain in Spain\"\n",
    "x = re.search(\"^The.*Spain$\", txt)\n",
    "\n",
    "print(x)"
   ]
  },
  {
   "cell_type": "code",
   "execution_count": 41,
   "id": "e101e267-a349-43e4-bf53-7a9b2b42f01e",
   "metadata": {},
   "outputs": [
    {
     "name": "stdout",
     "output_type": "stream",
     "text": [
      "<re.Match object; span=(12, 17), match='Spain'>\n"
     ]
    }
   ],
   "source": [
    "txt = \"The rain in Spain\"\n",
    "x = re.search(r\"\\bS\\w+\", txt)\n",
    "print(x)"
   ]
  },
  {
   "cell_type": "markdown",
   "id": "2faec7f8-08e7-40ef-bacb-8e32a6365d52",
   "metadata": {},
   "source": [
    "### Filter Function\n",
    "---\n",
    "\n",
    "Filter() is a built-in function in Python. \n",
    "\n",
    "The filter function can be applied to an iterable such as a list or a dictionary and create a new iterator. \n",
    "\n",
    "This new iterator can filter out certain specific elements based on the condition that you provide very efficiently. "
   ]
  },
  {
   "cell_type": "code",
   "execution_count": 43,
   "id": "ed96a72a-8e1f-4370-a7ed-7500728af3ae",
   "metadata": {},
   "outputs": [
    {
     "name": "stdout",
     "output_type": "stream",
     "text": [
      "[2, 4, 6, 8]\n"
     ]
    }
   ],
   "source": [
    "## The filter() function extracts elements from an iterable (list, tuple etc.) \n",
    "    # for which a function returns True\n",
    "\n",
    "#function to filter even numbers\n",
    "# Simple Way\n",
    "def is_even1(l):\n",
    "    output = []\n",
    "    for i in l:\n",
    "        if i % 2 == 0:\n",
    "            output.append(i)\n",
    "    return output\n",
    "\n",
    "numbers = [1,2,3,4,5,6,7,8,9]\n",
    "print(is_even1(numbers))"
   ]
  },
  {
   "cell_type": "code",
   "execution_count": 44,
   "id": "dd928c8d-e9a7-4313-89c6-a8e5a790beb4",
   "metadata": {},
   "outputs": [
    {
     "name": "stdout",
     "output_type": "stream",
     "text": [
      "(2, 4, 6, 8)\n"
     ]
    }
   ],
   "source": [
    "# with filter function\n",
    "numbers = [1,2,3,4,5,6,7,8,9]\n",
    "is_even2 = tuple(filter(lambda a : a%2 == 0, numbers))\n",
    "print(is_even2)"
   ]
  },
  {
   "cell_type": "markdown",
   "id": "c8f90a78-8d32-46b7-bd38-bbf99262fdd5",
   "metadata": {},
   "source": [
    "### Zip Function\n",
    "The <b>zip()</b> function takes iterables or containers <b>(can be zero or more)</b>, aggregates them in a tuple, and returns a single iterator object, having mapped values from all the containers.\n",
    "\n",
    "It is used to map the similar index of multiple containers so that they can be used just using a single entity. "
   ]
  },
  {
   "cell_type": "code",
   "execution_count": 45,
   "id": "65aa8f7b-93c2-4efa-8a00-86e5a0fe2953",
   "metadata": {},
   "outputs": [
    {
     "name": "stdout",
     "output_type": "stream",
     "text": [
      "<zip object at 0x000001799321BD00>\n",
      "[('user_1', 'Jamshaid'), ('user_2', 'ahmad'), ('user_3', 'farhan')]\n"
     ]
    }
   ],
   "source": [
    "## combining objects through zip \n",
    "# zip function gives tuple objects after combining two values of different lists\n",
    "\n",
    "# here we have three lists, we can combine them through zip\n",
    "users = ['user_1', 'user_2', 'user_3']\n",
    "user_names = ['Jamshaid', 'ahmad', 'farhan']\n",
    "last_names = ['abbas', 'mujtaba', 'saeed']\n",
    "\n",
    "print(zip(users, user_names)) #a zip itrator object\n",
    "print(list(zip(users, user_names))) #instead of next function, we will combine values in list, no. of tuples == one of the list with minimum values"
   ]
  },
  {
   "cell_type": "code",
   "execution_count": 46,
   "id": "aa71f29e-2859-43c9-bd19-4a7e5fe6c548",
   "metadata": {},
   "outputs": [
    {
     "name": "stdout",
     "output_type": "stream",
     "text": [
      "[('user_1', 'Jamshaid', 'abbas'), ('user_2', 'ahmad', 'mujtaba'), ('user_3', 'farhan', 'saeed')]\n"
     ]
    }
   ],
   "source": [
    "print(list(zip(users, user_names, last_names)))"
   ]
  },
  {
   "cell_type": "code",
   "execution_count": 47,
   "id": "5850d32a-a2ee-4200-9bfa-28acbb597892",
   "metadata": {},
   "outputs": [],
   "source": [
    "### Advance min and max function"
   ]
  },
  {
   "cell_type": "code",
   "execution_count": 48,
   "id": "31543cb0-84de-4d4e-9b93-8d3b8c12353b",
   "metadata": {},
   "outputs": [
    {
     "name": "stdout",
     "output_type": "stream",
     "text": [
      "1\n",
      "9\n"
     ]
    }
   ],
   "source": [
    "# simple min and max functions just work on integer values but \n",
    "\n",
    "#--------------------\n",
    "# simple min and max\n",
    "#--------------------\n",
    "\n",
    "numbers = [1,4,3,8,5,9]\n",
    "print(min(numbers)) # 1\n",
    "print(max(numbers)) # 9"
   ]
  },
  {
   "cell_type": "code",
   "execution_count": 49,
   "id": "46d3c704-9dab-420f-abec-74c5d4573171",
   "metadata": {},
   "outputs": [
    {
     "name": "stdout",
     "output_type": "stream",
     "text": [
      "apple\n",
      "strawbry\n"
     ]
    }
   ],
   "source": [
    "# advance min and max work on different data types by giving a key value\n",
    "\n",
    "#---------------------\n",
    "# advance min and max\n",
    "#---------------------\n",
    "\n",
    "def func(fruit):\n",
    "    return len(fruit)\n",
    "\n",
    "fruits = ['orange', 'strawbry', 'apple']\n",
    "print(min(fruits, key=func))  # apple\n",
    "print(max(fruits, key=func))  # strawbry"
   ]
  },
  {
   "cell_type": "code",
   "execution_count": 50,
   "id": "f600a9bf-ad48-4ff0-bf9c-e74363040c02",
   "metadata": {},
   "outputs": [
    {
     "name": "stdout",
     "output_type": "stream",
     "text": [
      "apple\n"
     ]
    }
   ],
   "source": [
    "print(min(fruits, key=lambda items: len(items)))"
   ]
  },
  {
   "cell_type": "code",
   "execution_count": 4,
   "id": "30da885a-e740-46f6-a741-57f749c7c8a0",
   "metadata": {},
   "outputs": [
    {
     "name": "stdout",
     "output_type": "stream",
     "text": [
      "strawbry\n"
     ]
    }
   ],
   "source": [
    "fruits = ['orange', 'strawbry', 'apple']\n",
    "print(max(fruits))"
   ]
  },
  {
   "cell_type": "code",
   "execution_count": 5,
   "id": "873b5acf-fd6a-4148-aeeb-e6fe821f84fd",
   "metadata": {},
   "outputs": [
    {
     "name": "stdout",
     "output_type": "stream",
     "text": [
      "{'name': 'usman', 'age': 19, 'marks': 85}\n"
     ]
    }
   ],
   "source": [
    "students = [\n",
    "    {'name': 'Jamshaid', 'age': 18, 'marks': 78},\n",
    "    {'name': 'usman', 'age': 19, 'marks': 85},\n",
    "    {'name': 'hafeez', 'age': 17, 'marks': 80}\n",
    "]\n",
    "\n",
    "# student having maximum age\n",
    "print(max(students, key= lambda items: items.get('age')))"
   ]
  },
  {
   "cell_type": "code",
   "execution_count": 6,
   "id": "41295ad2-b73c-4af1-8b23-3ba213282776",
   "metadata": {},
   "outputs": [
    {
     "name": "stdout",
     "output_type": "stream",
     "text": [
      "{'name': 'usman', 'age': 19, 'marks': 85}\n"
     ]
    }
   ],
   "source": [
    "# student having maximum Marks\n",
    "print(max(students, key= lambda items: items.get('marks')))"
   ]
  },
  {
   "cell_type": "code",
   "execution_count": 7,
   "id": "843b9375-caf1-4820-8a70-c5dc86b99a78",
   "metadata": {},
   "outputs": [
    {
     "name": "stdout",
     "output_type": "stream",
     "text": [
      "Jamshaid\n"
     ]
    }
   ],
   "source": [
    "# just name of student having min marks \n",
    "print(min(students, key=lambda items: items.get('marks'))['name'])  # output: just name of student with min marks --> Jamshaid"
   ]
  },
  {
   "cell_type": "code",
   "execution_count": 8,
   "id": "322ace2d-81fb-495d-9e3e-2fad46081211",
   "metadata": {},
   "outputs": [
    {
     "name": "stdout",
     "output_type": "stream",
     "text": [
      "usman\n"
     ]
    }
   ],
   "source": [
    "students2 = {\n",
    "    'Jamshaid': {'age': 18, 'marks': 78},\n",
    "    'usman': {'age': 19, 'marks': 85},\n",
    "    'hafeez': {'age': 17, 'marks': 80}\n",
    "}\n",
    "\n",
    "print(max(students2, key=lambda items: students2[items]['marks']))"
   ]
  },
  {
   "cell_type": "code",
   "execution_count": 9,
   "id": "b6625761-c1f5-4549-b5a0-8a952b76db82",
   "metadata": {},
   "outputs": [],
   "source": [
    "### Advance Sorted Function"
   ]
  },
  {
   "cell_type": "markdown",
   "id": "5669e897-e1f4-4818-9644-5bac49f682a2",
   "metadata": {},
   "source": [
    "### Doc string\n",
    "---\n",
    "It is very useful function to give the message to user, with its help we can check the working of builtin functions, like “sum, len, min, max, sorted” etc\n",
    "\n",
    "We can also define the working of user-define functions with the help of doc string\n",
    "\n",
    "We can add doc string in very first line of any function"
   ]
  },
  {
   "cell_type": "code",
   "execution_count": 11,
   "id": "0da05594-1568-4e00-95a8-ab687b92416c",
   "metadata": {},
   "outputs": [
    {
     "name": "stdout",
     "output_type": "stream",
     "text": [
      "12\n"
     ]
    }
   ],
   "source": [
    "def add(a, b):\n",
    "    '''This function will take two numbers and will return their sum''' # doc string\n",
    "    return a+b\n",
    "\n",
    "print(add(5, 7))"
   ]
  },
  {
   "cell_type": "code",
   "execution_count": 12,
   "id": "f8d5bdd5-45aa-493b-9940-bf1ddde346a7",
   "metadata": {},
   "outputs": [
    {
     "name": "stdout",
     "output_type": "stream",
     "text": [
      "This function will take two numbers and will return their sum\n"
     ]
    }
   ],
   "source": [
    "print(add.__doc__) #check doc message"
   ]
  },
  {
   "cell_type": "code",
   "execution_count": 13,
   "id": "af115c00-30ef-43b5-8fe5-93fe2e8efb2b",
   "metadata": {},
   "outputs": [
    {
     "name": "stdout",
     "output_type": "stream",
     "text": [
      "Return the number of items in a container.\n"
     ]
    }
   ],
   "source": [
    "print(len.__doc__)"
   ]
  },
  {
   "cell_type": "code",
   "execution_count": 14,
   "id": "f8697bc2-f8cb-4373-b9da-8a669b0921e4",
   "metadata": {},
   "outputs": [
    {
     "name": "stdout",
     "output_type": "stream",
     "text": [
      "Return the sum of a 'start' value (default: 0) plus an iterable of numbers\n",
      "\n",
      "When the iterable is empty, return the start value.\n",
      "This function is intended specifically for use with numeric values and may\n",
      "reject non-numeric types.\n"
     ]
    }
   ],
   "source": [
    "print(sum.__doc__)"
   ]
  },
  {
   "cell_type": "code",
   "execution_count": 16,
   "id": "f033c8bb-ba7d-45a8-b7ce-80ad2c3f85f5",
   "metadata": {},
   "outputs": [
    {
     "name": "stdout",
     "output_type": "stream",
     "text": [
      "Help on built-in function sum in module builtins:\n",
      "\n",
      "sum(iterable, /, start=0)\n",
      "    Return the sum of a 'start' value (default: 0) plus an iterable of numbers\n",
      "\n",
      "    When the iterable is empty, return the start value.\n",
      "    This function is intended specifically for use with numeric values and may\n",
      "    reject non-numeric types.\n",
      "\n"
     ]
    }
   ],
   "source": [
    "help(sum)"
   ]
  },
  {
   "cell_type": "code",
   "execution_count": 17,
   "id": "ecb44f80-d690-4360-9468-01f05bee7dfe",
   "metadata": {},
   "outputs": [
    {
     "name": "stdout",
     "output_type": "stream",
     "text": [
      "Help on list object:\n",
      "\n",
      "class list(object)\n",
      " |  list(iterable=(), /)\n",
      " |\n",
      " |  Built-in mutable sequence.\n",
      " |\n",
      " |  If no argument is given, the constructor creates a new empty list.\n",
      " |  The argument must be an iterable if specified.\n",
      " |\n",
      " |  Methods defined here:\n",
      " |\n",
      " |  __add__(self, value, /)\n",
      " |      Return self+value.\n",
      " |\n",
      " |  __contains__(self, key, /)\n",
      " |      Return bool(key in self).\n",
      " |\n",
      " |  __delitem__(self, key, /)\n",
      " |      Delete self[key].\n",
      " |\n",
      " |  __eq__(self, value, /)\n",
      " |      Return self==value.\n",
      " |\n",
      " |  __ge__(self, value, /)\n",
      " |      Return self>=value.\n",
      " |\n",
      " |  __getattribute__(self, name, /)\n",
      " |      Return getattr(self, name).\n",
      " |\n",
      " |  __getitem__(self, index, /)\n",
      " |      Return self[index].\n",
      " |\n",
      " |  __gt__(self, value, /)\n",
      " |      Return self>value.\n",
      " |\n",
      " |  __iadd__(self, value, /)\n",
      " |      Implement self+=value.\n",
      " |\n",
      " |  __imul__(self, value, /)\n",
      " |      Implement self*=value.\n",
      " |\n",
      " |  __init__(self, /, *args, **kwargs)\n",
      " |      Initialize self.  See help(type(self)) for accurate signature.\n",
      " |\n",
      " |  __iter__(self, /)\n",
      " |      Implement iter(self).\n",
      " |\n",
      " |  __le__(self, value, /)\n",
      " |      Return self<=value.\n",
      " |\n",
      " |  __len__(self, /)\n",
      " |      Return len(self).\n",
      " |\n",
      " |  __lt__(self, value, /)\n",
      " |      Return self<value.\n",
      " |\n",
      " |  __mul__(self, value, /)\n",
      " |      Return self*value.\n",
      " |\n",
      " |  __ne__(self, value, /)\n",
      " |      Return self!=value.\n",
      " |\n",
      " |  __repr__(self, /)\n",
      " |      Return repr(self).\n",
      " |\n",
      " |  __reversed__(self, /)\n",
      " |      Return a reverse iterator over the list.\n",
      " |\n",
      " |  __rmul__(self, value, /)\n",
      " |      Return value*self.\n",
      " |\n",
      " |  __setitem__(self, key, value, /)\n",
      " |      Set self[key] to value.\n",
      " |\n",
      " |  __sizeof__(self, /)\n",
      " |      Return the size of the list in memory, in bytes.\n",
      " |\n",
      " |  append(self, object, /)\n",
      " |      Append object to the end of the list.\n",
      " |\n",
      " |  clear(self, /)\n",
      " |      Remove all items from list.\n",
      " |\n",
      " |  copy(self, /)\n",
      " |      Return a shallow copy of the list.\n",
      " |\n",
      " |  count(self, value, /)\n",
      " |      Return number of occurrences of value.\n",
      " |\n",
      " |  extend(self, iterable, /)\n",
      " |      Extend list by appending elements from the iterable.\n",
      " |\n",
      " |  index(self, value, start=0, stop=9223372036854775807, /)\n",
      " |      Return first index of value.\n",
      " |\n",
      " |      Raises ValueError if the value is not present.\n",
      " |\n",
      " |  insert(self, index, object, /)\n",
      " |      Insert object before index.\n",
      " |\n",
      " |  pop(self, index=-1, /)\n",
      " |      Remove and return item at index (default last).\n",
      " |\n",
      " |      Raises IndexError if list is empty or index is out of range.\n",
      " |\n",
      " |  remove(self, value, /)\n",
      " |      Remove first occurrence of value.\n",
      " |\n",
      " |      Raises ValueError if the value is not present.\n",
      " |\n",
      " |  reverse(self, /)\n",
      " |      Reverse *IN PLACE*.\n",
      " |\n",
      " |  sort(self, /, *, key=None, reverse=False)\n",
      " |      Sort the list in ascending order and return None.\n",
      " |\n",
      " |      The sort is in-place (i.e. the list itself is modified) and stable (i.e. the\n",
      " |      order of two equal elements is maintained).\n",
      " |\n",
      " |      If a key function is given, apply it once to each list item and sort them,\n",
      " |      ascending or descending, according to their function values.\n",
      " |\n",
      " |      The reverse flag can be set to sort in descending order.\n",
      " |\n",
      " |  ----------------------------------------------------------------------\n",
      " |  Class methods defined here:\n",
      " |\n",
      " |  __class_getitem__(...)\n",
      " |      See PEP 585\n",
      " |\n",
      " |  ----------------------------------------------------------------------\n",
      " |  Static methods defined here:\n",
      " |\n",
      " |  __new__(*args, **kwargs)\n",
      " |      Create and return a new object.  See help(type) for accurate signature.\n",
      " |\n",
      " |  ----------------------------------------------------------------------\n",
      " |  Data and other attributes defined here:\n",
      " |\n",
      " |  __hash__ = None\n",
      "\n"
     ]
    }
   ],
   "source": [
    "help([1, 2, 3])"
   ]
  },
  {
   "cell_type": "code",
   "execution_count": 18,
   "id": "bd024913-55a8-4e6f-9bbf-fda38d65a781",
   "metadata": {},
   "outputs": [
    {
     "name": "stdout",
     "output_type": "stream",
     "text": [
      "Welcome to Python 3.12's help utility! If this is your first time using\n",
      "Python, you should definitely check out the tutorial at\n",
      "https://docs.python.org/3.12/tutorial/.\n",
      "\n",
      "Enter the name of any module, keyword, or topic to get help on writing\n",
      "Python programs and using Python modules.  To get a list of available\n",
      "modules, keywords, symbols, or topics, enter \"modules\", \"keywords\",\n",
      "\"symbols\", or \"topics\".\n",
      "\n",
      "Each module also comes with a one-line summary of what it does; to list\n",
      "the modules whose name or summary contain a given string such as \"spam\",\n",
      "enter \"modules spam\".\n",
      "\n",
      "To quit this help utility and return to the interpreter,\n",
      "enter \"q\" or \"quit\".\n",
      "\n"
     ]
    },
    {
     "name": "stdin",
     "output_type": "stream",
     "text": [
      "help>  len\n"
     ]
    },
    {
     "name": "stdout",
     "output_type": "stream",
     "text": [
      "Help on built-in function len in module builtins:\n",
      "\n",
      "len(obj, /)\n",
      "    Return the number of items in a container.\n",
      "\n"
     ]
    },
    {
     "name": "stdin",
     "output_type": "stream",
     "text": [
      "help>  sum\n"
     ]
    },
    {
     "name": "stdout",
     "output_type": "stream",
     "text": [
      "Help on built-in function sum in module builtins:\n",
      "\n",
      "sum(iterable, /, start=0)\n",
      "    Return the sum of a 'start' value (default: 0) plus an iterable of numbers\n",
      "\n",
      "    When the iterable is empty, return the start value.\n",
      "    This function is intended specifically for use with numeric values and may\n",
      "    reject non-numeric types.\n",
      "\n"
     ]
    },
    {
     "name": "stdin",
     "output_type": "stream",
     "text": [
      "help>  (1,2)\n"
     ]
    },
    {
     "name": "stdout",
     "output_type": "stream",
     "text": [
      "No Python documentation found for '(1,2)'.\n",
      "Use help() to get the interactive help utility.\n",
      "Use help(str) for help on the str class.\n",
      "\n"
     ]
    },
    {
     "name": "stdin",
     "output_type": "stream",
     "text": [
      "help>  tuple\n"
     ]
    },
    {
     "name": "stdout",
     "output_type": "stream",
     "text": [
      "Help on class tuple in module builtins:\n",
      "\n",
      "class tuple(object)\n",
      " |  tuple(iterable=(), /)\n",
      " |\n",
      " |  Built-in immutable sequence.\n",
      " |\n",
      " |  If no argument is given, the constructor returns an empty tuple.\n",
      " |  If iterable is specified the tuple is initialized from iterable's items.\n",
      " |\n",
      " |  If the argument is a tuple, the return value is the same object.\n",
      " |\n",
      " |  Built-in subclasses:\n",
      " |      asyncgen_hooks\n",
      " |      UnraisableHookArgs\n",
      " |\n",
      " |  Methods defined here:\n",
      " |\n",
      " |  __add__(self, value, /)\n",
      " |      Return self+value.\n",
      " |\n",
      " |  __contains__(self, key, /)\n",
      " |      Return bool(key in self).\n",
      " |\n",
      " |  __eq__(self, value, /)\n",
      " |      Return self==value.\n",
      " |\n",
      " |  __ge__(self, value, /)\n",
      " |      Return self>=value.\n",
      " |\n",
      " |  __getattribute__(self, name, /)\n",
      " |      Return getattr(self, name).\n",
      " |\n",
      " |  __getitem__(self, key, /)\n",
      " |      Return self[key].\n",
      " |\n",
      " |  __getnewargs__(self, /)\n",
      " |\n",
      " |  __gt__(self, value, /)\n",
      " |      Return self>value.\n",
      " |\n",
      " |  __hash__(self, /)\n",
      " |      Return hash(self).\n",
      " |\n",
      " |  __iter__(self, /)\n",
      " |      Implement iter(self).\n",
      " |\n",
      " |  __le__(self, value, /)\n",
      " |      Return self<=value.\n",
      " |\n",
      " |  __len__(self, /)\n",
      " |      Return len(self).\n",
      " |\n",
      " |  __lt__(self, value, /)\n",
      " |      Return self<value.\n",
      " |\n",
      " |  __mul__(self, value, /)\n",
      " |      Return self*value.\n",
      " |\n",
      " |  __ne__(self, value, /)\n",
      " |      Return self!=value.\n",
      " |\n",
      " |  __repr__(self, /)\n",
      " |      Return repr(self).\n",
      " |\n",
      " |  __rmul__(self, value, /)\n",
      " |      Return value*self.\n",
      " |\n",
      " |  count(self, value, /)\n",
      " |      Return number of occurrences of value.\n",
      " |\n",
      " |  index(self, value, start=0, stop=9223372036854775807, /)\n",
      " |      Return first index of value.\n",
      " |\n",
      " |      Raises ValueError if the value is not present.\n",
      " |\n",
      " |  ----------------------------------------------------------------------\n",
      " |  Class methods defined here:\n",
      " |\n",
      " |  __class_getitem__(...)\n",
      " |      See PEP 585\n",
      " |\n",
      " |  ----------------------------------------------------------------------\n",
      " |  Static methods defined here:\n",
      " |\n",
      " |  __new__(*args, **kwargs)\n",
      " |      Create and return a new object.  See help(type) for accurate signature.\n",
      "\n"
     ]
    },
    {
     "name": "stdin",
     "output_type": "stream",
     "text": [
      "help>  quit\n"
     ]
    },
    {
     "name": "stdout",
     "output_type": "stream",
     "text": [
      "\n",
      "You are now leaving help and returning to the Python interpreter.\n",
      "If you want to ask for help on a particular object directly from the\n",
      "interpreter, you can type \"help(object)\".  Executing \"help('string')\"\n",
      "has the same effect as typing a particular string at the help> prompt.\n"
     ]
    }
   ],
   "source": [
    "help()"
   ]
  },
  {
   "cell_type": "markdown",
   "id": "09fa5f80-95a9-4493-9542-6b17a93d30b2",
   "metadata": {},
   "source": [
    "## Built-in Errors"
   ]
  },
  {
   "cell_type": "code",
   "execution_count": 19,
   "id": "0f6235b3-8f38-4f2f-a54e-d3270bfe4790",
   "metadata": {},
   "outputs": [
    {
     "ename": "SyntaxError",
     "evalue": "expected '(' (2920071426.py, line 4)",
     "output_type": "error",
     "traceback": [
      "\u001b[1;36m  Cell \u001b[1;32mIn[19], line 4\u001b[1;36m\u001b[0m\n\u001b[1;33m    def func:\u001b[0m\n\u001b[1;37m            ^\u001b[0m\n\u001b[1;31mSyntaxError\u001b[0m\u001b[1;31m:\u001b[0m expected '('\n"
     ]
    }
   ],
   "source": [
    "# 1: SyntaxError\n",
    "# this error will raised when there will an issue in syntax\n",
    "\n",
    "def func:"
   ]
  },
  {
   "cell_type": "code",
   "execution_count": 21,
   "id": "0966ffbd-0dbb-4416-8b8f-b9d23af31647",
   "metadata": {},
   "outputs": [
    {
     "ename": "IndentationError",
     "evalue": "unindent does not match any outer indentation level (<string>, line 6)",
     "output_type": "error",
     "traceback": [
      "\u001b[1;36m  File \u001b[1;32m<string>:6\u001b[1;36m\u001b[0m\n\u001b[1;33m    print('hello')\u001b[0m\n\u001b[1;37m                  ^\u001b[0m\n\u001b[1;31mIndentationError\u001b[0m\u001b[1;31m:\u001b[0m unindent does not match any outer indentation level\n"
     ]
    }
   ],
   "source": [
    "# 2: IndentationError\n",
    "# this error will raised when there will an issue in indentation\n",
    "\n",
    "def func():\n",
    "    print('abc')\n",
    "  print('hello')"
   ]
  },
  {
   "cell_type": "code",
   "execution_count": 23,
   "id": "132682c9-db4b-4059-9d3d-48b3337ffca8",
   "metadata": {},
   "outputs": [
    {
     "ename": "NameError",
     "evalue": "name 'name' is not defined",
     "output_type": "error",
     "traceback": [
      "\u001b[1;31m---------------------------------------------------------------------------\u001b[0m",
      "\u001b[1;31mNameError\u001b[0m                                 Traceback (most recent call last)",
      "Cell \u001b[1;32mIn[23], line 4\u001b[0m\n\u001b[0;32m      1\u001b[0m \u001b[38;5;66;03m# 3: NameError\u001b[39;00m\n\u001b[0;32m      2\u001b[0m \u001b[38;5;66;03m# when we use undefined thing\u001b[39;00m\n\u001b[1;32m----> 4\u001b[0m \u001b[38;5;28mprint\u001b[39m(name)\n",
      "\u001b[1;31mNameError\u001b[0m: name 'name' is not defined"
     ]
    }
   ],
   "source": [
    "# 3: NameError\n",
    "# when we use undefined thing\n",
    "\n",
    "print(name)"
   ]
  },
  {
   "cell_type": "code",
   "execution_count": 24,
   "id": "c8ed861d-561c-46e2-ade1-9d6b80a0b8da",
   "metadata": {},
   "outputs": [
    {
     "ename": "TypeError",
     "evalue": "unsupported operand type(s) for +: 'int' and 'str'",
     "output_type": "error",
     "traceback": [
      "\u001b[1;31m---------------------------------------------------------------------------\u001b[0m",
      "\u001b[1;31mTypeError\u001b[0m                                 Traceback (most recent call last)",
      "Cell \u001b[1;32mIn[24], line 4\u001b[0m\n\u001b[0;32m      1\u001b[0m \u001b[38;5;66;03m# 4: TypeError\u001b[39;00m\n\u001b[0;32m      2\u001b[0m \u001b[38;5;66;03m# when we apply wrong operations or function on wrong type\u001b[39;00m\n\u001b[1;32m----> 4\u001b[0m \u001b[38;5;28mprint\u001b[39m(\u001b[38;5;241m2\u001b[39m \u001b[38;5;241m+\u001b[39m \u001b[38;5;124m'\u001b[39m\u001b[38;5;124mthree\u001b[39m\u001b[38;5;124m'\u001b[39m)\n",
      "\u001b[1;31mTypeError\u001b[0m: unsupported operand type(s) for +: 'int' and 'str'"
     ]
    }
   ],
   "source": [
    "# 4: TypeError\n",
    "# when we apply wrong operations or function on wrong type\n",
    "\n",
    "print(2 + 'three')"
   ]
  },
  {
   "cell_type": "code",
   "execution_count": 26,
   "id": "23642b50-9056-4e01-891d-0e353c8e4d3d",
   "metadata": {},
   "outputs": [
    {
     "ename": "IndexError",
     "evalue": "list index out of range",
     "output_type": "error",
     "traceback": [
      "\u001b[1;31m---------------------------------------------------------------------------\u001b[0m",
      "\u001b[1;31mIndexError\u001b[0m                                Traceback (most recent call last)",
      "Cell \u001b[1;32mIn[26], line 5\u001b[0m\n\u001b[0;32m      1\u001b[0m \u001b[38;5;66;03m# 5: IndexError\u001b[39;00m\n\u001b[0;32m      2\u001b[0m \u001b[38;5;66;03m# when we will go out of range\u001b[39;00m\n\u001b[0;32m      4\u001b[0m l \u001b[38;5;241m=\u001b[39m [\u001b[38;5;241m1\u001b[39m,\u001b[38;5;241m2\u001b[39m,\u001b[38;5;241m3\u001b[39m]\n\u001b[1;32m----> 5\u001b[0m \u001b[38;5;28mprint\u001b[39m(l[\u001b[38;5;241m4\u001b[39m])\n",
      "\u001b[1;31mIndexError\u001b[0m: list index out of range"
     ]
    }
   ],
   "source": [
    "# 5: IndexError\n",
    "# when we will go out of range\n",
    "\n",
    "l = [1,2,3]\n",
    "print(l[4])"
   ]
  },
  {
   "cell_type": "code",
   "execution_count": 28,
   "id": "7ca16964-13ce-4a7e-8cff-85f003933393",
   "metadata": {},
   "outputs": [
    {
     "name": "stdout",
     "output_type": "stream",
     "text": [
      "5\n"
     ]
    },
    {
     "ename": "ValueError",
     "evalue": "invalid literal for int() with base 10: 'Five'",
     "output_type": "error",
     "traceback": [
      "\u001b[1;31m---------------------------------------------------------------------------\u001b[0m",
      "\u001b[1;31mValueError\u001b[0m                                Traceback (most recent call last)",
      "Cell \u001b[1;32mIn[28], line 10\u001b[0m\n\u001b[0;32m      8\u001b[0m \u001b[38;5;66;03m# # wrong way\u001b[39;00m\n\u001b[0;32m      9\u001b[0m s \u001b[38;5;241m=\u001b[39m \u001b[38;5;124m'\u001b[39m\u001b[38;5;124mFive\u001b[39m\u001b[38;5;124m'\u001b[39m\n\u001b[1;32m---> 10\u001b[0m \u001b[38;5;28mprint\u001b[39m(\u001b[38;5;28mint\u001b[39m(s))\n",
      "\u001b[1;31mValueError\u001b[0m: invalid literal for int() with base 10: 'Five'"
     ]
    }
   ],
   "source": [
    "# 6: ValueError\n",
    "# when we give wrong value to datatype function\n",
    "\n",
    "# # right way\n",
    "s = '5'\n",
    "print(int(s))\n",
    "\n",
    "# # wrong way\n",
    "s = 'Five'\n",
    "print(int(s))"
   ]
  },
  {
   "cell_type": "code",
   "execution_count": 29,
   "id": "a3ce8e93-b0a8-4998-a460-ef4cde0314f8",
   "metadata": {},
   "outputs": [
    {
     "ename": "AttributeError",
     "evalue": "'list' object has no attribute 'push'",
     "output_type": "error",
     "traceback": [
      "\u001b[1;31m---------------------------------------------------------------------------\u001b[0m",
      "\u001b[1;31mAttributeError\u001b[0m                            Traceback (most recent call last)",
      "Cell \u001b[1;32mIn[29], line 5\u001b[0m\n\u001b[0;32m      1\u001b[0m \u001b[38;5;66;03m# 7: AttributeError\u001b[39;00m\n\u001b[0;32m      2\u001b[0m \u001b[38;5;66;03m# when we use undefined function\u001b[39;00m\n\u001b[0;32m      4\u001b[0m l\u001b[38;5;241m=\u001b[39m[\u001b[38;5;241m1\u001b[39m,\u001b[38;5;241m2\u001b[39m,\u001b[38;5;241m3\u001b[39m]\n\u001b[1;32m----> 5\u001b[0m l\u001b[38;5;241m.\u001b[39mpush(\u001b[38;5;124m'\u001b[39m\u001b[38;5;124m12\u001b[39m\u001b[38;5;124m'\u001b[39m)\n",
      "\u001b[1;31mAttributeError\u001b[0m: 'list' object has no attribute 'push'"
     ]
    }
   ],
   "source": [
    "# 7: AttributeError\n",
    "# when we use undefined function\n",
    "\n",
    "l=[1,2,3]\n",
    "l.push('12')"
   ]
  },
  {
   "cell_type": "code",
   "execution_count": 30,
   "id": "3d071aad-a3b3-444a-9a6e-3075cf628294",
   "metadata": {},
   "outputs": [
    {
     "ename": "KeyError",
     "evalue": "'age'",
     "output_type": "error",
     "traceback": [
      "\u001b[1;31m---------------------------------------------------------------------------\u001b[0m",
      "\u001b[1;31mKeyError\u001b[0m                                  Traceback (most recent call last)",
      "Cell \u001b[1;32mIn[30], line 6\u001b[0m\n\u001b[0;32m      1\u001b[0m \u001b[38;5;66;03m# 8: KeyError\u001b[39;00m\n\u001b[0;32m      2\u001b[0m \u001b[38;5;66;03m# when we will try to print undefined key of dictionary\u001b[39;00m\n\u001b[0;32m      5\u001b[0m d \u001b[38;5;241m=\u001b[39m {\u001b[38;5;124m'\u001b[39m\u001b[38;5;124mname\u001b[39m\u001b[38;5;124m'\u001b[39m : \u001b[38;5;124m'\u001b[39m\u001b[38;5;124mali\u001b[39m\u001b[38;5;124m'\u001b[39m}\n\u001b[1;32m----> 6\u001b[0m \u001b[38;5;28mprint\u001b[39m(d[\u001b[38;5;124m'\u001b[39m\u001b[38;5;124mage\u001b[39m\u001b[38;5;124m'\u001b[39m])\n",
      "\u001b[1;31mKeyError\u001b[0m: 'age'"
     ]
    }
   ],
   "source": [
    "# 8: KeyError\n",
    "# when we will try to print undefined key of dictionary\n",
    "\n",
    "\n",
    "d = {'name' : 'ali'}\n",
    "print(d['age'])"
   ]
  },
  {
   "cell_type": "markdown",
   "id": "eff0c32d-3d6d-43d4-8dc2-356eb56bee75",
   "metadata": {},
   "source": [
    "### Exception Handling\n",
    "\n",
    "An exception is an event, which occurs during the execution of a program that disrupts the normal flow of the program's instructions. \n",
    "\n",
    "In general, when a Python script encounters a situation that it cannot cope with, it raises an exception. \n",
    "\n",
    "An exception is a Python object that represents an error."
   ]
  },
  {
   "cell_type": "code",
   "execution_count": 32,
   "id": "0d9a7688-f637-4820-94a7-94e6b914d286",
   "metadata": {},
   "outputs": [
    {
     "name": "stdin",
     "output_type": "stream",
     "text": [
      "Enter Your age:  seven\n"
     ]
    },
    {
     "ename": "ValueError",
     "evalue": "invalid literal for int() with base 10: 'seven'",
     "output_type": "error",
     "traceback": [
      "\u001b[1;31m---------------------------------------------------------------------------\u001b[0m",
      "\u001b[1;31mValueError\u001b[0m                                Traceback (most recent call last)",
      "Cell \u001b[1;32mIn[32], line 1\u001b[0m\n\u001b[1;32m----> 1\u001b[0m age \u001b[38;5;241m=\u001b[39m \u001b[38;5;28mint\u001b[39m(\u001b[38;5;28minput\u001b[39m(\u001b[38;5;124m'\u001b[39m\u001b[38;5;124mEnter Your age: \u001b[39m\u001b[38;5;124m'\u001b[39m)) \u001b[38;5;66;03m# in case of wrong data type, error will occure\u001b[39;00m\n\u001b[0;32m      3\u001b[0m \u001b[38;5;28;01mif\u001b[39;00m age\u001b[38;5;241m>\u001b[39m\u001b[38;5;241m18\u001b[39m:\n\u001b[0;32m      4\u001b[0m     \u001b[38;5;28mprint\u001b[39m(\u001b[38;5;124m'\u001b[39m\u001b[38;5;124mYou can play this Game\u001b[39m\u001b[38;5;124m'\u001b[39m)\n",
      "\u001b[1;31mValueError\u001b[0m: invalid literal for int() with base 10: 'seven'"
     ]
    }
   ],
   "source": [
    "age = int(input('Enter Your age: ')) # in case of wrong data type, error will occure\n",
    "\n",
    "if age>18:\n",
    "    print('You can play this Game')\n",
    "else:\n",
    "    print('You cannot play this Game')"
   ]
  },
  {
   "cell_type": "code",
   "execution_count": 1,
   "id": "d52787b0-27f1-4cae-86cc-468c0490490c",
   "metadata": {},
   "outputs": [
    {
     "name": "stdin",
     "output_type": "stream",
     "text": [
      "Enter Your age:  seven\n"
     ]
    },
    {
     "name": "stdout",
     "output_type": "stream",
     "text": [
      "Invalid Input\n"
     ]
    },
    {
     "ename": "NameError",
     "evalue": "name 'age' is not defined",
     "output_type": "error",
     "traceback": [
      "\u001b[1;31m---------------------------------------------------------------------------\u001b[0m",
      "\u001b[1;31mNameError\u001b[0m                                 Traceback (most recent call last)",
      "Cell \u001b[1;32mIn[1], line 7\u001b[0m\n\u001b[0;32m      4\u001b[0m \u001b[38;5;28;01mexcept\u001b[39;00m:\n\u001b[0;32m      5\u001b[0m     \u001b[38;5;28mprint\u001b[39m(\u001b[38;5;124m'\u001b[39m\u001b[38;5;124mInvalid Input\u001b[39m\u001b[38;5;124m'\u001b[39m)\n\u001b[1;32m----> 7\u001b[0m \u001b[38;5;28;01mif\u001b[39;00m age\u001b[38;5;241m>\u001b[39m\u001b[38;5;241m18\u001b[39m:\n\u001b[0;32m      8\u001b[0m     \u001b[38;5;28mprint\u001b[39m(\u001b[38;5;124m'\u001b[39m\u001b[38;5;124mYou can play this Game\u001b[39m\u001b[38;5;124m'\u001b[39m)\n\u001b[0;32m      9\u001b[0m \u001b[38;5;28;01melse\u001b[39;00m:\n",
      "\u001b[1;31mNameError\u001b[0m: name 'age' is not defined"
     ]
    }
   ],
   "source": [
    "try:\n",
    "    # in try we will write one or more lines in which error can occure\n",
    "    age = int(input('Enter Your age: ')) # in case of wrong data type, exception portion will run and then error will occure\n",
    "except:\n",
    "    print('Invalid Input')\n",
    "    \n",
    "if age>18:\n",
    "    print('You can play this Game')\n",
    "else:\n",
    "    print('You cannot play this Game')"
   ]
  },
  {
   "cell_type": "code",
   "execution_count": 2,
   "id": "81733db7-c976-4a93-99c2-8b82ce971d7c",
   "metadata": {},
   "outputs": [
    {
     "name": "stdin",
     "output_type": "stream",
     "text": [
      "Enter Your age:  seven\n"
     ]
    },
    {
     "name": "stdout",
     "output_type": "stream",
     "text": [
      "You Entered string instead of number, try again..\n"
     ]
    },
    {
     "name": "stdin",
     "output_type": "stream",
     "text": [
      "Enter Your age:  five\n"
     ]
    },
    {
     "name": "stdout",
     "output_type": "stream",
     "text": [
      "You Entered string instead of number, try again..\n"
     ]
    },
    {
     "name": "stdin",
     "output_type": "stream",
     "text": [
      "Enter Your age:  19\n"
     ]
    },
    {
     "name": "stdout",
     "output_type": "stream",
     "text": [
      "You can play this Game\n"
     ]
    }
   ],
   "source": [
    "## we want user give value again and again untill correct value given\n",
    "\n",
    "while True:\n",
    "    try:\n",
    "        age = int(input('Enter Your age: '))\n",
    "        break\n",
    "        \n",
    "    # we should handle only that errors which we can handle\n",
    "    except ValueError: # if error type is ValueError, then this portion will run\n",
    "        # print('Invalid Input')\n",
    "        # now we can give specific message as we know error type\n",
    "        print('You Entered string instead of number, try again..')\n",
    "        \n",
    "if age>18:\n",
    "    print('You can play this Game')\n",
    "else:\n",
    "    print('You cannot play this Game')"
   ]
  },
  {
   "cell_type": "code",
   "execution_count": null,
   "id": "8e6949ee-8441-459d-aafb-fef997f7e317",
   "metadata": {},
   "outputs": [],
   "source": [
    "while True:\n",
    "    try:\n",
    "        age = int(input('Enter Your age: '))\n",
    "        break  \n",
    "    except ValueError:\n",
    "        print('You Entered string instead of number, try again..')\n",
    "    except: # in case of other error\n",
    "        print('unexpected error..')\n",
    "        \n",
    "if age>18:\n",
    "    print('You can play this Game')\n",
    "else:\n",
    "    print('You cannot play this Game')"
   ]
  },
  {
   "cell_type": "code",
   "execution_count": null,
   "id": "8da0f203-d57b-40e0-9dca-fda4dec1643a",
   "metadata": {},
   "outputs": [],
   "source": [
    "## else and finally\n",
    "# else portion runs if try portion do not raise error\n",
    "while True:\n",
    "    try:\n",
    "        age = int(input('Enter Your age: '))\n",
    "        # break #wrong place  \n",
    "    except ValueError:\n",
    "        print('You Entered string instead of number, try again..')\n",
    "    except:\n",
    "        print('unexpected error..')\n",
    "    else:\n",
    "        # if try portion runs correctly, then remaining statements should be executed in else block\n",
    "        print(f'user input = {age}')\n",
    "        break\n",
    "    finally:\n",
    "        # it will run in both try and except cases\n",
    "        # the portion which have to run in both case, we write here\n",
    "        print('finally block...')\n",
    "        \n",
    "if age>18:\n",
    "    print('You can play this Game')\n",
    "else:\n",
    "    print('You cannot play this Game')"
   ]
  },
  {
   "cell_type": "code",
   "execution_count": 5,
   "id": "638c26a2-7ec2-484f-b7b3-aecc01518558",
   "metadata": {},
   "outputs": [
    {
     "name": "stdout",
     "output_type": "stream",
     "text": [
      "0.6666666666666666\n",
      "Please don't divide by zero\n",
      "Please input numbers only\n"
     ]
    }
   ],
   "source": [
    "def divide(num1,num2):\n",
    "    try:\n",
    "        return num1/num2\n",
    "    except ZeroDivisionError:\n",
    "        return 'Please don\\'t divide by zero'\n",
    "    except TypeError:\n",
    "        return 'Please input numbers only'\n",
    "    except:\n",
    "        return 'Unexpected Error'\n",
    "\n",
    "print(divide(2,3))\n",
    "print(divide(2,0))\n",
    "print(divide(2,'3'))"
   ]
  },
  {
   "cell_type": "markdown",
   "id": "36e6de84-cb2d-4eb6-9545-09b2756166ea",
   "metadata": {},
   "source": [
    "### Generators\n",
    "---\n",
    "Generators are also iterators \n",
    "\n",
    "they do not store data in memory so they are memory saver\n",
    "\n",
    "yield keyword is used for generators"
   ]
  },
  {
   "cell_type": "code",
   "execution_count": 6,
   "id": "ed700797-7af9-4476-abd9-16a79d81c5a8",
   "metadata": {},
   "outputs": [],
   "source": [
    "## generator comprehension\n",
    "# Its same like list comprehension, just we use () instead of []\n",
    "\n",
    "# list Comprehension\n",
    "square1 = [i**2 for i in range(1,6)] # list comprehension"
   ]
  },
  {
   "cell_type": "code",
   "execution_count": 21,
   "id": "e08ee4a6-3454-4090-8651-3e59e15bc17c",
   "metadata": {},
   "outputs": [
    {
     "name": "stdout",
     "output_type": "stream",
     "text": [
      "[1, 4, 9, 16, 25]\n"
     ]
    }
   ],
   "source": [
    "print(square1)"
   ]
  },
  {
   "cell_type": "code",
   "execution_count": 22,
   "id": "cc137298-40ea-4bca-bcb7-4d8e667071de",
   "metadata": {},
   "outputs": [],
   "source": [
    "# generator comprehension\n",
    "square2 = (i**2 for i in range(1, 6)) # generator comprehension"
   ]
  },
  {
   "cell_type": "code",
   "execution_count": 24,
   "id": "f04bd3f0-3d23-4b1e-ab23-7312c75f3299",
   "metadata": {},
   "outputs": [],
   "source": [
    "for num in square2:\n",
    "    print(num)"
   ]
  },
  {
   "cell_type": "code",
   "execution_count": 25,
   "id": "0f77c249-c9df-4b4a-929f-943e440d4804",
   "metadata": {},
   "outputs": [],
   "source": [
    "## a program to print even numbers in given range with the help of generator is given below\n",
    "\n",
    "def even_num(n):\n",
    "    for i in range(2, n+1, 2):\n",
    "        yield i  # it will not store data into memory, 2 will come and print and then 4 will come in the place of 2\n",
    "\n",
    "numbers = even_num(10)"
   ]
  },
  {
   "cell_type": "code",
   "execution_count": 27,
   "id": "0fa237c9-d06d-41f3-879a-da76504d21e7",
   "metadata": {},
   "outputs": [],
   "source": [
    "for num in numbers: # on number, for loop can run only once\n",
    "    print(num) # 2 4 6 8 10"
   ]
  },
  {
   "cell_type": "markdown",
   "id": "d5faf1ac-003c-4329-99dd-38cefb8266f7",
   "metadata": {},
   "source": [
    "### OOP Basics\n",
    "---\n",
    "Its idea is same in all programming languages, just syntax is different\n",
    "\n",
    "OOP is just a style or way to write a code\n",
    "\n",
    "It does not enhance the functionality of our code but, It helps to manage and write our code in good way\n",
    "\n",
    "Very helpful in creating Solution for real world problems\n",
    "\n",
    "<b>In oop, 3 words are very popular</b>, \n",
    "\n",
    "<ul>\n",
    "    <li>Class</li>\n",
    "    <li>object</li>\n",
    "    <li>method</li>\n",
    "</ul>"
   ]
  },
  {
   "cell_type": "code",
   "execution_count": null,
   "id": "5befce59-ece1-4030-b894-cd2fada4dbb2",
   "metadata": {},
   "outputs": [],
   "source": [
    "## For example,\n",
    "\n",
    "fruits = ['mango', 'apple'] # fruits and num are two 'objects' of 'class list' \n",
    "num = [1,2,3,4]\n",
    "\n",
    "fruits.append('orange') # append is method of 'class list'\n",
    "num.append(5)\n",
    "\n",
    "# strings, integers, lists, dictionaries etc. are all class and have their on methods\n",
    "# We can also define real classes by self"
   ]
  },
  {
   "cell_type": "markdown",
   "id": "e150797e-9b8c-4883-82b4-8e45138ed5e0",
   "metadata": {},
   "source": [
    "### Class\n",
    "\n",
    "<b>Creat a Class</b>\n",
    "\n",
    "We use OOP to make our own classes and our own objects\n",
    "\n",
    "Class is a blueprint, in which we decide the functionality and attributes of our object\n",
    "\n",
    "<b>class keyword</b> is used in python to create a class\n",
    "\n",
    "According to convention, first letter of class should be capital like ‘<b>class Fruits</b>’ to differentiate between built in and our own class\n",
    "\n",
    "Don’t use parenthesis () with the name of class"
   ]
  },
  {
   "cell_type": "code",
   "execution_count": 29,
   "id": "dc90497f-2f44-49d4-bf25-10e2e1ae61bd",
   "metadata": {},
   "outputs": [
    {
     "name": "stdout",
     "output_type": "stream",
     "text": [
      "Help on class list in module builtins:\n",
      "\n",
      "class list(object)\n",
      " |  list(iterable=(), /)\n",
      " |\n",
      " |  Built-in mutable sequence.\n",
      " |\n",
      " |  If no argument is given, the constructor creates a new empty list.\n",
      " |  The argument must be an iterable if specified.\n",
      " |\n",
      " |  Methods defined here:\n",
      " |\n",
      " |  __add__(self, value, /)\n",
      " |      Return self+value.\n",
      " |\n",
      " |  __contains__(self, key, /)\n",
      " |      Return bool(key in self).\n",
      " |\n",
      " |  __delitem__(self, key, /)\n",
      " |      Delete self[key].\n",
      " |\n",
      " |  __eq__(self, value, /)\n",
      " |      Return self==value.\n",
      " |\n",
      " |  __ge__(self, value, /)\n",
      " |      Return self>=value.\n",
      " |\n",
      " |  __getattribute__(self, name, /)\n",
      " |      Return getattr(self, name).\n",
      " |\n",
      " |  __getitem__(self, index, /)\n",
      " |      Return self[index].\n",
      " |\n",
      " |  __gt__(self, value, /)\n",
      " |      Return self>value.\n",
      " |\n",
      " |  __iadd__(self, value, /)\n",
      " |      Implement self+=value.\n",
      " |\n",
      " |  __imul__(self, value, /)\n",
      " |      Implement self*=value.\n",
      " |\n",
      " |  __init__(self, /, *args, **kwargs)\n",
      " |      Initialize self.  See help(type(self)) for accurate signature.\n",
      " |\n",
      " |  __iter__(self, /)\n",
      " |      Implement iter(self).\n",
      " |\n",
      " |  __le__(self, value, /)\n",
      " |      Return self<=value.\n",
      " |\n",
      " |  __len__(self, /)\n",
      " |      Return len(self).\n",
      " |\n",
      " |  __lt__(self, value, /)\n",
      " |      Return self<value.\n",
      " |\n",
      " |  __mul__(self, value, /)\n",
      " |      Return self*value.\n",
      " |\n",
      " |  __ne__(self, value, /)\n",
      " |      Return self!=value.\n",
      " |\n",
      " |  __repr__(self, /)\n",
      " |      Return repr(self).\n",
      " |\n",
      " |  __reversed__(self, /)\n",
      " |      Return a reverse iterator over the list.\n",
      " |\n",
      " |  __rmul__(self, value, /)\n",
      " |      Return value*self.\n",
      " |\n",
      " |  __setitem__(self, key, value, /)\n",
      " |      Set self[key] to value.\n",
      " |\n",
      " |  __sizeof__(self, /)\n",
      " |      Return the size of the list in memory, in bytes.\n",
      " |\n",
      " |  append(self, object, /)\n",
      " |      Append object to the end of the list.\n",
      " |\n",
      " |  clear(self, /)\n",
      " |      Remove all items from list.\n",
      " |\n",
      " |  copy(self, /)\n",
      " |      Return a shallow copy of the list.\n",
      " |\n",
      " |  count(self, value, /)\n",
      " |      Return number of occurrences of value.\n",
      " |\n",
      " |  extend(self, iterable, /)\n",
      " |      Extend list by appending elements from the iterable.\n",
      " |\n",
      " |  index(self, value, start=0, stop=9223372036854775807, /)\n",
      " |      Return first index of value.\n",
      " |\n",
      " |      Raises ValueError if the value is not present.\n",
      " |\n",
      " |  insert(self, index, object, /)\n",
      " |      Insert object before index.\n",
      " |\n",
      " |  pop(self, index=-1, /)\n",
      " |      Remove and return item at index (default last).\n",
      " |\n",
      " |      Raises IndexError if list is empty or index is out of range.\n",
      " |\n",
      " |  remove(self, value, /)\n",
      " |      Remove first occurrence of value.\n",
      " |\n",
      " |      Raises ValueError if the value is not present.\n",
      " |\n",
      " |  reverse(self, /)\n",
      " |      Reverse *IN PLACE*.\n",
      " |\n",
      " |  sort(self, /, *, key=None, reverse=False)\n",
      " |      Sort the list in ascending order and return None.\n",
      " |\n",
      " |      The sort is in-place (i.e. the list itself is modified) and stable (i.e. the\n",
      " |      order of two equal elements is maintained).\n",
      " |\n",
      " |      If a key function is given, apply it once to each list item and sort them,\n",
      " |      ascending or descending, according to their function values.\n",
      " |\n",
      " |      The reverse flag can be set to sort in descending order.\n",
      " |\n",
      " |  ----------------------------------------------------------------------\n",
      " |  Class methods defined here:\n",
      " |\n",
      " |  __class_getitem__(...)\n",
      " |      See PEP 585\n",
      " |\n",
      " |  ----------------------------------------------------------------------\n",
      " |  Static methods defined here:\n",
      " |\n",
      " |  __new__(*args, **kwargs)\n",
      " |      Create and return a new object.  See help(type) for accurate signature.\n",
      " |\n",
      " |  ----------------------------------------------------------------------\n",
      " |  Data and other attributes defined here:\n",
      " |\n",
      " |  __hash__ = None\n",
      "\n"
     ]
    }
   ],
   "source": [
    "help(list)"
   ]
  },
  {
   "cell_type": "code",
   "execution_count": 31,
   "id": "209d8481-7a86-4cb6-89c3-674f0e1f8391",
   "metadata": {},
   "outputs": [],
   "source": [
    "class Person:\n",
    "    # python \"init method\", other languages \"constructure\"\n",
    "    # init method is used to construct or create objects\n",
    "    # self is a special keyword which represents our object(p1),\n",
    "    # we can write any name on the place of self, but self is naming convention \n",
    "    # after self, we will write attributes of our class\n",
    "    def __init__(self, f_name, l_name, age):\n",
    "        # Instance variable declaration \n",
    "        # these are unique for each object or instance\n",
    "        self.f_name = f_name\n",
    "        self.l_name = l_name\n",
    "        self.age = age"
   ]
  },
  {
   "cell_type": "markdown",
   "id": "beec8641-d307-4bda-9271-2d41f3ad8af8",
   "metadata": {},
   "source": [
    "###### when we will create an object(p1), init method will called and object name is assigned to self(self = p1)\n",
    "###### when we will create an other object(p2), again init method will call and now this object name will be assigned to self (self = p2)"
   ]
  },
  {
   "cell_type": "code",
   "execution_count": 32,
   "id": "c4f4957b-e38e-4bda-949a-31bf8f38f282",
   "metadata": {},
   "outputs": [],
   "source": [
    "p1 = Person('Muhammad', 'Ali', 30) \n",
    "p2 = Person('Zain', 'Ahmad', 23)"
   ]
  },
  {
   "cell_type": "code",
   "execution_count": 34,
   "id": "42a2697e-4f99-466e-a919-93b1e36baa34",
   "metadata": {},
   "outputs": [
    {
     "name": "stdout",
     "output_type": "stream",
     "text": [
      "<__main__.Person object at 0x0000020287E47F50>\n",
      "Zain\n"
     ]
    }
   ],
   "source": [
    "print(p1.f_name)\n",
    "print(p2.f_name)"
   ]
  },
  {
   "cell_type": "code",
   "execution_count": 35,
   "id": "149ec744-f872-4bd4-bf46-6d58002eafe8",
   "metadata": {},
   "outputs": [
    {
     "name": "stdout",
     "output_type": "stream",
     "text": [
      "Muhammad\n",
      "Zain\n"
     ]
    }
   ],
   "source": [
    "class Person:\n",
    "    def __init__(self, f_name, l_name, age):\n",
    "        self.f_name = f_name\n",
    "        self.l_name = l_name\n",
    "        self.age = age\n",
    "\n",
    "p1 = Person('Muhammad', 'Ali', 30) \n",
    "p2 = Person('Zain', 'Ahmad', 23)\n",
    "\n",
    "print(p1.f_name)\n",
    "print(p2.f_name)"
   ]
  },
  {
   "cell_type": "code",
   "execution_count": 38,
   "id": "cd9fcd56-1826-4e74-8789-474b32e5ed46",
   "metadata": {},
   "outputs": [],
   "source": [
    "fruits = ['mango', 'apple']\n",
    "num = [1,2,3,4]"
   ]
  },
  {
   "cell_type": "code",
   "execution_count": 39,
   "id": "4e72fed9-e40f-422e-9883-8f2685bbb2fe",
   "metadata": {},
   "outputs": [],
   "source": [
    "fruits.append('orange')"
   ]
  },
  {
   "cell_type": "code",
   "execution_count": 43,
   "id": "d9399cd1-5064-4136-9930-337ae0df6847",
   "metadata": {},
   "outputs": [],
   "source": [
    "class Car:\n",
    "    def __init__(self, company_name, model_name, price):\n",
    "        self.company = company_name\n",
    "        self.model = model_name\n",
    "        self.price = price\n",
    "        self.car_name = company_name+' '+model_name # combination of more than one attributes\n",
    "\n",
    "car1 = Car('Toyota', 'grande', '39 lac')\n",
    "car2 = Car('Honda', 'Civic', '46 lac')"
   ]
  },
  {
   "cell_type": "code",
   "execution_count": 44,
   "id": "bb4d4ca2-5166-44b3-a1b1-b19863999a86",
   "metadata": {},
   "outputs": [
    {
     "name": "stdout",
     "output_type": "stream",
     "text": [
      "grande 39 lac\n"
     ]
    }
   ],
   "source": [
    "print(car1.model, car1.price)"
   ]
  },
  {
   "cell_type": "code",
   "execution_count": 45,
   "id": "3f28b420-e344-4590-878f-18fbe465197d",
   "metadata": {},
   "outputs": [
    {
     "name": "stdout",
     "output_type": "stream",
     "text": [
      "Toyota grande\n"
     ]
    }
   ],
   "source": [
    "print(car1.car_name)"
   ]
  },
  {
   "cell_type": "code",
   "execution_count": 46,
   "id": "3e1932f0-8f7c-4c8b-9dac-2f5d0da2b46b",
   "metadata": {},
   "outputs": [
    {
     "name": "stdout",
     "output_type": "stream",
     "text": [
      "Civic 46 lac\n"
     ]
    }
   ],
   "source": [
    "print(car2.model, car2.price)"
   ]
  },
  {
   "cell_type": "markdown",
   "id": "a40b070f-1c84-4698-8259-819c29ed9794",
   "metadata": {},
   "source": [
    "#### Instance Methods\n",
    "---\n",
    "Instance / objects are defined for class like car1, car2\n",
    "\n",
    "Methods are the functions defined in the class\n",
    "\n",
    "Instance methods are the functions / methods of class that works for all instances of class\n",
    "\n",
    "In a list l = [1,2,3], a method is used l.pop(), here l is instance and pop() is instance method\n",
    "\n",
    "We can also create instance methods"
   ]
  },
  {
   "cell_type": "code",
   "execution_count": 49,
   "id": "728cbb2f-1e8a-4750-9029-b7e07319fc42",
   "metadata": {},
   "outputs": [
    {
     "name": "stdout",
     "output_type": "stream",
     "text": [
      "ali ahmad\n"
     ]
    }
   ],
   "source": [
    "class Person:\n",
    "    def __init__(self, f_name, l_name, age):\n",
    "        self.f_name = f_name\n",
    "        self.l_name = l_name\n",
    "        self.age = age\n",
    "        \n",
    "    def full_name(self): # instance for which method will be called will be assigned to self (p1 = self)\n",
    "        return f\"{self.f_name} {self.l_name}\"\n",
    "\n",
    "    def above_18(self):\n",
    "        return self.age>18\n",
    "\n",
    "p1 = Person('ali', 'ahmad', 26)\n",
    "p2 = Person('Abrar', 'Zulfiqar', 17)\n",
    "\n",
    "print(p1.full_name()) # its actuall working is in below line, but we write in this type just like other methods"
   ]
  },
  {
   "cell_type": "code",
   "execution_count": 50,
   "id": "efc43e1e-38d0-48fe-8ebb-9371bef64cb3",
   "metadata": {},
   "outputs": [
    {
     "name": "stdout",
     "output_type": "stream",
     "text": [
      "Abrar Zulfiqar\n"
     ]
    }
   ],
   "source": [
    "print(Person.full_name(p2))"
   ]
  },
  {
   "cell_type": "code",
   "execution_count": 51,
   "id": "d84c455b-970a-49e5-8a31-21b3406a75f6",
   "metadata": {},
   "outputs": [
    {
     "name": "stdout",
     "output_type": "stream",
     "text": [
      "True\n",
      "False\n"
     ]
    }
   ],
   "source": [
    "print(p1.above_18())\n",
    "print(p2.above_18())"
   ]
  },
  {
   "cell_type": "code",
   "execution_count": 52,
   "id": "f78d08ba-b930-4023-84ac-569770709b38",
   "metadata": {},
   "outputs": [
    {
     "name": "stdout",
     "output_type": "stream",
     "text": [
      "[1]\n",
      "[1, 10, 10]\n"
     ]
    }
   ],
   "source": [
    "# Example of bult-in methods\n",
    "\n",
    "l = [1,2,3]\n",
    "l.pop() # or\n",
    "list.pop(l) #same working but conventional style is first one\n",
    "print(l)\n",
    "\n",
    "# another example\n",
    "\n",
    "l.append(10) # here method is with argument\n",
    "list.append(l,10) # here we pass argument with object name \n",
    "print(l)"
   ]
  },
  {
   "cell_type": "code",
   "execution_count": 53,
   "id": "e886c531-9615-44d6-84dc-d2490483695f",
   "metadata": {},
   "outputs": [
    {
     "name": "stdout",
     "output_type": "stream",
     "text": [
      "Help on class list in module builtins:\n",
      "\n",
      "class list(object)\n",
      " |  list(iterable=(), /)\n",
      " |\n",
      " |  Built-in mutable sequence.\n",
      " |\n",
      " |  If no argument is given, the constructor creates a new empty list.\n",
      " |  The argument must be an iterable if specified.\n",
      " |\n",
      " |  Methods defined here:\n",
      " |\n",
      " |  __add__(self, value, /)\n",
      " |      Return self+value.\n",
      " |\n",
      " |  __contains__(self, key, /)\n",
      " |      Return bool(key in self).\n",
      " |\n",
      " |  __delitem__(self, key, /)\n",
      " |      Delete self[key].\n",
      " |\n",
      " |  __eq__(self, value, /)\n",
      " |      Return self==value.\n",
      " |\n",
      " |  __ge__(self, value, /)\n",
      " |      Return self>=value.\n",
      " |\n",
      " |  __getattribute__(self, name, /)\n",
      " |      Return getattr(self, name).\n",
      " |\n",
      " |  __getitem__(self, index, /)\n",
      " |      Return self[index].\n",
      " |\n",
      " |  __gt__(self, value, /)\n",
      " |      Return self>value.\n",
      " |\n",
      " |  __iadd__(self, value, /)\n",
      " |      Implement self+=value.\n",
      " |\n",
      " |  __imul__(self, value, /)\n",
      " |      Implement self*=value.\n",
      " |\n",
      " |  __init__(self, /, *args, **kwargs)\n",
      " |      Initialize self.  See help(type(self)) for accurate signature.\n",
      " |\n",
      " |  __iter__(self, /)\n",
      " |      Implement iter(self).\n",
      " |\n",
      " |  __le__(self, value, /)\n",
      " |      Return self<=value.\n",
      " |\n",
      " |  __len__(self, /)\n",
      " |      Return len(self).\n",
      " |\n",
      " |  __lt__(self, value, /)\n",
      " |      Return self<value.\n",
      " |\n",
      " |  __mul__(self, value, /)\n",
      " |      Return self*value.\n",
      " |\n",
      " |  __ne__(self, value, /)\n",
      " |      Return self!=value.\n",
      " |\n",
      " |  __repr__(self, /)\n",
      " |      Return repr(self).\n",
      " |\n",
      " |  __reversed__(self, /)\n",
      " |      Return a reverse iterator over the list.\n",
      " |\n",
      " |  __rmul__(self, value, /)\n",
      " |      Return value*self.\n",
      " |\n",
      " |  __setitem__(self, key, value, /)\n",
      " |      Set self[key] to value.\n",
      " |\n",
      " |  __sizeof__(self, /)\n",
      " |      Return the size of the list in memory, in bytes.\n",
      " |\n",
      " |  append(self, object, /)\n",
      " |      Append object to the end of the list.\n",
      " |\n",
      " |  clear(self, /)\n",
      " |      Remove all items from list.\n",
      " |\n",
      " |  copy(self, /)\n",
      " |      Return a shallow copy of the list.\n",
      " |\n",
      " |  count(self, value, /)\n",
      " |      Return number of occurrences of value.\n",
      " |\n",
      " |  extend(self, iterable, /)\n",
      " |      Extend list by appending elements from the iterable.\n",
      " |\n",
      " |  index(self, value, start=0, stop=9223372036854775807, /)\n",
      " |      Return first index of value.\n",
      " |\n",
      " |      Raises ValueError if the value is not present.\n",
      " |\n",
      " |  insert(self, index, object, /)\n",
      " |      Insert object before index.\n",
      " |\n",
      " |  pop(self, index=-1, /)\n",
      " |      Remove and return item at index (default last).\n",
      " |\n",
      " |      Raises IndexError if list is empty or index is out of range.\n",
      " |\n",
      " |  remove(self, value, /)\n",
      " |      Remove first occurrence of value.\n",
      " |\n",
      " |      Raises ValueError if the value is not present.\n",
      " |\n",
      " |  reverse(self, /)\n",
      " |      Reverse *IN PLACE*.\n",
      " |\n",
      " |  sort(self, /, *, key=None, reverse=False)\n",
      " |      Sort the list in ascending order and return None.\n",
      " |\n",
      " |      The sort is in-place (i.e. the list itself is modified) and stable (i.e. the\n",
      " |      order of two equal elements is maintained).\n",
      " |\n",
      " |      If a key function is given, apply it once to each list item and sort them,\n",
      " |      ascending or descending, according to their function values.\n",
      " |\n",
      " |      The reverse flag can be set to sort in descending order.\n",
      " |\n",
      " |  ----------------------------------------------------------------------\n",
      " |  Class methods defined here:\n",
      " |\n",
      " |  __class_getitem__(...)\n",
      " |      See PEP 585\n",
      " |\n",
      " |  ----------------------------------------------------------------------\n",
      " |  Static methods defined here:\n",
      " |\n",
      " |  __new__(*args, **kwargs)\n",
      " |      Create and return a new object.  See help(type) for accurate signature.\n",
      " |\n",
      " |  ----------------------------------------------------------------------\n",
      " |  Data and other attributes defined here:\n",
      " |\n",
      " |  __hash__ = None\n",
      "\n"
     ]
    }
   ],
   "source": [
    "help(list)"
   ]
  },
  {
   "cell_type": "code",
   "execution_count": null,
   "id": "4cbb3674-035d-46fa-973a-d2e7317c05a7",
   "metadata": {},
   "outputs": [],
   "source": [
    "## Exercise\n",
    "# Make a method of previous class Car,\n",
    "# It will take a number for discount percentage and will give final amount after discount"
   ]
  },
  {
   "cell_type": "code",
   "execution_count": 54,
   "id": "1b3b04a3-2d00-43ae-9c6a-1720010256f2",
   "metadata": {},
   "outputs": [
    {
     "name": "stdout",
     "output_type": "stream",
     "text": [
      "Total amount is 3900000 and Final amount after 5% discount is 3705000.0\n"
     ]
    }
   ],
   "source": [
    "# Solution\n",
    "class Car:\n",
    "    def __init__(self, company_name, model_name, price):\n",
    "        self.company = company_name\n",
    "        self.model = model_name\n",
    "        self.price = price\n",
    "    \n",
    "    def discount_offer(self, d):\n",
    "        return f\"Total amount is {self.price} and Final amount after {d}% discount is {self.price - ((self.price*d)/100)}\"\n",
    "\n",
    "car1 = Car('Toyota', 'grande', 3900000)\n",
    "car2 = Car('Honda', 'Civic', 4600000)\n",
    "\n",
    "print(car1.discount_offer(5))"
   ]
  },
  {
   "cell_type": "code",
   "execution_count": null,
   "id": "7411770e-dc28-4c4e-a0ed-21284a75abcf",
   "metadata": {},
   "outputs": [],
   "source": []
  }
 ],
 "metadata": {
  "kernelspec": {
   "display_name": "Python 3 (ipykernel)",
   "language": "python",
   "name": "python3"
  },
  "language_info": {
   "codemirror_mode": {
    "name": "ipython",
    "version": 3
   },
   "file_extension": ".py",
   "mimetype": "text/x-python",
   "name": "python",
   "nbconvert_exporter": "python",
   "pygments_lexer": "ipython3",
   "version": "3.9.12"
  }
 },
 "nbformat": 4,
 "nbformat_minor": 5
}
