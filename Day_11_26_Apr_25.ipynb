{
 "cells": [
  {
   "cell_type": "markdown",
   "id": "76f0ff5c-db07-4889-a767-40196e6c88a0",
   "metadata": {},
   "source": [
    "# Numpy Intro\n",
    "---\n",
    "NumPy is a powerful library in Python used for numerical computing.   \n",
    "It provides a high-performance multidimensional array object, and tools for working with these arrays efficiently.   \n",
    "NumPy arrays are main way to use NumPy library   \n",
    "In this course we will learn how to work with multi dimensional arrays   \n",
    "Its relly fast as compared to ordinary python lists due to binding with C.\n",
    "\n",
    "##### 1-d array - vector\n",
    "##### 2-d array - matrix\n",
    "##### n-d array - tensor"
   ]
  },
  {
   "cell_type": "markdown",
   "id": "797a5087-3ede-4493-bb9c-2c66cb7664d1",
   "metadata": {},
   "source": [
    "# Outline\n",
    "---\n",
    "What is NumPy   \n",
    "How to create Numpy arrays   \n",
    "How to create Numpy arrays using Functions   \n",
    "How to reshape data   \n",
    "what is -1   \n",
    "Generate same random numbers   \n",
    "Indexing and slicing of 1-d & 2-d arrays   \n",
    "View vs Copy   \n",
    "Conditional Selection   \n",
    "NumPy Operations   \n",
    "NumPy axis   \n",
    "Shuffle and unique   \n",
    "Stacking   \n",
    "Exercise   "
   ]
  },
  {
   "cell_type": "markdown",
   "id": "3905e57d-9e8a-4169-bcd6-ece1d4a2814e",
   "metadata": {},
   "source": [
    "## Create NumPy arrays"
   ]
  },
  {
   "cell_type": "code",
   "execution_count": 1,
   "id": "b75f2a31-d3cc-4594-bc6b-157ba28c961b",
   "metadata": {},
   "outputs": [
    {
     "name": "stdout",
     "output_type": "stream",
     "text": [
      "Defaulting to user installation because normal site-packages is not writeable\n",
      "Requirement already satisfied: numpy in c:\\programdata\\anaconda3\\lib\\site-packages (1.26.4)\n",
      "Note: you may need to restart the kernel to use updated packages.\n"
     ]
    }
   ],
   "source": [
    "pip install numpy"
   ]
  },
  {
   "cell_type": "code",
   "execution_count": 2,
   "id": "be615984-6711-46e0-b784-708b6a27619f",
   "metadata": {},
   "outputs": [],
   "source": [
    "import numpy as np\n",
    "# if numpy is not installed, then run a command in anaconda prompt 'conda install numpy'"
   ]
  },
  {
   "cell_type": "code",
   "execution_count": 3,
   "id": "d7254b8e-b8d6-408a-8fa2-58744802b916",
   "metadata": {},
   "outputs": [
    {
     "data": {
      "text/plain": [
       "array([1, 2, 3])"
      ]
     },
     "execution_count": 3,
     "metadata": {},
     "output_type": "execute_result"
    }
   ],
   "source": [
    "nums = [1,2,3]        # simple 1-d list\n",
    "nums = np.array(nums) # converted into numpy arrays\n",
    "nums"
   ]
  },
  {
   "cell_type": "code",
   "execution_count": 4,
   "id": "8cb2b714-51b5-49bd-99fa-827402ba2715",
   "metadata": {},
   "outputs": [
    {
     "data": {
      "text/plain": [
       "array([[1, 2, 3],\n",
       "       [4, 5, 6]])"
      ]
     },
     "execution_count": 4,
     "metadata": {},
     "output_type": "execute_result"
    }
   ],
   "source": [
    "nums = [1,2,3],[4,5,6]  # 2-d list\n",
    "nums = np.array(nums)   # converted into 2-d numpy arrays\n",
    "nums"
   ]
  },
  {
   "cell_type": "code",
   "execution_count": 5,
   "id": "94f02da0-a466-48cf-bc20-33c3c688e39c",
   "metadata": {},
   "outputs": [
    {
     "data": {
      "text/plain": [
       "array([[[ 1,  2,  3],\n",
       "        [ 4,  5,  6]],\n",
       "\n",
       "       [[ 7,  8,  9],\n",
       "        [10, 11, 12]]])"
      ]
     },
     "execution_count": 5,
     "metadata": {},
     "output_type": "execute_result"
    }
   ],
   "source": [
    "nums = [[[1,2,3],[4,5,6]], [[7,8,9],[10,11,12]]]  # 3-d list\n",
    "nums = np.array(nums)   # converted into 3-d numpy arrays\n",
    "nums"
   ]
  },
  {
   "cell_type": "code",
   "execution_count": 6,
   "id": "134da9c4-4a00-45b3-b36c-9173fa8cc3a5",
   "metadata": {},
   "outputs": [
    {
     "data": {
      "text/plain": [
       "3"
      ]
     },
     "execution_count": 6,
     "metadata": {},
     "output_type": "execute_result"
    }
   ],
   "source": [
    "nums.ndim # to check dimension of array"
   ]
  },
  {
   "cell_type": "code",
   "execution_count": 7,
   "id": "532e1142-f443-4a46-b3df-03b8d0644af5",
   "metadata": {},
   "outputs": [
    {
     "data": {
      "text/plain": [
       "(2, 2, 3)"
      ]
     },
     "execution_count": 7,
     "metadata": {},
     "output_type": "execute_result"
    }
   ],
   "source": [
    "nums.shape"
   ]
  },
  {
   "cell_type": "code",
   "execution_count": 8,
   "id": "1a6ac26b-61af-49e9-83e4-1529364dfef1",
   "metadata": {},
   "outputs": [
    {
     "data": {
      "text/plain": [
       "array([1., 2., 3.])"
      ]
     },
     "execution_count": 8,
     "metadata": {},
     "output_type": "execute_result"
    }
   ],
   "source": [
    "# we can save only same datatype in numpy,\n",
    "list = [1,2,3.0]\n",
    "nums = np.array(list)\n",
    "nums"
   ]
  },
  {
   "cell_type": "code",
   "execution_count": 9,
   "id": "1c0da60e-4863-4cfd-8f0a-a7d236e0ecd8",
   "metadata": {},
   "outputs": [
    {
     "name": "stdout",
     "output_type": "stream",
     "text": [
      "['apple' 'banana' 'cherry' '1']\n"
     ]
    }
   ],
   "source": [
    "arr = np.array(['apple', 'banana', 'cherry',1])\n",
    "print(arr)"
   ]
  },
  {
   "cell_type": "markdown",
   "id": "32887fad-995d-40f8-9187-44cab5cd12b5",
   "metadata": {},
   "source": [
    "## Create Numpy arrays using Function"
   ]
  },
  {
   "cell_type": "code",
   "execution_count": 10,
   "id": "bc08282a-6578-415b-b411-2bb77227ab04",
   "metadata": {},
   "outputs": [
    {
     "data": {
      "text/plain": [
       "array([0., 0., 0., 0.])"
      ]
     },
     "execution_count": 10,
     "metadata": {},
     "output_type": "execute_result"
    }
   ],
   "source": [
    "#zeros, array of zeros\n",
    "arr = np.zeros((4)) #1-d array of 4 zeros\n",
    "arr"
   ]
  },
  {
   "cell_type": "code",
   "execution_count": 11,
   "id": "b4f9f2ec-0935-4ecc-b4f7-ebe43a9eb714",
   "metadata": {},
   "outputs": [
    {
     "data": {
      "text/plain": [
       "array([[0., 0., 0.],\n",
       "       [0., 0., 0.],\n",
       "       [0., 0., 0.],\n",
       "       [0., 0., 0.]])"
      ]
     },
     "execution_count": 11,
     "metadata": {},
     "output_type": "execute_result"
    }
   ],
   "source": [
    "arr = np.zeros((4,3)) #2-d array of 4 rows x 3 coloumns\n",
    "arr"
   ]
  },
  {
   "cell_type": "code",
   "execution_count": 12,
   "id": "bc586e5c-ce5e-44f7-8108-f6308be72188",
   "metadata": {},
   "outputs": [
    {
     "data": {
      "text/plain": [
       "array([1., 1., 1., 1.])"
      ]
     },
     "execution_count": 12,
     "metadata": {},
     "output_type": "execute_result"
    }
   ],
   "source": [
    "#ones, array of ones\n",
    "arr = np.ones((4)) #1-d array of 4 ones\n",
    "arr"
   ]
  },
  {
   "cell_type": "code",
   "execution_count": 13,
   "id": "c493cfd7-e7f5-4da9-a44f-16315bd57aba",
   "metadata": {},
   "outputs": [
    {
     "data": {
      "text/plain": [
       "array([[1., 1., 1.],\n",
       "       [1., 1., 1.]])"
      ]
     },
     "execution_count": 13,
     "metadata": {},
     "output_type": "execute_result"
    }
   ],
   "source": [
    "arr = np.ones((2,3)) #2-d array of 4 rows x 3 coloumns\n",
    "arr"
   ]
  },
  {
   "cell_type": "code",
   "execution_count": 14,
   "id": "654d6b03-8712-467e-bdac-635253f229f5",
   "metadata": {},
   "outputs": [
    {
     "data": {
      "text/plain": [
       "array([[[1., 1., 1., 1.]],\n",
       "\n",
       "       [[1., 1., 1., 1.]],\n",
       "\n",
       "       [[1., 1., 1., 1.]]])"
      ]
     },
     "execution_count": 14,
     "metadata": {},
     "output_type": "execute_result"
    }
   ],
   "source": [
    "arr = np.ones((3,1,4)) # 3-d array\n",
    "arr"
   ]
  },
  {
   "cell_type": "code",
   "execution_count": 15,
   "id": "c39ebb03-59a1-4c48-9d42-e0c56af98f8d",
   "metadata": {},
   "outputs": [
    {
     "data": {
      "text/plain": [
       "array([[1., 0., 0., 0.],\n",
       "       [0., 1., 0., 0.],\n",
       "       [0., 0., 1., 0.],\n",
       "       [0., 0., 0., 1.]])"
      ]
     },
     "execution_count": 15,
     "metadata": {},
     "output_type": "execute_result"
    }
   ],
   "source": [
    "#eye, ones on diagonal\n",
    "arr = np.eye((4)) #square matrix of 4 ones on diagonal\n",
    "# arr = np.eye(4,3) #2-d array of ones on diagonal\n",
    "arr"
   ]
  },
  {
   "cell_type": "code",
   "execution_count": 16,
   "id": "b12cda35-cec5-4990-9653-e610fe3fe5cb",
   "metadata": {},
   "outputs": [
    {
     "data": {
      "text/plain": [
       "array([[1, 0, 0],\n",
       "       [0, 2, 0],\n",
       "       [0, 0, 3]])"
      ]
     },
     "execution_count": 16,
     "metadata": {},
     "output_type": "execute_result"
    }
   ],
   "source": [
    "#diag, gives diagonal of square matrix of given list\n",
    "arr = np.diag([1,2,3])\n",
    "arr"
   ]
  },
  {
   "cell_type": "code",
   "execution_count": 17,
   "id": "440893e8-17ea-4089-abf3-0a7fb574dc70",
   "metadata": {},
   "outputs": [
    {
     "data": {
      "text/plain": [
       "array([ 1,  1,  8, 13])"
      ]
     },
     "execution_count": 17,
     "metadata": {},
     "output_type": "execute_result"
    }
   ],
   "source": [
    "# Random array\n",
    "rand_arr = np.random.randint(1,15,4) # 4 random numbers between 1 and 14\n",
    "rand_arr"
   ]
  },
  {
   "cell_type": "code",
   "execution_count": 18,
   "id": "a8d785ec-8324-431e-98c5-b7da7730393e",
   "metadata": {},
   "outputs": [
    {
     "name": "stdout",
     "output_type": "stream",
     "text": [
      "[[ 2  5 13  3]\n",
      " [ 6 13  2 12]]\n"
     ]
    }
   ],
   "source": [
    "rand_arr_2d = np.random.randint(1, 15, (2, 4))\n",
    "print(rand_arr_2d)"
   ]
  },
  {
   "cell_type": "code",
   "execution_count": 19,
   "id": "722614c4-f324-4809-83cc-f175be27e082",
   "metadata": {},
   "outputs": [
    {
     "data": {
      "text/plain": [
       "array([0.21150688, 0.33380623, 0.60018476, 0.75363127])"
      ]
     },
     "execution_count": 19,
     "metadata": {},
     "output_type": "execute_result"
    }
   ],
   "source": [
    "rand_arr = np.random.rand(4)   #4 random numbers between 0 and 1\n",
    "rand_arr"
   ]
  },
  {
   "cell_type": "code",
   "execution_count": 20,
   "id": "3eb3fd61-ac2d-4c1a-8a88-59525c8bebc7",
   "metadata": {},
   "outputs": [
    {
     "data": {
      "text/plain": [
       "array([[0.86895622, 0.51286649, 0.50263619],\n",
       "       [0.9320481 , 0.37858775, 0.13391952],\n",
       "       [0.36189187, 0.72705459, 0.38554728],\n",
       "       [0.39467182, 0.04895092, 0.38718316]])"
      ]
     },
     "execution_count": 20,
     "metadata": {},
     "output_type": "execute_result"
    }
   ],
   "source": [
    "rand_arr = np.random.rand(4,3) #2-d array\n",
    "rand_arr"
   ]
  },
  {
   "cell_type": "code",
   "execution_count": 21,
   "id": "65b0e324-3d92-4aa0-bcdd-5bf411cd1417",
   "metadata": {},
   "outputs": [
    {
     "data": {
      "text/plain": [
       "0.46952616020604854"
      ]
     },
     "execution_count": 21,
     "metadata": {},
     "output_type": "execute_result"
    }
   ],
   "source": [
    "np.mean(rand_arr) #mean of all values"
   ]
  },
  {
   "cell_type": "markdown",
   "id": "815223fa-bd95-43cd-aaa6-9b5e3b1c0721",
   "metadata": {},
   "source": [
    "## Reshaping of data"
   ]
  },
  {
   "cell_type": "code",
   "execution_count": 37,
   "id": "05d228dc-6210-45f6-9dfe-b6d7953e726c",
   "metadata": {},
   "outputs": [],
   "source": [
    "# with reshaping, we can change the dimensions of arrays\n",
    "arr = np.random.randint(1,100,20)\n",
    "# arr"
   ]
  },
  {
   "cell_type": "code",
   "execution_count": 36,
   "id": "9667c323-c2b7-4087-978f-ef6f6823a891",
   "metadata": {},
   "outputs": [],
   "source": [
    "# reshaping\n",
    "# we will give the combination of total elements\n",
    "arr = arr.reshape(2,10)\n",
    "# arr"
   ]
  },
  {
   "cell_type": "code",
   "execution_count": 35,
   "id": "21d6e7e3-c9a2-453c-af5d-d38e9aa916fc",
   "metadata": {},
   "outputs": [],
   "source": [
    "arr = arr.reshape(5,4)\n",
    "# arr"
   ]
  },
  {
   "cell_type": "code",
   "execution_count": 34,
   "id": "0b63cc3d-e189-41cf-8965-27e19405799c",
   "metadata": {},
   "outputs": [],
   "source": [
    "arr = arr.reshape(5,2,2)\n",
    "# arr"
   ]
  },
  {
   "cell_type": "code",
   "execution_count": 31,
   "id": "bf4bda95-0803-42f6-b04b-27ee1c9d229e",
   "metadata": {},
   "outputs": [
    {
     "data": {
      "text/plain": [
       "3"
      ]
     },
     "execution_count": 31,
     "metadata": {},
     "output_type": "execute_result"
    }
   ],
   "source": [
    "arr.ndim   #tells dimension of arr"
   ]
  },
  {
   "cell_type": "code",
   "execution_count": 32,
   "id": "e16fc671-2703-4c28-99af-0a93bb7dcf2b",
   "metadata": {},
   "outputs": [
    {
     "data": {
      "text/plain": [
       "(5, 2, 2)"
      ]
     },
     "execution_count": 32,
     "metadata": {},
     "output_type": "execute_result"
    }
   ],
   "source": [
    "arr.shape  #tells rows and coloumns of array"
   ]
  },
  {
   "cell_type": "code",
   "execution_count": 33,
   "id": "4d3aa92a-b528-49fd-b331-8eef175030fc",
   "metadata": {},
   "outputs": [
    {
     "data": {
      "text/plain": [
       "20"
      ]
     },
     "execution_count": 33,
     "metadata": {},
     "output_type": "execute_result"
    }
   ],
   "source": [
    "arr.size   #tells total elements of array"
   ]
  },
  {
   "cell_type": "markdown",
   "id": "81d42d52-5d4b-4d87-9d16-b8485566510d",
   "metadata": {},
   "source": [
    "## Negative 1 use in reshape"
   ]
  },
  {
   "cell_type": "code",
   "execution_count": 39,
   "id": "0f41394f-b020-4ef5-bb97-9be7c881e58c",
   "metadata": {},
   "outputs": [
    {
     "data": {
      "text/plain": [
       "array([[74, 43,  3, 30],\n",
       "       [52, 31, 12, 51],\n",
       "       [74, 22, 71, 72],\n",
       "       [68,  7, 29, 89],\n",
       "       [60, 46, 54, 92]])"
      ]
     },
     "execution_count": 39,
     "metadata": {},
     "output_type": "execute_result"
    }
   ],
   "source": [
    "# it helps to find appropriate value of rows or coloumns while reshaping\n",
    "arr = np.random.randint(1,100,20)\n",
    "arr = arr.reshape(5,-1) #-1 will find appropriate values of coloumns\n",
    "arr "
   ]
  },
  {
   "cell_type": "code",
   "execution_count": 40,
   "id": "54664b50-81f1-48b9-a80c-53e10df91e43",
   "metadata": {},
   "outputs": [
    {
     "data": {
      "text/plain": [
       "array([[74, 43,  3, 30],\n",
       "       [52, 31, 12, 51],\n",
       "       [74, 22, 71, 72],\n",
       "       [68,  7, 29, 89],\n",
       "       [60, 46, 54, 92]])"
      ]
     },
     "execution_count": 40,
     "metadata": {},
     "output_type": "execute_result"
    }
   ],
   "source": [
    "arr = arr.reshape(-1,4) #-1 will find appropriate values of rows\n",
    "arr"
   ]
  },
  {
   "cell_type": "code",
   "execution_count": 44,
   "id": "ebff385f-4b44-494b-a8d7-4e4c523df2f8",
   "metadata": {},
   "outputs": [
    {
     "data": {
      "text/plain": [
       "array([[74, 43,  3, 30, 52, 31, 12, 51, 74, 22],\n",
       "       [71, 72, 68,  7, 29, 89, 60, 46, 54, 92]])"
      ]
     },
     "execution_count": 44,
     "metadata": {},
     "output_type": "execute_result"
    }
   ],
   "source": [
    "arr = arr.reshape(-1,10) #-1 will find appropriate values of rows\n",
    "arr"
   ]
  },
  {
   "cell_type": "code",
   "execution_count": 45,
   "id": "eeae5807-da96-47d9-9ebb-b9d8cb4761bc",
   "metadata": {},
   "outputs": [
    {
     "data": {
      "text/plain": [
       "array([6, 9, 6, 1, 1])"
      ]
     },
     "execution_count": 45,
     "metadata": {},
     "output_type": "execute_result"
    }
   ],
   "source": [
    "np.random.seed(1)\n",
    "arr = np.random.randint(1,10,5)\n",
    "arr"
   ]
  },
  {
   "cell_type": "code",
   "execution_count": null,
   "id": "fb054cc0-9026-4a84-bd88-a69439f2ed35",
   "metadata": {},
   "outputs": [],
   "source": [
    "arr[0]     #6\n",
    "arr[3]     #1\n",
    "arr[-3:]   #array([6, 1, 1])\n",
    "arr[:]     #array([6, 9, 6, 1, 1])\n",
    "arr[1:4]   #array([9, 6, 1])\n",
    "arr[1:4:2] #array([9, 1])\n",
    "arr[::-1]  #array([1, 1, 6, 9, 6])"
   ]
  },
  {
   "cell_type": "markdown",
   "id": "3b0ad37b-f450-41e5-924e-1490de8c6d26",
   "metadata": {},
   "source": [
    "## Indexing and slicing of 2-d array"
   ]
  },
  {
   "cell_type": "code",
   "execution_count": 47,
   "id": "7f85e748-698c-425f-ae53-3dcb84972363",
   "metadata": {},
   "outputs": [
    {
     "data": {
      "text/plain": [
       "array([[1, 2, 3],\n",
       "       [4, 5, 6],\n",
       "       [7, 8, 9]])"
      ]
     },
     "execution_count": 47,
     "metadata": {},
     "output_type": "execute_result"
    }
   ],
   "source": [
    "matrix = np.array([[1,2,3],[4,5,6],[7,8,9]])\n",
    "matrix"
   ]
  },
  {
   "cell_type": "code",
   "execution_count": 48,
   "id": "b9ce3731-eab4-45d5-ac05-6668c8638ec7",
   "metadata": {},
   "outputs": [
    {
     "data": {
      "text/plain": [
       "5"
      ]
     },
     "execution_count": 48,
     "metadata": {},
     "output_type": "execute_result"
    }
   ],
   "source": [
    "# indexing, single bracket notation\n",
    "matrix[0][2] #3\n",
    "matrix[1][1] #5 "
   ]
  },
  {
   "cell_type": "code",
   "execution_count": 49,
   "id": "0b4985fd-e805-4dbb-bf12-142ed323ed95",
   "metadata": {},
   "outputs": [
    {
     "data": {
      "text/plain": [
       "5"
      ]
     },
     "execution_count": 49,
     "metadata": {},
     "output_type": "execute_result"
    }
   ],
   "source": [
    "# indexing, double bracket notation\n",
    "matrix[0,2] #3\n",
    "matrix[1,1] #5"
   ]
  },
  {
   "cell_type": "code",
   "execution_count": 50,
   "id": "e4719415-e938-4776-9758-fb5dd5dfc740",
   "metadata": {},
   "outputs": [
    {
     "data": {
      "text/plain": [
       "array([[1, 2, 3],\n",
       "       [4, 5, 6],\n",
       "       [7, 8, 9]])"
      ]
     },
     "execution_count": 50,
     "metadata": {},
     "output_type": "execute_result"
    }
   ],
   "source": [
    "matrix"
   ]
  },
  {
   "cell_type": "code",
   "execution_count": 51,
   "id": "9964fd04-da5e-4897-9fb4-2c04b5e07bab",
   "metadata": {},
   "outputs": [
    {
     "data": {
      "text/plain": [
       "array([[1, 2],\n",
       "       [4, 5]])"
      ]
     },
     "execution_count": 51,
     "metadata": {},
     "output_type": "execute_result"
    }
   ],
   "source": [
    "matrix[:2,:2]"
   ]
  },
  {
   "cell_type": "code",
   "execution_count": 52,
   "id": "211da5de-4eae-47e7-97fb-8fd6c8f6ae87",
   "metadata": {},
   "outputs": [
    {
     "data": {
      "text/plain": [
       "array([[5, 6],\n",
       "       [8, 9]])"
      ]
     },
     "execution_count": 52,
     "metadata": {},
     "output_type": "execute_result"
    }
   ],
   "source": [
    "matrix[1:,1:]"
   ]
  },
  {
   "cell_type": "markdown",
   "id": "8dbbd5e6-9ad3-4a87-b915-4a1e32337fc0",
   "metadata": {},
   "source": [
    "## Conditional selection"
   ]
  },
  {
   "cell_type": "code",
   "execution_count": 53,
   "id": "2228f150-9c35-49ab-b41e-6f825de745a9",
   "metadata": {},
   "outputs": [
    {
     "data": {
      "text/plain": [
       "array([ 1,  2,  3,  4,  5,  6,  7,  8,  9, 10])"
      ]
     },
     "execution_count": 53,
     "metadata": {},
     "output_type": "execute_result"
    }
   ],
   "source": [
    "arr = np.arange(1,11)\n",
    "arr"
   ]
  },
  {
   "cell_type": "code",
   "execution_count": 54,
   "id": "7cfaf00b-225a-48d9-acdc-081c132571ba",
   "metadata": {},
   "outputs": [
    {
     "data": {
      "text/plain": [
       "array([False, False, False, False, False,  True,  True,  True,  True,\n",
       "        True])"
      ]
     },
     "execution_count": 54,
     "metadata": {},
     "output_type": "execute_result"
    }
   ],
   "source": [
    "arr>5"
   ]
  },
  {
   "cell_type": "code",
   "execution_count": 55,
   "id": "4b41737e-ff29-475e-8b07-c24e8c282c78",
   "metadata": {},
   "outputs": [
    {
     "data": {
      "text/plain": [
       "array([ 6,  7,  8,  9, 10])"
      ]
     },
     "execution_count": 55,
     "metadata": {},
     "output_type": "execute_result"
    }
   ],
   "source": [
    "arr[arr>5]"
   ]
  },
  {
   "cell_type": "code",
   "execution_count": 56,
   "id": "3d0815b5-1709-4a8e-8a00-5565229f987b",
   "metadata": {},
   "outputs": [
    {
     "data": {
      "text/plain": [
       "array([ 2,  4,  6,  8, 10])"
      ]
     },
     "execution_count": 56,
     "metadata": {},
     "output_type": "execute_result"
    }
   ],
   "source": [
    "# conditional selection\n",
    "arr[arr%2==0]"
   ]
  },
  {
   "cell_type": "code",
   "execution_count": 58,
   "id": "c5d30dbe-ad09-4c40-bc18-c3f41a617105",
   "metadata": {},
   "outputs": [
    {
     "data": {
      "text/plain": [
       "array([1, 0, 1, 0, 1, 0, 1, 0, 1, 0])"
      ]
     },
     "execution_count": 58,
     "metadata": {},
     "output_type": "execute_result"
    }
   ],
   "source": [
    "arr[arr%2==0] = 0\n",
    "arr[arr%2==1] = 1\n",
    "arr"
   ]
  },
  {
   "cell_type": "markdown",
   "id": "f4578938-4d49-4bfc-93fa-a350b2ab1b3f",
   "metadata": {},
   "source": [
    "## NumPy operations with scaler "
   ]
  },
  {
   "cell_type": "code",
   "execution_count": 59,
   "id": "5f39ef48-1d97-4072-9d9a-9fb85dcf68e4",
   "metadata": {},
   "outputs": [
    {
     "data": {
      "text/plain": [
       "array([1, 2, 3, 4])"
      ]
     },
     "execution_count": 59,
     "metadata": {},
     "output_type": "execute_result"
    }
   ],
   "source": [
    "# scaler operation will be performed with all elements of array\n",
    "arr = np.array([1,2,3,4])\n",
    "arr"
   ]
  },
  {
   "cell_type": "code",
   "execution_count": 60,
   "id": "bef6cf94-f9cb-4764-ac3c-fab8b24e66b6",
   "metadata": {},
   "outputs": [
    {
     "data": {
      "text/plain": [
       "array([2, 4, 6, 8])"
      ]
     },
     "execution_count": 60,
     "metadata": {},
     "output_type": "execute_result"
    }
   ],
   "source": [
    "arr * 2"
   ]
  },
  {
   "cell_type": "code",
   "execution_count": 61,
   "id": "9550b732-98b3-47ab-b613-0479d9e1e33b",
   "metadata": {},
   "outputs": [
    {
     "data": {
      "text/plain": [
       "array([1, 2, 3, 4])"
      ]
     },
     "execution_count": 61,
     "metadata": {},
     "output_type": "execute_result"
    }
   ],
   "source": [
    "arr"
   ]
  },
  {
   "cell_type": "code",
   "execution_count": 62,
   "id": "523ea24e-c003-4408-8c27-2d73c4104087",
   "metadata": {},
   "outputs": [
    {
     "data": {
      "text/plain": [
       "array([6, 7, 8, 9])"
      ]
     },
     "execution_count": 62,
     "metadata": {},
     "output_type": "execute_result"
    }
   ],
   "source": [
    "arr + 5"
   ]
  },
  {
   "cell_type": "code",
   "execution_count": 63,
   "id": "5e0034c1-d385-46af-8253-c6c42ee3f79a",
   "metadata": {},
   "outputs": [
    {
     "data": {
      "text/plain": [
       "array([ 1,  4,  9, 16])"
      ]
     },
     "execution_count": 63,
     "metadata": {},
     "output_type": "execute_result"
    }
   ],
   "source": [
    "arr ** 2"
   ]
  },
  {
   "cell_type": "code",
   "execution_count": 66,
   "id": "172cd8ff-012b-4d21-98dc-4fc38b3c1895",
   "metadata": {},
   "outputs": [
    {
     "name": "stdout",
     "output_type": "stream",
     "text": [
      "[1 2 3 4]\n"
     ]
    }
   ],
   "source": [
    "print(arr // 1)"
   ]
  },
  {
   "cell_type": "code",
   "execution_count": 65,
   "id": "8d95b51e-9ec6-430f-960b-ba248ad584e7",
   "metadata": {},
   "outputs": [
    {
     "name": "stderr",
     "output_type": "stream",
     "text": [
      "C:\\Users\\hasee\\AppData\\Local\\Temp\\ipykernel_8832\\3942562399.py:1: RuntimeWarning: divide by zero encountered in divide\n",
      "  arr / 0\n"
     ]
    },
    {
     "data": {
      "text/plain": [
       "array([inf, inf, inf, inf])"
      ]
     },
     "execution_count": 65,
     "metadata": {},
     "output_type": "execute_result"
    }
   ],
   "source": [
    "arr / 0"
   ]
  },
  {
   "cell_type": "markdown",
   "id": "248e1136-ebff-431a-88c4-7651e79abece",
   "metadata": {},
   "source": [
    "## Operations on two or more arrays "
   ]
  },
  {
   "cell_type": "code",
   "execution_count": 67,
   "id": "0344fad5-1a60-4b38-b5b9-5344c91ab34b",
   "metadata": {},
   "outputs": [],
   "source": [
    "arr1 = np.array([1,2,3,4])\n",
    "# arr2 = np.array([5,6,7]) # due to unmatched shape, error will occure while perfoming operations\n",
    "arr2 = np.array([5,6,7,8])\n",
    "arr3 = np.array([9,10,11,12])"
   ]
  },
  {
   "cell_type": "code",
   "execution_count": 68,
   "id": "f012835a-a6ef-40b5-bbd1-456947d1fae5",
   "metadata": {},
   "outputs": [
    {
     "data": {
      "text/plain": [
       "array([ 5, 12, 21, 32])"
      ]
     },
     "execution_count": 68,
     "metadata": {},
     "output_type": "execute_result"
    }
   ],
   "source": [
    "arr1 * arr2"
   ]
  },
  {
   "cell_type": "code",
   "execution_count": 69,
   "id": "fb7f8784-c57b-4b90-a527-53323dbfbb51",
   "metadata": {},
   "outputs": [
    {
     "data": {
      "text/plain": [
       "array([14, 22, 32, 44])"
      ]
     },
     "execution_count": 69,
     "metadata": {},
     "output_type": "execute_result"
    }
   ],
   "source": [
    "arr1 * arr2 + arr3"
   ]
  },
  {
   "cell_type": "code",
   "execution_count": 71,
   "id": "ec3b6da4-ed46-4d45-9cb4-1bc126d7c516",
   "metadata": {},
   "outputs": [],
   "source": [
    "# 2-d matrices\n",
    "np.random.seed(24)\n",
    "matrix1 = np.random.randint(1,15,9).reshape(3,3)\n",
    "matrix2 = np.random.randint(16,30,(3,3))"
   ]
  },
  {
   "cell_type": "code",
   "execution_count": 72,
   "id": "faa548ac-48df-47f0-b120-1fd677c0ee5f",
   "metadata": {},
   "outputs": [
    {
     "data": {
      "text/plain": [
       "array([[ 3,  4,  1],\n",
       "       [ 8,  2,  2],\n",
       "       [ 2,  5, 12]])"
      ]
     },
     "execution_count": 72,
     "metadata": {},
     "output_type": "execute_result"
    }
   ],
   "source": [
    "matrix1"
   ]
  },
  {
   "cell_type": "code",
   "execution_count": 73,
   "id": "f909a269-b81f-445c-9329-e20096fb2a6f",
   "metadata": {},
   "outputs": [
    {
     "data": {
      "text/plain": [
       "array([[20, 19, 18],\n",
       "       [27, 27, 19],\n",
       "       [19, 23, 25]])"
      ]
     },
     "execution_count": 73,
     "metadata": {},
     "output_type": "execute_result"
    }
   ],
   "source": [
    "matrix2"
   ]
  },
  {
   "cell_type": "code",
   "execution_count": 74,
   "id": "3b5f891d-b43b-43dd-992c-a55aee9ea21a",
   "metadata": {},
   "outputs": [
    {
     "data": {
      "text/plain": [
       "array([[ 60,  76,  18],\n",
       "       [216,  54,  38],\n",
       "       [ 38, 115, 300]])"
      ]
     },
     "execution_count": 74,
     "metadata": {},
     "output_type": "execute_result"
    }
   ],
   "source": [
    "matrix1 * matrix2"
   ]
  },
  {
   "cell_type": "code",
   "execution_count": 75,
   "id": "6a3d60e1-2bb7-4bf3-b100-d77f2c65388e",
   "metadata": {},
   "outputs": [
    {
     "data": {
      "text/plain": [
       "array([[187, 188, 155],\n",
       "       [252, 252, 232],\n",
       "       [403, 449, 431]])"
      ]
     },
     "execution_count": 75,
     "metadata": {},
     "output_type": "execute_result"
    }
   ],
   "source": [
    "# according to linear algabra\n",
    "matrix1.dot(matrix2)"
   ]
  },
  {
   "cell_type": "markdown",
   "id": "733f65cd-968a-4b1c-8ace-7b31e16d214f",
   "metadata": {},
   "source": [
    "## useful numpy fuctions "
   ]
  },
  {
   "cell_type": "code",
   "execution_count": 76,
   "id": "528d3991-f96b-4750-8e25-e4205d73a841",
   "metadata": {},
   "outputs": [
    {
     "data": {
      "text/plain": [
       "array([ 2, 80,  1, 97,  5])"
      ]
     },
     "execution_count": 76,
     "metadata": {},
     "output_type": "execute_result"
    }
   ],
   "source": [
    "arr = np.array([2,80,1,97,5])\n",
    "arr"
   ]
  },
  {
   "cell_type": "code",
   "execution_count": 77,
   "id": "8313272c-3f11-432a-823e-67046de27047",
   "metadata": {},
   "outputs": [
    {
     "data": {
      "text/plain": [
       "1"
      ]
     },
     "execution_count": 77,
     "metadata": {},
     "output_type": "execute_result"
    }
   ],
   "source": [
    "np.min(arr) #to find minimum element of array"
   ]
  },
  {
   "cell_type": "code",
   "execution_count": 78,
   "id": "ce399c95-f6ea-452e-b688-91d7f8dfad50",
   "metadata": {},
   "outputs": [
    {
     "data": {
      "text/plain": [
       "97"
      ]
     },
     "execution_count": 78,
     "metadata": {},
     "output_type": "execute_result"
    }
   ],
   "source": [
    "np.max(arr) #to find minimum element of array"
   ]
  },
  {
   "cell_type": "code",
   "execution_count": 79,
   "id": "758d67c6-a763-4c5d-97b1-5e1f71295284",
   "metadata": {},
   "outputs": [
    {
     "data": {
      "text/plain": [
       "2"
      ]
     },
     "execution_count": 79,
     "metadata": {},
     "output_type": "execute_result"
    }
   ],
   "source": [
    "np.argmin(arr) #to find location of minmum element"
   ]
  },
  {
   "cell_type": "code",
   "execution_count": 80,
   "id": "4f852d20-d695-412b-89c7-16d2aa200cc5",
   "metadata": {},
   "outputs": [
    {
     "data": {
      "text/plain": [
       "3"
      ]
     },
     "execution_count": 80,
     "metadata": {},
     "output_type": "execute_result"
    }
   ],
   "source": [
    "np.argmax(arr) #to find location of maximum element"
   ]
  },
  {
   "cell_type": "code",
   "execution_count": 81,
   "id": "645b72dc-54ea-4910-8a6f-45b61cd6137d",
   "metadata": {},
   "outputs": [
    {
     "data": {
      "text/plain": [
       "array([ 0.90929743, -0.99388865,  0.84147098,  0.37960774, -0.95892427])"
      ]
     },
     "execution_count": 81,
     "metadata": {},
     "output_type": "execute_result"
    }
   ],
   "source": [
    "np.sin(arr)"
   ]
  },
  {
   "cell_type": "code",
   "execution_count": 82,
   "id": "e016e9a6-8537-4894-a496-d6386dc5fdba",
   "metadata": {},
   "outputs": [
    {
     "data": {
      "text/plain": [
       "array([-0.41614684, -0.11038724,  0.54030231, -0.92514754,  0.28366219])"
      ]
     },
     "execution_count": 82,
     "metadata": {},
     "output_type": "execute_result"
    }
   ],
   "source": [
    "np.cos(arr)"
   ]
  },
  {
   "cell_type": "code",
   "execution_count": 83,
   "id": "832e7f77-03f7-4735-a40b-1cbcea73149e",
   "metadata": {},
   "outputs": [
    {
     "data": {
      "text/plain": [
       "array([ True,  True,  True, False])"
      ]
     },
     "execution_count": 83,
     "metadata": {},
     "output_type": "execute_result"
    }
   ],
   "source": [
    "arr2 = np.array([1,2,3,0],dtype='bool') # non-zero elements will become True\n",
    "arr2"
   ]
  },
  {
   "cell_type": "code",
   "execution_count": 84,
   "id": "6204b00c-98b0-4291-beda-803172aca1a8",
   "metadata": {},
   "outputs": [
    {
     "data": {
      "text/plain": [
       "array([[ 2, 11, 11],\n",
       "       [10,  7,  6],\n",
       "       [ 5,  4,  6]])"
      ]
     },
     "execution_count": 84,
     "metadata": {},
     "output_type": "execute_result"
    }
   ],
   "source": [
    "np.random.seed(34)\n",
    "matrix = np.random.randint(1,15,(3,3))\n",
    "matrix"
   ]
  },
  {
   "cell_type": "code",
   "execution_count": 85,
   "id": "628b9048-6b39-40ed-8d99-a0408f4a48e9",
   "metadata": {},
   "outputs": [
    {
     "data": {
      "text/plain": [
       "62"
      ]
     },
     "execution_count": 85,
     "metadata": {},
     "output_type": "execute_result"
    }
   ],
   "source": [
    "matrix.sum()\n",
    "# or\n",
    "np.sum(matrix)"
   ]
  },
  {
   "cell_type": "code",
   "execution_count": 86,
   "id": "484d7be2-f984-4f92-a2ca-9b9fb96c7916",
   "metadata": {},
   "outputs": [
    {
     "data": {
      "text/plain": [
       "array([2, 6, 4])"
      ]
     },
     "execution_count": 86,
     "metadata": {},
     "output_type": "execute_result"
    }
   ],
   "source": [
    "# rows = 1, coloumns = 0\n",
    "np.min(matrix, axis=1) #min of each row"
   ]
  },
  {
   "cell_type": "code",
   "execution_count": 87,
   "id": "e3064528-8778-4a9e-a981-dc407f216736",
   "metadata": {},
   "outputs": [
    {
     "data": {
      "text/plain": [
       "array([11, 10,  6])"
      ]
     },
     "execution_count": 87,
     "metadata": {},
     "output_type": "execute_result"
    }
   ],
   "source": [
    "np.max(matrix, axis=1) #max of each row"
   ]
  },
  {
   "cell_type": "code",
   "execution_count": 88,
   "id": "60dda983-4a4e-413d-a522-a48210c7da02",
   "metadata": {},
   "outputs": [
    {
     "data": {
      "text/plain": [
       "array([24, 23, 15])"
      ]
     },
     "execution_count": 88,
     "metadata": {},
     "output_type": "execute_result"
    }
   ],
   "source": [
    "np.sum(matrix, axis=1) #sum of each row"
   ]
  },
  {
   "cell_type": "code",
   "execution_count": 89,
   "id": "0b768989-34f5-436b-9124-39014a6b4cf0",
   "metadata": {},
   "outputs": [
    {
     "data": {
      "text/plain": [
       "array([17, 22, 23])"
      ]
     },
     "execution_count": 89,
     "metadata": {},
     "output_type": "execute_result"
    }
   ],
   "source": [
    "np.sum(matrix, axis=0) #sum of each row"
   ]
  },
  {
   "cell_type": "code",
   "execution_count": 90,
   "id": "431dba5b-4052-4239-8e82-bede9dbe59ae",
   "metadata": {},
   "outputs": [
    {
     "data": {
      "text/plain": [
       "array([ 2, 13, 24, 34, 41, 47, 52, 56, 62])"
      ]
     },
     "execution_count": 90,
     "metadata": {},
     "output_type": "execute_result"
    }
   ],
   "source": [
    "#cumulative sum\n",
    "matrix.cumsum()"
   ]
  },
  {
   "cell_type": "code",
   "execution_count": 91,
   "id": "5ca3241f-0ca9-422b-8381-021ff641aa9a",
   "metadata": {},
   "outputs": [
    {
     "data": {
      "text/plain": [
       "array([242, 420, 120])"
      ]
     },
     "execution_count": 91,
     "metadata": {},
     "output_type": "execute_result"
    }
   ],
   "source": [
    "np.prod(matrix, axis=1) #product of each row"
   ]
  },
  {
   "cell_type": "markdown",
   "id": "5b047bd2-4598-4995-b937-ecc46f83849d",
   "metadata": {},
   "source": [
    "## Shuffle and Unique"
   ]
  },
  {
   "cell_type": "code",
   "execution_count": 92,
   "id": "55ac4701-6ff8-4490-b0a6-23ef4ce97d8b",
   "metadata": {},
   "outputs": [
    {
     "data": {
      "text/plain": [
       "array([ 2, 11, 11, 10,  7,  6,  5,  4,  6, 12, 11, 14,  3, 14, 10])"
      ]
     },
     "execution_count": 92,
     "metadata": {},
     "output_type": "execute_result"
    }
   ],
   "source": [
    "np.random.seed(34)\n",
    "arr = np.random.randint(1,15,15)\n",
    "arr"
   ]
  },
  {
   "cell_type": "code",
   "execution_count": 93,
   "id": "1b233f7d-42a6-4567-ad16-d82fd2475cc9",
   "metadata": {},
   "outputs": [
    {
     "data": {
      "text/plain": [
       "array([ 4, 11, 11, 10, 12, 10, 11,  2, 14,  7,  3,  6,  5, 14,  6])"
      ]
     },
     "execution_count": 93,
     "metadata": {},
     "output_type": "execute_result"
    }
   ],
   "source": [
    "np.random.shuffle(arr)\n",
    "arr"
   ]
  },
  {
   "cell_type": "code",
   "execution_count": 94,
   "id": "3d823ee5-62fa-4f76-a438-8a0416d12341",
   "metadata": {},
   "outputs": [
    {
     "data": {
      "text/plain": [
       "array([ 2,  3,  4,  5,  6,  7, 10, 11, 12, 14])"
      ]
     },
     "execution_count": 94,
     "metadata": {},
     "output_type": "execute_result"
    }
   ],
   "source": [
    "np.unique(arr) #array of unique numbers  in sorted form"
   ]
  },
  {
   "cell_type": "code",
   "execution_count": 95,
   "id": "8edd16b7-9f31-4782-821c-f315245fd3f9",
   "metadata": {},
   "outputs": [
    {
     "data": {
      "text/plain": [
       "10"
      ]
     },
     "execution_count": 95,
     "metadata": {},
     "output_type": "execute_result"
    }
   ],
   "source": [
    "np.unique(arr).size"
   ]
  },
  {
   "cell_type": "markdown",
   "id": "1f656a18-9f45-47ce-b165-79a58b502ae2",
   "metadata": {},
   "source": [
    "## Horizontal and Vertical Stacking "
   ]
  },
  {
   "cell_type": "code",
   "execution_count": 96,
   "id": "aefc8594-e3f8-4430-a660-858602d79d5d",
   "metadata": {},
   "outputs": [],
   "source": [
    "np.random.seed(123)\n",
    "matrix1 = np.random.randint(1,20,9).reshape(3,3)\n",
    "matrix2 = np.random.randint(20,40,9).reshape(3,3)"
   ]
  },
  {
   "cell_type": "code",
   "execution_count": 102,
   "id": "1910e3f4-8e55-4ca4-a1f1-3516e9b855ef",
   "metadata": {},
   "outputs": [],
   "source": [
    "# matrix1"
   ]
  },
  {
   "cell_type": "code",
   "execution_count": 101,
   "id": "21b2a912-b974-4a93-a6f9-aff6a9333a05",
   "metadata": {},
   "outputs": [],
   "source": [
    "# matrix2"
   ]
  },
  {
   "cell_type": "code",
   "execution_count": 99,
   "id": "ef998b7c-d8d0-433c-9b31-5d0ff2bc78f4",
   "metadata": {},
   "outputs": [
    {
     "data": {
      "text/plain": [
       "array([[14,  3,  3, 35, 29, 20],\n",
       "       [ 7, 18, 11, 34, 20, 35],\n",
       "       [ 2,  1, 18, 39, 34, 24]])"
      ]
     },
     "execution_count": 99,
     "metadata": {},
     "output_type": "execute_result"
    }
   ],
   "source": [
    "np.hstack((matrix1,matrix2))"
   ]
  },
  {
   "cell_type": "code",
   "execution_count": 100,
   "id": "368fa3dc-7599-4d37-b3d5-d554f5a0eb38",
   "metadata": {},
   "outputs": [
    {
     "data": {
      "text/plain": [
       "array([[14,  3,  3],\n",
       "       [ 7, 18, 11],\n",
       "       [ 2,  1, 18],\n",
       "       [35, 29, 20],\n",
       "       [34, 20, 35],\n",
       "       [39, 34, 24]])"
      ]
     },
     "execution_count": 100,
     "metadata": {},
     "output_type": "execute_result"
    }
   ],
   "source": [
    "np.vstack((matrix1,matrix2))"
   ]
  },
  {
   "cell_type": "markdown",
   "id": "87778a58-cf98-4b86-a0c2-738fe87fb394",
   "metadata": {},
   "source": [
    "## Exercise "
   ]
  },
  {
   "cell_type": "code",
   "execution_count": null,
   "id": "726ad41a-3f83-4c0c-8e71-7d645117a513",
   "metadata": {},
   "outputs": [],
   "source": [
    "# Import numpy library\n",
    "# Create an array using array function\n",
    "# Create an array containing numbers from 20 to 40\n",
    "# Create an array which cantain 10 elements and every element is 5\n",
    "# Create a 1-d array and then convert it into 3-d array\n",
    "# Create 2-d array which contains 25 random numbers between 0 and 1\n",
    "# Create array containing 20 random integers then replace every even number with -1\n",
    "\n",
    "# you have a matrix \n",
    "# ([35, 29, 20],\n",
    "#  [34, 20, 35],\n",
    "#  [39, 34, 24]])\n",
    "#Extract\n",
    "#  [34, 20],\n",
    "#  [39, 34]\n",
    "\n",
    "# Concatinate two 1-d arrays\n",
    "# Stack 2-d matrix horizontally and vertically"
   ]
  },
  {
   "cell_type": "code",
   "execution_count": 103,
   "id": "c7c927e7-17a1-4be0-8ac1-24bfe05702ef",
   "metadata": {},
   "outputs": [
    {
     "data": {
      "text/plain": [
       "array([1, 2, 3])"
      ]
     },
     "execution_count": 103,
     "metadata": {},
     "output_type": "execute_result"
    }
   ],
   "source": [
    "# Create an array using array function \n",
    "arr = np.array([1,2,3])\n",
    "arr"
   ]
  },
  {
   "cell_type": "code",
   "execution_count": 104,
   "id": "d4baea42-e650-49e7-93dc-74d82ad6d598",
   "metadata": {},
   "outputs": [
    {
     "data": {
      "text/plain": [
       "array([20, 21, 22, 23, 24, 25, 26, 27, 28, 29, 30, 31, 32, 33, 34, 35, 36,\n",
       "       37, 38, 39, 40])"
      ]
     },
     "execution_count": 104,
     "metadata": {},
     "output_type": "execute_result"
    }
   ],
   "source": [
    "# Create an array containing numbers from 20 to 40 \n",
    "arr2 = np.arange(20,41)\n",
    "arr2"
   ]
  },
  {
   "cell_type": "code",
   "execution_count": 105,
   "id": "61f5da14-9efa-4dac-a833-917f064c7852",
   "metadata": {},
   "outputs": [
    {
     "data": {
      "text/plain": [
       "array([5., 5., 5., 5., 5., 5., 5., 5., 5., 5.])"
      ]
     },
     "execution_count": 105,
     "metadata": {},
     "output_type": "execute_result"
    }
   ],
   "source": [
    "# Create an array which cantain 10 elements and every element is 5 \n",
    "fives = np.ones(10) * 5\n",
    "fives"
   ]
  },
  {
   "cell_type": "code",
   "execution_count": 107,
   "id": "d6170aa3-baaf-458d-92c7-d26ec80176cb",
   "metadata": {},
   "outputs": [
    {
     "data": {
      "text/plain": [
       "array([[[ 3, 21, 16]],\n",
       "\n",
       "       [[25, 17,  8]],\n",
       "\n",
       "       [[10,  4, 29]]])"
      ]
     },
     "execution_count": 107,
     "metadata": {},
     "output_type": "execute_result"
    }
   ],
   "source": [
    "# Create a 1-d array and then convert it into 3-d array\n",
    "arr3 = np.random.randint(1,30,9).reshape(3,1,3)\n",
    "arr3"
   ]
  },
  {
   "cell_type": "code",
   "execution_count": 108,
   "id": "0680bc7f-7c87-4b15-b799-8fb204107f64",
   "metadata": {},
   "outputs": [
    {
     "data": {
      "text/plain": [
       "array([[0.35772892, 0.41720995, 0.65472131, 0.37380143, 0.23451288],\n",
       "       [0.98799529, 0.76599595, 0.77700444, 0.02798196, 0.17390652],\n",
       "       [0.15408224, 0.07708648, 0.8898657 , 0.7503787 , 0.69340324],\n",
       "       [0.51176338, 0.46426806, 0.56843069, 0.30254945, 0.49730879],\n",
       "       [0.68326291, 0.91669867, 0.10892895, 0.49549179, 0.23283593]])"
      ]
     },
     "execution_count": 108,
     "metadata": {},
     "output_type": "execute_result"
    }
   ],
   "source": [
    "# Create 2-d array which contains 25 random numbers between 0 and 1 \n",
    "arr4 = np.random.rand(5,5)\n",
    "arr4"
   ]
  },
  {
   "cell_type": "code",
   "execution_count": 109,
   "id": "c22dc2bb-bde5-4947-9d58-6fa7e29022fb",
   "metadata": {},
   "outputs": [
    {
     "data": {
      "text/plain": [
       "array([21, 13, 19, -1, -1, 45, -1, 49, -1, 23, -1, -1, -1, -1, -1, -1, -1,\n",
       "       35, -1, -1])"
      ]
     },
     "execution_count": 109,
     "metadata": {},
     "output_type": "execute_result"
    }
   ],
   "source": [
    "# Create array containing 20 random integers then replace every even number with -1\n",
    "arr5 = np.random.randint(1,50,20)\n",
    "arr5[arr5%2==0] = -1\n",
    "arr5"
   ]
  },
  {
   "cell_type": "code",
   "execution_count": 110,
   "id": "cc4b5263-0949-43e1-a6b7-0293630ceefb",
   "metadata": {},
   "outputs": [
    {
     "data": {
      "text/plain": [
       "array([[33, 22, 22],\n",
       "       [26, 37, 39],\n",
       "       [30, 21, 20]])"
      ]
     },
     "execution_count": 110,
     "metadata": {},
     "output_type": "execute_result"
    }
   ],
   "source": [
    "np.random.seed(123)\n",
    "matrix = np.random.randint(20,40,9).reshape(3,3)\n",
    "matrix"
   ]
  },
  {
   "cell_type": "code",
   "execution_count": 111,
   "id": "21d04c68-0f8c-4a7c-8f61-a52f84491fa0",
   "metadata": {},
   "outputs": [
    {
     "data": {
      "text/plain": [
       "array([[26, 37],\n",
       "       [30, 21]])"
      ]
     },
     "execution_count": 111,
     "metadata": {},
     "output_type": "execute_result"
    }
   ],
   "source": [
    "matrix[1:,0:2]"
   ]
  },
  {
   "cell_type": "code",
   "execution_count": 113,
   "id": "daa69efb-18e6-472a-9505-a4af6f458c56",
   "metadata": {},
   "outputs": [
    {
     "data": {
      "text/plain": [
       "array([1, 2, 3, 4, 5, 6])"
      ]
     },
     "execution_count": 113,
     "metadata": {},
     "output_type": "execute_result"
    }
   ],
   "source": [
    "# Concatinate two 1-d arrays\n",
    "arr1=np.array([1,2,3])\n",
    "arr2=np.array([4,5,6])\n",
    "np.hstack((arr1,arr2))"
   ]
  },
  {
   "cell_type": "code",
   "execution_count": 114,
   "id": "dd448ab1-dc11-4193-830c-21032ef6210c",
   "metadata": {},
   "outputs": [
    {
     "data": {
      "text/plain": [
       "array([[1, 2, 3],\n",
       "       [4, 5, 6]])"
      ]
     },
     "execution_count": 114,
     "metadata": {},
     "output_type": "execute_result"
    }
   ],
   "source": [
    "np.vstack((arr1,arr2))"
   ]
  },
  {
   "cell_type": "code",
   "execution_count": 115,
   "id": "b0201b13-bc20-47b3-8de5-479210f3a76a",
   "metadata": {},
   "outputs": [],
   "source": [
    "# Stack 2-d matrix horizontally and vertically \n",
    "np.random.seed(123)\n",
    "matrix1 = np.random.randint(1,20,9).reshape(3,3)\n",
    "matrix2 = np.random.randint(20,40,9).reshape(3,3)"
   ]
  },
  {
   "cell_type": "code",
   "execution_count": 116,
   "id": "71929a9a-c01c-4b6b-9c1c-6f54698d677b",
   "metadata": {},
   "outputs": [
    {
     "data": {
      "text/plain": [
       "array([[14,  3,  3, 35, 29, 20],\n",
       "       [ 7, 18, 11, 34, 20, 35],\n",
       "       [ 2,  1, 18, 39, 34, 24]])"
      ]
     },
     "execution_count": 116,
     "metadata": {},
     "output_type": "execute_result"
    }
   ],
   "source": [
    "np.hstack((matrix1,matrix2))"
   ]
  },
  {
   "cell_type": "code",
   "execution_count": 117,
   "id": "39f22361-4023-4c52-93d7-fc21ab15970c",
   "metadata": {},
   "outputs": [
    {
     "data": {
      "text/plain": [
       "array([[14,  3,  3],\n",
       "       [ 7, 18, 11],\n",
       "       [ 2,  1, 18],\n",
       "       [35, 29, 20],\n",
       "       [34, 20, 35],\n",
       "       [39, 34, 24]])"
      ]
     },
     "execution_count": 117,
     "metadata": {},
     "output_type": "execute_result"
    }
   ],
   "source": [
    "np.vstack((matrix1,matrix2))"
   ]
  },
  {
   "cell_type": "markdown",
   "id": "fae5b1c1-0a20-4f2b-8f9e-b93632345ddb",
   "metadata": {},
   "source": [
    "## Numpy Arrays vs Python List"
   ]
  },
  {
   "cell_type": "code",
   "execution_count": 119,
   "id": "c462ef4a-a4c2-47f9-a83b-caa9574c97b2",
   "metadata": {},
   "outputs": [
    {
     "name": "stdout",
     "output_type": "stream",
     "text": [
      "14.5 ns ± 0.323 ns per loop (mean ± std. dev. of 7 runs, 10,000,000 loops each)\n"
     ]
    }
   ],
   "source": [
    "%timeit 7+3"
   ]
  },
  {
   "cell_type": "code",
   "execution_count": 120,
   "id": "1c85c05b-31fb-40ba-bbcf-b00685baa50b",
   "metadata": {},
   "outputs": [
    {
     "name": "stdout",
     "output_type": "stream",
     "text": [
      "151 ms ± 10.1 ms per loop (mean ± std. dev. of 7 runs, 1 loop each)\n"
     ]
    }
   ],
   "source": [
    "%timeit [i**2 for i in range(1,1000000)]"
   ]
  },
  {
   "cell_type": "code",
   "execution_count": 121,
   "id": "404ea2ad-4efe-41b6-a191-09d24f55ce4b",
   "metadata": {},
   "outputs": [
    {
     "name": "stdout",
     "output_type": "stream",
     "text": [
      "4.5 ms ± 72.5 μs per loop (mean ± std. dev. of 7 runs, 100 loops each)\n"
     ]
    }
   ],
   "source": [
    "%timeit np.arange(1,1000000)**2"
   ]
  },
  {
   "cell_type": "markdown",
   "id": "f113f18f-9512-4d85-beda-56aec6534497",
   "metadata": {},
   "source": [
    "#### Scenario:\n",
    "---\n",
    "You are hired as a <b>Data Analyst</b> for a supermarket chain.   \n",
    "You are given <b>sales data</b> of different products from multiple branches in the form of NumPy arrays.   \n",
    "Your job is to perform <b>basic analysis</b> to help the business understand their performance."
   ]
  },
  {
   "cell_type": "code",
   "execution_count": null,
   "id": "eec70bc1-7f70-43f6-b4de-671004a12f16",
   "metadata": {},
   "outputs": [],
   "source": [
    "# Branch names\n",
    "branches = np.array(['North', 'South', 'East', 'West'])\n",
    "# Products sold in 4 branches (rows = branches, columns = products)\n",
    "sales = np.array([\n",
    "    [200, 220, 250, 210],   # North\n",
    "    [180, 190, 230, 200],   # South\n",
    "    [210, 215, 240, 220],   # East\n",
    "    [190, 205, 225, 215]    # West\n",
    "])\n",
    "# Prices of 4 products\n",
    "prices = np.array([20, 30, 25, 22])  # in dollars"
   ]
  },
  {
   "cell_type": "markdown",
   "id": "f73cb94d-58a2-4e0d-a0f6-ee908d23bdfa",
   "metadata": {},
   "source": [
    "##### Tasks:\n",
    "1. Total Sales Calculation\n",
    "Find the total items sold by each branch.\n",
    "\n",
    "2. Revenue Calculation\n",
    "Calculate the total revenue for each branch. (Revenue = items sold × price)\n",
    "\n",
    "3. Best Performing Branch\n",
    "Find the branch with the highest total revenue.\n",
    "\n",
    "4. Product Popularity\n",
    "Find out which product is the most sold across all branches.\n",
    "\n",
    "5. Find the percentage contribution of each product in the total sales."
   ]
  },
  {
   "cell_type": "code",
   "execution_count": 123,
   "id": "3fb2d56f-27bb-4b71-b43f-aa5748665ed5",
   "metadata": {},
   "outputs": [],
   "source": [
    "import numpy as np\n",
    "\n",
    "# Data Provided\n",
    "branches = np.array(['North', 'South', 'East', 'West'])\n",
    "\n",
    "sales = np.array([\n",
    "    [200, 220, 250, 210],   # North\n",
    "    [180, 190, 230, 200],   # South\n",
    "    [210, 215, 240, 220],   # East\n",
    "    [190, 205, 225, 215]    # West\n",
    "])\n",
    "\n",
    "prices = np.array([20, 30, 25, 22])  # Price per product"
   ]
  },
  {
   "cell_type": "code",
   "execution_count": 124,
   "id": "f7800fc1-3b2f-4489-acdb-9ad8a18a9875",
   "metadata": {},
   "outputs": [
    {
     "name": "stdout",
     "output_type": "stream",
     "text": [
      "Total items sold by each branch: [880 800 885 835]\n"
     ]
    }
   ],
   "source": [
    "# 1. Total Items Sold by Each Branch\n",
    "total_items_sold = np.sum(sales, axis=1)\n",
    "print(\"Total items sold by each branch:\", total_items_sold)"
   ]
  },
  {
   "cell_type": "code",
   "execution_count": 125,
   "id": "08c18a51-1cf0-4e34-97e7-c1a5daf2674b",
   "metadata": {},
   "outputs": [
    {
     "name": "stdout",
     "output_type": "stream",
     "text": [
      "Total revenue by each branch: [21470 19450 21490 20305]\n"
     ]
    }
   ],
   "source": [
    "# 2. Total Revenue for Each Branch\n",
    "# Revenue per product per branch = sales * prices\n",
    "branch_revenue = np.sum(sales * prices, axis=1)\n",
    "print(\"Total revenue by each branch:\", branch_revenue)"
   ]
  },
  {
   "cell_type": "code",
   "execution_count": 126,
   "id": "3253eeac-ec73-476e-afbc-6f8d10643442",
   "metadata": {},
   "outputs": [
    {
     "name": "stdout",
     "output_type": "stream",
     "text": [
      "Best performing branch: East\n"
     ]
    }
   ],
   "source": [
    "# 3. Best Performing Branch (Highest Revenue)\n",
    "best_branch_index = np.argmax(branch_revenue)\n",
    "best_branch = branches[best_branch_index]\n",
    "print(\"Best performing branch:\", best_branch)"
   ]
  },
  {
   "cell_type": "code",
   "execution_count": 131,
   "id": "043b9825-11f2-4abb-adba-57b821a17ebf",
   "metadata": {},
   "outputs": [
    {
     "name": "stdout",
     "output_type": "stream",
     "text": [
      "[780 830 945 845]\n"
     ]
    }
   ],
   "source": [
    "# 4. Most Sold Product Across All Branches\n",
    "product_sales_total = np.sum(sales, axis=0)\n",
    "most_sold_product_index = np.argmax(product_sales_total)\n",
    "print(\"Most sold product index:\", most_sold_product_index)"
   ]
  },
  {
   "cell_type": "code",
   "execution_count": 133,
   "id": "8c152674-d6d2-4b55-b26e-3011c19967d3",
   "metadata": {},
   "outputs": [
    {
     "name": "stdout",
     "output_type": "stream",
     "text": [
      "3400\n",
      "Product sales percentage: [22.94 24.41 27.79 24.85]\n"
     ]
    }
   ],
   "source": [
    "#5. Percentage Contribution of Each Product in Total Sales\n",
    "total_sales_all = np.sum(product_sales_total)\n",
    "print(total_sales_all)\n",
    "product_percentage = (product_sales_total / total_sales_all) * 100\n",
    "print(\"Product sales percentage:\", np.round(product_percentage, 2))"
   ]
  },
  {
   "cell_type": "code",
   "execution_count": null,
   "id": "3c7f3aeb-c95e-43fc-91f2-7f9b0086265e",
   "metadata": {},
   "outputs": [],
   "source": []
  }
 ],
 "metadata": {
  "kernelspec": {
   "display_name": "Python 3 (ipykernel)",
   "language": "python",
   "name": "python3"
  },
  "language_info": {
   "codemirror_mode": {
    "name": "ipython",
    "version": 3
   },
   "file_extension": ".py",
   "mimetype": "text/x-python",
   "name": "python",
   "nbconvert_exporter": "python",
   "pygments_lexer": "ipython3",
   "version": "3.9.12"
  }
 },
 "nbformat": 4,
 "nbformat_minor": 5
}
