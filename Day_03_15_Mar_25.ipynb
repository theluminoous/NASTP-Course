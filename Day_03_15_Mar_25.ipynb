{
 "cells": [
  {
   "cell_type": "code",
   "execution_count": null,
   "id": "039abab1-a30d-4e1f-b4d4-436b56f920d0",
   "metadata": {},
   "outputs": [],
   "source": [
    "## Exercise\n",
    "\n",
    "# Ask a user for name\n",
    "    # Example: quid-e-azam\n",
    "# Print count of each chracter\n",
    "    # q:1, u:1, a:3, i:1, ……\n",
    "\n",
    "\n",
    "name = input(\"Enter your name: \".lower())\n",
    "for i in name:\n",
    "    print(f\"{i}: {name.count(i)}\")"
   ]
  },
  {
   "cell_type": "code",
   "execution_count": 1,
   "id": "4e39e944-3502-4480-a56f-62c3556e104b",
   "metadata": {},
   "outputs": [
    {
     "name": "stdout",
     "output_type": "stream",
     "text": [
      "Hello world\n"
     ]
    }
   ],
   "source": [
    "## Infinite loop\n",
    "\n",
    "while True:\n",
    "    print(\"Hello world\")\n",
    "    break"
   ]
  },
  {
   "cell_type": "code",
   "execution_count": null,
   "id": "20fdc3c1-9f4f-4423-8bac-dca6330d9405",
   "metadata": {},
   "outputs": [],
   "source": [
    "## Range function\n",
    "# returns a sequence of numbers, \n",
    "    # starting from 0 by default, and \n",
    "    # increments by 1 (by default), and \n",
    "    # stops before a specified number"
   ]
  },
  {
   "cell_type": "code",
   "execution_count": null,
   "id": "1b1a7cad-4c36-41ab-8fc8-571feb77ba4b",
   "metadata": {},
   "outputs": [
    {
     "data": {
      "text/plain": [
       "range(0, 9)"
      ]
     },
     "execution_count": 1,
     "metadata": {},
     "output_type": "execute_result"
    }
   ],
   "source": [
    "range(9) # starting from 0 by default"
   ]
  },
  {
   "cell_type": "code",
   "execution_count": null,
   "id": "b9775c57-221f-4004-866b-7cc8787492fb",
   "metadata": {},
   "outputs": [],
   "source": [
    "# range(1,9) # starting from 1 and stops before a specified number\n",
    "# range(9,1,-1)"
   ]
  },
  {
   "cell_type": "code",
   "execution_count": null,
   "id": "8619c8b8-5131-4a11-94fc-7af88688e52e",
   "metadata": {},
   "outputs": [
    {
     "name": "stdout",
     "output_type": "stream",
     "text": [
      "1: Hellow World\n",
      "2: Hellow World\n",
      "3: Hellow World\n",
      "4: Hellow World\n",
      "5: Hellow World\n",
      "6: Hellow World\n",
      "7: Hellow World\n",
      "8: Hellow World\n",
      "9: Hellow World\n",
      "10: Hellow World\n"
     ]
    }
   ],
   "source": [
    "## For loop\n",
    "\n",
    "# For loop uses the range function\n",
    "\n",
    "for i in range(1,11):            #1 to 10\n",
    "    print(f\"{i}: Hellow World\")"
   ]
  },
  {
   "cell_type": "code",
   "execution_count": null,
   "id": "7b0ca3cd-93d4-4019-b21c-0c8830a625b3",
   "metadata": {},
   "outputs": [
    {
     "name": "stdout",
     "output_type": "stream",
     "text": [
      "0: Hellow World\n",
      "1: Hellow World\n",
      "2: Hellow World\n",
      "3: Hellow World\n",
      "4: Hellow World\n",
      "5: Hellow World\n",
      "6: Hellow World\n",
      "7: Hellow World\n",
      "8: Hellow World\n",
      "9: Hellow World\n"
     ]
    }
   ],
   "source": [
    "for i in range(10):              #0 to 9\n",
    "    print(f\"{i}: Hellow World\")"
   ]
  },
  {
   "cell_type": "code",
   "execution_count": null,
   "id": "e015fad4-1c52-4fd2-b729-89b28e94efa0",
   "metadata": {},
   "outputs": [],
   "source": [
    "## Exercise\n",
    "\n",
    "# Ask from user a natural number\n",
    "# and do sum till that number using for loop\n",
    "#     1+2+3+...."
   ]
  },
  {
   "cell_type": "code",
   "execution_count": null,
   "id": "dd3a697a-8f9f-452d-942b-9b49af73fd5a",
   "metadata": {},
   "outputs": [
    {
     "name": "stdout",
     "output_type": "stream",
     "text": [
      "0\n",
      "1\n",
      "2\n",
      "3\n",
      "4\n"
     ]
    }
   ],
   "source": [
    "## Break\n",
    "# break keyword is used to break the loop\n",
    "\n",
    "for i in range(11):\n",
    "    if i==5:\n",
    "        break         #force loop to stop at 5\n",
    "    print(i)"
   ]
  },
  {
   "cell_type": "code",
   "execution_count": null,
   "id": "d42ee7c7-1697-40c3-ad7c-96d00c315023",
   "metadata": {},
   "outputs": [
    {
     "name": "stdout",
     "output_type": "stream",
     "text": [
      "0\n",
      "1\n",
      "2\n",
      "3\n",
      "4\n",
      "6\n",
      "7\n",
      "8\n",
      "9\n",
      "10\n"
     ]
    }
   ],
   "source": [
    "## Continue\n",
    "# It is use to skip the remaining steps of loop and jump back to start of loop\n",
    "\n",
    "for i in range(11):\n",
    "    if i==5:\n",
    "        continue          #skip 5 to print and jump back\n",
    "    print(i)"
   ]
  },
  {
   "cell_type": "code",
   "execution_count": null,
   "id": "3c29c00d-3306-4188-b125-b5e96fd2da57",
   "metadata": {},
   "outputs": [],
   "source": [
    "## Random Number Generator\n",
    "# To generate random number in Python, randint() function is used. \n",
    "# This function is defined in random module."
   ]
  },
  {
   "cell_type": "code",
   "execution_count": null,
   "id": "743bc3cf-ea61-4166-aaef-babda43d111c",
   "metadata": {},
   "outputs": [],
   "source": [
    "## Program to generate a random number between 0 and 9\n",
    "\n",
    "# importing the random module\n",
    "import random"
   ]
  },
  {
   "cell_type": "code",
   "execution_count": null,
   "id": "5fe293b3-31a0-463b-b0bd-86ef5d044278",
   "metadata": {},
   "outputs": [
    {
     "name": "stdout",
     "output_type": "stream",
     "text": [
      "2\n"
     ]
    }
   ],
   "source": [
    "# integer random numbers in specific range\n",
    "print(random.randint(0,9))"
   ]
  },
  {
   "cell_type": "code",
   "execution_count": null,
   "id": "db8bcd10-0bbb-48aa-bc0c-55ea2876f2ab",
   "metadata": {},
   "outputs": [
    {
     "name": "stdout",
     "output_type": "stream",
     "text": [
      "0.12976525614336798\n"
     ]
    }
   ],
   "source": [
    "## random number between 0 and 1\n",
    "print(random.random())"
   ]
  },
  {
   "cell_type": "code",
   "execution_count": null,
   "id": "9708c4ec-a613-4d79-a68d-e4aa0c9a72dd",
   "metadata": {},
   "outputs": [
    {
     "name": "stdout",
     "output_type": "stream",
     "text": [
      "0.6771258268002703\n"
     ]
    }
   ],
   "source": [
    "## seed function\n",
    "# used to fix random numbers\n",
    "random.seed(19)\n",
    "print(random.random())"
   ]
  },
  {
   "cell_type": "code",
   "execution_count": null,
   "id": "ce5668b6-0dcd-40c2-9a62-4101f58ef6af",
   "metadata": {},
   "outputs": [],
   "source": [
    "## Exercise\n",
    "## Guess number game\n",
    "\n",
    "# Make a variable like 'winning_number' and \n",
    "    # by using random generator assign a number between (1 to 50) to it\n",
    "# Make a variable 'guess_number' and\n",
    "    # Ask user to guess that random number between (1 to 50)\n",
    "# If user guess correctly then print 'you win!!' and amount of total 'tries'\n",
    "# If user doesn’t guess correctly then:\n",
    "    # If user guess lower than actual number then print 'Its lower!!'\n",
    "    # If user guess greater than actual number then print 'It’s greater!!'\n",
    "# user will have 10 tries to guess the correct number\n",
    "# In the case of wrong try, program will again ask to user for guess number through loop"
   ]
  },
  {
   "cell_type": "code",
   "execution_count": 1,
   "id": "a01bc468-f93c-4de0-9974-2489ada25bc8",
   "metadata": {},
   "outputs": [
    {
     "name": "stdout",
     "output_type": "stream",
     "text": [
      "Enter number between 1 to 50 to guess: 10\n",
      "low\n",
      "guess again: 15\n",
      "low\n",
      "guess again: 30\n",
      "low\n",
      "guess again: 35\n",
      "high\n",
      "guess again: 32\n",
      "Congratulation! you win in 5 tries\n"
     ]
    }
   ],
   "source": [
    "## Solution\n",
    "\n",
    "import random\n",
    "wining_number = random.randint(1,50)\n",
    "guess_number=int(input(\"Enter number between 1 to 50 to guess: \"))\n",
    "for i in range(1,20):\n",
    "    if guess_number==wining_number:\n",
    "        print(f\"Congratulation! you win in {i} tries\")\n",
    "        break\n",
    "    elif guess_number<wining_number:\n",
    "        print(\"low\")\n",
    "        # guess_number=int(input(\"Enter number to guess: \"))  ---DRY\n",
    "    elif guess_number>wining_number:\n",
    "        print(\"high\")\n",
    "    # new if statement to check tries limit\n",
    "    if i==10:\n",
    "        print('You Loss..!')\n",
    "        print('Try Again')\n",
    "        break\n",
    "    guess_number=int(input(\"guess again: \"))"
   ]
  },
  {
   "cell_type": "code",
   "execution_count": 2,
   "id": "cecf2918-af86-4d8a-9d26-91c0dea0b335",
   "metadata": {},
   "outputs": [
    {
     "name": "stdout",
     "output_type": "stream",
     "text": [
      "10\n",
      "8\n",
      "6\n",
      "4\n",
      "2\n"
     ]
    }
   ],
   "source": [
    "## Step argument in range function\n",
    "# print 10 to 1 in back order\n",
    "\n",
    "for i in range(10,0,-2):\n",
    "    print(i)"
   ]
  },
  {
   "cell_type": "code",
   "execution_count": null,
   "id": "1597215e-da05-427e-9483-9f3dfa668463",
   "metadata": {},
   "outputs": [],
   "source": [
    "## For loop with string \n",
    "\n",
    "# In some programs, In “for” loop we can use string or variable instead of range function\n",
    "# This facility is only for python language\n",
    "\n",
    "## Program\n",
    "# ask user to input a number containing more than one digit\n",
    "# example – 2357\n",
    "# calculate the sum of each character 2+3+5+7 and print the sum using for loop"
   ]
  },
  {
   "cell_type": "code",
   "execution_count": null,
   "id": "3030e47b-7692-4456-939e-be2503092417",
   "metadata": {},
   "outputs": [
    {
     "name": "stdout",
     "output_type": "stream",
     "text": [
      "Input a number containing more than one digit:  452\n",
      "4\n",
      "9\n",
      "11\n"
     ]
    }
   ],
   "source": [
    "## solution\n",
    "number=input(\"Input a number containing more than one digit: \")\n",
    "add=0\n",
    "for i in number:\n",
    "    add+=int(i)\n",
    "    print(add)"
   ]
  },
  {
   "cell_type": "code",
   "execution_count": null,
   "id": "052576d4-74c6-4927-a43a-f17a2f1b998a",
   "metadata": {},
   "outputs": [
    {
     "name": "stdout",
     "output_type": "stream",
     "text": [
      "Done!\n"
     ]
    }
   ],
   "source": [
    "for i in range(5):\n",
    "    print(i)\n",
    "else:\n",
    "    print(\"Done!\")"
   ]
  },
  {
   "cell_type": "code",
   "execution_count": null,
   "id": "f8417e0d-17c1-4ad7-bdf1-6744cc883b7b",
   "metadata": {},
   "outputs": [],
   "source": [
    "## Exercise\n",
    "\n",
    "# ask from user a natural number\n",
    "# and show square of numbers till that natural number using for loop"
   ]
  },
  {
   "cell_type": "code",
   "execution_count": 1,
   "id": "db3c0a2e-2651-49bf-99f2-fc60bf165659",
   "metadata": {},
   "outputs": [
    {
     "name": "stdout",
     "output_type": "stream",
     "text": [
      "Enter any natural number: 5\n",
      "1\n",
      "4\n",
      "9\n",
      "16\n",
      "25\n"
     ]
    }
   ],
   "source": [
    "## Solution 1\n",
    "\n",
    "natural_number=int(input(\"Enter any natural number: \"))\n",
    "square = 1\n",
    "for i in range(1,natural_number+1):\n",
    "    square = i**2\n",
    "    print(square)"
   ]
  },
  {
   "cell_type": "code",
   "execution_count": 1,
   "id": "5a1c68bf-4bd7-4372-80f8-93217fd96a01",
   "metadata": {},
   "outputs": [
    {
     "name": "stdout",
     "output_type": "stream",
     "text": [
      "Enter any natural number: 2\n",
      "1\n",
      "4\n"
     ]
    }
   ],
   "source": [
    "## Solution 2\n",
    "\n",
    "natural_number=int(input(\"Enter any natural number: \"))\n",
    "for i in range(1,natural_number+1):\n",
    "    square = i**2\n",
    "    print(square)"
   ]
  },
  {
   "cell_type": "code",
   "execution_count": null,
   "id": "ac216210-e58e-4991-bff7-931ffcde1310",
   "metadata": {},
   "outputs": [
    {
     "name": "stdout",
     "output_type": "stream",
     "text": [
      "Enter any natural number:  5\n",
      "1\n",
      "4\n",
      "9\n",
      "16\n",
      "25\n"
     ]
    }
   ],
   "source": [
    "## Solution 3\n",
    "\n",
    "natural_number=int(input(\"Enter any natural number: \"))\n",
    "for i in range(1,natural_number+1):\n",
    "    i *= i\n",
    "    print(i)"
   ]
  },
  {
   "cell_type": "code",
   "execution_count": null,
   "id": "f775b702-8192-4c33-a8c1-10bb2da6788e",
   "metadata": {},
   "outputs": [
    {
     "name": "stdout",
     "output_type": "stream",
     "text": [
      "Enter any natural number:  5\n",
      "1\n",
      "4\n",
      "9\n",
      "16\n",
      "25\n"
     ]
    }
   ],
   "source": [
    "## Solution 4\n",
    "\n",
    "exponent = 2\n",
    "natural_number=int(input(\"Enter any natural number: \"))\n",
    "for i in range(1,natural_number+1):\n",
    "    output = pow(i,exponent)\n",
    "    print(output)"
   ]
  },
  {
   "cell_type": "code",
   "execution_count": null,
   "id": "2e36662d-b3df-4f26-bbbd-67a4d937fbed",
   "metadata": {},
   "outputs": [
    {
     "name": "stdout",
     "output_type": "stream",
     "text": [
      "Enter any natural number:  5\n",
      "1\n",
      "4\n",
      "9\n",
      "16\n",
      "25\n"
     ]
    }
   ],
   "source": [
    "## Solution 5\n",
    "\n",
    "natural_number=int(input(\"Enter any natural number: \"))\n",
    "for i in range(1,natural_number+1):\n",
    "    output = pow(i,2)\n",
    "    print(output)"
   ]
  },
  {
   "cell_type": "code",
   "execution_count": null,
   "id": "b2c3c75a-e9c6-4b36-89b2-a45addb18248",
   "metadata": {},
   "outputs": [
    {
     "name": "stdout",
     "output_type": "stream",
     "text": [
      "Enter any natural number:  5\n",
      "1\n",
      "4\n",
      "9\n",
      "16\n",
      "25\n"
     ]
    }
   ],
   "source": [
    "## Solution 6\n",
    "natural_number=int(input(\"Enter any natural number: \"))\n",
    "for i in range(1,natural_number+1):\n",
    "    print(pow(i,2))"
   ]
  },
  {
   "cell_type": "code",
   "execution_count": null,
   "id": "581a0d7a-8c5f-4608-a82d-e3a581df0383",
   "metadata": {},
   "outputs": [
    {
     "name": "stdout",
     "output_type": "stream",
     "text": [
      "* \n",
      "* * \n",
      "* * * \n",
      "* * * * \n",
      "* * * * * \n"
     ]
    }
   ],
   "source": [
    "# Simple half pyramid pattern or right angle triangle pyramid\n",
    "\n",
    "rows = 5                       # number of rows\n",
    "for i in range(0, rows):\n",
    "    for j in range(0, i + 1):  # nested loop for each column\n",
    "        print(\"* \", end='')    # print star\n",
    "    print(\"\\r\")                # new line after each row"
   ]
  },
  {
   "cell_type": "code",
   "execution_count": null,
   "id": "254e9394-e63c-4769-bf0b-bf445db281f1",
   "metadata": {},
   "outputs": [
    {
     "name": "stdout",
     "output_type": "stream",
     "text": [
      "* \n",
      "* * \n",
      "* * * \n",
      "* * * * \n",
      "* * * * * \n",
      "* * * * * * \n",
      "* * * * * * * \n",
      "* * * * * * * * \n",
      "* * * * * * * * * \n",
      "* * * * * * * * * * \n"
     ]
    }
   ],
   "source": [
    "rows = 10\n",
    "for j in range(1, rows+1):\n",
    "    print(\"* \" * j)"
   ]
  },
  {
   "cell_type": "code",
   "execution_count": null,
   "id": "ec90f4ef-68aa-4d6e-b2fe-0b11083777cc",
   "metadata": {},
   "outputs": [
    {
     "name": "stdout",
     "output_type": "stream",
     "text": [
      "a b\n"
     ]
    }
   ],
   "source": [
    "print('a',end=' ')\n",
    "print('b')"
   ]
  },
  {
   "cell_type": "code",
   "execution_count": null,
   "id": "b892a2dc-ba6f-482a-a3af-f431728c2caa",
   "metadata": {},
   "outputs": [
    {
     "name": "stdout",
     "output_type": "stream",
     "text": [
      "hellow \n",
      "hellow hellow \n",
      "hellow hellow hellow \n"
     ]
    }
   ],
   "source": [
    "print('hellow ')\n",
    "print('hellow '*2)\n",
    "print('hellow '*3)"
   ]
  },
  {
   "cell_type": "code",
   "execution_count": null,
   "id": "1a040290-89ca-4af6-8378-3dd746c11f1a",
   "metadata": {},
   "outputs": [
    {
     "name": "stdout",
     "output_type": "stream",
     "text": [
      "        * \n",
      "      * * \n",
      "    * * * \n",
      "  * * * * \n",
      "* * * * * \n"
     ]
    }
   ],
   "source": [
    "# Right triangle pyramid of Stars or mirrored right triangle\n",
    "\n",
    "rows = 5                        # number of rows\n",
    "k = 2 * rows - 2\n",
    "for i in range(0, rows):\n",
    "    for j in range(0, k):       # process each column\n",
    "        print(end=\" \")          # print space in pyramid\n",
    "    k = k - 2\n",
    "    for j in range(0, i + 1):\n",
    "        print(\"* \", end=\"\")     # display star\n",
    "    print(\"\")"
   ]
  },
  {
   "cell_type": "code",
   "execution_count": null,
   "id": "b010ac9d-4276-4ba2-bfa7-e61c0cd9665a",
   "metadata": {},
   "outputs": [
    {
     "name": "stdout",
     "output_type": "stream",
     "text": [
      "* * * * * \n",
      "* * * * \n",
      "* * * \n",
      "* * \n",
      "* \n"
     ]
    }
   ],
   "source": [
    "# Downward half-Pyramid Pattern\n",
    "\n",
    "rows = 5\n",
    "for i in range(rows, 0, -1):\n",
    "    for j in range(0, i):        # nested reverse loop\n",
    "        print(\"*\", end=' ')          # display star\n",
    "    print(\"\\r\")"
   ]
  },
  {
   "cell_type": "code",
   "execution_count": null,
   "id": "1b5dfc6e-7a1c-45dd-87aa-940b0753c2d3",
   "metadata": {},
   "outputs": [
    {
     "name": "stdout",
     "output_type": "stream",
     "text": [
      "* * * * * \n",
      " * * * * \n",
      "  * * * \n",
      "   * * \n",
      "    * \n"
     ]
    }
   ],
   "source": [
    "# Downward full Pyramid\n",
    "\n",
    "rows = 5\n",
    "k = 0\n",
    "for i in range(rows, 0, -1):\n",
    "    for j in range(k, 0, -1):\n",
    "        print(end=\" \")\n",
    "    k = k + 1\n",
    "    for j in range(0, i):\n",
    "        print(\"*\", end=\" \")\n",
    "    print(\"\")"
   ]
  },
  {
   "cell_type": "markdown",
   "id": "f353b5be-58d2-405d-ac29-fddb4d7d12e9",
   "metadata": {},
   "source": [
    "# Functions"
   ]
  },
  {
   "cell_type": "code",
   "execution_count": null,
   "id": "90e9f1c9-2ca1-4b1d-a902-912ec773e824",
   "metadata": {},
   "outputs": [],
   "source": [
    "# Their are two types of functions\n",
    "    # 1: Built-in Functions\n",
    "    # 2: User-define Functions\n",
    "\n",
    "# Built-in functions are those that are already defined in Language \n",
    "# and we can call them directly.\n",
    "    # Like in python, a function is “len”,\n",
    "    # this function is defined in background by developers\n",
    "\n",
    "# User defined functions are those that we define ourselves in our program \n",
    "# and then call them wherever we want.\n",
    "\n",
    "# We write functions to avoid lengthy code again and again\n",
    "\n",
    "# To define a function, we use “def” Keyword and then \n",
    "    # write the name of function with brackets()"
   ]
  },
  {
   "cell_type": "code",
   "execution_count": null,
   "id": "a73fca2f-809a-4e46-b6e2-a728661f1200",
   "metadata": {},
   "outputs": [
    {
     "name": "stdout",
     "output_type": "stream",
     "text": [
      "Enter first number:  5\n",
      "Enter second number:  8\n",
      "Sum of two numbers is: 13\n"
     ]
    }
   ],
   "source": [
    "## Let we define a function to add Two numbers\n",
    "\n",
    "def add_two_num(x,y):                        # (parameters) input to function come from program\n",
    "    return x+y                               # working of function\n",
    "\n",
    "num_1 = int(input(\"Enter first number: \"))\n",
    "num_2 = int(input(\"Enter second number: \"))\n",
    "output = add_two_num(num_1,num_2)                 # (Arguments) Calling function and give input values\n",
    "print(f\"Sum of two numbers is: {output}\")"
   ]
  },
  {
   "cell_type": "code",
   "execution_count": null,
   "id": "46cb1b48-8ad8-423a-b6f8-0f93d9b6d8da",
   "metadata": {},
   "outputs": [
    {
     "name": "stdout",
     "output_type": "stream",
     "text": [
      "sum of two numbers is: 13\n"
     ]
    }
   ],
   "source": [
    "print(f\"sum of two numbers is: {add_two_num(num_1,num_2)}\")"
   ]
  },
  {
   "cell_type": "code",
   "execution_count": null,
   "id": "25bdc690-19fe-4de7-ba7c-2787d83d0445",
   "metadata": {},
   "outputs": [],
   "source": [
    "## Function that takes a name and give back the last chracter of name\n",
    "\n",
    "def last_chracter(name):\n",
    "    return name[-1]\n",
    "\n",
    "name=input(\"Enter the name: \")\n",
    "print(f\"last chracter of string is:{last_chracter(name)}\")"
   ]
  },
  {
   "cell_type": "code",
   "execution_count": null,
   "id": "26332639-c03a-4386-a38e-07113956f4a1",
   "metadata": {},
   "outputs": [
    {
     "name": "stdout",
     "output_type": "stream",
     "text": [
      "Enter a number:  3\n",
      "Given number is Odd\n"
     ]
    }
   ],
   "source": [
    "## Function that checks that given number is even or odd\n",
    "\n",
    "def evn_od(num):                            # F.name(Parameter)\n",
    "    if num%2==0:\n",
    "        return \"Even\"\n",
    "    elif num%2!=0:\n",
    "        return \"Odd\"\n",
    "\n",
    "number=int(input(\"Enter a number: \"))\n",
    "print(f\"Given number is {evn_od(number)}\")  # {F.name(Argument)}"
   ]
  },
  {
   "cell_type": "code",
   "execution_count": null,
   "id": "ba36ea9e-6ac9-4757-bcf4-ee940b3baf22",
   "metadata": {},
   "outputs": [
    {
     "name": "stdout",
     "output_type": "stream",
     "text": [
      "Hellow\n"
     ]
    }
   ],
   "source": [
    "def funct():\n",
    "    return \"Hellow\"\n",
    "\n",
    "print(funct())"
   ]
  },
  {
   "cell_type": "code",
   "execution_count": null,
   "id": "0f4cee41-f5d1-4674-b94a-eb38109a301f",
   "metadata": {},
   "outputs": [],
   "source": [
    "## Exercise 1\n",
    "# define a function which takes two numbers as input and return greater of two numbers"
   ]
  },
  {
   "cell_type": "code",
   "execution_count": null,
   "id": "7a73b34c-aa91-4136-8fc0-af55a2dc2b87",
   "metadata": {},
   "outputs": [],
   "source": [
    "## solution 1\n",
    "def greater(x,y):\n",
    "    if x>y:\n",
    "        return \"number_1: \"+str(x)\n",
    "    elif y>x:\n",
    "        return \"number_2: \"+str(y)\n",
    "    else:\n",
    "        return 'undefined'\n",
    "\n",
    "num1=int(input(\"Enter first numnber: \"))\n",
    "num2=int(input(\"Enter second numnber: \"))\n",
    "print(f\"{greater(num1,num2)} is Greater number\")"
   ]
  },
  {
   "cell_type": "code",
   "execution_count": null,
   "id": "0d0aa201-2df0-42a9-9216-f9df21d42dbf",
   "metadata": {},
   "outputs": [],
   "source": [
    "## Solution 2\n",
    "\n",
    "def greater():\n",
    "    num1=int(input(\"Enter first numnber: \"))\n",
    "    num2=int(input(\"Enter second numnber: \"))\n",
    "    if num1>num2:\n",
    "        return f\"number_1: {num1}\"\n",
    "    elif num2>num1:\n",
    "        return f\"number_2: {num2}\"\n",
    "    else:\n",
    "        return \"Undefined\"\n",
    "\n",
    "\n",
    "print(f\"{greater()} is Greater number\")"
   ]
  },
  {
   "cell_type": "code",
   "execution_count": null,
   "id": "b676c47f-5081-4b86-bc99-f86534c877cb",
   "metadata": {},
   "outputs": [],
   "source": [
    "## Solution 3\n",
    "\n",
    "def greater():\n",
    "    num1=int(input(\"Enter first numnber: \"))\n",
    "    num2=int(input(\"Enter second numnber: \"))\n",
    "    return max(num1,num2)\n",
    "\n",
    "\n",
    "print(f\"{greater()} is Greater number\")"
   ]
  },
  {
   "cell_type": "code",
   "execution_count": null,
   "id": "a49f86d0-072b-40a6-86ef-2597ec2b4610",
   "metadata": {},
   "outputs": [
    {
     "name": "stdout",
     "output_type": "stream",
     "text": [
      "Enter first numnber:  123\n",
      "Enter second numnber:  34\n",
      "123 is Greater number from first and second number\n"
     ]
    }
   ],
   "source": [
    "## we can define a function inside a function\n",
    "\n",
    "def greater(x,y):\n",
    "    if x>y:\n",
    "        return x\n",
    "    elif y>x:\n",
    "        return y\n",
    "\n",
    "num1=int(input(\"Enter first numnber: \"))\n",
    "num2=int(input(\"Enter second numnber: \"))\n",
    "\n",
    "print(f\"{greater(num1,num2)} is Greater number from first and second number\")"
   ]
  },
  {
   "cell_type": "code",
   "execution_count": null,
   "id": "17f5fda8-fa0c-4370-9b36-fd34f541d71c",
   "metadata": {},
   "outputs": [
    {
     "name": "stdout",
     "output_type": "stream",
     "text": [
      "Enter first numnber:  4\n",
      "Enter second numnber:  3\n",
      "Enter third numnber:  2\n",
      "4 is Greater number from first, second and third number\n"
     ]
    }
   ],
   "source": [
    "## Nested Function\n",
    "\n",
    "def new_greater(x,y,z):\n",
    "    bigger=greater(greater(x,y),z) #function inside function\n",
    "    return bigger\n",
    "\n",
    "num1=int(input(\"Enter first numnber: \"))\n",
    "num2=int(input(\"Enter second numnber: \"))\n",
    "num3=int(input(\"Enter third numnber: \"))\n",
    "print(f\"{new_greater(num1,num2,num3)} is Greater number from first, second and third number\")"
   ]
  },
  {
   "cell_type": "code",
   "execution_count": null,
   "id": "c3cd2be4-8d22-4705-b489-e96e60c54c26",
   "metadata": {},
   "outputs": [],
   "source": [
    "## Exercise\n",
    "\n",
    "# Define “is_palindrom” function that takes one word in string as input,\n",
    "#     Palindrom is a word that reads same backward as forward\n",
    "#         Aha, madam, pullup, repaper, mom, dad, radar, civic\n",
    "# And return true if it is palindrom,\n",
    "# Else return false"
   ]
  },
  {
   "cell_type": "code",
   "execution_count": null,
   "id": "ea18efe6-a8d3-476f-9e8b-6fe3ce4e44ad",
   "metadata": {},
   "outputs": [
    {
     "name": "stdout",
     "output_type": "stream",
     "text": [
      "Enter a palindrom:  aha\n",
      "Given word is palindrom\n"
     ]
    }
   ],
   "source": [
    "## Solution 1\n",
    "\n",
    "def is_palindrom():\n",
    "    word=input(\"Enter a palindrom: \")\n",
    "    word = word.lower()\n",
    "    if word==word[::-1]:\n",
    "        return \"Given word is palindrom\"\n",
    "    return \"Given word is not a palindrom\"\n",
    "\n",
    "\n",
    "print(is_palindrom())"
   ]
  },
  {
   "cell_type": "code",
   "execution_count": null,
   "id": "5bf656f9-8228-496e-9a81-d390c42b23b9",
   "metadata": {},
   "outputs": [
    {
     "name": "stdout",
     "output_type": "stream",
     "text": [
      "Enter a palindrom:  madam\n",
      "Given word is palindrom\n"
     ]
    }
   ],
   "source": [
    "## Solution 2\n",
    "\n",
    "def is_palindrom():\n",
    "    word=input(\"Enter a palindrom: \").lower()\n",
    "    if word==word[::-1]:\n",
    "        return \"Given word is palindrom\"\n",
    "    return \"Given word is not a palindrom\"\n",
    "\n",
    "\n",
    "print(is_palindrom())"
   ]
  },
  {
   "cell_type": "code",
   "execution_count": null,
   "id": "08217ca3-9197-4eec-a60c-6cb662d95499",
   "metadata": {},
   "outputs": [
    {
     "name": "stdout",
     "output_type": "stream",
     "text": [
      "Enter a palindrom:  madam\n",
      "True\n"
     ]
    }
   ],
   "source": [
    "## Solution 3\n",
    "\n",
    "def is_palindrom():\n",
    "    word=input(\"Enter a palindrom: \").lower()\n",
    "    return word==word[::-1]\n",
    "\n",
    "print(is_palindrom())"
   ]
  },
  {
   "cell_type": "code",
   "execution_count": null,
   "id": "ac3ca2db-26ee-4620-bfb3-47e8b6839e59",
   "metadata": {},
   "outputs": [
    {
     "name": "stdout",
     "output_type": "stream",
     "text": [
      "5\n"
     ]
    }
   ],
   "source": [
    "## Variable Scope\n",
    "# Scope of variable is just in the function where we define the variable\n",
    "\n",
    "def fun():\n",
    "    x=5       #local variable\n",
    "    return x\n",
    "print(fun())   #5"
   ]
  },
  {
   "cell_type": "code",
   "execution_count": null,
   "id": "b732aee9-d9d4-4c16-a8b6-dd52170832ad",
   "metadata": {},
   "outputs": [
    {
     "ename": "NameError",
     "evalue": "name 'x' is not defined",
     "output_type": "error",
     "traceback": [
      "\u001b[1;31m---------------------------------------------------------------------------\u001b[0m",
      "\u001b[1;31mNameError\u001b[0m                                 Traceback (most recent call last)",
      "Cell \u001b[1;32mIn[2], line 1\u001b[0m\n\u001b[1;32m----> 1\u001b[0m \u001b[38;5;28mprint\u001b[39m(x)\n",
      "\u001b[1;31mNameError\u001b[0m: name 'x' is not defined"
     ]
    }
   ],
   "source": [
    "print(x)      #out of scope\n",
    "\n",
    "# We cann’t print or edit the variable out of scope"
   ]
  },
  {
   "cell_type": "code",
   "execution_count": null,
   "id": "9cbf7cbe-f6f9-49a1-ad6e-7d4e9ea45f1a",
   "metadata": {},
   "outputs": [
    {
     "name": "stdout",
     "output_type": "stream",
     "text": [
      "5\n"
     ]
    }
   ],
   "source": [
    "# If we want to edit a variable out of scope then we use the keyword “global”\n",
    "\n",
    "x=7\n",
    "def fun():\n",
    "    global x\n",
    "    x=5\n",
    "    return x\n",
    "print(fun())    #5"
   ]
  },
  {
   "cell_type": "code",
   "execution_count": null,
   "id": "6efa5581-ebec-4f13-b8bf-9d4c2dc86855",
   "metadata": {},
   "outputs": [
    {
     "name": "stdout",
     "output_type": "stream",
     "text": [
      "5\n"
     ]
    }
   ],
   "source": [
    "print(x)        #5 "
   ]
  },
  {
   "cell_type": "code",
   "execution_count": null,
   "id": "53c82458-7c3e-47b3-86e7-2cfd73319067",
   "metadata": {},
   "outputs": [
    {
     "name": "stdout",
     "output_type": "stream",
     "text": [
      "5\n"
     ]
    }
   ],
   "source": [
    "def fun():\n",
    "    global x\n",
    "    x=5       #local variable\n",
    "    return x\n",
    "print(fun())"
   ]
  },
  {
   "cell_type": "code",
   "execution_count": null,
   "id": "e4c5f202-08db-4236-8ef0-bd8cf7cfa5c3",
   "metadata": {},
   "outputs": [
    {
     "name": "stdout",
     "output_type": "stream",
     "text": [
      "5\n"
     ]
    }
   ],
   "source": [
    "print(x)"
   ]
  },
  {
   "cell_type": "code",
   "execution_count": null,
   "id": "97748d19-846a-420e-a614-f7e2e1daa04e",
   "metadata": {},
   "outputs": [
    {
     "name": "stdout",
     "output_type": "stream",
     "text": [
      "Enter your first name:  ali\n",
      "Your First name is: ali\n",
      "Your Last name is: unknown\n"
     ]
    }
   ],
   "source": [
    "## Default Parameters\n",
    "# parameters are the values which we pass to the user_define functions\n",
    "# if there is optional to give the value to the parameter\n",
    "#     we can give them default value, which will become the  value of parameter if user doesn’t give any value\n",
    "#     but if we define the default value and user gives also some value, then user’s value will override the default value\n",
    "# we can define default value only for last parameters\n",
    "\n",
    "def user_info(f_name, l_name = 'unknown'):\n",
    "    print(f\"Your First name is: {f_name}\")\n",
    "    print(f\"Your Last name is: {l_name}\")"
   ]
  },
  {
   "cell_type": "code",
   "execution_count": null,
   "id": "2749f12c-638e-4a1b-9a1b-892130a25113",
   "metadata": {},
   "outputs": [
    {
     "name": "stdout",
     "output_type": "stream",
     "text": [
      "Enter your first name:  ali\n",
      "Your First name is: ali\n",
      "Your Last name is: unknown\n"
     ]
    }
   ],
   "source": [
    "f_name = input('Enter your first name: ')\n",
    "user_info(f_name)"
   ]
  },
  {
   "cell_type": "code",
   "execution_count": null,
   "id": "ad3c3561-4656-4e76-b530-f23feb55f226",
   "metadata": {},
   "outputs": [
    {
     "name": "stdout",
     "output_type": "stream",
     "text": [
      "Enter your first name:  ali\n",
      "Enter your last name:  ahmad\n",
      "Your First name is: ali\n",
      "Your Last name is: ahmad\n"
     ]
    }
   ],
   "source": [
    "f_name = input('Enter your first name: ')\n",
    "l_name = input('Enter your last name: ')\n",
    "user_info(f_name, l_name)"
   ]
  },
  {
   "cell_type": "markdown",
   "id": "8452d747-3bc8-411a-bc4d-8a5cfab8d8ed",
   "metadata": {},
   "source": [
    "### Data Structures in Python\n",
    "\n",
    "<b>What is a Data Structure?</b><br> \n",
    "Organizing, managing and storing data is important as it enables easier access and efficient modifications. Data Structures allows you to organize your data in such a way that enables you to store collections of data, relate them and perform operations on them accordingly. \n",
    "\n",
    "---\n",
    "---\n",
    "\n",
    "<b>Types of Data Structures in Python?</b> <br>\n",
    "Python has implicit support for Data Structures which enable you to store and access data. These structures are called<br>\n",
    "<b>List, Dictionary, Tuple and Set</b>.\n",
    "\n",
    "---\n",
    "---\n",
    "\n",
    "Python allows its users to create their own Data Structures enabling them to have full control over their functionality. The most prominent Data Structures are <h5>Stack, Queue, Tree, Linked List and so on</h5> which are also available to you in other programming languages."
   ]
  },
  {
   "cell_type": "markdown",
   "id": "20197c72-20a0-4128-a2e8-938079c8ec1a",
   "metadata": {},
   "source": [
    "![Data-Structures-in-Python.jpg](Data-Structures-in-Python.png)"
   ]
  },
  {
   "cell_type": "markdown",
   "id": "312d9f2a-e668-4a9c-9278-a07f110b8aee",
   "metadata": {},
   "source": [
    "![Data-Structures-in-Python.jpg](Premptive_vs_non-Premptive.png)"
   ]
  },
  {
   "cell_type": "markdown",
   "id": "d37243aa-ba1e-4e4e-b072-a06533d6fd8f",
   "metadata": {},
   "source": [
    "## Lists\n",
    "\n",
    "---\n",
    "---\n",
    "\n",
    "##### It is a data structure\n",
    "##### It is ordered collection of items\n",
    "##### We can store anything(int,float,char,string,variable or mixture of all) in the lists\n",
    "##### When we want to assign “more than one values to one variable”, then we use the lists\n",
    "##### We create list using square brackets[]"
   ]
  },
  {
   "cell_type": "code",
   "execution_count": null,
   "id": "573ffe5f-cbb5-4a50-993f-c1f263ff5ccc",
   "metadata": {},
   "outputs": [
    {
     "name": "stdout",
     "output_type": "stream",
     "text": [
      "[1, 5, 12, 'Jamshaid', 'World', None]\n",
      "Jamshaid\n"
     ]
    }
   ],
   "source": [
    "name=\"Jamshaid\"\n",
    "mix=[1,5,12,name,\"World\", None] #none means nothing, not zero\n",
    "print(mix)\n",
    "print(mix[3])"
   ]
  },
  {
   "cell_type": "code",
   "execution_count": null,
   "id": "be3d18e1-5874-464e-a2e0-a54b9d988bf2",
   "metadata": {},
   "outputs": [
    {
     "name": "stdout",
     "output_type": "stream",
     "text": [
      "[1, 5, 12]\n"
     ]
    }
   ],
   "source": [
    "# We can also use slicing to print a range from list\n",
    "print(mix[:3])"
   ]
  },
  {
   "cell_type": "code",
   "execution_count": null,
   "id": "104e1cd9-2bce-4d09-8e56-2d7880072b31",
   "metadata": {},
   "outputs": [
    {
     "name": "stdout",
     "output_type": "stream",
     "text": [
      "[1, 5, 12, 'Jamshaid', 'Hellow World', None]\n"
     ]
    }
   ],
   "source": [
    "# We can also change the items of list\n",
    "# Let assume we want to change 4th item “world” to “Hellow world”\n",
    "\n",
    "mix[4]=\"Hellow World\"\n",
    "print(mix)"
   ]
  },
  {
   "cell_type": "code",
   "execution_count": null,
   "id": "02bf35e6-b92a-40d4-9795-9b6e8fecf179",
   "metadata": {},
   "outputs": [],
   "source": [
    "mix[0:2]=[\"one\",\"five\"]"
   ]
  },
  {
   "cell_type": "code",
   "execution_count": null,
   "id": "ada4b016-0076-469f-afc5-2282995c1e03",
   "metadata": {},
   "outputs": [
    {
     "name": "stdout",
     "output_type": "stream",
     "text": [
      "['one', 'five', 12, 'Jamshaid', 'Hellow World', None]\n"
     ]
    }
   ],
   "source": [
    "print(mix)"
   ]
  },
  {
   "cell_type": "code",
   "execution_count": null,
   "id": "05cf4bbf-dbae-4e42-8d39-987d5baaf4bf",
   "metadata": {},
   "outputs": [
    {
     "name": "stdout",
     "output_type": "stream",
     "text": [
      "['one', 'five', 12, 'Hellow World', 'Hellow World', None]\n"
     ]
    }
   ],
   "source": [
    "mix[3]=\"Hellow World\"\n",
    "print(mix)"
   ]
  },
  {
   "cell_type": "code",
   "execution_count": null,
   "id": "03ad6496-a118-4c9a-98bf-7859645db25b",
   "metadata": {},
   "outputs": [],
   "source": []
  }
 ],
 "metadata": {
  "kernelspec": {
   "display_name": "Python 3 (ipykernel)",
   "language": "python",
   "name": "python3"
  },
  "language_info": {
   "codemirror_mode": {
    "name": "ipython",
    "version": 3
   },
   "file_extension": ".py",
   "mimetype": "text/x-python",
   "name": "python",
   "nbconvert_exporter": "python",
   "pygments_lexer": "ipython3",
   "version": "3.9.12"
  }
 },
 "nbformat": 4,
 "nbformat_minor": 5
}
