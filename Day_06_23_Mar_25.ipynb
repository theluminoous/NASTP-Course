{
 "cells": [
  {
   "cell_type": "code",
   "execution_count": 1,
   "id": "6d498405-145f-4c1c-88ca-8f17e1dd90a9",
   "metadata": {},
   "outputs": [
    {
     "name": "stdout",
     "output_type": "stream",
     "text": [
      "{'name': 'unknown', 'age': 'unknown', 'country': 'unknown'}\n"
     ]
    }
   ],
   "source": [
    "## fromkeys() method\n",
    "# It is used, when we want to assign same value to more than one keys\n",
    "user_info = dict.fromkeys([\"name\",\"age\",\"country\"], \"unknown\")\n",
    "print(user_info)"
   ]
  },
  {
   "cell_type": "code",
   "execution_count": 7,
   "id": "88b7652a-b239-40cc-8853-02fc1a48a6a9",
   "metadata": {},
   "outputs": [],
   "source": [
    "## get() method\n",
    "# It is very useful method for checking existence of a key in code\n",
    "\n",
    "user_info = {\n",
    "    \"name\": \"ali\",\n",
    "    \"age\": 27\n",
    "}\n",
    "\n",
    "# give error in case of key not exist\n",
    "print(user_info[\"country\"])"
   ]
  },
  {
   "cell_type": "code",
   "execution_count": 6,
   "id": "577840ae-2677-4964-93b4-49e4945198d7",
   "metadata": {},
   "outputs": [
    {
     "name": "stdout",
     "output_type": "stream",
     "text": [
      "None\n"
     ]
    }
   ],
   "source": [
    "print(user_info.get(\"country\"))  #get method tells if key not exist"
   ]
  },
  {
   "cell_type": "code",
   "execution_count": 8,
   "id": "abfdaebf-863c-4345-961a-03778160367f",
   "metadata": {},
   "outputs": [
    {
     "name": "stdout",
     "output_type": "stream",
     "text": [
      "Not Found..!\n"
     ]
    }
   ],
   "source": [
    "# We can also override the None by giving our own argument\n",
    "\n",
    "user_info = {\n",
    "    \"name\": \"ali\",\n",
    "    \"age\": 27\n",
    "}\n",
    "\n",
    "print(user_info.get(\"country\", \"Not Found..!\"))"
   ]
  },
  {
   "cell_type": "code",
   "execution_count": 9,
   "id": "75c154c3-18b7-4dce-8e9a-1ae1d972697d",
   "metadata": {},
   "outputs": [
    {
     "name": "stdout",
     "output_type": "stream",
     "text": [
      "Not Present\n"
     ]
    }
   ],
   "source": [
    "# Also useful for if else conditions\n",
    "\n",
    "user_info = {\n",
    "    \"name\": \"ali\",\n",
    "    \"age\": 27\n",
    "}\n",
    "\n",
    "# if else condition\n",
    "if \"names\" in user_info:\n",
    "    print(\"Present\")\n",
    "else:\n",
    "    print(\"Not Present\")"
   ]
  },
  {
   "cell_type": "code",
   "execution_count": 10,
   "id": "c7027f7e-747e-4209-a9d0-a43ae004ff00",
   "metadata": {},
   "outputs": [
    {
     "name": "stdout",
     "output_type": "stream",
     "text": [
      "Not Present\n"
     ]
    }
   ],
   "source": [
    "# or, get method\n",
    "\n",
    "if user_info.get(\"names\"): #if None--> False, else True\n",
    "    print(\"Present\")\n",
    "else:\n",
    "    print(\"Not Present\")"
   ]
  },
  {
   "cell_type": "code",
   "execution_count": 21,
   "id": "74220283-df4b-48bd-8d29-00aa3d7fe485",
   "metadata": {},
   "outputs": [
    {
     "name": "stdout",
     "output_type": "stream",
     "text": [
      "Pakistan\n"
     ]
    }
   ],
   "source": [
    "user_info = {\n",
    "    \"name\": \"Ali\",\n",
    "    \"age\": 27,\n",
    "    \"address\": {\n",
    "        \"city\": \"Lahore\",\n",
    "        \"country\": \"Pakistan\"\n",
    "    }\n",
    "}\n",
    "\n",
    "# Accessing nested value using get()\n",
    "country = user_info.get(\"address\", {}).get(\"country\")\n",
    "print(country)"
   ]
  },
  {
   "cell_type": "code",
   "execution_count": 22,
   "id": "b116d617-0baf-4523-8fd6-7c14cd969c97",
   "metadata": {},
   "outputs": [
    {
     "name": "stdout",
     "output_type": "stream",
     "text": [
      "Pakistan\n"
     ]
    }
   ],
   "source": [
    "country = user_info.get(\"address\", {}).get(\"country\")\n",
    "print(country)"
   ]
  },
  {
   "cell_type": "code",
   "execution_count": 24,
   "id": "22a94269-19e0-42fa-a100-38543cd0e397",
   "metadata": {},
   "outputs": [
    {
     "ename": "KeyError",
     "evalue": "'addresses'",
     "output_type": "error",
     "traceback": [
      "\u001b[1;31m---------------------------------------------------------------------------\u001b[0m",
      "\u001b[1;31mKeyError\u001b[0m                                  Traceback (most recent call last)",
      "Cell \u001b[1;32mIn[24], line 1\u001b[0m\n\u001b[1;32m----> 1\u001b[0m country \u001b[38;5;241m=\u001b[39m user_info[\u001b[38;5;124m\"\u001b[39m\u001b[38;5;124maddresses\u001b[39m\u001b[38;5;124m\"\u001b[39m][\u001b[38;5;124m\"\u001b[39m\u001b[38;5;124mcountry\u001b[39m\u001b[38;5;124m\"\u001b[39m]\n\u001b[0;32m      2\u001b[0m \u001b[38;5;28mprint\u001b[39m(country)\n",
      "\u001b[1;31mKeyError\u001b[0m: 'addresses'"
     ]
    }
   ],
   "source": [
    "country = user_info[\"addresses\"][\"country\"]\n",
    "print(country)"
   ]
  },
  {
   "cell_type": "code",
   "execution_count": 34,
   "id": "443e5634-e87d-4267-a748-0def57fce848",
   "metadata": {},
   "outputs": [
    {
     "name": "stdout",
     "output_type": "stream",
     "text": [
      "Pakistan\n"
     ]
    }
   ],
   "source": [
    "country = user_info.get(\"address\", {}).get(\"country\")\n",
    "print(country)"
   ]
  },
  {
   "cell_type": "code",
   "execution_count": 35,
   "id": "f6e408bd-958f-4e61-9d2f-c24e10caf141",
   "metadata": {},
   "outputs": [
    {
     "name": "stdout",
     "output_type": "stream",
     "text": [
      "The user is from Pakistan.\n"
     ]
    }
   ],
   "source": [
    "## nested get in Conditional structure\n",
    "\n",
    "if user_info.get(\"address\", {}).get(\"country\") == \"Pakistan\":\n",
    "    print(\"The user is from Pakistan.\")\n",
    "else:\n",
    "    print(\"Country not found or different.\")"
   ]
  },
  {
   "cell_type": "code",
   "execution_count": null,
   "id": "05eddae9-8e6e-49db-b9d8-48742fb6a1c7",
   "metadata": {},
   "outputs": [],
   "source": [
    "## clear method\n",
    "# It is used to clear all data in dictionary\n",
    "\n",
    "user_info = {\n",
    "    \"name\": \"ali\",\n",
    "    \"age\": 27\n",
    "}\n",
    "print(user_info.clear())"
   ]
  },
  {
   "cell_type": "code",
   "execution_count": 36,
   "id": "85595254-cb95-42ca-a571-acf8b23f3a86",
   "metadata": {},
   "outputs": [
    {
     "name": "stdout",
     "output_type": "stream",
     "text": [
      "{'name': 'ali', 'age': 27}\n"
     ]
    }
   ],
   "source": [
    "## copy method\n",
    "# It assigns the data to new variable\n",
    "\n",
    "user_info = {\n",
    "\"name\": \"ali\",\n",
    "\"age\": 27\n",
    "}\n",
    "print(user_info)"
   ]
  },
  {
   "cell_type": "code",
   "execution_count": 37,
   "id": "c47a3d84-f784-4e00-a269-611e997c02d0",
   "metadata": {},
   "outputs": [],
   "source": [
    "a = user_info"
   ]
  },
  {
   "cell_type": "code",
   "execution_count": 38,
   "id": "c2d6bc47-0eda-4825-80ab-09a4bed7dad4",
   "metadata": {},
   "outputs": [
    {
     "name": "stdout",
     "output_type": "stream",
     "text": [
      "{'name': 'ali', 'age': 27}\n"
     ]
    }
   ],
   "source": [
    "print(a)"
   ]
  },
  {
   "cell_type": "code",
   "execution_count": 39,
   "id": "a430c42d-3f6c-431a-9d06-c64373277093",
   "metadata": {},
   "outputs": [
    {
     "data": {
      "text/plain": [
       "('age', 27)"
      ]
     },
     "execution_count": 39,
     "metadata": {},
     "output_type": "execute_result"
    }
   ],
   "source": [
    "a.popitem()"
   ]
  },
  {
   "cell_type": "code",
   "execution_count": 40,
   "id": "d2aa1510-d429-4be5-bc1f-15c0da7f9436",
   "metadata": {},
   "outputs": [
    {
     "name": "stdout",
     "output_type": "stream",
     "text": [
      "{'name': 'ali'}\n"
     ]
    }
   ],
   "source": [
    "print(user_info)"
   ]
  },
  {
   "cell_type": "code",
   "execution_count": 41,
   "id": "227d571e-add9-49ae-89ca-959e5907aa87",
   "metadata": {},
   "outputs": [
    {
     "name": "stdout",
     "output_type": "stream",
     "text": [
      "{'name': 'ali', 'age': 27}\n",
      "{'name': 'ali'}\n",
      "{'name': 'ali', 'age': 27}\n"
     ]
    }
   ],
   "source": [
    "user_info = {\n",
    "    \"name\": \"ali\",\n",
    "    \"age\": 27\n",
    "}\n",
    "print(user_info)\n",
    "\n",
    "a = user_info.copy() #now a has its own dictionary\n",
    "a.popitem()\n",
    "print(a) # poped from a\n",
    "print(user_info) # not effected"
   ]
  },
  {
   "cell_type": "code",
   "execution_count": null,
   "id": "93c813fa-26a5-488c-9bb4-efa90d142f8a",
   "metadata": {},
   "outputs": [],
   "source": [
    "## Exercise\n",
    "# Define a function which will take a number(n)\n",
    "# Return a dictionary containing cube of number from 1 to n\n",
    "# Forexample:\n",
    "    # Please enter a number for cube Finder:- 5\n",
    "    # {1: 1, 2: 8, 3: 27, 4: 64, 5: 125}"
   ]
  },
  {
   "cell_type": "code",
   "execution_count": 42,
   "id": "24bf5fd8-d04a-4e32-ba53-b1c8e79aded1",
   "metadata": {},
   "outputs": [
    {
     "name": "stdin",
     "output_type": "stream",
     "text": [
      "Please enter a number for cube Finder:-  5\n"
     ]
    },
    {
     "name": "stdout",
     "output_type": "stream",
     "text": [
      "{1: 1, 2: 8, 3: 27, 4: 64, 5: 125}\n"
     ]
    }
   ],
   "source": [
    "## solution 1\n",
    "\n",
    "def cube_finder(n):\n",
    "    cubes = {}\n",
    "    for i in range(1,n+1):\n",
    "        cubes.update({i: i**3})\n",
    "    return cubes\n",
    "\n",
    "number = int(input(\"Please enter a number for cube Finder:- \"))\n",
    "print(cube_finder(number))"
   ]
  },
  {
   "cell_type": "code",
   "execution_count": 43,
   "id": "8393a656-6196-42fe-ae95-34b4219620ae",
   "metadata": {},
   "outputs": [
    {
     "name": "stdin",
     "output_type": "stream",
     "text": [
      "Please enter a number for cube Finder:-  7\n"
     ]
    },
    {
     "name": "stdout",
     "output_type": "stream",
     "text": [
      "{1: 1, 2: 8, 3: 27, 4: 64, 5: 125, 6: 216, 7: 343}\n"
     ]
    }
   ],
   "source": [
    "## solution 2\n",
    "\n",
    "def cube_finder(n):\n",
    "    cubes = {}\n",
    "    for i in range(1,n+1):\n",
    "        cubes[i] = pow(i,3)\n",
    "    return cubes\n",
    "\n",
    "number = int(input(\"Please enter a number for cube Finder:- \"))\n",
    "print(cube_finder(number))"
   ]
  },
  {
   "cell_type": "code",
   "execution_count": null,
   "id": "7f63f9b6-5f9a-433d-999c-9f0843653f11",
   "metadata": {},
   "outputs": [],
   "source": [
    "### Summary of Dictionary\n",
    "\n",
    "# Dictionary is an unordered collection of data in key : value pair\n",
    "\n",
    "## Two different methods to creat dictionary\n",
    "# Method 1\n",
    "user = {\"name\": \"ali\", \"age\": 27}\n",
    "\n",
    "# Method 2\n",
    "user = dict(name=\"ali\", age=27)\n",
    "\n",
    "# Best syntax to present dictionary is:\n",
    "user_info = {\n",
    "        \"name\": \"ali\",\n",
    "        \"age\": 27,\n",
    "        \"fav_movies\": [\"fast & furious\", \"spector\"],\n",
    "        \"fav_tunes\": [\"despacito\", \"iphone\"]\n",
    "    }\n",
    "\n",
    "# Its ordered collection, But it has no index, so we will access data of dictionary through keys\n",
    "print(user[\"name\"]) # dictionaryname[key]\n",
    "\n",
    "# how to add data in dictionary\n",
    "user_info = {\n",
    "        \"name\": \"ali\",\n",
    "        \"age\": 27,\n",
    "        \"fav_movies\": [\"fast & furious\", \"spector\"],\n",
    "        \"fav_tunes\": [\"despacito\", \"iphone\"]\n",
    "    }\n",
    "\n",
    "user_info[\"name\"] = 'haris' # if key matches then value will replace\n",
    "user_info[\"l_name\"] = 'jamshaid'\n",
    "user_info.update({'roll_no' : 27})\n",
    "print(user_info)\n",
    "\n",
    "# how to itrate over dictionary, most common method\n",
    "for key, value in user_info.items():\n",
    "    print(f\"\\'{key}\\' : {value}\")\n",
    "\n",
    "# To print all keys\n",
    "for i in user_info:\n",
    "    print(i)\n",
    "\n",
    "# To print all values\n",
    "for i in user_info.values():\n",
    "    print(i)\n",
    "\n",
    "# To access or check presence of a key, get() method, helps to get rid of error\n",
    "# if \"names\" in user_info: # gives error\n",
    "\n",
    "# or\n",
    "if user_info.get(\"names\"): #if None--> False, else True\n",
    "    print(\"Present\")\n",
    "\n",
    "## To delete items, two methods are used\n",
    "# .pop() method requires argument\n",
    "user_info.pop(\"fav_movies\")\n",
    "\n",
    "# .popitems() method does not requires argument and delete last pair\n",
    "user.popitem()\n",
    "\n",
    "# some functions of dictionary\n",
    "# copy(), clear(), get(), fromkeys()"
   ]
  },
  {
   "cell_type": "markdown",
   "id": "391122f3-8429-44c9-a474-72b23ca2e0ff",
   "metadata": {},
   "source": [
    "### Sets\n",
    "---\n",
    "###### un-ordered collection of unique items (duplicate data will remove automatically while printing)\n",
    "###### curly braces {} are used to create set\n",
    "###### only store integers, floats and strings"
   ]
  },
  {
   "cell_type": "code",
   "execution_count": 44,
   "id": "089258e7-2079-4701-8150-45fe79251f4f",
   "metadata": {},
   "outputs": [
    {
     "name": "stdout",
     "output_type": "stream",
     "text": [
      "{1, 2, 3, 4}\n"
     ]
    }
   ],
   "source": [
    "s = {1,2,3,2,4}\n",
    "print(s)"
   ]
  },
  {
   "cell_type": "code",
   "execution_count": 45,
   "id": "cafc18d8-68fa-43de-8bb8-6572f2d78646",
   "metadata": {},
   "outputs": [
    {
     "ename": "TypeError",
     "evalue": "'set' object is not subscriptable",
     "output_type": "error",
     "traceback": [
      "\u001b[1;31m---------------------------------------------------------------------------\u001b[0m",
      "\u001b[1;31mTypeError\u001b[0m                                 Traceback (most recent call last)",
      "Cell \u001b[1;32mIn[45], line 1\u001b[0m\n\u001b[1;32m----> 1\u001b[0m \u001b[38;5;28mprint\u001b[39m(s[\u001b[38;5;241m1\u001b[39m])\n",
      "\u001b[1;31mTypeError\u001b[0m: 'set' object is not subscriptable"
     ]
    }
   ],
   "source": [
    "print(s[1]) #error due to unordered"
   ]
  },
  {
   "cell_type": "code",
   "execution_count": 46,
   "id": "70d9d0e7-4c79-44ce-9e71-d4d512b39eeb",
   "metadata": {},
   "outputs": [
    {
     "name": "stdout",
     "output_type": "stream",
     "text": [
      "{1, 2, 3, 4, 5}\n"
     ]
    }
   ],
   "source": [
    "## add() method\n",
    "\n",
    "s = {1,2,3,4}\n",
    "s.add(5)\n",
    "print(s)"
   ]
  },
  {
   "cell_type": "code",
   "execution_count": 47,
   "id": "5fb8f1a4-0e67-49e0-821d-69bf2c8cb191",
   "metadata": {},
   "outputs": [
    {
     "name": "stdout",
     "output_type": "stream",
     "text": [
      "{1, 2, 3, 4, 5, 6.0}\n"
     ]
    }
   ],
   "source": [
    "s.add(6.0)\n",
    "print(s)"
   ]
  },
  {
   "cell_type": "code",
   "execution_count": 50,
   "id": "78690e55-a142-4d8f-8294-f6c586731a12",
   "metadata": {},
   "outputs": [
    {
     "ename": "KeyError",
     "evalue": "5",
     "output_type": "error",
     "traceback": [
      "\u001b[1;31m---------------------------------------------------------------------------\u001b[0m",
      "\u001b[1;31mKeyError\u001b[0m                                  Traceback (most recent call last)",
      "Cell \u001b[1;32mIn[50], line 6\u001b[0m\n\u001b[0;32m      1\u001b[0m \u001b[38;5;66;03m## remove()\u001b[39;00m\n\u001b[0;32m      2\u001b[0m \u001b[38;5;66;03m# Remove an element from a set; it must be a member.\u001b[39;00m\n\u001b[0;32m      3\u001b[0m \u001b[38;5;66;03m# If the element is not a member, raise a KeyError.\u001b[39;00m\n\u001b[0;32m      5\u001b[0m s \u001b[38;5;241m=\u001b[39m {\u001b[38;5;241m1\u001b[39m,\u001b[38;5;241m2\u001b[39m,\u001b[38;5;241m3\u001b[39m,\u001b[38;5;241m4\u001b[39m}\n\u001b[1;32m----> 6\u001b[0m s\u001b[38;5;241m.\u001b[39mremove(\u001b[38;5;241m5\u001b[39m) \u001b[38;5;66;03m#give error\u001b[39;00m\n\u001b[0;32m      7\u001b[0m \u001b[38;5;28mprint\u001b[39m(s)\n",
      "\u001b[1;31mKeyError\u001b[0m: 5"
     ]
    }
   ],
   "source": [
    "## remove()\n",
    "# Remove an element from a set; it must be a member.\n",
    "# If the element is not a member, raise a KeyError.\n",
    "\n",
    "s = {1,2,3,4}\n",
    "s.remove(5) #give error\n",
    "print(s)"
   ]
  },
  {
   "cell_type": "code",
   "execution_count": 51,
   "id": "467859f5-2374-4cc9-bdac-b92b363a004e",
   "metadata": {},
   "outputs": [
    {
     "name": "stdout",
     "output_type": "stream",
     "text": [
      "{1, 2, 3, 4}\n"
     ]
    }
   ],
   "source": [
    "## discard()\n",
    "# Remove an element from a set if it is a member.\n",
    "# If the element is not a member, do nothing.\n",
    "\n",
    "s = {1,2,3,4}\n",
    "s.discard(5) #do nothing\n",
    "print(s)"
   ]
  },
  {
   "cell_type": "code",
   "execution_count": 59,
   "id": "ac3aa44d-a375-4818-af7c-bffcbf1011c0",
   "metadata": {},
   "outputs": [
    {
     "name": "stdout",
     "output_type": "stream",
     "text": [
      "{2, 3, 4}\n"
     ]
    }
   ],
   "source": [
    "## pop()\n",
    "# Remove and return an arbitrary set element.\n",
    "# Raises KeyError if the set is empty.\n",
    "\n",
    "s = {1,2,3,4}\n",
    "s.pop()\n",
    "print(s)"
   ]
  },
  {
   "cell_type": "code",
   "execution_count": 76,
   "id": "8f7cf8c5-cb50-460b-a30c-5384cdc7503e",
   "metadata": {},
   "outputs": [],
   "source": [
    "my_set = {10, 20, 30, 40}"
   ]
  },
  {
   "cell_type": "code",
   "execution_count": 81,
   "id": "55d000ef-83e1-4893-9864-58a96e856217",
   "metadata": {},
   "outputs": [
    {
     "ename": "KeyError",
     "evalue": "'pop from an empty set'",
     "output_type": "error",
     "traceback": [
      "\u001b[1;31m---------------------------------------------------------------------------\u001b[0m",
      "\u001b[1;31mKeyError\u001b[0m                                  Traceback (most recent call last)",
      "Cell \u001b[1;32mIn[81], line 1\u001b[0m\n\u001b[1;32m----> 1\u001b[0m removed_element \u001b[38;5;241m=\u001b[39m my_set\u001b[38;5;241m.\u001b[39mpop()\n\u001b[0;32m      2\u001b[0m \u001b[38;5;28mprint\u001b[39m(\u001b[38;5;124m\"\u001b[39m\u001b[38;5;124mRemoved Element:\u001b[39m\u001b[38;5;124m\"\u001b[39m, removed_element)\n\u001b[0;32m      3\u001b[0m \u001b[38;5;28mprint\u001b[39m(\u001b[38;5;124m\"\u001b[39m\u001b[38;5;124mUpdated Set:\u001b[39m\u001b[38;5;124m\"\u001b[39m, my_set)\n",
      "\u001b[1;31mKeyError\u001b[0m: 'pop from an empty set'"
     ]
    }
   ],
   "source": [
    "removed_element = my_set.pop()\n",
    "print(\"Removed Element:\", removed_element)\n",
    "print(\"Updated Set:\", my_set)"
   ]
  },
  {
   "cell_type": "code",
   "execution_count": 82,
   "id": "8c5b6beb-49da-41da-a224-91b60dff47a2",
   "metadata": {},
   "outputs": [
    {
     "name": "stdout",
     "output_type": "stream",
     "text": [
      "set()\n"
     ]
    }
   ],
   "source": [
    "## clear()\n",
    "# Removes all the elements from the set\n",
    "s = {1,2,3,4}\n",
    "s.clear()\n",
    "print(s)"
   ]
  },
  {
   "cell_type": "code",
   "execution_count": 83,
   "id": "711c6aff-9ca6-432a-bedc-04c73d0ca287",
   "metadata": {},
   "outputs": [
    {
     "name": "stdout",
     "output_type": "stream",
     "text": [
      "s1 is {2, 3, 4}\n",
      "s is {1, 2, 3, 4}\n"
     ]
    }
   ],
   "source": [
    "## Copy()\n",
    "# It will copy the set into new given variable\n",
    "s = {1,2,3,4}\n",
    "s1 = s.copy()\n",
    "s1.discard(1)\n",
    "print(f\"s1 is {s1}\")\n",
    "print(f\"s is {s}\")"
   ]
  },
  {
   "cell_type": "code",
   "execution_count": 84,
   "id": "be59ce76-5610-4dc7-a8f9-22c38caf17f2",
   "metadata": {},
   "outputs": [
    {
     "name": "stdout",
     "output_type": "stream",
     "text": [
      "{'apple', 'orange', 'guava', 'cherry', 'banana'}\n"
     ]
    }
   ],
   "source": [
    "x = {\"apple\", \"banana\", \"cherry\"}\n",
    "fruits = ['apple','orange','guava']\n",
    "\n",
    "x.update(fruits)\n",
    "\n",
    "print(x)"
   ]
  },
  {
   "cell_type": "code",
   "execution_count": 85,
   "id": "99357182-1f47-4ffd-8c29-b3f28ddac35d",
   "metadata": {},
   "outputs": [
    {
     "name": "stdout",
     "output_type": "stream",
     "text": [
      "{'apple', 'age', 'name', 'banana', 'cherry'}\n"
     ]
    }
   ],
   "source": [
    "x = {\"apple\", \"banana\", \"cherry\"}\n",
    "user_info = {\n",
    "        \"name\": \"ali\",\n",
    "        \"age\": 27,\n",
    "   }\n",
    "\n",
    "x.update(user_info) # Dictionary itrator with keys\n",
    "\n",
    "print(x)"
   ]
  },
  {
   "cell_type": "code",
   "execution_count": 86,
   "id": "03b207e0-beec-4e0f-bfc9-f47f08994d00",
   "metadata": {},
   "outputs": [
    {
     "name": "stdout",
     "output_type": "stream",
     "text": [
      "{'apple', 'cherry', 'ali', 27, 'banana'}\n"
     ]
    }
   ],
   "source": [
    "x = {\"apple\", \"banana\", \"cherry\"}\n",
    "user_info = {\n",
    "        \"name\": \"ali\",\n",
    "        \"age\": 27,\n",
    "   }\n",
    "\n",
    "x.update(user_info.values()) # Dictionary itrator with values\n",
    "\n",
    "print(x)"
   ]
  },
  {
   "cell_type": "code",
   "execution_count": 87,
   "id": "ce113219-f109-4551-9104-759ab2eb2323",
   "metadata": {},
   "outputs": [
    {
     "name": "stdout",
     "output_type": "stream",
     "text": [
      "{'apple', ('name', 'ali'), 'cherry', ('age', 27), 'banana'}\n"
     ]
    }
   ],
   "source": [
    "x = {\"apple\", \"banana\", \"cherry\"}\n",
    "user_info = {\n",
    "        \"name\": \"ali\",\n",
    "        \"age\": 27\n",
    "   }\n",
    "\n",
    "x.update(user_info.items()) # Dictionary itrator with key and value\n",
    "\n",
    "print(x)"
   ]
  },
  {
   "cell_type": "code",
   "execution_count": 88,
   "id": "cd222567-4f05-4399-8223-e92c8893b4b4",
   "metadata": {},
   "outputs": [
    {
     "ename": "TypeError",
     "evalue": "unhashable type: 'list'",
     "output_type": "error",
     "traceback": [
      "\u001b[1;31m---------------------------------------------------------------------------\u001b[0m",
      "\u001b[1;31mTypeError\u001b[0m                                 Traceback (most recent call last)",
      "Cell \u001b[1;32mIn[88], line 7\u001b[0m\n\u001b[0;32m      1\u001b[0m user_info \u001b[38;5;241m=\u001b[39m {\n\u001b[0;32m      2\u001b[0m         \u001b[38;5;124m\"\u001b[39m\u001b[38;5;124mname\u001b[39m\u001b[38;5;124m\"\u001b[39m: \u001b[38;5;124m\"\u001b[39m\u001b[38;5;124mali\u001b[39m\u001b[38;5;124m\"\u001b[39m,\n\u001b[0;32m      3\u001b[0m         \u001b[38;5;124m\"\u001b[39m\u001b[38;5;124mage\u001b[39m\u001b[38;5;124m\"\u001b[39m: \u001b[38;5;241m27\u001b[39m,\n\u001b[0;32m      4\u001b[0m         \u001b[38;5;124m\"\u001b[39m\u001b[38;5;124mfav_movies\u001b[39m\u001b[38;5;124m\"\u001b[39m: [\u001b[38;5;124m\"\u001b[39m\u001b[38;5;124mfast & furious\u001b[39m\u001b[38;5;124m\"\u001b[39m, \u001b[38;5;124m\"\u001b[39m\u001b[38;5;124mspector\u001b[39m\u001b[38;5;124m\"\u001b[39m],\n\u001b[0;32m      5\u001b[0m         \u001b[38;5;124m\"\u001b[39m\u001b[38;5;124mfav_tunes\u001b[39m\u001b[38;5;124m\"\u001b[39m: [\u001b[38;5;124m\"\u001b[39m\u001b[38;5;124mdespacito\u001b[39m\u001b[38;5;124m\"\u001b[39m, \u001b[38;5;124m\"\u001b[39m\u001b[38;5;124miphone\u001b[39m\u001b[38;5;124m\"\u001b[39m]\n\u001b[0;32m      6\u001b[0m     }\n\u001b[1;32m----> 7\u001b[0m x\u001b[38;5;241m.\u001b[39mupdate(user_info\u001b[38;5;241m.\u001b[39mvalues())\n",
      "\u001b[1;31mTypeError\u001b[0m: unhashable type: 'list'"
     ]
    }
   ],
   "source": [
    "user_info = {\n",
    "        \"name\": \"ali\",\n",
    "        \"age\": 27,\n",
    "        \"fav_movies\": [\"fast & furious\", \"spector\"],\n",
    "        \"fav_tunes\": [\"despacito\", \"iphone\"]\n",
    "    }\n",
    "x.update(user_info.values())"
   ]
  },
  {
   "cell_type": "code",
   "execution_count": 89,
   "id": "2b26ec89-9910-4fbb-a66e-b960faac2378",
   "metadata": {},
   "outputs": [
    {
     "name": "stdout",
     "output_type": "stream",
     "text": [
      "1\n",
      "2\n",
      "3\n",
      "4\n"
     ]
    }
   ],
   "source": [
    "## in keyword\n",
    "# in keyword can be used to check the existance of value in the set\n",
    "s = {1,2,3,4}\n",
    "for i in s:\n",
    "    print(i)"
   ]
  },
  {
   "cell_type": "code",
   "execution_count": 90,
   "id": "80b3abbb-0b6d-44c0-9399-3053dbe34c6b",
   "metadata": {},
   "outputs": [
    {
     "name": "stdout",
     "output_type": "stream",
     "text": [
      "union of s1 and s2 is {1, 2, 3, 4, 5, 6}\n"
     ]
    }
   ],
   "source": [
    "## Union\n",
    "# It will give the union of two sets, pipe symbol | is used for union\n",
    "\n",
    "s1 = {1,2,3,4}\n",
    "s2 = {3,4,5,6}\n",
    "print(f\"union of s1 and s2 is {s1 | s2}\")"
   ]
  },
  {
   "cell_type": "code",
   "execution_count": 91,
   "id": "2a121d52-cc04-4937-aae7-47ee963fc693",
   "metadata": {},
   "outputs": [
    {
     "name": "stdout",
     "output_type": "stream",
     "text": [
      "intersection of s1 and s2 is {3, 4}\n"
     ]
    }
   ],
   "source": [
    "## Intersection\n",
    "# It will give common values of sets, and symbol & is used for intersection\n",
    "\n",
    "s1 = {1,2,3,4}\n",
    "s2 = {3,4,5,6}\n",
    "print(f\"intersection of s1 and s2 is {s1 & s2}\")"
   ]
  },
  {
   "cell_type": "markdown",
   "id": "08fbaa5f-0f45-4e78-a248-5f7b045dfa24",
   "metadata": {},
   "source": [
    "### List Comprehension\n",
    "---\n",
    "List comprehension is a concise way to create lists in Python. It allows you to generate a new list by applying an expression to each item in an iterable (like a list, tuple, or string) in a single line of code."
   ]
  },
  {
   "cell_type": "code",
   "execution_count": 92,
   "id": "31ce3bae-a48a-4444-bc61-13daec6a32e4",
   "metadata": {},
   "outputs": [],
   "source": [
    "### for loop in list comprehension"
   ]
  },
  {
   "cell_type": "code",
   "execution_count": 94,
   "id": "ebba3f16-bfd5-4e2f-b308-56ce0358ed16",
   "metadata": {},
   "outputs": [
    {
     "name": "stdout",
     "output_type": "stream",
     "text": [
      "[1, 4, 9, 16, 25, 36, 49, 64, 81, 100]\n"
     ]
    }
   ],
   "source": [
    "## Examples\n",
    "# List of squares from 1 to 10\n",
    "\n",
    "## Solution\n",
    "\n",
    "square1 = []\n",
    "for i in range(1, 11):\n",
    "    square1.append(i**2)\n",
    "print(square1)"
   ]
  },
  {
   "cell_type": "code",
   "execution_count": 93,
   "id": "6986e242-0289-445b-8e14-76d46f9fc11a",
   "metadata": {},
   "outputs": [
    {
     "name": "stdout",
     "output_type": "stream",
     "text": [
      "[1, 4, 9, 16, 25, 36, 49, 64, 81, 100]\n"
     ]
    }
   ],
   "source": [
    "# or in one line through list comprehension\n",
    "\n",
    "print([i**2 for i in range(1, 11)])"
   ]
  },
  {
   "cell_type": "code",
   "execution_count": 95,
   "id": "737036dd-e0f8-4f45-9ff3-595ee9816bf0",
   "metadata": {},
   "outputs": [
    {
     "name": "stdout",
     "output_type": "stream",
     "text": [
      "[-1, -2, -3, -4, -5, -6, -7, -8, -9, -10]\n"
     ]
    }
   ],
   "source": [
    "## negative numbers\n",
    "\n",
    "## Examples\n",
    "# List of negatives from 1 to 10\n",
    "\n",
    "negative1 = []\n",
    "for i in range(1, 11):\n",
    "    negative1.append(-i)\n",
    "print(negative1)"
   ]
  },
  {
   "cell_type": "code",
   "execution_count": 96,
   "id": "dbe7ca1f-3fff-47b6-8bec-8090569bbda9",
   "metadata": {},
   "outputs": [
    {
     "name": "stdout",
     "output_type": "stream",
     "text": [
      "[-1, -2, -3, -4, -5, -6, -7, -8, -9, -10]\n"
     ]
    }
   ],
   "source": [
    "\n",
    "# through list comprehension\n",
    "\n",
    "negative2 = [-i for i in range(1, 11)]\n",
    "print(negative2)"
   ]
  },
  {
   "cell_type": "code",
   "execution_count": 97,
   "id": "77053b02-249d-4526-812c-dc1a484446ce",
   "metadata": {},
   "outputs": [
    {
     "name": "stdout",
     "output_type": "stream",
     "text": [
      "['elppA', 'egnarO', 'ognaM']\n"
     ]
    }
   ],
   "source": [
    "## Exercise\n",
    "# write code for reverse of every string\n",
    "\n",
    "## Simple Solution\n",
    "\n",
    "alphabets = [\"Apple\", \"Orange\", \"Mango\"]\n",
    "reverse1 = []\n",
    "for word in alphabets:\n",
    "    reverse1.append(word[::-1])\n",
    "print(reverse1)"
   ]
  },
  {
   "cell_type": "code",
   "execution_count": 98,
   "id": "9411279b-41e4-4c48-8e32-9e1ac6e47fd3",
   "metadata": {},
   "outputs": [],
   "source": [
    "### if-statement in list comprehension"
   ]
  },
  {
   "cell_type": "code",
   "execution_count": null,
   "id": "6ccc1b16-23d2-468e-9d73-181aea1bb5b1",
   "metadata": {},
   "outputs": [],
   "source": [
    "# At first we will write data to 'append in list', then 'loop', and then 'condition on data' which to append\n",
    "\n",
    "#Example\n",
    "# From list of 1 to 10, make list of even numbers\n",
    "\n",
    "## Simple Solution\n",
    "\n",
    "even_numbers = []\n",
    "for i in range(1, 11):\n",
    "    if i%2==0:\n",
    "        even_numbers.append(i)\n",
    "print(even_numbers)"
   ]
  },
  {
   "cell_type": "code",
   "execution_count": null,
   "id": "1c13f19d-2e10-45df-9531-2339872c3d37",
   "metadata": {},
   "outputs": [],
   "source": [
    "## List Comprehension Solution\n",
    "\n",
    "even_numbers = [i for i in range(1, 11) if i%2==0]\n",
    "print(even_numbers)"
   ]
  },
  {
   "cell_type": "code",
   "execution_count": null,
   "id": "914c4a43-96cf-43d7-ad6e-0dc3d3876b3f",
   "metadata": {},
   "outputs": [],
   "source": [
    "## Exercise\n",
    "\n",
    "# Num to string\n",
    "# Define a function which takes a list (having data of different types)\n",
    "    ## [\"apple\", 0.1, 0.2, \"mango\", [1, 2, 3], 0.5, \"peech\", [4, 5, 6], 1, 2, 3, [7, 8, 9]]\n",
    "# return a list (having int and float data in string form)\n",
    "    ## ['0.1', '0.2', '0.5', '1', '2', '3']"
   ]
  },
  {
   "cell_type": "code",
   "execution_count": 99,
   "id": "05f5c1c7-d78f-45c9-8d88-2976b3699d3d",
   "metadata": {},
   "outputs": [
    {
     "name": "stdout",
     "output_type": "stream",
     "text": [
      "['0.1', '0.2', '0.5', '1', '2', '3']\n"
     ]
    }
   ],
   "source": [
    "## Simple Solution\n",
    "\n",
    "def int_float_filtering(mixed):\n",
    "    output = []\n",
    "    for i in mixed:\n",
    "        if type(i) == int or type(i) == float:\n",
    "            output.append(str(i))\n",
    "    print(output)\n",
    "\n",
    "mixed = [\"apple\", 0.1, 0.2, \"mango\", [1, 2, 3], 0.5, \"peech\", [4, 5, 6], 1, 2, 3, [7, 8, 9]]\n",
    "int_float_filtering(mixed)"
   ]
  },
  {
   "cell_type": "code",
   "execution_count": null,
   "id": "de1fa0d7-3356-41ff-a30b-b12cc31aecf1",
   "metadata": {},
   "outputs": [],
   "source": [
    "## List Comprehension Solution\n",
    "\n",
    "def int_float_filtering(l):\n",
    "    return [str(i) for i in l if type(i) == int or type(i) == float] \n",
    "\n",
    "mixed = [\"apple\", 0.1, 0.2, \"mango\", [1, 2, 3], 0.5, \"peech\", [4, 5, 6], 1, 2, 3, [7, 8, 9]]\n",
    "print(int_float_filtering(mixed))"
   ]
  },
  {
   "cell_type": "code",
   "execution_count": 100,
   "id": "32fe09e7-8581-4314-84d6-bc39242a994a",
   "metadata": {},
   "outputs": [],
   "source": [
    "### Nested if-statement in list comprehension"
   ]
  },
  {
   "cell_type": "code",
   "execution_count": null,
   "id": "b2a73d49-f6b1-4680-8351-85dc793d8fbc",
   "metadata": {},
   "outputs": [],
   "source": [
    "## Exercise\n",
    "\n",
    "# Define a function which takes a list (having data of different types) and\n",
    "# return a list (having string data starts from 'a')\n",
    "    ## input--> [\"apple\", 0.1, 0.2, \"mango\",'apricots', [1, 2, 3], 0.5, \"peech\", [4, 5, 6], 1, 2, 3, [7, 8, 9],'avocados']\n",
    "    ## output--> ['apple', 'apricots', 'avocados']\n",
    "# used nested if-statement to solve it"
   ]
  },
  {
   "cell_type": "code",
   "execution_count": 101,
   "id": "b055726b-510e-430a-bfac-4529c71d7353",
   "metadata": {},
   "outputs": [
    {
     "name": "stdout",
     "output_type": "stream",
     "text": [
      "['apple', 'apricots', 'avocados']\n"
     ]
    }
   ],
   "source": [
    "## Simple Solution\n",
    "\n",
    "def string_filtering(mixed):\n",
    "    output = []\n",
    "    for i in mixed:\n",
    "        if type(i) == str:\n",
    "            if i.startswith('a') or i[0] == 'A':\n",
    "                output.append(i)\n",
    "    print(output)\n",
    "\n",
    "mixed = [\"apple\", 0.1, 0.2, \"mango\",'apricots', [1, 2, 3], 0.5, \"peech\", [4, 5, 6], 1, 2, 3, [7, 8, 9],'avocados']\n",
    "string_filtering(mixed)"
   ]
  },
  {
   "cell_type": "code",
   "execution_count": null,
   "id": "726aa65c-a110-4ddc-8891-58f396679b1a",
   "metadata": {},
   "outputs": [],
   "source": [
    "## List Comprehension Solution\n",
    "\n",
    "def int_float_filtering(mixed):\n",
    "    output = [str(i) for i in mixed if type(i) == str if i.startswith('a') or i[0] == 'A']\n",
    "    print(output)\n",
    "\n",
    "mixed = [\"apple\", 0.1, 0.2, \"mango\",'apricots', [1, 2, 3], 0.5, \"peech\", [4, 5, 6], 1, 2, 3, [7, 8, 9],'avocados']\n",
    "int_float_filtering(mixed)"
   ]
  },
  {
   "cell_type": "code",
   "execution_count": null,
   "id": "4bef82a7-a5ff-4e0b-9328-464bc9c15913",
   "metadata": {},
   "outputs": [],
   "source": [
    "### if-else statement in list comprehension"
   ]
  },
  {
   "cell_type": "code",
   "execution_count": 102,
   "id": "f6b6bb0d-6922-42bd-8057-2e50ddb6b663",
   "metadata": {},
   "outputs": [
    {
     "name": "stdout",
     "output_type": "stream",
     "text": [
      "[-1, 4, -3, 16, -5, 36, -7, 64, -9, 100]\n"
     ]
    }
   ],
   "source": [
    "output = []\n",
    "for i in range(1, 11):\n",
    "    if (i % 2 == 0):\n",
    "        output.append(i**2)\n",
    "    else:\n",
    "        output.append(-i)\n",
    "print(output)"
   ]
  },
  {
   "cell_type": "code",
   "execution_count": 103,
   "id": "5f42e215-6066-4768-ab6a-e39d82195ed6",
   "metadata": {},
   "outputs": [
    {
     "name": "stdout",
     "output_type": "stream",
     "text": [
      "[-1, 4, -3, 16, -5, 36, -7, 64, -9, 100]\n"
     ]
    }
   ],
   "source": [
    "## list comprehension Solution\n",
    "\n",
    "output = [i**2 if (i % 2 == 0) else -i for i in range(1, 11)]\n",
    "print(output)"
   ]
  },
  {
   "cell_type": "code",
   "execution_count": null,
   "id": "604b1b90-a06e-4722-aa78-089680922f01",
   "metadata": {},
   "outputs": [],
   "source": [
    "## Exercise (nested-else)\n",
    "\n",
    "# Take a list of numbers from 1 to 10 and\n",
    "# if number will even, then covert into its square and\n",
    "# if number will odd, and can be divided to 3 then convert it in negative and\n",
    "# if number will odd, and cannot be divided to 3 then multiply it to 3"
   ]
  },
  {
   "cell_type": "code",
   "execution_count": 104,
   "id": "335c6dc8-7eea-4934-be55-64bb438ee947",
   "metadata": {},
   "outputs": [
    {
     "name": "stdout",
     "output_type": "stream",
     "text": [
      "[3, 4, -3, 16, 15, 36, 21, 64, -9, 100]\n"
     ]
    }
   ],
   "source": [
    "## Simple Solution\n",
    "\n",
    "output = []\n",
    "for i in range(1, 11):\n",
    "    if (i % 2 == 0):\n",
    "        output.append(i**2)\n",
    "    else:\n",
    "        if (i % 3 == 0):\n",
    "            output.append(-i)\n",
    "        else:\n",
    "            output.append(i*3)\n",
    "print(output)"
   ]
  },
  {
   "cell_type": "code",
   "execution_count": null,
   "id": "21f9dbe7-32ab-4dfa-82a2-93e612c56544",
   "metadata": {},
   "outputs": [],
   "source": [
    "## list comprehension Solution\n",
    "print([i**2 if (i % 2 == 0) else -i if i%3==0 else i*3 for i in range(1, 11)])"
   ]
  },
  {
   "cell_type": "code",
   "execution_count": 105,
   "id": "86ae99aa-b463-4e7d-be78-5a7ec6a2dfd3",
   "metadata": {},
   "outputs": [],
   "source": [
    "### Nested list comprehension"
   ]
  },
  {
   "cell_type": "code",
   "execution_count": 107,
   "id": "a23ae506-10aa-46b2-a14b-85de564c0983",
   "metadata": {},
   "outputs": [
    {
     "name": "stdout",
     "output_type": "stream",
     "text": [
      "[[1, 2, 3], [1, 2, 3], [1, 2, 3]]\n"
     ]
    }
   ],
   "source": [
    "# With list comprehention, even we can create nested lists\n",
    "\n",
    "# simple method\n",
    "main_list = []\n",
    "sub_list = []\n",
    "for i in range(3):\n",
    "    sub_list.clear()\n",
    "    for j in range(1,4):\n",
    "        sub_list.append(j)\n",
    "    main_list.append(sub_list)    \n",
    "\n",
    "print(main_list)"
   ]
  },
  {
   "cell_type": "code",
   "execution_count": 108,
   "id": "235b260c-16f3-4c0e-960c-35a15ba81718",
   "metadata": {},
   "outputs": [
    {
     "name": "stdout",
     "output_type": "stream",
     "text": [
      "[[1, 2, 3], [1, 2, 3], [1, 2, 3], [1, 2, 3]]\n"
     ]
    }
   ],
   "source": [
    "# with list comprehension \n",
    "nested_list = [[j for j in range(1,4)] for i in range(4)]\n",
    "print(nested_list)"
   ]
  },
  {
   "cell_type": "code",
   "execution_count": null,
   "id": "36501ba3-978c-4459-92ab-9ad073f4bb80",
   "metadata": {},
   "outputs": [],
   "source": [
    "## Exercise\n",
    "\n",
    "# Take a list\n",
    "# make a program which will remove the duplicate items from list \n",
    "# use list comprehension"
   ]
  },
  {
   "cell_type": "code",
   "execution_count": 109,
   "id": "8925d235-e10c-4feb-afb2-13df97bc850e",
   "metadata": {},
   "outputs": [
    {
     "name": "stdout",
     "output_type": "stream",
     "text": [
      "[5, 10, 15, 20, 3, 25, 30, 100]\n"
     ]
    }
   ],
   "source": [
    "mylist=[5,10,15,20,3,15,25,20,30,10,100]\n",
    "uniques=[]\n",
    "for num in mylist:\n",
    "    if num not in uniques:\n",
    "        uniques.append(num)\n",
    "print(uniques)"
   ]
  },
  {
   "cell_type": "code",
   "execution_count": 110,
   "id": "7ef667e4-b1ae-42f5-9c0a-b8b3192a3914",
   "metadata": {},
   "outputs": [
    {
     "name": "stdout",
     "output_type": "stream",
     "text": [
      "[5, 10, 15, 20, 3, 25, 30, 100]\n"
     ]
    }
   ],
   "source": [
    "## Solution 3\n",
    "# with list comprehension\n",
    "\n",
    "mylist=[5,10,15,20,3,15,25,20,30,10,100]\n",
    "uniques=[]\n",
    "[uniques.append(num) for num in mylist if num not in uniques] \n",
    "print(uniques)"
   ]
  },
  {
   "cell_type": "code",
   "execution_count": 111,
   "id": "b6d41e8f-b550-4bbd-b996-68993c5cb83c",
   "metadata": {},
   "outputs": [
    {
     "name": "stdout",
     "output_type": "stream",
     "text": [
      "[3, 100, 5, 10, 15, 20, 25, 30]\n"
     ]
    }
   ],
   "source": [
    "mylist=[5,10,15,20,3,15,25,20,30,10,100]\n",
    "print(list(set(mylist)))"
   ]
  },
  {
   "cell_type": "markdown",
   "id": "baa50289-c386-42cf-bc0a-29a24b7bcd51",
   "metadata": {},
   "source": [
    "### Dictionary comprehension"
   ]
  },
  {
   "cell_type": "code",
   "execution_count": null,
   "id": "9c7ecc6d-8d23-43b5-9150-12e593bf365d",
   "metadata": {},
   "outputs": [],
   "source": []
  }
 ],
 "metadata": {
  "kernelspec": {
   "display_name": "Python 3 (ipykernel)",
   "language": "python",
   "name": "python3"
  },
  "language_info": {
   "codemirror_mode": {
    "name": "ipython",
    "version": 3
   },
   "file_extension": ".py",
   "mimetype": "text/x-python",
   "name": "python",
   "nbconvert_exporter": "python",
   "pygments_lexer": "ipython3",
   "version": "3.9.12"
  }
 },
 "nbformat": 4,
 "nbformat_minor": 5
}
