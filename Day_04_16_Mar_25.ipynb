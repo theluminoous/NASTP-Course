{
 "cells": [
  {
   "cell_type": "markdown",
   "id": "cb0f18c6-32c8-4dad-8ca4-6e7ae8692d25",
   "metadata": {},
   "source": [
    "##### Methods to add data into list"
   ]
  },
  {
   "cell_type": "code",
   "execution_count": 17,
   "id": "eaff560a-292f-4b29-9522-0c2579417fe5",
   "metadata": {},
   "outputs": [
    {
     "name": "stdout",
     "output_type": "stream",
     "text": [
      "['mango', 'Apple']\n"
     ]
    }
   ],
   "source": [
    "## Insert() method\n",
    "# Insert add the items on given location\n",
    "\n",
    "fruit1=[\"mango\",\"Apple\"]\n",
    "print(fruit1)"
   ]
  },
  {
   "cell_type": "code",
   "execution_count": 18,
   "id": "bacb5d24-7865-47d8-ac0e-4caf56bf7b6b",
   "metadata": {},
   "outputs": [
    {
     "name": "stdout",
     "output_type": "stream",
     "text": [
      "['mango', 'bannana', 'Apple']\n"
     ]
    }
   ],
   "source": [
    "fruit1.insert(1,\"bannana\")\n",
    "print(fruit1)"
   ]
  },
  {
   "cell_type": "code",
   "execution_count": 19,
   "id": "6a49c4ab-43f8-4f8b-a719-6d01848eeffb",
   "metadata": {},
   "outputs": [
    {
     "name": "stdout",
     "output_type": "stream",
     "text": [
      "['mango', 'Apple', 'bannana', 'Peach']\n"
     ]
    }
   ],
   "source": [
    "## Concatination \n",
    "# We can also join two lists like joining two strings but this has no affect on original lists\n",
    "\n",
    "fruit1=[\"mango\",\"Apple\"]\n",
    "fruit2=[\"bannana\",\"Peach\"]\n",
    "fruits=fruit1+fruit2\n",
    "print(fruits)"
   ]
  },
  {
   "cell_type": "code",
   "execution_count": 20,
   "id": "63064e44-feec-484b-9aa1-6d86c2c1895e",
   "metadata": {},
   "outputs": [
    {
     "name": "stdout",
     "output_type": "stream",
     "text": [
      "Fruit1 is: ['mango', 'Apple']\n"
     ]
    }
   ],
   "source": [
    "print(f\"Fruit1 is: {fruit1}\")"
   ]
  },
  {
   "cell_type": "code",
   "execution_count": 21,
   "id": "1b09ccf0-9a2b-44ec-8f0c-824bbbf7db26",
   "metadata": {},
   "outputs": [
    {
     "name": "stdout",
     "output_type": "stream",
     "text": [
      "['mango', 'Apple', 'cherry']\n"
     ]
    }
   ],
   "source": [
    "# append() method\n",
    "## Append inserts the items at last position\n",
    "\n",
    "fruit1.append(\"cherry\")\n",
    "print(fruit1)"
   ]
  },
  {
   "cell_type": "code",
   "execution_count": 14,
   "id": "f9adf610-7fb1-49eb-a105-1051b3759a76",
   "metadata": {},
   "outputs": [
    {
     "name": "stdout",
     "output_type": "stream",
     "text": [
      "Now Fruit1 is: ['mango', 'Apple', 'bannana', 'Peach']\n"
     ]
    }
   ],
   "source": [
    "# Extend() method\n",
    "## Extend method is used to add  items of list into other list\n",
    "## Append is used to just append the data at last but extend makes the part of list\n",
    "## Extend changes the list permanently\n",
    "\n",
    "fruit1=[\"mango\",\"Apple\"]\n",
    "fruit2=[\"bannana\",\"Peach\"]\n",
    "fruit1.extend(fruit2)\n",
    "print(f\"Now Fruit1 is: {fruit1}\")"
   ]
  },
  {
   "cell_type": "code",
   "execution_count": 15,
   "id": "ef6ff4b1-b989-450d-9044-cc517040327b",
   "metadata": {},
   "outputs": [],
   "source": [
    "# methods to delete data from list"
   ]
  },
  {
   "cell_type": "code",
   "execution_count": 23,
   "id": "b15485f3-7bfe-4993-af69-a968485d9358",
   "metadata": {},
   "outputs": [],
   "source": [
    "## Pop() method\n",
    "### By Default it removes last element of list and return it\n",
    "\n",
    "fruits = [\"mango\", \"Apple\", \"bannana\", \"Peach\", \"orange\"]"
   ]
  },
  {
   "cell_type": "code",
   "execution_count": null,
   "id": "1a5efa9c-6df5-42e3-8259-7765f334001f",
   "metadata": {},
   "outputs": [],
   "source": [
    "poped_item = fruits.pop()\n",
    "print(poped_item)"
   ]
  },
  {
   "cell_type": "code",
   "execution_count": 30,
   "id": "158fc541-f26c-45fd-919e-72a04f5e21fa",
   "metadata": {},
   "outputs": [
    {
     "name": "stdout",
     "output_type": "stream",
     "text": [
      "[]\n"
     ]
    }
   ],
   "source": [
    "print(fruits)"
   ]
  },
  {
   "cell_type": "code",
   "execution_count": 31,
   "id": "6c82f811-7e2e-471a-bf30-7b3fc674e4bd",
   "metadata": {},
   "outputs": [
    {
     "name": "stdout",
     "output_type": "stream",
     "text": [
      "['mango', 'Apple', 'bannana', 'Peach', 'orange']\n",
      "['mango', 'Apple', 'bannana', 'Peach']\n",
      "['mango', 'bannana', 'Peach']\n"
     ]
    }
   ],
   "source": [
    "# But if we pass the argument (index of element), \n",
    "# then it removes the given element\n",
    "\n",
    "fruits=[\"mango\",\"Apple\",\"bannana\",\"Peach\",\"orange\"]\n",
    "print(fruits)\n",
    "fruits.pop()     # orange\n",
    "print(fruits)\n",
    "fruits.pop(1)    # Apple\n",
    "print(fruits)"
   ]
  },
  {
   "cell_type": "code",
   "execution_count": 32,
   "id": "da8b1af4-4f78-4633-aee2-124664fd2754",
   "metadata": {},
   "outputs": [
    {
     "name": "stdout",
     "output_type": "stream",
     "text": [
      "['mango', 'Apple', 'bannana', 'Peach', 'orange']\n",
      "['mango', 'Apple', 'Peach', 'orange']\n"
     ]
    }
   ],
   "source": [
    "## Delete operator\n",
    "### It takes index number and delete that element\n",
    "\n",
    "fruits=[\"mango\",\"Apple\",\"bannana\",\"Peach\",\"orange\"]\n",
    "print(fruits)\n",
    "del fruits[2]   # bannana\n",
    "print(fruits)"
   ]
  },
  {
   "cell_type": "code",
   "execution_count": 33,
   "id": "88699125-bbe9-4073-b4ff-2412079e99af",
   "metadata": {},
   "outputs": [
    {
     "name": "stdout",
     "output_type": "stream",
     "text": [
      "['Peach', 'orange']\n"
     ]
    }
   ],
   "source": [
    "del fruits[:2]   # also we can use slicing here\n",
    "print(fruits)"
   ]
  },
  {
   "cell_type": "code",
   "execution_count": null,
   "id": "f693ed15-e8e5-48d2-a041-e2c6f55c91ed",
   "metadata": {},
   "outputs": [],
   "source": [
    "## del vs pop\n",
    "# pop just remove one element but del can remove multiple elements\n",
    "# pop return the removed value but del does not "
   ]
  },
  {
   "cell_type": "code",
   "execution_count": null,
   "id": "011a63f0-c8b9-4f25-b26c-78fdcb3552be",
   "metadata": {},
   "outputs": [],
   "source": [
    "## Remove() method\n",
    "# When we don’t know the particular position of element, \n",
    "# then by using name we can delete the particular element using this method\n",
    "# If there is no matching value in list then it will give error of “not found”\n",
    "# If there is more than one matching values then it will remove first one\n",
    "\n",
    "\n",
    "fruits=[\"mango\",\"Apple\",\"bannana\",\"Peach\",\"orange\"]\n",
    "print(fruits)\n",
    "fruits.remove(\"Peach\")\n",
    "print(fruits)"
   ]
  },
  {
   "cell_type": "markdown",
   "id": "89227bb4-d139-43c6-be98-eadce22d5ace",
   "metadata": {},
   "source": [
    "##### Difference Between Method and Function in Python"
   ]
  },
  {
   "cell_type": "markdown",
   "id": "0c4faf5e-9687-4f8d-ab04-848f5d33083a",
   "metadata": {},
   "source": [
    "##### 1. Function:\n",
    "A function is a reusable block of code that is independent and can be called anywhere in the program. It can take arguments, process them, and return results."
   ]
  },
  {
   "cell_type": "code",
   "execution_count": 34,
   "id": "0b45de63-8010-4e10-aa77-622bc6de3f3b",
   "metadata": {},
   "outputs": [
    {
     "name": "stdout",
     "output_type": "stream",
     "text": [
      "Hello, Ali!\n"
     ]
    }
   ],
   "source": [
    "# Example\n",
    "def greet(name):\n",
    "    return f\"Hello, {name}!\"\n",
    "\n",
    "print(greet(\"Ali\"))  # Calling the function"
   ]
  },
  {
   "cell_type": "markdown",
   "id": "8a50d00e-a63f-48ea-8490-112cd47851e5",
   "metadata": {},
   "source": [
    "##### 2. Method:\n",
    "A method is a function that is associated with an object or class. It is called using dot notation and can modify or interact with the object's data."
   ]
  },
  {
   "cell_type": "code",
   "execution_count": 2,
   "id": "ad10faf8-b5eb-48bb-a170-30aaf4bf13a5",
   "metadata": {},
   "outputs": [
    {
     "name": "stdout",
     "output_type": "stream",
     "text": [
      "Hello, my name is Ali.\n"
     ]
    }
   ],
   "source": [
    "# Example of a Method:\n",
    "\n",
    "class Person:\n",
    "    def __init__(self, name):\n",
    "        self.name = name  # Instance variable\n",
    "    \n",
    "    def greet(self):  # Method inside a class\n",
    "        return f\"Hello, my name is {self.name}.\"\n",
    "\n",
    "p = Person(\"Ali\")  # Creating an object\n",
    "print(p.greet())  # Calling the method"
   ]
  },
  {
   "cell_type": "code",
   "execution_count": 36,
   "id": "a5fb0f00-0f35-4874-b8e2-09cacd83e135",
   "metadata": {},
   "outputs": [
    {
     "name": "stdout",
     "output_type": "stream",
     "text": [
      "['mango', 'apple', 'bannana', 'peach', 'apple']\n",
      "[]\n"
     ]
    }
   ],
   "source": [
    "## Clear method\n",
    "# It will clear the list, means will delete all the items of list\n",
    "\n",
    "fruits=[\"mango\",\"apple\",\"bannana\",\"peach\",\"apple\"]\n",
    "print(fruits)\n",
    "fruits.clear()\n",
    "print(fruits)"
   ]
  },
  {
   "cell_type": "code",
   "execution_count": null,
   "id": "1deefe05-9461-4834-a38e-36831ea5c9a4",
   "metadata": {},
   "outputs": [],
   "source": [
    "## In keword\n",
    "# Using this we can check that an element is existing in the given list or not\n",
    "\n",
    "fruits=[\"mango\",\"apple\",\"bannana\",\"Peach\",\"orange\"]\n",
    "\n",
    "fruit_name = input('Enter fruit name: ')\n",
    "if fruit_name in fruits:\n",
    "    print(f'{fruit_name} is available')\n",
    "else:\n",
    "    print('not found')"
   ]
  },
  {
   "cell_type": "code",
   "execution_count": 37,
   "id": "c6e69e9a-3ed6-419a-afca-95fc5e57cea2",
   "metadata": {},
   "outputs": [],
   "source": [
    "### Some more methods for list"
   ]
  },
  {
   "cell_type": "code",
   "execution_count": 39,
   "id": "35181be1-473e-4a9f-ac2d-54c12a96a8d6",
   "metadata": {},
   "outputs": [
    {
     "name": "stdout",
     "output_type": "stream",
     "text": [
      "Apple comes in list 2 times\n"
     ]
    }
   ],
   "source": [
    "## Count method\n",
    "# count method is used to count the given word in the list\n",
    "\n",
    "fruits=[\"mango\",\"apple\",\"bannana\",\"Peach\",\"apple\"]\n",
    "print(f\"Apple comes in list {fruits.count('apple')} times\")"
   ]
  },
  {
   "cell_type": "code",
   "execution_count": 6,
   "id": "0195b6ea-266e-420b-8c17-e8b10ca10429",
   "metadata": {},
   "outputs": [
    {
     "name": "stdout",
     "output_type": "stream",
     "text": [
      "3\n",
      "i\n"
     ]
    }
   ],
   "source": [
    "## index method\n",
    "# This function takes in the element as an argument and returns the index. \n",
    "# By using this function we are able to find the index of an element in a list in Python.\n",
    "\n",
    "vowels = ['a', 'e', 'i', 'o', 'i', 'u']\n",
    "print(vowels.index(\"o\"))\n",
    "print(vowels[4])"
   ]
  },
  {
   "cell_type": "code",
   "execution_count": 41,
   "id": "e5a92809-1aa7-42bb-9813-de9e3b00c9f9",
   "metadata": {},
   "outputs": [
    {
     "name": "stdout",
     "output_type": "stream",
     "text": [
      "3\n"
     ]
    }
   ],
   "source": [
    "# Searching for “o” within index 1-5\n",
    "print(vowels.index(\"o\",1,5))\n",
    "#Output - 3"
   ]
  },
  {
   "cell_type": "code",
   "execution_count": 43,
   "id": "324ad87b-ef38-4e22-bee1-a973aa0c0ce0",
   "metadata": {},
   "outputs": [
    {
     "ename": "ValueError",
     "evalue": "'o' is not in list",
     "output_type": "error",
     "traceback": [
      "\u001b[1;31m---------------------------------------------------------------------------\u001b[0m",
      "\u001b[1;31mValueError\u001b[0m                                Traceback (most recent call last)",
      "Cell \u001b[1;32mIn[43], line 2\u001b[0m\n\u001b[0;32m      1\u001b[0m \u001b[38;5;66;03m# Searching for “o” within index 1-3\u001b[39;00m\n\u001b[1;32m----> 2\u001b[0m \u001b[38;5;28mprint\u001b[39m(vowels\u001b[38;5;241m.\u001b[39mindex(\u001b[38;5;124m\"\u001b[39m\u001b[38;5;124mo\u001b[39m\u001b[38;5;124m\"\u001b[39m,\u001b[38;5;241m0\u001b[39m,\u001b[38;5;241m2\u001b[39m))\n",
      "\u001b[1;31mValueError\u001b[0m: 'o' is not in list"
     ]
    }
   ],
   "source": [
    "# Searching for “o” within index 1-3\n",
    "print(vowels.index(\"o\",0,2))\n",
    "# Output - ValueError: 'o' is not in list"
   ]
  },
  {
   "cell_type": "code",
   "execution_count": null,
   "id": "6ee05d84-81c8-41ec-b312-cd6dc21d014a",
   "metadata": {},
   "outputs": [],
   "source": [
    "## Exercise\n",
    "# ask user for a name\n",
    "# output will show that \n",
    "# name is present or not?\n",
    "# if present then\n",
    "    # how much times it appeares in the list?\n",
    "    # show all indices of that name in a list?"
   ]
  },
  {
   "cell_type": "code",
   "execution_count": 47,
   "id": "00ade3af-7216-4890-89fb-0ff9e3c7db6d",
   "metadata": {},
   "outputs": [
    {
     "name": "stdin",
     "output_type": "stream",
     "text": [
      "Enter a name of fruit:  apple\n"
     ]
    },
    {
     "name": "stdout",
     "output_type": "stream",
     "text": [
      "apple comes 3 times in the list\n",
      "apple is present in the list\n",
      "[1, 3, 5]\n"
     ]
    }
   ],
   "source": [
    "fruits=[\"mango\",\"apple\",\"bannana\", \"apple\",\"Peach\",\"apple\"]\n",
    "name = input('Enter a name of fruit: ')\n",
    "indices=[]\n",
    "if name in fruits:\n",
    "    print(f'{name} comes {fruits.count(name)} times in the list')\n",
    "    print(f'{name} is present in the list')\n",
    "    for i in range(len(fruits)):\n",
    "        if fruits[i] == name:\n",
    "            indices.append(i)\n",
    "    print(indices)\n",
    "else:\n",
    "    print(f'{name} is not present in the list')"
   ]
  },
  {
   "cell_type": "code",
   "execution_count": 48,
   "id": "cd861bdd-5a51-43f9-b69d-a33cd53ec735",
   "metadata": {},
   "outputs": [
    {
     "name": "stdout",
     "output_type": "stream",
     "text": [
      "['mango', 'apple', 'bannana', 'peach', 'apple']\n",
      "['apple', 'apple', 'bannana', 'mango', 'peach']\n",
      "['peach', 'mango', 'bannana', 'apple', 'apple']\n"
     ]
    }
   ],
   "source": [
    "## Sort method\n",
    "# to sort our list into alphabetical or numerical order\n",
    "# The sort() method sorts the list ascending by default.\n",
    "\n",
    "fruits=[\"mango\",\"apple\",\"bannana\",\"peach\",\"apple\"]\n",
    "print(fruits)\n",
    "# by default it sort in ascending order\n",
    "fruits.sort()\n",
    "print(fruits)\n",
    "\n",
    "# now it will sort in descending order\n",
    "fruits.sort(reverse=True)\n",
    "print(fruits)"
   ]
  },
  {
   "cell_type": "code",
   "execution_count": 49,
   "id": "b4ad3daf-ca68-44f2-aba7-e2367fc0083c",
   "metadata": {},
   "outputs": [
    {
     "name": "stdout",
     "output_type": "stream",
     "text": [
      "[34, 12, 29, 15, 9, 17, 54, 23]\n",
      "[9, 12, 15, 17, 23, 29, 34, 54]\n",
      "[54, 34, 29, 23, 17, 15, 12, 9]\n"
     ]
    }
   ],
   "source": [
    "roll_numbers = [34,12,29,15,9,17,54,23]\n",
    "print(roll_numbers)\n",
    "roll_numbers.sort()\n",
    "print(roll_numbers)\n",
    "roll_numbers.sort(reverse=True)\n",
    "print(roll_numbers)"
   ]
  },
  {
   "cell_type": "code",
   "execution_count": 50,
   "id": "6118dca4-707c-4ffb-9d6b-e77cafb6d74d",
   "metadata": {},
   "outputs": [
    {
     "name": "stdout",
     "output_type": "stream",
     "text": [
      "['mango', 'apple', 'bannana', 'peach', 'apple']\n",
      "['apple', 'apple', 'bannana', 'mango', 'peach']\n",
      "['mango', 'apple', 'bannana', 'peach', 'apple']\n"
     ]
    }
   ],
   "source": [
    "## Sorted function\n",
    "# If we don’t want to sort our list \n",
    "# but we want to just print in sorted order, \n",
    "# then we will use sorted function\n",
    "# Does not affect the list\n",
    "\n",
    "fruits=[\"mango\",\"apple\",\"bannana\",\"peach\",\"apple\"]\n",
    "print(fruits)\n",
    "print(sorted(fruits))\n",
    "print(fruits)"
   ]
  },
  {
   "cell_type": "code",
   "execution_count": 51,
   "id": "32280738-d5e9-42e4-97f4-38a81096432a",
   "metadata": {},
   "outputs": [
    {
     "name": "stdout",
     "output_type": "stream",
     "text": [
      "['peach', 'bannana', 'apple', 'mango']\n"
     ]
    }
   ],
   "source": [
    "## Reverse method\n",
    "# It is used to reverse the list\n",
    "\n",
    "fruits = [\"mango\", \"apple\", \"bannana\", \"peach\"]\n",
    "fruits. reverse()\n",
    "print(fruits)"
   ]
  },
  {
   "cell_type": "code",
   "execution_count": 52,
   "id": "9c10105a-691c-4755-aec9-14c10585ca8f",
   "metadata": {},
   "outputs": [
    {
     "name": "stdout",
     "output_type": "stream",
     "text": [
      "['mango', 'Apple']\n"
     ]
    }
   ],
   "source": [
    "## Split method\n",
    "# It is used to convert the string into list \n",
    "# (in split, we will tell the character from where we will break the string)\n",
    "\n",
    "fruit = \"mango,Apple\".split(\",\")\n",
    "print(fruit)"
   ]
  },
  {
   "cell_type": "code",
   "execution_count": 53,
   "id": "3583c6aa-dc7e-4abe-a3e1-4473e045475e",
   "metadata": {},
   "outputs": [
    {
     "name": "stdout",
     "output_type": "stream",
     "text": [
      "mango\n",
      "Apple\n"
     ]
    }
   ],
   "source": [
    "fruit1, fruit2 = \"mango,Apple\".split(\",\")\n",
    "print(fruit1)\n",
    "print(fruit2)"
   ]
  },
  {
   "cell_type": "code",
   "execution_count": 54,
   "id": "99cecade-b2da-4ed7-a51b-06fda4df91ab",
   "metadata": {},
   "outputs": [
    {
     "name": "stdout",
     "output_type": "stream",
     "text": [
      "mango,Apple\n"
     ]
    }
   ],
   "source": [
    "## Join method\n",
    "# It is used to convert the list into string\n",
    "\n",
    "fruit = [\"mango\", \"Apple\"]\n",
    "print(\",\".join(fruit))"
   ]
  },
  {
   "cell_type": "code",
   "execution_count": 56,
   "id": "7c93b1e5-6c28-4cf6-a4dc-1007b99bc91d",
   "metadata": {},
   "outputs": [
    {
     "data": {
      "text/plain": [
       "'mango,Apple'"
      ]
     },
     "execution_count": 56,
     "metadata": {},
     "output_type": "execute_result"
    }
   ],
   "source": [
    "\",\".join(fruit)"
   ]
  },
  {
   "cell_type": "code",
   "execution_count": 57,
   "id": "9ec2873b-a2f8-4d1c-8b00-45e9355d7766",
   "metadata": {},
   "outputs": [
    {
     "data": {
      "text/plain": [
       "\"['mango', 'Apple']\""
      ]
     },
     "execution_count": 57,
     "metadata": {},
     "output_type": "execute_result"
    }
   ],
   "source": [
    "fruit = [\"mango\", \"Apple\"]\n",
    "str(fruit)"
   ]
  },
  {
   "cell_type": "code",
   "execution_count": 58,
   "id": "ac4b45f6-e94a-4f9b-a7df-90867b3cd151",
   "metadata": {},
   "outputs": [
    {
     "name": "stdout",
     "output_type": "stream",
     "text": [
      "['m', 'a', 'n', 'g', 'o', ',', 'A', 'p', 'p', 'l', 'e']\n"
     ]
    }
   ],
   "source": [
    "fruit = \"mango,Apple\"\n",
    "\n",
    "print(list(fruit))"
   ]
  },
  {
   "cell_type": "markdown",
   "id": "5ed4ef59-0248-4763-a2d9-1f9611c77eb1",
   "metadata": {},
   "source": [
    "<b>List vs Array</b><br>\n",
    "\n",
    "An array is collection of homogenious items (means we can only store the items of same datatype) while<br>\n",
    "List is collection of hetrogenious items (means we can store the items of different datatype)<br>\n",
    "List is flexible but array is faster<br>\n",
    "In datascience, when speed is priority, then we use the numpy arrays instead of simple arrays,<br>\n",
    "because numpy arrays are very faster due to binding with “C”. (Flexibility of python but speed of C)"
   ]
  },
  {
   "cell_type": "markdown",
   "id": "99b965e4-f87e-4f77-b250-4c4d871d93e4",
   "metadata": {},
   "source": [
    "<b>List vs String</b><br>\n",
    "\n",
    "Lists are mutable while strings are immutable (Cannot change the string)<br>\n",
    "We can add or remove elements from lists but cannot edit string"
   ]
  },
  {
   "cell_type": "code",
   "execution_count": 60,
   "id": "7a1bd1c9-1607-4c6e-af12-66f7e2ba78f6",
   "metadata": {},
   "outputs": [
    {
     "name": "stdout",
     "output_type": "stream",
     "text": [
      "mango\n",
      "Apple\n",
      "bannana\n",
      "Peach\n"
     ]
    }
   ],
   "source": [
    "## Looping in List\n",
    "# We can use list and loops together\n",
    "\n",
    "## for loop\n",
    "fruits = [\"mango\", \"Apple\", \"bannana\", \"Peach\"]\n",
    "for fruit in fruits:\n",
    "    print(fruit)"
   ]
  },
  {
   "cell_type": "code",
   "execution_count": 61,
   "id": "2828d368-0257-402a-b39b-8c2e37d58989",
   "metadata": {},
   "outputs": [
    {
     "name": "stdout",
     "output_type": "stream",
     "text": [
      "[7, 8, 9]\n"
     ]
    }
   ],
   "source": [
    "## List inside List\n",
    "# We can add lists inside the list\n",
    "# Lists can be 2d or 3d\n",
    "\n",
    "matrix = [[1,2,3],[4,5,6],[7,8,9]] #2d list, #3 items --> 3 lists\n",
    "print(matrix[2])"
   ]
  },
  {
   "cell_type": "code",
   "execution_count": 62,
   "id": "e7e2b588-9a17-46bb-bb2b-44484e1e17e0",
   "metadata": {},
   "outputs": [
    {
     "name": "stdout",
     "output_type": "stream",
     "text": [
      "1\n",
      "2\n",
      "3\n",
      "4\n",
      "5\n",
      "6\n",
      "7\n",
      "8\n",
      "9\n"
     ]
    }
   ],
   "source": [
    "# to print sub elements in sequence\n",
    "matrix = [[1,2,3],[4,5,6],[7,8,9]]\n",
    "for sublist in matrix:\n",
    "    for i in sublist:\n",
    "        print(i)"
   ]
  },
  {
   "cell_type": "code",
   "execution_count": 63,
   "id": "2615f8bb-d3d2-41d8-86bb-27ab59258da2",
   "metadata": {},
   "outputs": [
    {
     "name": "stdout",
     "output_type": "stream",
     "text": [
      "6\n"
     ]
    }
   ],
   "source": [
    "# to print specific subitem from 2d list\n",
    "\n",
    "matrix = [[1,2,3],[4,5,6],[7,8,9]]\n",
    "print(matrix[1][2])"
   ]
  },
  {
   "cell_type": "code",
   "execution_count": 64,
   "id": "d20d2ef6-632b-4d3b-b85b-2a9d40d794f7",
   "metadata": {},
   "outputs": [
    {
     "name": "stdout",
     "output_type": "stream",
     "text": [
      "[4, 5, 6]\n"
     ]
    }
   ],
   "source": [
    "print(matrix[1])"
   ]
  },
  {
   "cell_type": "code",
   "execution_count": 65,
   "id": "15c30cb9-5699-4601-a9e7-9c9c06925a0a",
   "metadata": {},
   "outputs": [],
   "source": [
    "### More about lists"
   ]
  },
  {
   "cell_type": "code",
   "execution_count": 66,
   "id": "94712458-fd5a-45d6-99dc-10c9b8947643",
   "metadata": {},
   "outputs": [
    {
     "name": "stdout",
     "output_type": "stream",
     "text": [
      "10.0\n"
     ]
    }
   ],
   "source": [
    "## Sum function\n",
    "# do the sum of all elements\n",
    "mixed = [1,2,3,4.0]\n",
    "print(sum(mixed))"
   ]
  },
  {
   "cell_type": "code",
   "execution_count": 67,
   "id": "ef331555-6432-4276-a020-beaec487b934",
   "metadata": {},
   "outputs": [
    {
     "name": "stdout",
     "output_type": "stream",
     "text": [
      "[1, 2, 3, 4, 5, 6, 7, 8, 9, 10]\n"
     ]
    }
   ],
   "source": [
    "## Generate lists with range function\n",
    "# we can generate list using range and list fuction\n",
    "\n",
    "numbers = list(range(1,11)) \n",
    "print(numbers)"
   ]
  },
  {
   "cell_type": "code",
   "execution_count": 68,
   "id": "2f0fe660-ab5c-4790-86fc-483c9e875800",
   "metadata": {},
   "outputs": [
    {
     "name": "stdout",
     "output_type": "stream",
     "text": [
      "0\n"
     ]
    }
   ],
   "source": [
    "## Index method\n",
    "# Index is used in lists to find the position of an element\n",
    "\n",
    "fruits = [\"mango\", \"apple\", \"bannana\", \"mango\", \"peach\", \"apple\"]\n",
    "print(fruits.index(\"mango\"))"
   ]
  },
  {
   "cell_type": "code",
   "execution_count": 69,
   "id": "b7ecc0fe-978b-4b74-80a9-7f36ffab38f0",
   "metadata": {},
   "outputs": [],
   "source": [
    "## Exercise\n",
    "# Define a function which will take list containing numbers as input\n",
    "# and return list containing negative of every element"
   ]
  },
  {
   "cell_type": "code",
   "execution_count": 3,
   "id": "dd35a8b5-477a-4271-8a08-351839be7c3d",
   "metadata": {},
   "outputs": [
    {
     "name": "stdout",
     "output_type": "stream",
     "text": [
      "[-23, -7, -86]\n"
     ]
    }
   ],
   "source": [
    "# Pass lists to a function\n",
    "\n",
    "def negative_list(l):\n",
    "    negative = []\n",
    "    for i in l:\n",
    "        negative.append(-i)\n",
    "    return negative\n",
    "\n",
    "# numbers = list(range(1,11))\n",
    "numbers = [23,7,86]\n",
    "print(negative_list(numbers))"
   ]
  },
  {
   "cell_type": "code",
   "execution_count": 4,
   "id": "6473f0fb-0b66-4612-b7fb-fc083f025eb3",
   "metadata": {},
   "outputs": [
    {
     "name": "stdout",
     "output_type": "stream",
     "text": [
      "please enter numbers seprated by comma34,45,67,8,76\n",
      "[-34, -45, -67, -8, -76]\n"
     ]
    }
   ],
   "source": [
    "#list taken from user\n",
    "\n",
    "def negative_list(l):\n",
    "    negative = []\n",
    "    for i in l:\n",
    "        negative.append(-int(i))\n",
    "    return negative\n",
    "\n",
    "numbers = input(\"please enter numbers seprated by comma\").split(',')\n",
    "print(negative_list(numbers))"
   ]
  },
  {
   "cell_type": "code",
   "execution_count": null,
   "id": "2fd0d062-b8a2-44f9-9e48-4d663334912d",
   "metadata": {},
   "outputs": [],
   "source": [
    "## Exercise\n",
    "# Define a function which will take list containing numbers as input\n",
    "# and return list containing square of every element"
   ]
  },
  {
   "cell_type": "code",
   "execution_count": 73,
   "id": "562032b5-5c49-46ce-8548-0f6d73b48223",
   "metadata": {},
   "outputs": [
    {
     "name": "stdin",
     "output_type": "stream",
     "text": [
      "please enter numbers seprated by comma 1,4,9\n"
     ]
    },
    {
     "name": "stdout",
     "output_type": "stream",
     "text": [
      "[1, 16, 81]\n"
     ]
    }
   ],
   "source": [
    "#list taken from user\n",
    "\n",
    "def negative_list(l):\n",
    "    negative = []\n",
    "    for i in l:\n",
    "        negative.append(int(i)*int(i))\n",
    "    return negative\n",
    "\n",
    "numbers = input(\"please enter numbers seprated by comma\").split(',')\n",
    "print(negative_list(numbers))"
   ]
  },
  {
   "cell_type": "code",
   "execution_count": 74,
   "id": "7924ffff-6d2e-4220-9eb7-6cba01235bff",
   "metadata": {},
   "outputs": [],
   "source": [
    "## Exercise\n",
    "# Define a function which will take list as argument and \n",
    "# return the reversed list with the help of pop method"
   ]
  },
  {
   "cell_type": "code",
   "execution_count": 75,
   "id": "18c0e83d-69ce-4a09-9367-9f2dec306589",
   "metadata": {},
   "outputs": [
    {
     "name": "stdout",
     "output_type": "stream",
     "text": [
      "reversed list of ['mango', 'apple', 'bannana', 'peach'] is ['peach', 'bannana', 'apple', 'mango']\n"
     ]
    }
   ],
   "source": [
    "# Solution\n",
    "def reverse_list(num_list):\n",
    "    reverse = []\n",
    "    for i in range(len(num_list)):\n",
    "        reverse.append(num_list.pop())\n",
    "    return reverse\n",
    "\n",
    "fruits = [\"mango\", \"apple\", \"bannana\", \"peach\"]\n",
    "print(f\"reversed list of {fruits} is {reverse_list(fruits)}\")"
   ]
  },
  {
   "cell_type": "code",
   "execution_count": null,
   "id": "f77f2b09-b4c2-4a00-8d6a-36f54f03ba21",
   "metadata": {},
   "outputs": [],
   "source": []
  }
 ],
 "metadata": {
  "kernelspec": {
   "display_name": "Python 3 (ipykernel)",
   "language": "python",
   "name": "python3"
  },
  "language_info": {
   "codemirror_mode": {
    "name": "ipython",
    "version": 3
   },
   "file_extension": ".py",
   "mimetype": "text/x-python",
   "name": "python",
   "nbconvert_exporter": "python",
   "pygments_lexer": "ipython3",
   "version": "3.9.12"
  }
 },
 "nbformat": 4,
 "nbformat_minor": 5
}
