{
 "cells": [
  {
   "cell_type": "markdown",
   "id": "514e8fb5-996e-4e10-8166-0e3bfbae0b37",
   "metadata": {},
   "source": [
    "<h2>Enumrate Function</h2>\n",
    "\n",
    "Python enumerate() is a built-in Python function. The enumerate() function <b>allows you to loop over an iterable object and keep track of how many iterations have occurred</b>."
   ]
  },
  {
   "cell_type": "code",
   "execution_count": 2,
   "id": "b4810a13-c641-437f-a41c-e06cb5e66956",
   "metadata": {},
   "outputs": [],
   "source": [
    "# Syntax: \n",
    "\n",
    "# enumerate(iterable, start=0)\n",
    "\n",
    "# Parameters:\n",
    "# Iterable: any object that supports iteration\n",
    "# Start: the index value from which the counter is \n",
    "#               to be started, by default it is 0"
   ]
  },
  {
   "cell_type": "code",
   "execution_count": 3,
   "id": "ec2dea1f-22ee-401a-8c96-5b0cf065e994",
   "metadata": {},
   "outputs": [
    {
     "name": "stdout",
     "output_type": "stream",
     "text": [
      "0 --> apple\n",
      "1 --> mango\n",
      "2 --> banana\n"
     ]
    }
   ],
   "source": [
    "# We use enumerate function with for loop to track position of our item in itrable\n",
    "# We can also check pos without enumerate function but it helps us more\n",
    "\n",
    "fruits = ['apple', 'mango', 'banana']\n",
    "pos = 0\n",
    "for fruit in fruits:\n",
    "    print(f'{pos} --> {fruit}')\n",
    "    pos += 1"
   ]
  },
  {
   "cell_type": "code",
   "execution_count": 4,
   "id": "121008ac-f018-4160-a372-81a35ad86345",
   "metadata": {},
   "outputs": [
    {
     "name": "stdout",
     "output_type": "stream",
     "text": [
      "(0, 'apple')\n",
      "(1, 'mango')\n",
      "(2, 'banana')\n"
     ]
    }
   ],
   "source": [
    "fruits = ['apple', 'mango', 'banana']\n",
    "for fruit in enumerate(fruits):\n",
    "    print(fruit)"
   ]
  },
  {
   "cell_type": "code",
   "execution_count": 5,
   "id": "ee56c7b5-6950-43f5-af0e-a4a3ca6d0ed9",
   "metadata": {},
   "outputs": [
    {
     "name": "stdout",
     "output_type": "stream",
     "text": [
      "(2, 'apple')\n",
      "(3, 'mango')\n",
      "(4, 'banana')\n"
     ]
    }
   ],
   "source": [
    "fruits = ['apple', 'mango', 'banana']\n",
    "for fruit in enumerate(fruits,2):\n",
    "    print(fruit)"
   ]
  },
  {
   "cell_type": "code",
   "execution_count": 10,
   "id": "fd783f6f-e8fa-42a1-9840-b17a38e75116",
   "metadata": {},
   "outputs": [
    {
     "name": "stdout",
     "output_type": "stream",
     "text": [
      "Return type: <class 'enumerate'>\n",
      "<enumerate object at 0x00000109DFBB8310>\n",
      "Return type: <class 'enumerate'>\n",
      "<enumerate object at 0x00000109DFBB86D0>\n"
     ]
    }
   ],
   "source": [
    "# Python program to illustrate enumerate function\n",
    "\n",
    "l1 = [\"eat\", \"sleep\", \"repeat\"]\n",
    "s1 = \"Python\"\n",
    "\n",
    "# creating enumerate objects\n",
    "obj1 = enumerate(l1)\n",
    "obj2 = enumerate(s1)\n",
    "  \n",
    "print (\"Return type:\", type(obj1))\n",
    "print(obj1)\n",
    "print (\"Return type:\", type(obj2))\n",
    "print(obj2)"
   ]
  },
  {
   "cell_type": "code",
   "execution_count": 12,
   "id": "57b9593d-993d-4beb-bdc8-82cde18d5c84",
   "metadata": {},
   "outputs": [],
   "source": [
    "for i in obj1:\n",
    "    print(i)"
   ]
  },
  {
   "cell_type": "code",
   "execution_count": 9,
   "id": "7e7c9fdc-7669-48f1-b993-006a46af7d7d",
   "metadata": {},
   "outputs": [
    {
     "name": "stdout",
     "output_type": "stream",
     "text": [
      "[(0, 'eat'), (1, 'sleep'), (2, 'repeat')]\n",
      "[(0, 'P'), (1, 'y'), (2, 't'), (3, 'h'), (4, 'o'), (5, 'n')]\n"
     ]
    }
   ],
   "source": [
    "print(list(enumerate(l1)))\n",
    "print(list(enumerate(s1)))"
   ]
  },
  {
   "cell_type": "code",
   "execution_count": 13,
   "id": "54b69eb9-2635-4810-8855-e9c522fb73b7",
   "metadata": {},
   "outputs": [
    {
     "name": "stdout",
     "output_type": "stream",
     "text": [
      "100 eat\n",
      "101 sleep\n",
      "102 repeat\n"
     ]
    }
   ],
   "source": [
    "# changing index and printing separately\n",
    "for count, ele in enumerate(l1, 100):\n",
    "    print (count, ele)"
   ]
  },
  {
   "cell_type": "code",
   "execution_count": 14,
   "id": "16657da9-e4b2-477a-8e45-897b40ec7077",
   "metadata": {},
   "outputs": [
    {
     "name": "stdout",
     "output_type": "stream",
     "text": [
      "0\n",
      "eat\n",
      "1\n",
      "sleep\n",
      "2\n",
      "repeat\n"
     ]
    }
   ],
   "source": [
    "# getting desired output from tuple\n",
    "for count, ele in enumerate(l1):\n",
    "    print(count)\n",
    "    print(ele)"
   ]
  },
  {
   "cell_type": "code",
   "execution_count": 15,
   "id": "dfbb006c-afe2-482f-88b5-e1d4e1055ac2",
   "metadata": {},
   "outputs": [],
   "source": [
    "## Exercise\n",
    "# Define a function that take two arguments\n",
    "    # 1- list of fruits ---> ['apple', 'mango', 'banana']\n",
    "    # 2- string that want to find in your list ---> 'apple'\n",
    "# This function will return the index of string in your list and\n",
    "# If string not present, then return -1"
   ]
  },
  {
   "cell_type": "code",
   "execution_count": 17,
   "id": "2e2d09e1-f370-4c03-91af-e011be0110d7",
   "metadata": {},
   "outputs": [
    {
     "name": "stdout",
     "output_type": "stream",
     "text": [
      "-1\n"
     ]
    }
   ],
   "source": [
    "# Solution 1\n",
    "\n",
    "def func(target, s):\n",
    "    for pos, fruit in enumerate(target):\n",
    "        if fruit == s:\n",
    "            return pos\n",
    "    return -1\n",
    "\n",
    "print(func(['apple', 'mango', 'banana'], 'Apple'))"
   ]
  },
  {
   "cell_type": "code",
   "execution_count": null,
   "id": "9d535ef9-3eac-4a25-b356-da3c64abcdac",
   "metadata": {},
   "outputs": [],
   "source": [
    "def func(target, s):\n",
    "    return target.index(s) if s in target else -1\n",
    "\n",
    "print(func(['apple', 'mango', 'banana'], 'apple'))"
   ]
  },
  {
   "cell_type": "code",
   "execution_count": 18,
   "id": "5a99e463-ccb3-4668-9317-c3b38a5372e8",
   "metadata": {},
   "outputs": [
    {
     "name": "stdout",
     "output_type": "stream",
     "text": [
      "0\n"
     ]
    }
   ],
   "source": [
    "func = lambda target, s: target.index(s) if s in target else -1\n",
    "\n",
    "print(func(['apple', 'mango', 'banana'], 'apple'))"
   ]
  },
  {
   "cell_type": "markdown",
   "id": "0027e7cd-572d-4828-842c-b6acfa41a079",
   "metadata": {},
   "source": [
    "### Map Function\n",
    "---\n",
    "Map in Python is <b>a function that works as an iterator to return a result after applying a function to every item of an iterable</b> (tuple, lists, etc.). It is used when you want to apply a single transformation function to all the iterable elements.\n",
    "\n",
    "----\n",
    "\n",
    "map() function returns a map object(which is an iterator) of the results after applying the given function to each item of a given iterable (list, tuple etc.)"
   ]
  },
  {
   "cell_type": "code",
   "execution_count": null,
   "id": "36e818fc-ce23-485b-8e68-9c21385ecc18",
   "metadata": {},
   "outputs": [],
   "source": [
    "def square(l):\n",
    "    new_list = []\n",
    "    for i in l:\n",
    "        new_list.append(i**2)\n",
    "    return new_list\n",
    "\n",
    "numbers = [1, 2, 3, 4, 5]\n",
    "print(square(numbers))"
   ]
  },
  {
   "cell_type": "code",
   "execution_count": 20,
   "id": "43db342a-1a62-4da1-946e-a60599fc90df",
   "metadata": {},
   "outputs": [
    {
     "name": "stdout",
     "output_type": "stream",
     "text": [
      "[1, 4, 9, 16, 25]\n"
     ]
    }
   ],
   "source": [
    "def square(i):\n",
    "    return i**2\n",
    "\n",
    "numbers = [1, 2, 3, 4, 5]\n",
    "\n",
    "print(list(map(square, numbers)))"
   ]
  },
  {
   "cell_type": "code",
   "execution_count": 21,
   "id": "ca3323bd-f4a3-4b76-8379-40084e7294de",
   "metadata": {},
   "outputs": [
    {
     "name": "stdout",
     "output_type": "stream",
     "text": [
      "<map object at 0x00000109DFB8B5B0>\n"
     ]
    }
   ],
   "source": [
    "map_obj = map(square, numbers)\n",
    "print(map_obj)"
   ]
  },
  {
   "cell_type": "code",
   "execution_count": 22,
   "id": "b0379d77-4fa2-48e3-b5ff-0ff3b015f579",
   "metadata": {},
   "outputs": [
    {
     "name": "stdout",
     "output_type": "stream",
     "text": [
      "1\n",
      "4\n",
      "9\n",
      "16\n",
      "25\n"
     ]
    }
   ],
   "source": [
    "for obj in map_obj:\n",
    "    print(obj)"
   ]
  },
  {
   "cell_type": "code",
   "execution_count": 23,
   "id": "b509ea99-cf6c-41bb-b6f8-596ad3d61b8c",
   "metadata": {},
   "outputs": [
    {
     "name": "stdout",
     "output_type": "stream",
     "text": [
      "[2, 4, 6, 8]\n"
     ]
    }
   ],
   "source": [
    "# Return double of n\n",
    "\n",
    "def addition(n):\n",
    "    return n + n\n",
    "  \n",
    "# We double all numbers using map()\n",
    "numbers = (1, 2, 3, 4)\n",
    "result = map(addition, numbers)\n",
    "print(list(result))"
   ]
  },
  {
   "cell_type": "code",
   "execution_count": 24,
   "id": "3c0b7414-8d6c-4400-aa99-a80cc683880b",
   "metadata": {},
   "outputs": [
    {
     "name": "stdout",
     "output_type": "stream",
     "text": [
      "[5, 6, 6]\n"
     ]
    }
   ],
   "source": [
    "# function that returns length of each string\n",
    "\n",
    "def myfunc(n):\n",
    "    return len(n)\n",
    "\n",
    "print(list(map(myfunc, ('apple', 'banana', 'cherry'))))"
   ]
  },
  {
   "cell_type": "code",
   "execution_count": 25,
   "id": "1c464bcb-94c7-4d25-93e1-6dd494909917",
   "metadata": {},
   "outputs": [
    {
     "name": "stdout",
     "output_type": "stream",
     "text": [
      "[5, 5, 6]\n"
     ]
    }
   ],
   "source": [
    "fruits = ['apple', 'Mango', 'banana']\n",
    "length = list(map(len, fruits))\n",
    "print(length)"
   ]
  },
  {
   "cell_type": "code",
   "execution_count": 27,
   "id": "8bdfa44a-4a1b-45dd-b6e8-8dff8e283e35",
   "metadata": {},
   "outputs": [
    {
     "name": "stdout",
     "output_type": "stream",
     "text": [
      "[4, 25, 216, 2401]\n"
     ]
    }
   ],
   "source": [
    "def power_list(exp, base):\n",
    "    result = []\n",
    "    for i in range(len(exp)):\n",
    "        result.append(base[i] ** exp[i])\n",
    "    return result\n",
    "\n",
    "# Example usage\n",
    "exp = [1, 2, 3, 4]\n",
    "base = [4, 5, 6, 7]\n",
    "print(power_list(exp, base))"
   ]
  },
  {
   "cell_type": "code",
   "execution_count": 28,
   "id": "52ed5aa7-ae2d-4cd1-b950-c4911d2f6df4",
   "metadata": {},
   "outputs": [
    {
     "name": "stdout",
     "output_type": "stream",
     "text": [
      "[4, 25, 216, 2401]\n"
     ]
    }
   ],
   "source": [
    "base = [4, 5, 6, 7]\n",
    "exp = [1, 2, 3, 4]\n",
    "\n",
    "print(list(map(pow, base, exp)))"
   ]
  },
  {
   "cell_type": "code",
   "execution_count": 29,
   "id": "a0b3fe02-6142-430d-b1ea-f7fd9bfe4366",
   "metadata": {},
   "outputs": [
    {
     "data": {
      "text/plain": [
       "['Processing', 'Strings', 'With', 'Map']"
      ]
     },
     "execution_count": 29,
     "metadata": {},
     "output_type": "execute_result"
    }
   ],
   "source": [
    "string_it = [\"processing\", \"strings\", \"with\", \"map\"]\n",
    "list(map(str.capitalize, string_it))"
   ]
  },
  {
   "cell_type": "code",
   "execution_count": 30,
   "id": "f615e88b-8ad9-44b2-98ae-faec19ec78ff",
   "metadata": {},
   "outputs": [],
   "source": [
    "# write a function which will double the each element of iterable\n",
    "\n",
    "# write a function which will double the each element of iterable\n",
    "\n",
    "# with simple method"
   ]
  },
  {
   "cell_type": "code",
   "execution_count": 31,
   "id": "3702a88c-097c-42f0-ba71-522f58e496c2",
   "metadata": {},
   "outputs": [
    {
     "name": "stdout",
     "output_type": "stream",
     "text": [
      "[2, 4, 6, 8]\n"
     ]
    }
   ],
   "source": [
    "def double(iterable):\n",
    "    output = []\n",
    "    for i in iterable:\n",
    "        output.append(i+i)\n",
    "    return output\n",
    "\n",
    "numbers = (1, 2, 3, 4)\n",
    "print(double(numbers))"
   ]
  },
  {
   "cell_type": "code",
   "execution_count": 32,
   "id": "0a04f609-89aa-4660-b380-5d61494c8018",
   "metadata": {},
   "outputs": [
    {
     "name": "stdout",
     "output_type": "stream",
     "text": [
      "[2, 4, 6, 8]\n"
     ]
    }
   ],
   "source": [
    "# with list comprehension\n",
    "\n",
    "def double(iterable):\n",
    "    return [i+i for i in iterable]\n",
    "\n",
    "numbers = (1, 2, 3, 4)\n",
    "print(double(numbers))"
   ]
  },
  {
   "cell_type": "code",
   "execution_count": 33,
   "id": "1db63f11-9db9-4789-9920-86835eb365ed",
   "metadata": {},
   "outputs": [
    {
     "name": "stdout",
     "output_type": "stream",
     "text": [
      "2\n",
      "4\n",
      "6\n",
      "8\n"
     ]
    }
   ],
   "source": [
    "# with Lambda function\n",
    "\n",
    "numbers = (1, 2, 3, 4)\n",
    "double = [lambda x=i : x+x for i in numbers]\n",
    "for i in double:\n",
    "    print(i())"
   ]
  },
  {
   "cell_type": "code",
   "execution_count": 34,
   "id": "ab57f0a0-7bb7-44a7-bb2e-f4ccb27e4894",
   "metadata": {},
   "outputs": [
    {
     "name": "stdout",
     "output_type": "stream",
     "text": [
      "[2, 4, 6, 8]\n"
     ]
    }
   ],
   "source": [
    "# We can also use lambda expressions with map to achieve above result.\n",
    "\n",
    "numbers = (1, 2, 3, 4)\n",
    "print(list(map(lambda x: x + x, numbers)))"
   ]
  },
  {
   "cell_type": "code",
   "execution_count": 35,
   "id": "ac881eaf-5ae3-4dbc-a521-413508994148",
   "metadata": {},
   "outputs": [
    {
     "name": "stdout",
     "output_type": "stream",
     "text": [
      "[2, 4, 6, 8]\n"
     ]
    }
   ],
   "source": [
    "# We can also use lambda expressions with map to achieve above result.\n",
    "print(list(map(lambda x: x + x, (1, 2, 3, 4))))"
   ]
  },
  {
   "cell_type": "code",
   "execution_count": null,
   "id": "ea45b684-7396-4c76-a325-2221be194bc1",
   "metadata": {},
   "outputs": [],
   "source": [
    "# Add two lists using map and lambda\n",
    "\n",
    "numbers1 = [1, 2, 3]\n",
    "numbers2 = [4, 5, 6]\n",
    "\n",
    "[5, 7, 9]"
   ]
  },
  {
   "cell_type": "markdown",
   "id": "1dbc60ea-0014-4dbe-bf27-3c9116bb1289",
   "metadata": {},
   "source": [
    "### RegEx or Regular Expressions\n",
    "---\n",
    "A RegEx, or Regular Expression, is a sequence of characters that forms a search pattern.\n",
    "\n",
    "RegEx can be used to check if a string contains the specified search pattern.\n",
    "\n",
    "---\n",
    "<b>RegEx Module<b>\n",
    "\n",
    "Python has a built-in package called <b>re</b>, which can be used to work with Regular Expressions.\n",
    "    \n",
    "<b>Import the re module:</b>"
   ]
  },
  {
   "cell_type": "code",
   "execution_count": 38,
   "id": "03c5c1b6-6709-4f38-9efd-e57ef5ada270",
   "metadata": {},
   "outputs": [],
   "source": [
    "import re"
   ]
  },
  {
   "cell_type": "markdown",
   "id": "9fb7c6f8-5475-42c8-8031-549d09569602",
   "metadata": {},
   "source": [
    "<b>Example:</b>\n",
    "\n",
    "Search the string to see if it starts with \"The\" and ends with \"Spain\":"
   ]
  },
  {
   "cell_type": "code",
   "execution_count": 41,
   "id": "d8edc7f1-0f73-4e4e-a151-fc2728cf4806",
   "metadata": {},
   "outputs": [
    {
     "name": "stdout",
     "output_type": "stream",
     "text": [
      "YES! We have a match!\n"
     ]
    }
   ],
   "source": [
    "txt = \"The rain in Spain.\"\n",
    "x = re.search(\"^The.*Spain.$\", txt)\n",
    "\n",
    "if x:\n",
    "  print(\"YES! We have a match!\")\n",
    "else:\n",
    "  print(\"No match\")"
   ]
  },
  {
   "cell_type": "markdown",
   "id": "4238a466-e58f-4552-a38a-17578f02dfaf",
   "metadata": {},
   "source": [
    "<h2>Metacharacters</h2>\n",
    "\n",
    "Metacharacters are characters with a special meaning:\n",
    "\n",
    "---\n",
    "#### Examples of Metacharacters"
   ]
  },
  {
   "cell_type": "markdown",
   "id": "97bf870e-a399-4072-953c-7e24b357d4a4",
   "metadata": {},
   "source": [
    "#### findall() function\n",
    "---\n",
    "In Python, the findall() function is part of the re module (regular expressions). It is used to search a string for all occurrences of a specific pattern and return them as a list.\n",
    "\n",
    "<b>re.findall(pattern, string) scans the entire string and returns all non-overlapping matches of the pattern as a list of strings.<b>"
   ]
  },
  {
   "cell_type": "code",
   "execution_count": 42,
   "id": "c39d4d88-1ae7-4c1f-aeac-d201fd340c48",
   "metadata": {},
   "outputs": [
    {
     "name": "stdout",
     "output_type": "stream",
     "text": [
      "['h', 'e', 'a', 'i', 'i', 'a', 'i']\n"
     ]
    }
   ],
   "source": [
    "## []\n",
    "# A set of characters\n",
    "\n",
    "txt = \"The rain in Spain\"\n",
    "\n",
    "#Find all lower case characters alphabetically between \"a\" and \"m\":\n",
    "\n",
    "x = re.findall(\"[a-m]\", txt)\n",
    "print(x)"
   ]
  },
  {
   "cell_type": "code",
   "execution_count": 44,
   "id": "e174acf1-90b2-451c-a6a6-b540c7454bbe",
   "metadata": {},
   "outputs": [
    {
     "name": "stdout",
     "output_type": "stream",
     "text": [
      "['5', '9']\n"
     ]
    }
   ],
   "source": [
    "## \\\n",
    "# Signals a special sequence (can also be used to escape special characters)\n",
    "\n",
    "txt = \"That will be 59 dollars\"\n",
    "\n",
    "# Find all digit characters:\n",
    "\n",
    "x = re.findall(r\"\\d\", txt)\n",
    "print(x)"
   ]
  },
  {
   "cell_type": "code",
   "execution_count": 46,
   "id": "50e3d151-dd99-495e-b370-14645054fd3d",
   "metadata": {},
   "outputs": [
    {
     "name": "stdout",
     "output_type": "stream",
     "text": [
      "['hello']\n"
     ]
    }
   ],
   "source": [
    "## .\n",
    "# Any character (except newline character)\n",
    "\n",
    "txt = \"hello planet\"\n",
    "\n",
    "#Search for a sequence that starts with \"he\", followed by two (any) characters, and an \"o\":\n",
    "\n",
    "x = re.findall(\"h...o\", txt)\n",
    "print(x)"
   ]
  },
  {
   "cell_type": "code",
   "execution_count": 50,
   "id": "590555b1-d39f-4814-98f3-f1552c0b8b6d",
   "metadata": {},
   "outputs": [
    {
     "name": "stdout",
     "output_type": "stream",
     "text": [
      "Yes, the string starts with 'hello'\n"
     ]
    }
   ],
   "source": [
    "## ^\n",
    "# Starts with\n",
    "\n",
    "txt = \"hello planet\"\n",
    "\n",
    "#Check if the string starts with 'hello':\n",
    "\n",
    "x = re.findall(\"^h...o\", txt)\n",
    "if x:\n",
    "  print(\"Yes, the string starts with 'hello'\")\n",
    "else:\n",
    "  print(\"No match\")"
   ]
  },
  {
   "cell_type": "code",
   "execution_count": 51,
   "id": "94c0826c-83f1-49ef-a42d-e2a861e49392",
   "metadata": {},
   "outputs": [
    {
     "name": "stdout",
     "output_type": "stream",
     "text": [
      "Yes, the string ends with 'planet'\n"
     ]
    }
   ],
   "source": [
    "## $\n",
    "# Ends with\n",
    "\n",
    "txt = \"hello planet\"\n",
    "\n",
    "#Check if the string ends with 'planet':\n",
    "\n",
    "x = re.findall(\"planet$\", txt)\n",
    "if x:\n",
    "  print(\"Yes, the string ends with 'planet'\")\n",
    "else:\n",
    "  print(\"No match\")"
   ]
  },
  {
   "cell_type": "code",
   "execution_count": 66,
   "id": "d4387206-f6eb-4717-9946-58cef70ca0d2",
   "metadata": {},
   "outputs": [
    {
     "name": "stdout",
     "output_type": "stream",
     "text": [
      "['hello']\n"
     ]
    }
   ],
   "source": [
    "## *\n",
    "# Zero or more occurrences\n",
    "\n",
    "txt = \"hello planet\"\n",
    "\n",
    "#Search for a sequence that starts with \"he\", followed by 0 or more  (any) characters, and an \"o\":\n",
    "\n",
    "x = re.findall(\"h.*o\", txt)\n",
    "\n",
    "print(x)"
   ]
  },
  {
   "cell_type": "code",
   "execution_count": 70,
   "id": "dea2085e-0040-4774-b113-05e0895854b1",
   "metadata": {},
   "outputs": [
    {
     "name": "stdout",
     "output_type": "stream",
     "text": [
      "['hello']\n"
     ]
    }
   ],
   "source": [
    "## +\n",
    "# One or more occurrences\n",
    "\n",
    "txt = \"hello planet\"\n",
    "\n",
    "#Search for a sequence that starts with \"he\", followed by 1 or more  (any) characters, and an \"o\":\n",
    "\n",
    "x = re.findall(\"h.+o\", txt)\n",
    "\n",
    "print(x)"
   ]
  },
  {
   "cell_type": "code",
   "execution_count": 74,
   "id": "942531d5-e472-4faf-959f-4608b20dfd2d",
   "metadata": {},
   "outputs": [
    {
     "name": "stdout",
     "output_type": "stream",
     "text": [
      "[]\n"
     ]
    }
   ],
   "source": [
    "## ?\n",
    "# Zero or one occurrences\n",
    "\n",
    "txt = \"hello planet\"\n",
    "\n",
    "#Search for a sequence that starts with \"he\", followed by 0 or 1  (any) character, and an \"o\":\n",
    "\n",
    "x = re.findall(\"he.?o\", txt)\n",
    "\n",
    "print(x)\n",
    "\n",
    "#This time we got no match, because there were not zero, not one, but two characters between \"he\" and the \"o\""
   ]
  },
  {
   "cell_type": "code",
   "execution_count": 75,
   "id": "7649c59c-7ded-4cd0-9d70-0ec8940962d2",
   "metadata": {},
   "outputs": [
    {
     "name": "stdout",
     "output_type": "stream",
     "text": [
      "['hello']\n"
     ]
    }
   ],
   "source": [
    "## {}\n",
    "# Exactly the specified number of occurrences\n",
    "\n",
    "txt = \"hello planet\"\n",
    "\n",
    "#Search for a sequence that starts with \"he\", followed excactly 2 (any) characters, and an \"o\":\n",
    "\n",
    "x = re.findall(\"he.{2}o\", txt)\n",
    "\n",
    "print(x)"
   ]
  },
  {
   "cell_type": "code",
   "execution_count": 77,
   "id": "cb922f8a-7047-4b1b-9383-2a727073fcd1",
   "metadata": {},
   "outputs": [
    {
     "name": "stdout",
     "output_type": "stream",
     "text": [
      "['falls']\n"
     ]
    }
   ],
   "source": [
    "## |\n",
    "# Either or\n",
    "\n",
    "txt = \"The rain in Spain falls mainly in the plain!\"\n",
    "\n",
    "#Check if the string contains either \"falls\" or \"stays\":\n",
    "\n",
    "x = re.findall(\"falls|stays\", txt)\n",
    "\n",
    "print(x)"
   ]
  },
  {
   "cell_type": "code",
   "execution_count": null,
   "id": "4f55ff0d-c7ca-48ff-83e0-5209e75a5819",
   "metadata": {},
   "outputs": [],
   "source": [
    "## Summary of Metacharacters\n",
    "#01 \\ Signals a special sequence\n",
    "#02 . Any character\n",
    "#03 ^ Starts with\n",
    "#04 $ Ends with\n",
    "#05 * Zero or more occurrences of Character\n",
    "#06 + One or more occurrences of Character\n",
    "#07 ? Zero or one occurrences of Character\n",
    "#08 {} Exactly the specified number of occurrences of Character\n",
    "#09 | Either or"
   ]
  },
  {
   "cell_type": "markdown",
   "id": "803c4a41-e5bc-4404-a0a8-a1ce8f4ec5e7",
   "metadata": {},
   "source": [
    "<h2>Special Sequences</h2>\n",
    "\n",
    "A special sequence is a \\ followed by one of the characters in the list below, and has a special meaning:"
   ]
  },
  {
   "cell_type": "code",
   "execution_count": 79,
   "id": "35319e91-551f-4052-8980-7f238db00f0e",
   "metadata": {},
   "outputs": [
    {
     "name": "stdout",
     "output_type": "stream",
     "text": [
      "['The']\n"
     ]
    }
   ],
   "source": [
    "## \\A\n",
    "# Returns a match if the specified characters are at the beginning of the string\n",
    "\n",
    "txt = \"The rain in Spain\"\n",
    "\n",
    "#Check if the string starts with \"The\":\n",
    "\n",
    "x = re.findall(r\"\\AThe\", txt)\n",
    "\n",
    "print(x)"
   ]
  },
  {
   "cell_type": "code",
   "execution_count": 83,
   "id": "a156c959-86b4-4040-a981-cd09c3a363aa",
   "metadata": {},
   "outputs": [
    {
     "name": "stdout",
     "output_type": "stream",
     "text": [
      "[]\n"
     ]
    }
   ],
   "source": [
    "## \\b\n",
    "# Returns a match where the specified characters are at the beginning or at the end of a word\n",
    "\n",
    "txt = \"The rain in Spain\"\n",
    "\n",
    "#Check if \"ain\" is present at the beginning of a WORD:\n",
    "\n",
    "x = re.findall(r\"\\bain\", txt)\n",
    "\n",
    "print(x)"
   ]
  },
  {
   "cell_type": "code",
   "execution_count": 84,
   "id": "c22c67f9-35ae-47a9-9b44-1c37ee3811c7",
   "metadata": {},
   "outputs": [
    {
     "name": "stdout",
     "output_type": "stream",
     "text": [
      "['ain', 'ain']\n"
     ]
    }
   ],
   "source": [
    "txt = \"The rain in Spain\"\n",
    "\n",
    "#Check if \"ain\" is present at the end of a WORD:\n",
    "\n",
    "x = re.findall(r\"ain\\b\", txt)\n",
    "\n",
    "print(x)"
   ]
  },
  {
   "cell_type": "code",
   "execution_count": 85,
   "id": "61e237df-7289-4986-ae7f-5f585dc4df8e",
   "metadata": {},
   "outputs": [
    {
     "name": "stdout",
     "output_type": "stream",
     "text": [
      "['ain', 'ain']\n"
     ]
    }
   ],
   "source": [
    "## \\B\n",
    "# Returns a match where the specified characters are present, but NOT at the beginning (or at the end) of a word\n",
    "\n",
    "txt = \"The rain in Spain\"\n",
    "\n",
    "#Check if \"ain\" is present, but NOT at the beginning of a word:\n",
    "\n",
    "x = re.findall(r\"\\Bain\", txt)\n",
    "\n",
    "print(x)"
   ]
  },
  {
   "cell_type": "code",
   "execution_count": 86,
   "id": "9201352a-711a-4378-ab72-e0a222484025",
   "metadata": {},
   "outputs": [
    {
     "name": "stdout",
     "output_type": "stream",
     "text": [
      "[]\n"
     ]
    }
   ],
   "source": [
    "#Check if \"ain\" is present, but NOT at the end of a word:\n",
    "\n",
    "x = re.findall(r\"ain\\B\", txt)\n",
    "\n",
    "print(x)"
   ]
  },
  {
   "cell_type": "code",
   "execution_count": 88,
   "id": "9bdfef7e-2899-4001-bd3c-89f8741c52c7",
   "metadata": {},
   "outputs": [
    {
     "name": "stdout",
     "output_type": "stream",
     "text": [
      "[]\n"
     ]
    }
   ],
   "source": [
    "## \\d\n",
    "# Returns a match where the string contains digits (numbers from 0-9)\n",
    "\n",
    "txt = \"The rain in Spain\"\n",
    "\n",
    "#Check if the string contains any digits (numbers from 0-9):\n",
    "\n",
    "x = re.findall(r\"\\d\", txt)\n",
    "\n",
    "print(x)"
   ]
  },
  {
   "cell_type": "code",
   "execution_count": 90,
   "id": "9e701474-b5ba-493e-99ca-0fbc9b8068ff",
   "metadata": {},
   "outputs": [
    {
     "name": "stdout",
     "output_type": "stream",
     "text": [
      "['T', 'h', 'e', ' ', 'r', 'a', 'i', 'n', ' ', 'i', 'n', ' ', 'S', 'p', 'a', 'i', 'n']\n"
     ]
    }
   ],
   "source": [
    "## \\D\n",
    "# Returns a match where the string DOES NOT contain digits\n",
    "\n",
    "txt = \"The rain in Spain\"\n",
    "\n",
    "#Return a match at every no-digit character:\n",
    "\n",
    "x = re.findall(r\"\\D\", txt)\n",
    "\n",
    "print(x)"
   ]
  },
  {
   "cell_type": "code",
   "execution_count": 91,
   "id": "7f27dc15-46c4-4c6c-9cf7-37da0335f00e",
   "metadata": {},
   "outputs": [
    {
     "name": "stdout",
     "output_type": "stream",
     "text": [
      "[' ', ' ', ' ']\n"
     ]
    }
   ],
   "source": [
    "## \\s\n",
    "# Returns a match where the string contains a white space character\n",
    "\n",
    "txt = \"The rain in Spain\"\n",
    "\n",
    "#Return a match at every white-space character:\n",
    "\n",
    "x = re.findall(r\"\\s\", txt)\n",
    "\n",
    "print(x)"
   ]
  },
  {
   "cell_type": "code",
   "execution_count": 92,
   "id": "cfdd5ff4-6472-46eb-8384-143f607b6913",
   "metadata": {},
   "outputs": [
    {
     "name": "stdout",
     "output_type": "stream",
     "text": [
      "['T', 'h', 'e', 'r', 'a', 'i', 'n', 'i', 'n', 'S', 'p', 'a', 'i', 'n']\n"
     ]
    }
   ],
   "source": [
    "## \\S\n",
    "# Returns a match where the string DOES NOT contain a white space character\n",
    "\n",
    "txt = \"The rain in Spain\"\n",
    "\n",
    "#Return a match at every NON white-space character:\n",
    "\n",
    "x = re.findall(r\"\\S\", txt)\n",
    "\n",
    "print(x)"
   ]
  },
  {
   "cell_type": "code",
   "execution_count": 93,
   "id": "e71b2c6a-2cad-4cc8-987e-4d2d4ba26263",
   "metadata": {},
   "outputs": [
    {
     "name": "stdout",
     "output_type": "stream",
     "text": [
      "['T', 'h', 'e', 'r', 'a', 'i', 'n', 'i', 'n', 'S', 'p', 'a', 'i', 'n']\n"
     ]
    }
   ],
   "source": [
    "## \\w\n",
    "# Returns a match where the string contains any word characters (characters from a to Z, digits from 0-9, and the underscore _ character)\n",
    "\n",
    "txt = \"The rain in Spain\"\n",
    "\n",
    "#Return a match at every word character (characters from a to Z, digits from 0-9, and the underscore _ character):\n",
    "\n",
    "x = re.findall(r\"\\w\", txt)\n",
    "\n",
    "print(x)"
   ]
  },
  {
   "cell_type": "code",
   "execution_count": 95,
   "id": "abcaefcc-a886-40c5-842b-efc410aa8364",
   "metadata": {},
   "outputs": [
    {
     "name": "stdout",
     "output_type": "stream",
     "text": [
      "[' ', ' ', ' ']\n"
     ]
    }
   ],
   "source": [
    "## \\W\n",
    "# Returns a match where the string DOES NOT contain any word characters\n",
    "\n",
    "txt = \"The rain in Spain\"\n",
    "\n",
    "#Return a match at every NON word character (characters NOT between a and Z. Like \"!\", \"?\" white-space etc.):\n",
    "\n",
    "x = re.findall(r\"\\W\", txt)\n",
    "\n",
    "print(x)"
   ]
  },
  {
   "cell_type": "code",
   "execution_count": 96,
   "id": "2f39b493-39a8-46db-aadb-79a9aaa44f18",
   "metadata": {},
   "outputs": [
    {
     "name": "stdout",
     "output_type": "stream",
     "text": [
      "['Spain']\n"
     ]
    }
   ],
   "source": [
    "## \\Z\n",
    "# Returns a match if the specified characters are at the end of the string\n",
    "\n",
    "txt = \"The rain in Spain\"\n",
    "\n",
    "#Check if the string ends with \"Spain\":\n",
    "\n",
    "x = re.findall(r\"Spain\\Z\", txt)\n",
    "\n",
    "print(x)"
   ]
  },
  {
   "cell_type": "code",
   "execution_count": null,
   "id": "4c0a1b12-0ca4-498a-bb71-9df46d0a27eb",
   "metadata": {},
   "outputs": [],
   "source": [
    "## Summary of Special Sequences\n",
    "#01 \\A Returns a match if the specified characters are at the beginning of the string\n",
    "#02 \\b Returns a match where the specified characters are at the beginning or at the end of a word\n",
    "#03 \\B inverse of \\b, Returns a match where the specified characters are present, but NOT at the beginning (or at the end) of a word\n",
    "#04 \\d Returns a match where the string contains digits (numbers from 0-9)\n",
    "#05 \\D Returns a match where the string DOES NOT contain digits.\n",
    "#06 \\s Returns a match where the string contains a white space character\n",
    "#07 \\S Returns a match where the string DOES NOT contain a white space character\n",
    "#08 \\w Returns a match where the string contains any word characters (characters from a to Z, digits from 0-9, and the underscore _ character)\n",
    "#09 \\W Returns a match where the string DOES NOT contain any word characters\n",
    "#10 \\Z Returns a match if the specified characters are at the end of the string"
   ]
  }
 ],
 "metadata": {
  "kernelspec": {
   "display_name": "Python 3 (ipykernel)",
   "language": "python",
   "name": "python3"
  },
  "language_info": {
   "codemirror_mode": {
    "name": "ipython",
    "version": 3
   },
   "file_extension": ".py",
   "mimetype": "text/x-python",
   "name": "python",
   "nbconvert_exporter": "python",
   "pygments_lexer": "ipython3",
   "version": "3.12.7"
  }
 },
 "nbformat": 4,
 "nbformat_minor": 5
}
