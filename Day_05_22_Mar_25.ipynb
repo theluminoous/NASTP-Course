{
 "cells": [
  {
   "cell_type": "code",
   "execution_count": 1,
   "id": "453e5791-2c0c-44fa-b875-ce0c793b84dc",
   "metadata": {},
   "outputs": [],
   "source": [
    "## Exercise\n",
    "# Define a function which will take list as argument and \n",
    "# return the reversed list with the help of pop method"
   ]
  },
  {
   "cell_type": "code",
   "execution_count": 2,
   "id": "94883dcc-ce23-41db-895f-d21795b84db1",
   "metadata": {},
   "outputs": [
    {
     "name": "stdout",
     "output_type": "stream",
     "text": [
      "reversed list of ['mango', 'apple', 'bannana', 'peach'] is ['peach', 'bannana', 'apple', 'mango']\n"
     ]
    }
   ],
   "source": [
    "# Solution\n",
    "def reverse_list(num_list):\n",
    "    reverse = []\n",
    "    for i in range(len(num_list)):\n",
    "        reverse.append(num_list.pop())\n",
    "    return reverse\n",
    "\n",
    "fruits = [\"mango\", \"apple\", \"bannana\", \"peach\"]\n",
    "print(f\"reversed list of {fruits} is {reverse_list(fruits)}\")"
   ]
  },
  {
   "cell_type": "code",
   "execution_count": 3,
   "id": "27d97d50-5c49-4db4-a64f-8a5d00cca962",
   "metadata": {},
   "outputs": [],
   "source": [
    "## Exercise\n",
    "# Define a function that take list of words as argument and \n",
    "# return list with reverse of every element in that list"
   ]
  },
  {
   "cell_type": "code",
   "execution_count": 4,
   "id": "92bd235d-bf8d-4efa-a2c2-56d8a92a4050",
   "metadata": {},
   "outputs": [
    {
     "name": "stdout",
     "output_type": "stream",
     "text": [
      "['yrrebwarts', 'elppa', 'anannab', 'hcaep']\n"
     ]
    }
   ],
   "source": [
    "## Solution\n",
    "def reverse_list(fruits):\n",
    "    reversed_list = []\n",
    "    for fruit in fruits:\n",
    "        reversed_list.append(fruit[::-1])\n",
    "    return reversed_list\n",
    "\n",
    "fruits = [\"strawberry\", \"apple\", \"bannana\", \"peach\"]\n",
    "print(reverse_list(fruits))"
   ]
  },
  {
   "cell_type": "code",
   "execution_count": 6,
   "id": "be717817-d1de-4c19-a1dd-b910f630b215",
   "metadata": {},
   "outputs": [
    {
     "name": "stdout",
     "output_type": "stream",
     "text": [
      "['yrrebwarts', 'elppa', 'anannab', 'hcaep']\n"
     ]
    }
   ],
   "source": [
    "## Solution\n",
    "def reverse_list(fruits):\n",
    "    reversed_list = []\n",
    "    for fruit in fruits:\n",
    "        reversed_list.append(fruit[::-1])\n",
    "    print(reversed_list)\n",
    "\n",
    "fruits = [\"strawberry\", \"apple\", \"bannana\", \"peach\"]\n",
    "reverse_list(fruits)"
   ]
  },
  {
   "cell_type": "code",
   "execution_count": 12,
   "id": "aee225df-49f3-412e-82e3-fb54d6765a95",
   "metadata": {},
   "outputs": [
    {
     "name": "stdout",
     "output_type": "stream",
     "text": [
      "yrrebwarts\n"
     ]
    }
   ],
   "source": [
    "fruit = \"strawberry\"\n",
    "print(fruit[::-1])"
   ]
  },
  {
   "cell_type": "code",
   "execution_count": null,
   "id": "e420be5b-727d-42f3-aab7-a36ad9e441a1",
   "metadata": {},
   "outputs": [],
   "source": [
    "## Exercise\n",
    "# Filter odd even\n",
    "# Define a function which will take a list of numbers as an argument \n",
    "# and return a list having 2 sublists odd and even"
   ]
  },
  {
   "cell_type": "code",
   "execution_count": null,
   "id": "ae652d10-94f8-4b52-b7cf-793cee53c407",
   "metadata": {},
   "outputs": [],
   "source": [
    "## Solution\n",
    "def odd_even_filter(n):\n",
    "    numbers = []\n",
    "    odd = []\n",
    "    even = []\n",
    "    for i in n:\n",
    "        if i % 2 == 0:\n",
    "            even.append(i)\n",
    "        elif i % 2 == 1:\n",
    "            odd.append(i)\n",
    "    numbers.append(odd)\n",
    "    numbers.append(even)\n",
    "    return numbers\n",
    "\n",
    "numbers = [0,1,2,3,4,5,6,7,8,9]\n",
    "print(odd_even_filter(numbers))"
   ]
  },
  {
   "cell_type": "code",
   "execution_count": null,
   "id": "ec153b99-47c8-47cd-9bea-b521f3a35a0a",
   "metadata": {},
   "outputs": [],
   "source": [
    "## Solution\n",
    "def odd_even_filter(n):\n",
    "    numbers = []\n",
    "    odd = []\n",
    "    even = []\n",
    "    for i in n:\n",
    "        if i % 2 == 0:\n",
    "            even.append(i)\n",
    "        elif i % 2 == 1:\n",
    "            odd.append(i)\n",
    "    numbers.append(odd)\n",
    "    numbers.append(even)\n",
    "    return numbers\n",
    "\n",
    "numbers = [0,1,2,3,4,5,6,7,8,9]\n",
    "print(odd_even_filter(numbers))"
   ]
  },
  {
   "cell_type": "code",
   "execution_count": null,
   "id": "953c57a6-dfa5-46e6-bb23-de7a0ba0ab62",
   "metadata": {},
   "outputs": [],
   "source": [
    "## Exercise\n",
    "# Common element finder function\n",
    "# Define a function, which takes 2 lists as input and\n",
    "# Return a list, which contains common elements of both"
   ]
  },
  {
   "cell_type": "code",
   "execution_count": 13,
   "id": "a218f824-0e06-4467-9484-1aea434d863b",
   "metadata": {},
   "outputs": [
    {
     "name": "stdout",
     "output_type": "stream",
     "text": [
      "[5, 6]\n"
     ]
    }
   ],
   "source": [
    "def common_finder(n1,n2):\n",
    "    common_numbers = []\n",
    "    for i in n1:\n",
    "        if i in n2:\n",
    "            common_numbers.append(i)\n",
    "    return common_numbers\n",
    "\n",
    "print(common_finder([0, 1, 2, 3, 4, 5, 6], [5, 6, 7, 8, 9, 10]))"
   ]
  },
  {
   "cell_type": "code",
   "execution_count": null,
   "id": "031a1b9d-245b-4370-9940-862a881ba687",
   "metadata": {},
   "outputs": [],
   "source": [
    "def common_finder(n1,n2):\n",
    "    common_numbers = []\n",
    "    for i in n1:\n",
    "        for j in n2:\n",
    "            if i == j:\n",
    "              common_numbers.append(i)\n",
    "    return common_numbers\n",
    "\n",
    "print(common_finder([0, 1, 2, 3, 4, 5, 6], [5, 6, 7, 8, 9, 10]))"
   ]
  },
  {
   "cell_type": "code",
   "execution_count": null,
   "id": "f58d6360-b151-4ca9-b348-4d6086ad6a8c",
   "metadata": {},
   "outputs": [],
   "source": [
    "## Exercise\n",
    "# Write a function which will take a list as input arguments and tells\n",
    "# How much sub lists contains it"
   ]
  },
  {
   "cell_type": "code",
   "execution_count": 14,
   "id": "d347fc0b-4f63-455d-8ace-bc11e2f1ba50",
   "metadata": {},
   "outputs": [
    {
     "name": "stdout",
     "output_type": "stream",
     "text": [
      "3\n"
     ]
    }
   ],
   "source": [
    "def sub_list_finder(l):\n",
    "    count = 0\n",
    "    for i in l:\n",
    "        if type(i) == list:\n",
    "            count += 1\n",
    "    return count\n",
    "\n",
    "mixed = [\"apple\",\"mango\",[1, 2, 3], \"peech\", [4, 5, 6], 1, 2, 3, [7, 8, 9]]\n",
    "print(sub_list_finder(mixed))"
   ]
  },
  {
   "cell_type": "code",
   "execution_count": 18,
   "id": "201854db-f271-4e7e-814a-e1ca2c9fbe54",
   "metadata": {},
   "outputs": [
    {
     "name": "stdout",
     "output_type": "stream",
     "text": [
      "<class 'float'>\n"
     ]
    }
   ],
   "source": [
    "print(type(1.0))"
   ]
  },
  {
   "cell_type": "markdown",
   "id": "e0b4c325-d91c-4b65-92c6-2eb5955213d6",
   "metadata": {},
   "source": [
    "### Tuples\n",
    "\n",
    "###### Tuple is also a data structer, used to store any data type\n",
    "###### we can store any type of data in tuples\n",
    "###### But, tuples are immutable (once created, then cann’t change) \n",
    "###### but main reason to use is that tuples are faster\n",
    "###### Paranthesis() are used for tuple\n",
    "######     Example = (‘one’,’two’)\n",
    "###### We used when we know data will not changed"
   ]
  },
  {
   "cell_type": "code",
   "execution_count": 19,
   "id": "f3541959-f46c-4713-abd2-7b7247bb2049",
   "metadata": {},
   "outputs": [],
   "source": [
    "## Methods for tuples\n",
    "# count()\n",
    "# index()\n",
    "# len()\n",
    "# slicing\n",
    "# min()\n",
    "# max()\n",
    "# sum()"
   ]
  },
  {
   "cell_type": "code",
   "execution_count": 20,
   "id": "5a210e04-2462-4902-8433-f1395f61ace0",
   "metadata": {},
   "outputs": [
    {
     "name": "stdout",
     "output_type": "stream",
     "text": [
      "1\n"
     ]
    }
   ],
   "source": [
    "# count function\n",
    "## count the specific value in tuple\n",
    "mixed = (1,2,3,4.0)\n",
    "print(mixed.count(3))"
   ]
  },
  {
   "cell_type": "code",
   "execution_count": 21,
   "id": "b1190294-aaad-47fe-991c-15d09cef35da",
   "metadata": {},
   "outputs": [
    {
     "name": "stdout",
     "output_type": "stream",
     "text": [
      "2\n"
     ]
    }
   ],
   "source": [
    "## index function\n",
    "# returns the index number of specific value in tuple\n",
    "print(mixed.index(3))"
   ]
  },
  {
   "cell_type": "code",
   "execution_count": 22,
   "id": "cf470121-0cb3-4d53-a068-20f8633fa227",
   "metadata": {},
   "outputs": [
    {
     "name": "stdout",
     "output_type": "stream",
     "text": [
      "4\n"
     ]
    }
   ],
   "source": [
    "## length function\n",
    "# returns the size of tuple\n",
    "print(len(mixed))"
   ]
  },
  {
   "cell_type": "code",
   "execution_count": 23,
   "id": "bdb729cf-9c20-466b-9fbf-6ac96c0afe2d",
   "metadata": {},
   "outputs": [
    {
     "name": "stdout",
     "output_type": "stream",
     "text": [
      "(2, 3)\n"
     ]
    }
   ],
   "source": [
    "## slicing\n",
    "# returns given slice from tuple\n",
    "mixed = (1,2,3,4.0)\n",
    "print(mixed[1:3])"
   ]
  },
  {
   "cell_type": "code",
   "execution_count": 24,
   "id": "575a1667-8f52-4e4c-aeb9-36cb3471dbbc",
   "metadata": {},
   "outputs": [
    {
     "name": "stdout",
     "output_type": "stream",
     "text": [
      "1\n"
     ]
    }
   ],
   "source": [
    "## min function\n",
    "# returns minimum element from tuple\n",
    "print(min(mixed))"
   ]
  },
  {
   "cell_type": "code",
   "execution_count": 25,
   "id": "659a4f35-42e6-41a5-95d9-a6cf43d0678f",
   "metadata": {},
   "outputs": [
    {
     "name": "stdout",
     "output_type": "stream",
     "text": [
      "4.0\n"
     ]
    }
   ],
   "source": [
    "## max function\n",
    "# returns maximum element from tuple\n",
    "print(max(mixed))"
   ]
  },
  {
   "cell_type": "code",
   "execution_count": 26,
   "id": "f0af3752-e53e-484a-b9f9-4612a21a1e93",
   "metadata": {},
   "outputs": [
    {
     "name": "stdout",
     "output_type": "stream",
     "text": [
      "10.0\n"
     ]
    }
   ],
   "source": [
    "## sum function\n",
    "# it sums the all elements of tuple\n",
    "mixed = (1,2,3,4.0)\n",
    "print(sum(mixed))"
   ]
  },
  {
   "cell_type": "code",
   "execution_count": 27,
   "id": "dbeb8282-7360-47cf-866a-34218fd5e451",
   "metadata": {},
   "outputs": [
    {
     "name": "stdout",
     "output_type": "stream",
     "text": [
      "1\n",
      "2\n",
      "3\n",
      "4.0\n"
     ]
    }
   ],
   "source": [
    "# We can use both for and while loops in tuples\n",
    "mixed = (1,2,3,4.0)\n",
    "for i in mixed:\n",
    "    print(i)"
   ]
  },
  {
   "cell_type": "code",
   "execution_count": 28,
   "id": "9b337c8f-bffd-4bc2-8611-31281a23a779",
   "metadata": {},
   "outputs": [
    {
     "name": "stdout",
     "output_type": "stream",
     "text": [
      "<class 'int'>\n",
      "<class 'tuple'>\n"
     ]
    }
   ],
   "source": [
    "## Tuples with one element\n",
    "# We can creat tuple of one element, but we have to place a comma at the end of element\n",
    "# Otherwise, it will be considered as a single variable\n",
    "\n",
    "num = (1)           #single variable\n",
    "print(type(num))\n",
    "\n",
    "num = (1,)          #tuple\n",
    "print(type(num))"
   ]
  },
  {
   "cell_type": "code",
   "execution_count": 29,
   "id": "1c71c7e7-1af5-4982-a6c1-56f6a681cfc4",
   "metadata": {},
   "outputs": [
    {
     "name": "stdout",
     "output_type": "stream",
     "text": [
      "<class 'tuple'>\n"
     ]
    }
   ],
   "source": [
    "num = 1,2,3           #single variable\n",
    "print(type(num))"
   ]
  },
  {
   "cell_type": "code",
   "execution_count": 30,
   "id": "f17bb42c-a154-4b63-a742-5aa404993d35",
   "metadata": {},
   "outputs": [
    {
     "name": "stdout",
     "output_type": "stream",
     "text": [
      "<class 'tuple'>\n"
     ]
    }
   ],
   "source": [
    "# Tuple can also be created without parenthesis ()\n",
    "num = 1,2,3,4.0\n",
    "print(type(num))"
   ]
  },
  {
   "cell_type": "code",
   "execution_count": 31,
   "id": "535cd859-5141-4931-b39c-c3c6e7ad5bf4",
   "metadata": {},
   "outputs": [
    {
     "name": "stdout",
     "output_type": "stream",
     "text": [
      "2\n"
     ]
    }
   ],
   "source": [
    "# Tuple can also be splited to single variables\n",
    "# variables amount will be equal to elements of tuple, otherwise it will give error\n",
    "\n",
    "num = (1,2,3,4.0)\n",
    "num1, num2, num3, num4 = (num)\n",
    "print(num2)"
   ]
  },
  {
   "cell_type": "code",
   "execution_count": 32,
   "id": "3e97173a-cd43-43d9-a603-494e902fd957",
   "metadata": {},
   "outputs": [
    {
     "name": "stdout",
     "output_type": "stream",
     "text": [
      "(1, 2, 3, ['mango', 'apple', 'bannana', 'peach'], 4.0)\n",
      "['mango', 'apple', 'bannana', 'peach']\n",
      "['mango', 'apple', 'bannana']\n",
      "(1, 2, 3, ['mango', 'apple', 'peech', 'bannana'], 4.0)\n"
     ]
    }
   ],
   "source": [
    "# Tuples are immutable but as tuple can also contain list, so we can modify the data of that list\n",
    "\n",
    "mixed = (1, 2, 3, [\"mango\", \"apple\", \"bannana\", \"peach\"], 4.0)\n",
    "print(mixed)\n",
    "\n",
    "item = mixed[3]\n",
    "print(item)\n",
    "item.pop()\n",
    "print(item)\n",
    "\n",
    "mixed[3].insert(2, \"peech\")\n",
    "print(mixed)"
   ]
  },
  {
   "cell_type": "code",
   "execution_count": 33,
   "id": "5c68a183-ee33-4e3f-8016-a045cfe4543e",
   "metadata": {},
   "outputs": [
    {
     "name": "stdout",
     "output_type": "stream",
     "text": [
      "(9, 20, 0.8)\n"
     ]
    }
   ],
   "source": [
    "## function returning two values\n",
    "# When we return two or more values in function, it gives them as one value in tuple form, \n",
    "\n",
    "def calculation(int1,int2):\n",
    "    add = int1 + int2\n",
    "    mul =  int1 * int2\n",
    "    div = int1 / int2\n",
    "    return add, mul, div\n",
    "\n",
    "print(calculation(4,5))"
   ]
  },
  {
   "cell_type": "code",
   "execution_count": 34,
   "id": "e53ac684-b73a-41d6-ac3c-12c7e929b889",
   "metadata": {},
   "outputs": [
    {
     "name": "stdout",
     "output_type": "stream",
     "text": [
      "9\n",
      "20\n",
      "0.8\n"
     ]
    }
   ],
   "source": [
    "# If you want to get them as seprated values, then make seprate variables while calling function\n",
    "\n",
    "def calculation(int1,int2):\n",
    "    add = int1 + int2\n",
    "    mul =  int1 * int2\n",
    "    div = int1 / int2\n",
    "    return add, mul, div\n",
    "\n",
    "add, mul, div = (calculation(4,5))\n",
    "print(add)\n",
    "print(mul)\n",
    "print(div)"
   ]
  },
  {
   "cell_type": "code",
   "execution_count": 36,
   "id": "3ffc8603-05c0-45a9-8a8d-9b051f19da68",
   "metadata": {},
   "outputs": [
    {
     "name": "stdout",
     "output_type": "stream",
     "text": [
      "range(0, 9)\n"
     ]
    }
   ],
   "source": [
    "print(range(0,9))"
   ]
  },
  {
   "cell_type": "code",
   "execution_count": 37,
   "id": "1cd443cc-e6e5-476e-9a07-f888092c39ce",
   "metadata": {},
   "outputs": [
    {
     "name": "stdout",
     "output_type": "stream",
     "text": [
      "(1, 2, 3, 4, 5, 6, 7, 8, 9, 10)\n"
     ]
    }
   ],
   "source": [
    "# We can use range() function to make tupple with the help of tuple function\n",
    "\n",
    "numbers = tuple(range(1,11))\n",
    "print(numbers)"
   ]
  },
  {
   "cell_type": "code",
   "execution_count": 38,
   "id": "fc17887b-acc4-4a54-9865-ad2aaea8b9c8",
   "metadata": {},
   "outputs": [
    {
     "name": "stdout",
     "output_type": "stream",
     "text": [
      "[1, 2, 3, 4, 5, 6, 7, 8, 9, 10]\n"
     ]
    }
   ],
   "source": [
    "numbers = list(range(1,11))\n",
    "print(numbers)"
   ]
  },
  {
   "cell_type": "code",
   "execution_count": 39,
   "id": "4bf0a7be-25ec-40b0-95fb-9a72e731fc7d",
   "metadata": {},
   "outputs": [
    {
     "data": {
      "text/plain": [
       "[1, 2, 3, 4, 5, 6, 7, 8, 9, 10]"
      ]
     },
     "execution_count": 39,
     "metadata": {},
     "output_type": "execute_result"
    }
   ],
   "source": [
    "# We can change tupple to list, string or other types by using relative functions and vice versa\n",
    "\n",
    "numbers = (1, 2, 3, 4, 5, 6, 7, 8, 9, 10)\n",
    "list(numbers)"
   ]
  },
  {
   "cell_type": "code",
   "execution_count": 40,
   "id": "ce849d26-ff60-4125-bd11-a81090c48699",
   "metadata": {},
   "outputs": [
    {
     "data": {
      "text/plain": [
       "'(1, 2, 3, 4, 5, 6, 7, 8, 9, 10)'"
      ]
     },
     "execution_count": 40,
     "metadata": {},
     "output_type": "execute_result"
    }
   ],
   "source": [
    "str(numbers)"
   ]
  },
  {
   "cell_type": "code",
   "execution_count": null,
   "id": "21d01cc4-69a2-4914-9472-51027185bca0",
   "metadata": {},
   "outputs": [],
   "source": [
    "## Exercise\n",
    "\n",
    "# ask user for starting and ending number for list creation\n",
    "# make a function which will take that list of numbers\n",
    "# and function will return a list containing number's cube in each tuple\n",
    "# Forexample\n",
    "    # input-->[1,2,3]\n",
    "    # output-->[(1,1),(2,8)(3,27)]"
   ]
  },
  {
   "cell_type": "code",
   "execution_count": 41,
   "id": "b9594b7c-3ece-4da4-814e-9696c4ab158c",
   "metadata": {},
   "outputs": [
    {
     "name": "stdin",
     "output_type": "stream",
     "text": [
      "Enter starting number for list creation:  56\n",
      "Enbter ending number for list creation:  90\n"
     ]
    },
    {
     "name": "stdout",
     "output_type": "stream",
     "text": [
      "[(56, 175616), (57, 185193), (58, 195112), (59, 205379), (60, 216000), (61, 226981), (62, 238328), (63, 250047), (64, 262144), (65, 274625), (66, 287496), (67, 300763), (68, 314432), (69, 328509), (70, 343000), (71, 357911), (72, 373248), (73, 389017), (74, 405224), (75, 421875), (76, 438976), (77, 456533), (78, 474552), (79, 493039), (80, 512000), (81, 531441), (82, 551368), (83, 571787), (84, 592704), (85, 614125), (86, 636056), (87, 658503), (88, 681472), (89, 704969), (90, 729000)]\n"
     ]
    }
   ],
   "source": [
    "## Solution 1\n",
    "\n",
    "def num_cube(lst):\n",
    "    new_list = []\n",
    "    for val in lst:\n",
    "        new_list.append((val, pow(val, 3)))\n",
    "    print(new_list)\n",
    "\n",
    "    \n",
    "start=int(input('Enter starting number for list creation: '))\n",
    "end=int(input('Enbter ending number for list creation: '))\n",
    "numbers = list(range(start,end+1))\n",
    "num_cube(numbers)"
   ]
  },
  {
   "cell_type": "code",
   "execution_count": 42,
   "id": "9c48a334-5497-44aa-904b-cd05ab81665b",
   "metadata": {},
   "outputs": [
    {
     "name": "stdin",
     "output_type": "stream",
     "text": [
      "Enter starting number for list creation:  23\n",
      "Enbter ending number for list creation:  56\n"
     ]
    },
    {
     "name": "stdout",
     "output_type": "stream",
     "text": [
      "[(23, 12167), (24, 13824), (25, 15625), (26, 17576), (27, 19683), (28, 21952), (29, 24389), (30, 27000), (31, 29791), (32, 32768), (33, 35937), (34, 39304), (35, 42875), (36, 46656), (37, 50653), (38, 54872), (39, 59319), (40, 64000), (41, 68921), (42, 74088), (43, 79507), (44, 85184), (45, 91125), (46, 97336), (47, 103823), (48, 110592), (49, 117649), (50, 125000), (51, 132651), (52, 140608), (53, 148877), (54, 157464), (55, 166375), (56, 175616)]\n"
     ]
    }
   ],
   "source": [
    "## Solution 2\n",
    "\n",
    "def num_cube(lst):\n",
    "    new_list = []\n",
    "    for val in lst:\n",
    "        new_list.append((val,val**3))\n",
    "    return new_list\n",
    "\n",
    "    \n",
    "start=int(input('Enter starting number for list creation: '))\n",
    "end=int(input('Enbter ending number for list creation: '))\n",
    "numbers = list(range(start,end+1))\n",
    "print(num_cube(numbers))"
   ]
  },
  {
   "cell_type": "markdown",
   "id": "a3b39aa0-7c5a-4700-b6d9-c5895e0f466e",
   "metadata": {},
   "source": [
    "#### Summary of Tuples\n",
    "---\n",
    "###### Tuples are immutable\n",
    "###### Tuples are orderd collection of items\n",
    "###### Tuples can store any data type\n",
    "###### You cannot change (add or del) values from tuple, once it created\n",
    "###### But can add, delete data from list, which is present inside tuples but\n",
    "###### (list inside tuple will decrease the speed of tuple)\n",
    "###### Function includes sum(), min(), max(), len(), etc."
   ]
  },
  {
   "cell_type": "markdown",
   "id": "62fd73c6-2118-4599-8749-f0961cfd3bdb",
   "metadata": {},
   "source": [
    "### Dictionaries\n",
    "\n",
    "#### We use dictionaries because of limitations of lists, \n",
    "##### Lists are not enough to represent the real data\n",
    "##### Let assume we have a list of user’s info"
   ]
  },
  {
   "cell_type": "code",
   "execution_count": 43,
   "id": "139bd0e9-b402-4c43-b0e4-dc84ae4622ab",
   "metadata": {},
   "outputs": [],
   "source": [
    "user = [\"ali\", 24,  [\"fast & furious\", \"spector\"], [\"despacito\", \"iphone\"]]\n",
    "\n",
    "# This list contains user’s name, age, fav movies, fav tunes\n",
    "    # You can do this, but it is not a good way to do this\n",
    "    # To overcome these issues, we use dictionaries\n",
    "# Dictionaries are un-ordered collection of data in key : value pair\n",
    "# curly braces {} are used to create dictionary"
   ]
  },
  {
   "cell_type": "code",
   "execution_count": null,
   "id": "4b02ad8e-b4c1-410e-a8e1-f465a348f4fb",
   "metadata": {},
   "outputs": [],
   "source": [
    "## Dictionary creating methods\n",
    "# There are two methods to create dictionary\n",
    "\n",
    "# In 1st method, we use curly braces and inside we used key: value syntax\n",
    "\n",
    "user1 = {\"name\": \"ali\", \"age\": 27, \"fav_movies\": [\"fast & furious\", \"spector\"], \"fav_tunes\": [\"despacito\", \"iphone\"]}\n",
    "print(user1)"
   ]
  },
  {
   "cell_type": "code",
   "execution_count": 44,
   "id": "00f1eef6-b1ce-4de5-9cfc-226798d7014f",
   "metadata": {},
   "outputs": [
    {
     "name": "stdout",
     "output_type": "stream",
     "text": [
      "{'name': 'ali', 'age': 27}\n"
     ]
    }
   ],
   "source": [
    "# In 2nd method, we used dict() function by following its syntax\n",
    "user2 = dict(name=\"ali\", age=27)\n",
    "print(user2)"
   ]
  },
  {
   "cell_type": "code",
   "execution_count": 47,
   "id": "dc2328ca-fd79-482d-83dd-124909658df6",
   "metadata": {},
   "outputs": [
    {
     "ename": "KeyError",
     "evalue": "('name', 'age')",
     "output_type": "error",
     "traceback": [
      "\u001b[1;31m---------------------------------------------------------------------------\u001b[0m",
      "\u001b[1;31mKeyError\u001b[0m                                  Traceback (most recent call last)",
      "Cell \u001b[1;32mIn[47], line 1\u001b[0m\n\u001b[1;32m----> 1\u001b[0m \u001b[38;5;28mprint\u001b[39m(user2[\u001b[38;5;124m'\u001b[39m\u001b[38;5;124mname\u001b[39m\u001b[38;5;124m'\u001b[39m, \u001b[38;5;124m'\u001b[39m\u001b[38;5;124mage\u001b[39m\u001b[38;5;124m'\u001b[39m], user2[\u001b[38;5;124m'\u001b[39m\u001b[38;5;124mage\u001b[39m\u001b[38;5;124m'\u001b[39m])\n",
      "\u001b[1;31mKeyError\u001b[0m: ('name', 'age')"
     ]
    }
   ],
   "source": [
    "print(user2['name', 'age'], user2['age'])"
   ]
  },
  {
   "cell_type": "code",
   "execution_count": 48,
   "id": "00a6d17e-d6f2-4422-9212-99062ca70582",
   "metadata": {},
   "outputs": [
    {
     "name": "stdout",
     "output_type": "stream",
     "text": [
      "2\n"
     ]
    }
   ],
   "source": [
    "lst = [1,2,3]\n",
    "print(lst[1])"
   ]
  },
  {
   "cell_type": "code",
   "execution_count": 49,
   "id": "e617eb68-244d-48ea-95d1-02f4fb96889f",
   "metadata": {},
   "outputs": [
    {
     "ename": "TypeError",
     "evalue": "list indices must be integers or slices, not tuple",
     "output_type": "error",
     "traceback": [
      "\u001b[1;31m---------------------------------------------------------------------------\u001b[0m",
      "\u001b[1;31mTypeError\u001b[0m                                 Traceback (most recent call last)",
      "Cell \u001b[1;32mIn[49], line 1\u001b[0m\n\u001b[1;32m----> 1\u001b[0m \u001b[38;5;28mprint\u001b[39m(lst[\u001b[38;5;241m1\u001b[39m,\u001b[38;5;241m2\u001b[39m])\n",
      "\u001b[1;31mTypeError\u001b[0m: list indices must be integers or slices, not tuple"
     ]
    }
   ],
   "source": [
    "print(lst[1,2])"
   ]
  },
  {
   "cell_type": "code",
   "execution_count": 51,
   "id": "bb1f625b-7877-4bd0-b644-ca9a532ceebf",
   "metadata": {},
   "outputs": [
    {
     "name": "stdout",
     "output_type": "stream",
     "text": [
      "{'name': 'ali', 'age': 27, 'fav_movies': ['fast & furious', 'spector'], 'fav_tunes': ['despacito', 'iphone']}\n"
     ]
    }
   ],
   "source": [
    "# we can create dictionary with clean and understandable syntax\n",
    "\n",
    "user = {\n",
    "    \"name\": \"ali\", \n",
    "    \"age\": 27,\n",
    "    \"fav_movies\": [\"fast & furious\", \"spector\"],\n",
    "    \"fav_tunes\": [\"despacito\", \"iphone\"]\n",
    "    }\n",
    "# print(user[\"fav_movies\"])\n",
    "print(user)"
   ]
  },
  {
   "cell_type": "code",
   "execution_count": null,
   "id": "cb7b6239-4df9-43ba-8ac5-eb1b43b032fa",
   "metadata": {},
   "outputs": [],
   "source": [
    "user = {\n",
    "    \"name\": \"ali\",\n",
    "    \"age\": 27,\n",
    "    \"fav_movies\": [\"fast & furious\", \"spector\"],\n",
    "    \"fav_tunes\": [\"despacito\", \"iphone\"]\n",
    "    }"
   ]
  },
  {
   "cell_type": "code",
   "execution_count": 52,
   "id": "6e43f1bd-48c4-47c8-86c7-a856bc8e8d16",
   "metadata": {},
   "outputs": [
    {
     "name": "stdout",
     "output_type": "stream",
     "text": [
      "{'user1': {'name': 'ali', 'age': 27, 'fav_movies': ['fast & furious', 'spector'], 'fav_tunes': ['despacito', 'iphone']}, 'user2': {'name': 'abrar', 'age': 22, 'fav_movies': ['king kong'], 'fav_tunes': ['iphone']}}\n"
     ]
    }
   ],
   "source": [
    "# We can store dictionary insides the dictionary\n",
    "# Lets we store multiple users inside the user dictionary\n",
    "\n",
    "users = {\n",
    "    \"user1\": {\n",
    "        \"name\": \"ali\",\n",
    "        \"age\": 27,\n",
    "        \"fav_movies\": [\"fast & furious\", \"spector\"],\n",
    "        \"fav_tunes\": [\"despacito\", \"iphone\"]\n",
    "    },\n",
    "    \"user2\": {\n",
    "        \"name\": \"abrar\",\n",
    "        \"age\": 22,\n",
    "        \"fav_movies\": [\"king kong\"],\n",
    "        \"fav_tunes\": [\"iphone\"]\n",
    "    }\n",
    "}\n",
    "\n",
    "print(users)"
   ]
  },
  {
   "cell_type": "code",
   "execution_count": 53,
   "id": "8632cfb2-f344-4d1e-88fb-a2655ed4c689",
   "metadata": {},
   "outputs": [
    {
     "name": "stdout",
     "output_type": "stream",
     "text": [
      "['fast & furious', 'spector']\n",
      "['king kong']\n"
     ]
    }
   ],
   "source": [
    "print(users[\"user1\"][\"fav_movies\"])\n",
    "print(users[\"user2\"][\"fav_movies\"])"
   ]
  },
  {
   "cell_type": "code",
   "execution_count": 54,
   "id": "8629bb90-9834-4092-b52a-4d3275d5284f",
   "metadata": {},
   "outputs": [
    {
     "name": "stdout",
     "output_type": "stream",
     "text": [
      "{'name': 'ahmad'}\n"
     ]
    }
   ],
   "source": [
    "## adding data\n",
    "\n",
    "user_info = {}                 #empty dictionary\n",
    "user_info[\"name\"] = \"ahmad\"\n",
    "print(user_info)"
   ]
  },
  {
   "cell_type": "code",
   "execution_count": 55,
   "id": "c74c4cc3-9591-429f-8ea3-036fff7938a4",
   "metadata": {},
   "outputs": [
    {
     "name": "stdout",
     "output_type": "stream",
     "text": [
      "name\n",
      "age\n",
      "fav_movies\n",
      "fav_tunes\n"
     ]
    }
   ],
   "source": [
    "## in keyword\n",
    "# it can be used for looping in dictionary, it will give all keys of dictionary\n",
    "\n",
    "user = {\n",
    "    \"name\": \"ali\",\n",
    "    \"age\": 27,\n",
    "    \"fav_movies\": [\"fast & furious\", \"spector\"],\n",
    "    \"fav_tunes\": [\"despacito\", \"iphone\"]\n",
    "    }\n",
    "\n",
    "for i in user:\n",
    "    print(i)"
   ]
  },
  {
   "cell_type": "code",
   "execution_count": 56,
   "id": "f7e62b61-3330-45b7-9959-2864ccbe4cba",
   "metadata": {},
   "outputs": [
    {
     "name": "stdout",
     "output_type": "stream",
     "text": [
      "present\n"
     ]
    }
   ],
   "source": [
    "# It can be used to check the existence of particular key in the dictionary\n",
    "\n",
    "user = {\n",
    "        \"name\": \"ali\",\n",
    "        \"age\": 27,\n",
    "        \"fav_movies\": [\"fast & furious\", \"spector\"],\n",
    "        \"fav_tunes\": [\"despacito\", \"iphone\"]\n",
    "    }\n",
    "if \"name\" in user:\n",
    "    print(\"present\")\n",
    "else:\n",
    "    print(\"not present\")\n",
    "\n",
    "# Note:- here in keyword will just check the key but not value of key"
   ]
  },
  {
   "cell_type": "code",
   "execution_count": 57,
   "id": "88d126fb-af84-4f61-8a46-3a82ae4a05cb",
   "metadata": {},
   "outputs": [
    {
     "name": "stdout",
     "output_type": "stream",
     "text": [
      "present\n"
     ]
    }
   ],
   "source": [
    "## values() method,\n",
    "# to checking values of key\n",
    "\n",
    "user = {\n",
    "        \"name\": \"ali\",\n",
    "        \"age\": 27,\n",
    "        \"fav_movies\": [\"fast & furious\", \"spector\"],\n",
    "        \"fav_tunes\": [\"despacito\", \"iphone\"]\n",
    "    }\n",
    "if \"ali\" in user.values():        # always write value according to data type\n",
    "    print(\"present\")\n",
    "else:\n",
    "    print(\"not present\")"
   ]
  },
  {
   "cell_type": "code",
   "execution_count": 58,
   "id": "93ddcd40-7805-4667-bd25-ffae396a0dcc",
   "metadata": {},
   "outputs": [
    {
     "name": "stdout",
     "output_type": "stream",
     "text": [
      "ali\n",
      "27\n",
      "['fast & furious', 'spector']\n",
      "['despacito', 'iphone']\n"
     ]
    }
   ],
   "source": [
    "# To check all key values, looping with values() method will help us\n",
    "\n",
    "user = {\n",
    "    \"name\": \"ali\",\n",
    "    \"age\": 27,\n",
    "    \"fav_movies\": [\"fast & furious\", \"spector\"],\n",
    "    \"fav_tunes\": [\"despacito\", \"iphone\"]\n",
    "}\n",
    "for i in user.values():\n",
    "    print(i)"
   ]
  },
  {
   "cell_type": "code",
   "execution_count": 59,
   "id": "f8f3dd73-615e-4349-9f85-6dc22cf0b3c5",
   "metadata": {},
   "outputs": [
    {
     "name": "stdout",
     "output_type": "stream",
     "text": [
      "('name', 'ali')\n",
      "('age', 27)\n",
      "('fav_movies', ['fast & furious', 'spector'])\n",
      "('fav_tunes', ['despacito', 'iphone'])\n"
     ]
    }
   ],
   "source": [
    "## items() method\n",
    "# it is very useful, because it gives the key:value pair in the form of tuple, which can also unpack\n",
    "user = {\n",
    "    \"name\": \"ali\",\n",
    "    \"age\": 27,\n",
    "    \"fav_movies\": [\"fast & furious\", \"spector\"],\n",
    "    \"fav_tunes\": [\"despacito\", \"iphone\"]\n",
    "}\n",
    "for i in user.items():                            #with just i whole tuple will store in i\n",
    "    print(i)\n",
    "    # print(f\"key is \\\"{i}\\\", value is \\\"{j}\\\"\")"
   ]
  },
  {
   "cell_type": "code",
   "execution_count": 60,
   "id": "c910f334-a178-4360-ba15-5bab0e0021f0",
   "metadata": {},
   "outputs": [
    {
     "name": "stdout",
     "output_type": "stream",
     "text": [
      "key is \"name\", value is \"ali\"\n",
      "key is \"age\", value is \"27\"\n",
      "key is \"fav_movies\", value is \"['fast & furious', 'spector']\"\n",
      "key is \"fav_tunes\", value is \"['despacito', 'iphone']\"\n"
     ]
    }
   ],
   "source": [
    "## items() method\n",
    "# it is very useful, because it gives the key:value pair in the form of tuple, which can also unpack\n",
    "user = {\n",
    "    \"name\": \"ali\",\n",
    "    \"age\": 27,\n",
    "    \"fav_movies\": [\"fast & furious\", \"spector\"],\n",
    "    \"fav_tunes\": [\"despacito\", \"iphone\"]\n",
    "}\n",
    "for i, j in user.items():                              #with just i whole tuple will store in i\n",
    "    print(f\"key is \\\"{i}\\\", value is \\\"{j}\\\"\")"
   ]
  },
  {
   "cell_type": "code",
   "execution_count": 61,
   "id": "51434dc6-7d8f-4ae2-b51f-0044e0da15cb",
   "metadata": {},
   "outputs": [],
   "source": [
    "### data removing from dictionary"
   ]
  },
  {
   "cell_type": "code",
   "execution_count": 62,
   "id": "8b84b85f-2c87-4124-a472-821cd257b75b",
   "metadata": {},
   "outputs": [
    {
     "name": "stdout",
     "output_type": "stream",
     "text": [
      "popped item is ['fast & furious', 'spector']\n",
      "\n",
      "{'name': 'ali', 'age': 27, 'fav_tunes': ['despacito', 'iphone']}\n"
     ]
    }
   ],
   "source": [
    "## pop(key) method\n",
    "# pop method removes the pair of given argument key, argument is must\n",
    "\n",
    "user = {\n",
    "        \"name\": \"ali\",\n",
    "        \"age\": 27,\n",
    "        \"fav_movies\": [\"fast & furious\", \"spector\"],\n",
    "        \"fav_tunes\": [\"despacito\", \"iphone\"]\n",
    "    }\n",
    "\n",
    "poped_item = user.pop(\"fav_movies\")\n",
    "print(f\"popped item is {poped_item}\\n\")\n",
    "print(user)"
   ]
  },
  {
   "cell_type": "code",
   "execution_count": 63,
   "id": "e0f7565b-9100-4a0b-812d-f2c2d6ba97b2",
   "metadata": {},
   "outputs": [
    {
     "name": "stdout",
     "output_type": "stream",
     "text": [
      "popped item is ('fav_tunes', ['despacito', 'iphone'])\n",
      "\n",
      "{'name': 'ali', 'age': 27, 'fav_movies': ['fast & furious', 'spector']}\n"
     ]
    }
   ],
   "source": [
    "## popitem() method\n",
    "# it is used when we have to delete last pair, no argument is needed here\n",
    "\n",
    "user = {\n",
    "        \"name\": \"ali\",\n",
    "        \"age\": 27,\n",
    "        \"fav_movies\": [\"fast & furious\", \"spector\"],\n",
    "        \"fav_tunes\": [\"despacito\", \"iphone\"]\n",
    "    }\n",
    "\n",
    "poped_item = user.popitem()\n",
    "print(f\"popped item is {poped_item}\\n\")\n",
    "print(user)"
   ]
  },
  {
   "cell_type": "code",
   "execution_count": 64,
   "id": "a79c83d5-4cd9-4117-bc24-fbb09b3d463d",
   "metadata": {},
   "outputs": [
    {
     "name": "stdout",
     "output_type": "stream",
     "text": [
      "{'name': 'Jamshaid', 'age': 27, 'fav_movies': ['fast & furious', 'spector'], 'fav_tunes': ['despacito', 'iphone'], 'province': 'Punjab', 'country': 'Pakistan'}\n"
     ]
    }
   ],
   "source": [
    "## update() method\n",
    "# It is used to add a new dictionary in dictionary,\n",
    "# If key of new data will match with old data, then old key value will be updated\n",
    "\n",
    "user_info = {\n",
    "    \"name\": \"ali\",\n",
    "    \"age\": 27,\n",
    "    \"fav_movies\": [\"fast & furious\", \"spector\"],\n",
    "    \"fav_tunes\": [\"despacito\", \"iphone\"]\n",
    "}\n",
    "\n",
    "more_info = {\n",
    "    \"name\" : \"Jamshaid\",\n",
    "    \"province\" : \"Punjab\",\n",
    "    \"country\" : \"Pakistan\"\n",
    "}\n",
    "\n",
    "user_info.update(more_info)\n",
    "print(user_info)"
   ]
  },
  {
   "cell_type": "code",
   "execution_count": null,
   "id": "8492663b-5403-45c4-bbf8-47a35eabd36e",
   "metadata": {},
   "outputs": [],
   "source": []
  }
 ],
 "metadata": {
  "kernelspec": {
   "display_name": "Python 3 (ipykernel)",
   "language": "python",
   "name": "python3"
  },
  "language_info": {
   "codemirror_mode": {
    "name": "ipython",
    "version": 3
   },
   "file_extension": ".py",
   "mimetype": "text/x-python",
   "name": "python",
   "nbconvert_exporter": "python",
   "pygments_lexer": "ipython3",
   "version": "3.9.12"
  }
 },
 "nbformat": 4,
 "nbformat_minor": 5
}
