{
 "cells": [
  {
   "cell_type": "code",
   "execution_count": 1,
   "id": "40e5ecbf-17af-4add-8ca9-322bc3f7eba7",
   "metadata": {},
   "outputs": [
    {
     "name": "stdout",
     "output_type": "stream",
     "text": [
      "{1: 1, 2: 4, 3: 9, 4: 16, 5: 25, 6: 36, 7: 49, 8: 64, 9: 81}\n"
     ]
    }
   ],
   "source": [
    "# dictinory of squares of 1 to 10\n",
    "output = {}\n",
    "for num in range(1,10):\n",
    "    output[num] = num**2\n",
    "print(output)"
   ]
  },
  {
   "cell_type": "code",
   "execution_count": 2,
   "id": "c261044e-f7c1-48dd-b9c2-4604392e4cff",
   "metadata": {},
   "outputs": [
    {
     "name": "stdout",
     "output_type": "stream",
     "text": [
      "{1: 1, 2: 4, 3: 9, 4: 16, 5: 25, 6: 36, 7: 49, 8: 64, 9: 81}\n"
     ]
    }
   ],
   "source": [
    "print({num:num**2 for num in range(1,10)})"
   ]
  },
  {
   "cell_type": "code",
   "execution_count": 3,
   "id": "c9cb5a29-69c5-4de1-8c38-c346d245d93a",
   "metadata": {},
   "outputs": [
    {
     "name": "stdout",
     "output_type": "stream",
     "text": [
      "{'square of 2 is': 4, 'square of 3 is': 9}\n"
     ]
    }
   ],
   "source": [
    "# We can also use string formating here\n",
    "squre = {f\"square of {num} is\" :num**2 for num in range(2,4)}\n",
    "print(squre)"
   ]
  },
  {
   "cell_type": "code",
   "execution_count": 4,
   "id": "917bfde3-a4cc-44b4-9ff3-40b1a5888790",
   "metadata": {},
   "outputs": [
    {
     "name": "stdout",
     "output_type": "stream",
     "text": [
      "{'J': 1, 'a': 2, 'm': 1, 's': 1, 'h': 1, 'i': 1, 'd': 1}\n"
     ]
    }
   ],
   "source": [
    "user_name = \"Jamshaid\"\n",
    "string_counter = {}\n",
    "for letter in user_name:\n",
    "    string_counter[letter]=user_name.count(letter)\n",
    "print(string_counter)"
   ]
  },
  {
   "cell_type": "code",
   "execution_count": 6,
   "id": "f7e53932-9510-41f2-a6c7-2602bc559dad",
   "metadata": {},
   "outputs": [
    {
     "name": "stdout",
     "output_type": "stream",
     "text": [
      "{'J': 1, 'a': 2, 'm': 1, 's': 1, 'h': 1, 'i': 1, 'd': 1}\n"
     ]
    }
   ],
   "source": [
    "print({letter: user_name.count(letter) for letter in user_name})"
   ]
  },
  {
   "cell_type": "code",
   "execution_count": 7,
   "id": "f8f7bca1-3347-4838-82f7-5c174e7ac9a8",
   "metadata": {},
   "outputs": [
    {
     "name": "stdout",
     "output_type": "stream",
     "text": [
      "{1: 'odd', 2: 'even', 3: 'odd', 4: 'even', 5: 'odd', 6: 'even', 7: 'odd', 8: 'even', 9: 'odd', 10: 'even'}\n"
     ]
    }
   ],
   "source": [
    "## dictionary comprehensions with if else\n",
    "\n",
    "odd_even = {}\n",
    "for i in range(1,11):\n",
    "    if i%2 == 0:\n",
    "        odd_even[i]=\"even\"\n",
    "    else:\n",
    "        odd_even[i]=\"odd\"\n",
    "print(odd_even)"
   ]
  },
  {
   "cell_type": "code",
   "execution_count": 8,
   "id": "33f8ed1c-18a4-41f1-8675-0c8857c1d2b3",
   "metadata": {},
   "outputs": [
    {
     "name": "stdout",
     "output_type": "stream",
     "text": [
      "{1: 'odd', 2: 'even', 3: 'odd', 4: 'even', 5: 'odd', 6: 'even', 7: 'odd', 8: 'even', 9: 'odd', 10: 'even'}\n"
     ]
    }
   ],
   "source": [
    "odd_even = {i:(\"even\" if i%2 == 0 else \"odd\") for i in range(1,11)}\n",
    "print(odd_even)"
   ]
  },
  {
   "cell_type": "code",
   "execution_count": 9,
   "id": "80d843b7-1361-4ccb-8c05-31935a7dc018",
   "metadata": {},
   "outputs": [
    {
     "name": "stdout",
     "output_type": "stream",
     "text": [
      "{1, 4, 36, 9, 16, 25}\n"
     ]
    }
   ],
   "source": [
    "## sets comprehension\n",
    "# Its also like dictionary but it has simple value instead of key:value pair\n",
    "# Its unordered collection \n",
    "\n",
    "s = {i**2 for i in range(1,7)}\n",
    "print(s)"
   ]
  },
  {
   "cell_type": "markdown",
   "id": "9158a39c-8940-4094-a425-e203b5e0b913",
   "metadata": {},
   "source": [
    "### *args\n",
    "---\n",
    "The special syntax *args in function definitions in python is used to pass a variable number of arguments to a function.\n",
    "When we don’t know about the quantity of arguments, then we used * operators\n",
    "(according to naming convention it is known by *args)"
   ]
  },
  {
   "cell_type": "code",
   "execution_count": 10,
   "id": "0b986b4a-ede6-4806-84ea-e46b767ade0a",
   "metadata": {},
   "outputs": [
    {
     "name": "stdout",
     "output_type": "stream",
     "text": [
      "11\n"
     ]
    }
   ],
   "source": [
    "def add(a,b): #error occurs if arg amount will change\n",
    "    return a+b\n",
    "print(add(5,6))"
   ]
  },
  {
   "cell_type": "code",
   "execution_count": 11,
   "id": "ad9cf586-9654-404b-b8e1-2261bb749122",
   "metadata": {},
   "outputs": [
    {
     "ename": "TypeError",
     "evalue": "add() takes 2 positional arguments but 3 were given",
     "output_type": "error",
     "traceback": [
      "\u001b[1;31m---------------------------------------------------------------------------\u001b[0m",
      "\u001b[1;31mTypeError\u001b[0m                                 Traceback (most recent call last)",
      "Cell \u001b[1;32mIn[11], line 3\u001b[0m\n\u001b[0;32m      1\u001b[0m \u001b[38;5;28;01mdef\u001b[39;00m \u001b[38;5;21madd\u001b[39m(a,b): \u001b[38;5;66;03m#error occurs if arg amount will change\u001b[39;00m\n\u001b[0;32m      2\u001b[0m     \u001b[38;5;28;01mreturn\u001b[39;00m a\u001b[38;5;241m+\u001b[39mb\n\u001b[1;32m----> 3\u001b[0m \u001b[38;5;28mprint\u001b[39m(add(\u001b[38;5;241m5\u001b[39m,\u001b[38;5;241m6\u001b[39m,\u001b[38;5;241m7\u001b[39m))\n",
      "\u001b[1;31mTypeError\u001b[0m: add() takes 2 positional arguments but 3 were given"
     ]
    }
   ],
   "source": [
    "def add(a,b): #error occurs if arg amount will change\n",
    "    return a+b\n",
    "print(add(5,6,7))"
   ]
  },
  {
   "cell_type": "code",
   "execution_count": 13,
   "id": "90be5faa-942c-43c0-b9bb-67c84a4002df",
   "metadata": {},
   "outputs": [
    {
     "name": "stdout",
     "output_type": "stream",
     "text": [
      "<class 'tuple'>\n",
      "(5, 6, 3, 7, 4, 9, 2)\n",
      "36\n"
     ]
    }
   ],
   "source": [
    "# *args makes the tuple of all arguments\n",
    "def add(*args):\n",
    "    print(type(args))\n",
    "    print(args)\n",
    "    total = 0\n",
    "    for num in args:\n",
    "        total += num\n",
    "    return total\n",
    "\n",
    "print(add(5,6,3,7,4,9,2))"
   ]
  },
  {
   "cell_type": "code",
   "execution_count": 14,
   "id": "b8d15e85-b3f9-45c7-9119-b8bf7ae6a353",
   "metadata": {},
   "outputs": [
    {
     "name": "stdout",
     "output_type": "stream",
     "text": [
      "num1 is 5\n",
      "num2 is 6\n",
      "args is (3, 7, 4, 9, 2)\n"
     ]
    }
   ],
   "source": [
    "## args with normal parameters\n",
    "\n",
    "# We can also add normal parameters with *args, \n",
    "# Normal parameters will come at start always in function braces, if we will place after *args then error will occur\n",
    "# Normal parameters will take starting argument values in function call\n",
    "# *args will be ok if no argument will pass, but normal parameters will give error\n",
    "\n",
    "def add(num1, num2, *args):   #function(parameters)\n",
    "    print(f\"num1 is {num1}\")\n",
    "    print(f\"num2 is {num2}\")\n",
    "    print(f\"args is {args}\")\n",
    "add(5,6,3,7,4,9,2)            #function call(arguments)"
   ]
  },
  {
   "cell_type": "code",
   "execution_count": 15,
   "id": "5f3b78c0-8c6a-45ac-afe4-2db2250170a2",
   "metadata": {},
   "outputs": [
    {
     "name": "stdout",
     "output_type": "stream",
     "text": [
      "num1 is 5\n",
      "num2 is 6\n",
      "args is ()\n"
     ]
    }
   ],
   "source": [
    "def add(num1, num2, *args):  #no value for args\n",
    "    print(f\"num1 is {num1}\")\n",
    "    print(f\"num2 is {num2}\")\n",
    "    print(f\"args is {args}\")\n",
    "add(5,6)"
   ]
  },
  {
   "cell_type": "code",
   "execution_count": 16,
   "id": "f7442874-2ed1-41b3-ab95-6d238d6ed6c7",
   "metadata": {},
   "outputs": [
    {
     "name": "stdout",
     "output_type": "stream",
     "text": [
      "36\n"
     ]
    }
   ],
   "source": [
    "## args as argument\n",
    "# in previous we we give the simple parameters to *args, but we can not give list here\n",
    "# as we use * operator in function argument, just like that we will use * operator if we will use list[] as function call (argument), it will unpack the list\n",
    "\n",
    "def add(*args):\n",
    "    total = 0\n",
    "    for num in args:\n",
    "        total += num\n",
    "    return total\n",
    "\n",
    "num = [5, 6, 3, 7, 4, 9, 2]\n",
    "# print(add(num)) # output ---> TypeError: unsupported operand type(s) for +=: 'int' and 'list'\n",
    "print(add(*num)) #unpack"
   ]
  },
  {
   "cell_type": "code",
   "execution_count": 17,
   "id": "514c8a13-f8c1-4f3b-9e9b-2c8f260cd454",
   "metadata": {},
   "outputs": [
    {
     "name": "stdout",
     "output_type": "stream",
     "text": [
      "36\n"
     ]
    }
   ],
   "source": [
    "def add(lst):\n",
    "    total = 0\n",
    "    for num in lst:\n",
    "        total += num\n",
    "    return total\n",
    "\n",
    "num = [5, 6, 3, 7, 4, 9, 2]\n",
    "print(add(num))"
   ]
  },
  {
   "cell_type": "code",
   "execution_count": null,
   "id": "7f501524-5e09-4ae9-bce0-09865b2f4d19",
   "metadata": {},
   "outputs": [],
   "source": [
    "## Exercise\n",
    "# Input\n",
    "    # nums = [2,3,4] \n",
    "# output\n",
    "    # if list is empty then give message “hey you don’t pass args”\n",
    "    # otherwise a list of cubes of nums --->[8, 27, 64]"
   ]
  },
  {
   "cell_type": "code",
   "execution_count": null,
   "id": "16765bbe-57bc-4545-8aa4-f3d92cf9fd43",
   "metadata": {},
   "outputs": [],
   "source": [
    "## Solution 1\n",
    "\n",
    "def cubes(n, *args):\n",
    "    if args:\n",
    "        power = []\n",
    "        for num in args:\n",
    "            power.append(num**n) \n",
    "        return power\n",
    "    else:\n",
    "        return \"hey you don’t pass args\"\n",
    "nums = [2,3,4]\n",
    "print(p(3,*nums))"
   ]
  },
  {
   "cell_type": "code",
   "execution_count": 18,
   "id": "191ab042-8f3a-4c10-ab6c-a1d42201bae4",
   "metadata": {},
   "outputs": [
    {
     "name": "stdout",
     "output_type": "stream",
     "text": [
      "[8, 27, 64]\n"
     ]
    }
   ],
   "source": [
    "## Solution 2\n",
    "\n",
    "def cubes(n, *args):\n",
    "    if args:\n",
    "        return [num**n for num in args]\n",
    "    else:\n",
    "        return \"hey you don’t pass args\"\n",
    "nums = [2,3,4]\n",
    "print(cubes(3,*nums))"
   ]
  },
  {
   "cell_type": "code",
   "execution_count": 19,
   "id": "5435fafd-fbd0-4af5-acc6-ce6bf74edcbc",
   "metadata": {},
   "outputs": [
    {
     "name": "stdout",
     "output_type": "stream",
     "text": [
      "[8, 27, 64]\n"
     ]
    }
   ],
   "source": [
    "## Solution 3\n",
    "\n",
    "def cubes(n, *args):\n",
    "    return [num**n for num in args] if args else (\"hey you don’t pass args\")\n",
    "nums = [2,3,4]\n",
    "print(cubes(3,*nums))"
   ]
  },
  {
   "cell_type": "markdown",
   "id": "7975a106-7441-4e86-bacf-d33ebae5275d",
   "metadata": {},
   "source": [
    "### **kwarg (keyword arguments)"
   ]
  },
  {
   "cell_type": "code",
   "execution_count": 20,
   "id": "2736a993-0e25-4ffb-885e-6cde87f44873",
   "metadata": {},
   "outputs": [
    {
     "name": "stdout",
     "output_type": "stream",
     "text": [
      "name : Jamshaid\n",
      "age : 27\n"
     ]
    }
   ],
   "source": [
    "# Any name can be taken in the place of kwarg, but kwarg is naming convention\n",
    "# Kwarg is used when function call argument consists of key:value pair\n",
    "\n",
    "def info(**kwarg):\n",
    "    for i, j in kwarg.items(): #tuple unpacking\n",
    "        print(f'{i} : {j}')\n",
    "\n",
    "user_info = {\"name\" : \"Jamshaid\", \"age\" : 27}\n",
    "info(**user_info)"
   ]
  },
  {
   "cell_type": "code",
   "execution_count": 21,
   "id": "1f1f158c-f452-4f52-99ad-49c867235c51",
   "metadata": {},
   "outputs": [],
   "source": [
    "## summary\n",
    "### functions with all type of parameters"
   ]
  },
  {
   "cell_type": "code",
   "execution_count": 22,
   "id": "288a3274-9fbd-4303-95ea-a5daa0717cab",
   "metadata": {},
   "outputs": [
    {
     "data": {
      "text/plain": [
       "5"
      ]
     },
     "execution_count": 22,
     "metadata": {},
     "output_type": "execute_result"
    }
   ],
   "source": [
    "# normal parameters\n",
    "def add(a,b):\n",
    "    return a+b\n",
    "add(2,3)"
   ]
  },
  {
   "cell_type": "code",
   "execution_count": 23,
   "id": "2e7d8f50-f7cf-4b70-8e89-86c2b39e4f0b",
   "metadata": {},
   "outputs": [
    {
     "name": "stdout",
     "output_type": "stream",
     "text": [
      "None\n",
      "unknow\n"
     ]
    }
   ],
   "source": [
    "# default parameters (if user does not give value, then default value will considered)\n",
    "def info(age = None, name = 'unknow'):\n",
    "    print(age)\n",
    "    print(name)\n",
    "info()"
   ]
  },
  {
   "cell_type": "code",
   "execution_count": 24,
   "id": "198ebda5-ece5-42df-ad02-e20f9a790b5e",
   "metadata": {},
   "outputs": [
    {
     "name": "stdout",
     "output_type": "stream",
     "text": [
      "36\n"
     ]
    }
   ],
   "source": [
    "# *args\n",
    "def add(*args):\n",
    "    total = 0\n",
    "    for num in args:\n",
    "        total += num\n",
    "    return total\n",
    "\n",
    "print(add(5,6,3,7,4,9,2))"
   ]
  },
  {
   "cell_type": "code",
   "execution_count": 25,
   "id": "4dafbf56-2cd3-4293-9153-cec98cfa9767",
   "metadata": {},
   "outputs": [
    {
     "name": "stdout",
     "output_type": "stream",
     "text": [
      "146\n"
     ]
    }
   ],
   "source": [
    "# *args with *parameters (for datastructure parameter)\n",
    "def add(*args):\n",
    "    total = 0\n",
    "    for num in args:\n",
    "        total += num\n",
    "    return total\n",
    "\n",
    "num = [5, 6, 3, 7, 4, 9, 2]\n",
    "print(add(*num,20,90))"
   ]
  },
  {
   "cell_type": "code",
   "execution_count": 26,
   "id": "4f7119a3-89d6-4d5c-820e-e17a9fd60f1f",
   "metadata": {},
   "outputs": [
    {
     "name": "stdout",
     "output_type": "stream",
     "text": [
      "name\n",
      "age\n",
      "city\n",
      "a\n",
      "b\n"
     ]
    }
   ],
   "source": [
    "# **kwargs with **parameters (for dictionary paramet)\n",
    "def info(**kwarg):\n",
    "    for i in kwarg:\n",
    "        print(i)\n",
    "\n",
    "user_info = {\"name\" : \"Jamshaid\", \"age\" : 27}\n",
    "info(**user_info, city = 'lahore', a = 1, b = 2)"
   ]
  },
  {
   "cell_type": "code",
   "execution_count": 27,
   "id": "248dcb2a-5ff2-483e-bd9f-00966b29d4a0",
   "metadata": {},
   "outputs": [
    {
     "name": "stdout",
     "output_type": "stream",
     "text": [
      "Jamshaid\n",
      "(1, 2, 3)\n",
      "unknown\n",
      "{'a': 1, 'b': 2}\n"
     ]
    }
   ],
   "source": [
    "# Sequence while using all in one function (PADK)\n",
    "    # Parameters\n",
    "    # *args\n",
    "    # Default parameters\n",
    "    # **kwargs\n",
    "\n",
    "def func(name, *arg, last_name = 'unknown', **kwargs):\n",
    "    print(name)\n",
    "    print(arg)\n",
    "    print(last_name)\n",
    "    print(kwargs)\n",
    "\n",
    "func('Jamshaid', 1, 2, 3, a = 1, b = 2) #default parameter value is not given here"
   ]
  },
  {
   "cell_type": "code",
   "execution_count": 28,
   "id": "8b6eab11-e6a4-413b-90f4-b7715d865ea5",
   "metadata": {},
   "outputs": [
    {
     "name": "stdout",
     "output_type": "stream",
     "text": [
      "['mango', 'apple', 'bannana', 'peach', 'apple']\n"
     ]
    }
   ],
   "source": [
    "fruits=[\"mango\",\"apple\",\"bannana\",\"peach\",\"apple\"]\n",
    "print(fruits)"
   ]
  },
  {
   "cell_type": "code",
   "execution_count": 29,
   "id": "91d51bad-aad3-419c-abe4-a17a4d0c321e",
   "metadata": {},
   "outputs": [
    {
     "name": "stdout",
     "output_type": "stream",
     "text": [
      "['apple', 'apple', 'bannana', 'mango', 'peach']\n"
     ]
    }
   ],
   "source": [
    "fruits.sort()\n",
    "print(fruits)"
   ]
  },
  {
   "cell_type": "code",
   "execution_count": 30,
   "id": "c937be73-7ab2-43b8-92bd-e4e5b6fc6bea",
   "metadata": {},
   "outputs": [
    {
     "name": "stdout",
     "output_type": "stream",
     "text": [
      "['peach', 'mango', 'bannana', 'apple', 'apple']\n"
     ]
    }
   ],
   "source": [
    "fruits.sort(reverse=True)\n",
    "print(fruits)"
   ]
  },
  {
   "cell_type": "markdown",
   "id": "66e50f50-7bf6-4dfd-a4e3-83517764b0ae",
   "metadata": {},
   "source": [
    "### Lambda Expression"
   ]
  },
  {
   "cell_type": "code",
   "execution_count": 31,
   "id": "5986d917-4c9f-4054-89f4-6f3bee69d929",
   "metadata": {},
   "outputs": [],
   "source": [
    "# A lambda function is a small anonymous function.\n",
    "# While normal functions are defined using the def keyword in Python, but\n",
    "# anonymous functions are defined using the lambda keyword.\n",
    "\n",
    "## Sntax:\n",
    "    # lambda arguments: expression\n",
    "# Lambda functions can have any number of arguments but only one expression. \n",
    "# The expression is evaluated and returned.\n",
    "# Lambda functions can be used wherever function objects are required"
   ]
  },
  {
   "cell_type": "code",
   "execution_count": 32,
   "id": "b1aa7446-2888-45d7-859c-677c8045af94",
   "metadata": {},
   "outputs": [
    {
     "name": "stdout",
     "output_type": "stream",
     "text": [
      "5\n"
     ]
    }
   ],
   "source": [
    "# Normal Function\n",
    "def add(a,b):\n",
    "    return a+b\n",
    "print(add(2,3))"
   ]
  },
  {
   "cell_type": "code",
   "execution_count": null,
   "id": "559818c8-7032-4003-be98-5cf8794d9506",
   "metadata": {},
   "outputs": [],
   "source": [
    "# lambda function\n",
    "add2 = lambda a,b : a+b\n",
    "print(add2(2, 3))"
   ]
  },
  {
   "cell_type": "code",
   "execution_count": 33,
   "id": "b73a5a12-d910-4536-92b2-8285279c71e1",
   "metadata": {},
   "outputs": [
    {
     "name": "stdout",
     "output_type": "stream",
     "text": [
      "True\n"
     ]
    }
   ],
   "source": [
    "# Define a function that will check that argument is even or not\n",
    "#  in case of even, return True and odd will return False \n",
    "\n",
    "# Normal method\n",
    "def is_even(d):\n",
    "    if d%2 == 0:\n",
    "        return True\n",
    "    else:\n",
    "        return False\n",
    "print(is_even(4))"
   ]
  },
  {
   "cell_type": "code",
   "execution_count": 34,
   "id": "bdde0fd8-628c-4240-9e86-4a72c0c97f51",
   "metadata": {},
   "outputs": [
    {
     "name": "stdout",
     "output_type": "stream",
     "text": [
      "True\n"
     ]
    }
   ],
   "source": [
    "even_odd = is_even\n",
    "print(even_odd(4))"
   ]
  },
  {
   "cell_type": "code",
   "execution_count": 35,
   "id": "4bb50d52-a8ff-4aaf-a083-8869711d90d9",
   "metadata": {},
   "outputs": [
    {
     "name": "stdout",
     "output_type": "stream",
     "text": [
      "True\n"
     ]
    }
   ],
   "source": [
    "#or if we want to short the code then\n",
    "def is_even(d):\n",
    "    if d % 2 == 0:\n",
    "        return True\n",
    "    return False\n",
    "print(is_even(4))"
   ]
  },
  {
   "cell_type": "code",
   "execution_count": 36,
   "id": "119226e2-6b29-4e32-96a2-0f251f3b7452",
   "metadata": {},
   "outputs": [
    {
     "name": "stdout",
     "output_type": "stream",
     "text": [
      "True\n"
     ]
    }
   ],
   "source": [
    "#to further short the code then\n",
    "def is_even(d):\n",
    "    return d % 2 == 0  # d%2 == 0 --> True or False return\n",
    "print(is_even(4))"
   ]
  },
  {
   "cell_type": "code",
   "execution_count": 37,
   "id": "fb604ba9-c31c-4272-bd6b-df25fe85e720",
   "metadata": {},
   "outputs": [
    {
     "name": "stdout",
     "output_type": "stream",
     "text": [
      "True\n"
     ]
    }
   ],
   "source": [
    "# now with the help of lambda expression\n",
    "is_even = lambda d : d%2 == 0\n",
    "print(is_even(4))"
   ]
  },
  {
   "cell_type": "code",
   "execution_count": 38,
   "id": "e5f36e51-aa9a-4275-9436-b1fa8889f249",
   "metadata": {},
   "outputs": [
    {
     "name": "stdout",
     "output_type": "stream",
     "text": [
      "True\n"
     ]
    }
   ],
   "source": [
    "# lambda function with if else\n",
    "\n",
    "# make a function which will take a string\n",
    "# if length of string will be greater than 5, then return true, otherwise false\n",
    "\n",
    "# Simple way\n",
    "def len_string(s):\n",
    "    if len(s) > 5:\n",
    "        return True\n",
    "    else:\n",
    "        return False\n",
    "print(len_string('Python'))"
   ]
  },
  {
   "cell_type": "code",
   "execution_count": 39,
   "id": "f6934d01-5ef7-438e-8417-4235ce31a9f0",
   "metadata": {},
   "outputs": [
    {
     "name": "stdout",
     "output_type": "stream",
     "text": [
      "True\n"
     ]
    }
   ],
   "source": [
    "# with lambda expression using if-else\n",
    "len_string = lambda s : True if len(s) > 5 else False\n",
    "print(len_string('Python'))"
   ]
  },
  {
   "cell_type": "code",
   "execution_count": 40,
   "id": "989b8439-7f30-48ab-b830-09bc3a5be3e4",
   "metadata": {},
   "outputs": [
    {
     "name": "stdout",
     "output_type": "stream",
     "text": [
      "True\n"
     ]
    }
   ],
   "source": [
    "# optimal method\n",
    "len_string = lambda s : len(s) > 5\n",
    "print(len_string('Python'))"
   ]
  },
  {
   "cell_type": "code",
   "execution_count": 41,
   "id": "e6b69721-ba8f-49b2-a2d3-23592d323517",
   "metadata": {},
   "outputs": [],
   "source": [
    "## Python Lambda Function with List Comprehension\n",
    "### In this example, we will use the lambda function with list comprehension and lambda with for loop. \n",
    "### We will try to print the table of 10"
   ]
  },
  {
   "cell_type": "code",
   "execution_count": 42,
   "id": "069e7167-08db-4ebd-9765-5d19d3fe93f7",
   "metadata": {},
   "outputs": [
    {
     "name": "stdout",
     "output_type": "stream",
     "text": [
      "10\n",
      "20\n",
      "30\n",
      "40\n",
      "50\n",
      "60\n",
      "70\n",
      "80\n",
      "90\n",
      "100\n"
     ]
    }
   ],
   "source": [
    "def tables():\n",
    "    for x in range(1, 11):\n",
    "        print(x*10)\n",
    "tables()"
   ]
  },
  {
   "cell_type": "code",
   "execution_count": null,
   "id": "3f2c0f57-9d4b-4533-8190-8f983b289942",
   "metadata": {},
   "outputs": [],
   "source": [
    "tables = [lambda n=x: n*10 for x in range(1, 11)]\n",
    " \n",
    "for table in tables:\n",
    "    print(table())"
   ]
  },
  {
   "cell_type": "code",
   "execution_count": 44,
   "id": "8f9ddb04-32bd-4dc0-918b-89852a615fb8",
   "metadata": {},
   "outputs": [
    {
     "name": "stdout",
     "output_type": "stream",
     "text": [
      "range(0, 10)\n"
     ]
    }
   ],
   "source": [
    "print(range(10))"
   ]
  },
  {
   "cell_type": "code",
   "execution_count": 45,
   "id": "16e48e83-8741-46eb-8332-75e3c6b72eda",
   "metadata": {},
   "outputs": [
    {
     "name": "stdout",
     "output_type": "stream",
     "text": [
      "0\n",
      "1\n",
      "2\n",
      "3\n",
      "4\n",
      "5\n",
      "6\n",
      "7\n",
      "8\n",
      "9\n"
     ]
    }
   ],
   "source": [
    "for i in range(10):\n",
    "    print(i)"
   ]
  },
  {
   "cell_type": "code",
   "execution_count": 43,
   "id": "09e1e93e-dc3d-4856-b487-c7508313568b",
   "metadata": {},
   "outputs": [
    {
     "name": "stdout",
     "output_type": "stream",
     "text": [
      "[<function <lambda> at 0x000001D259D08720>, <function <lambda> at 0x000001D259D08E00>, <function <lambda> at 0x000001D259D08CC0>, <function <lambda> at 0x000001D259D09580>, <function <lambda> at 0x000001D259D09760>, <function <lambda> at 0x000001D259D099E0>, <function <lambda> at 0x000001D259D09940>, <function <lambda> at 0x000001D259D09C60>, <function <lambda> at 0x000001D259D09A80>, <function <lambda> at 0x000001D259D09D00>]\n"
     ]
    }
   ],
   "source": [
    "tables = [lambda n=x: n*10 for x in range(1, 11)]\n",
    "print(tables)"
   ]
  },
  {
   "cell_type": "code",
   "execution_count": 46,
   "id": "cdf704cb-f4cf-4293-84d6-677820d735f1",
   "metadata": {},
   "outputs": [
    {
     "name": "stdout",
     "output_type": "stream",
     "text": [
      "10\n",
      "20\n",
      "30\n",
      "40\n",
      "50\n",
      "60\n",
      "70\n",
      "80\n",
      "90\n",
      "100\n"
     ]
    }
   ],
   "source": [
    "for table in tables:\n",
    "    print(table())"
   ]
  },
  {
   "cell_type": "code",
   "execution_count": 56,
   "id": "d8c35069-801d-453c-ba2e-ebc05cd58fcf",
   "metadata": {},
   "outputs": [
    {
     "name": "stdout",
     "output_type": "stream",
     "text": [
      "10\n",
      "20\n",
      "30\n",
      "40\n",
      "50\n",
      "60\n",
      "70\n",
      "80\n",
      "90\n",
      "100\n"
     ]
    }
   ],
   "source": [
    "tables = [lambda n=x: n*10 for x in range(1, 11)]\n",
    " \n",
    "for table in tables:\n",
    "    print(table())"
   ]
  },
  {
   "cell_type": "code",
   "execution_count": 49,
   "id": "480d3370-d625-4016-bef2-fd423b7e4d36",
   "metadata": {},
   "outputs": [],
   "source": [
    "# Normal Function\n",
    "def add(a,b):\n",
    "    return a+b"
   ]
  },
  {
   "cell_type": "code",
   "execution_count": 53,
   "id": "637e5c7b-0881-4860-a269-79f366b116e2",
   "metadata": {},
   "outputs": [
    {
     "name": "stdout",
     "output_type": "stream",
     "text": [
      "5\n"
     ]
    }
   ],
   "source": [
    "print(add(2,3))"
   ]
  },
  {
   "cell_type": "code",
   "execution_count": 51,
   "id": "9975c366-aeb4-427d-bb7c-0a7b2cfd576a",
   "metadata": {},
   "outputs": [],
   "source": [
    "add1 = add"
   ]
  },
  {
   "cell_type": "code",
   "execution_count": 52,
   "id": "539ba355-2d9a-4936-b685-2c1b186ede86",
   "metadata": {},
   "outputs": [
    {
     "name": "stdout",
     "output_type": "stream",
     "text": [
      "<function add at 0x000001D259D0A2A0>\n"
     ]
    }
   ],
   "source": [
    "print(add1)"
   ]
  },
  {
   "cell_type": "code",
   "execution_count": 55,
   "id": "242cb962-e7ed-449b-bafa-e6bf51fe3c10",
   "metadata": {},
   "outputs": [
    {
     "name": "stdout",
     "output_type": "stream",
     "text": [
      "True\n"
     ]
    }
   ],
   "source": [
    "# optimal method\n",
    "len_string = lambda s : len(s) > 5\n",
    "print(len_string('Python'))"
   ]
  },
  {
   "cell_type": "code",
   "execution_count": null,
   "id": "0643bfc4-fa7a-44db-b1cd-a79d7bbe43f9",
   "metadata": {},
   "outputs": [],
   "source": []
  }
 ],
 "metadata": {
  "kernelspec": {
   "display_name": "Python 3 (ipykernel)",
   "language": "python",
   "name": "python3"
  },
  "language_info": {
   "codemirror_mode": {
    "name": "ipython",
    "version": 3
   },
   "file_extension": ".py",
   "mimetype": "text/x-python",
   "name": "python",
   "nbconvert_exporter": "python",
   "pygments_lexer": "ipython3",
   "version": "3.12.7"
  }
 },
 "nbformat": 4,
 "nbformat_minor": 5
}
