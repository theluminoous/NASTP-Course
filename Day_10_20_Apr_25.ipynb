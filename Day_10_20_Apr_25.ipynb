{
 "cells": [
  {
   "cell_type": "markdown",
   "id": "26b07e1c-bef5-4883-b184-cf4acd5e4671",
   "metadata": {},
   "source": [
    "#### Class Variable\n",
    "---\n",
    "Instance variables are unique for each instance but\n",
    "Class variables / attributes are shared for all instances\n",
    "\n",
    "when a same argument appears again and again then we try to declare it as class variable so that we should not give this argument again and again\n",
    "\n",
    "also memory can be saved by finishing the repeated argument"
   ]
  },
  {
   "cell_type": "code",
   "execution_count": 2,
   "id": "12561cae-9a0e-4bac-9cf6-afc416ce8a52",
   "metadata": {},
   "outputs": [
    {
     "name": "stdout",
     "output_type": "stream",
     "text": [
      "25.12\n",
      "43.96\n"
     ]
    }
   ],
   "source": [
    "# Example through code\n",
    "\n",
    "class Circle:\n",
    "    def __init__(self, radius, pi):\n",
    "        self.radius = radius\n",
    "        self.pi = pi\n",
    "    \n",
    "    def circumference(self):\n",
    "        return 2*self.pi*self.radius\n",
    "    \n",
    "c1 = Circle(4, 3.14) # here pi value is same and have to declare in each instance, its also memory wastage\n",
    "c2 = Circle(7, 3.14)\n",
    "\n",
    "print(c1.circumference())\n",
    "print(c2.circumference())"
   ]
  },
  {
   "cell_type": "code",
   "execution_count": null,
   "id": "de923e61-a4f2-4405-a7dd-e620072ed5aa",
   "metadata": {},
   "outputs": [],
   "source": [
    "# other way with the help of class variable\n",
    "\n",
    "class Circle:\n",
    "    pi = 3.14\n",
    "    def __init__(self, radius):\n",
    "        self.radius = radius\n",
    "    \n",
    "    def Circumference(self):\n",
    "        return 2*Circle.pi*self.radius\n",
    "\n",
    "c1 = Circle(12) # 12 is radius\n",
    "c2 = Circle(4)\n",
    "\n",
    "print(c1.Circumference())\n",
    "print(c2.Circumference())"
   ]
  },
  {
   "cell_type": "code",
   "execution_count": 3,
   "id": "419de3bd-fde1-4d65-804f-11bbb7e734b1",
   "metadata": {},
   "outputs": [
    {
     "name": "stdout",
     "output_type": "stream",
     "text": [
      "Total amount is 3900000 and Final amount after 5% discount is 3705000.0\n"
     ]
    }
   ],
   "source": [
    "# We can change value of Class variable anywhere in the code according to the need \n",
    "# Here we fix the discount to avoid repetition and also change the discount just where we need\n",
    "\n",
    "class Car:\n",
    "    default_discount = 5\n",
    "    def __init__(self, company_name, model_name, price):\n",
    "        self.company = company_name\n",
    "        self.model = model_name\n",
    "        self.price = price\n",
    "\n",
    "    def discount_offer(self):\n",
    "        return f\"Total amount is {self.price} and Final amount after {Car.default_discount}% discount is {self.price - ((self.price*Car.default_discount)/100)}\"\n",
    "\n",
    "car1 = Car('Toyota', 'grande', 3900000)\n",
    "car2 = Car('Honda', 'Civic', 4600000)\n",
    "\n",
    "print(car1.discount_offer())"
   ]
  },
  {
   "cell_type": "code",
   "execution_count": 4,
   "id": "7e9f8ece-bd0d-4cb1-99be-59e0f4ae1a65",
   "metadata": {},
   "outputs": [
    {
     "name": "stdout",
     "output_type": "stream",
     "text": [
      "Total amount is 3900000 and Final amount after 0% discount is 3900000.0\n"
     ]
    }
   ],
   "source": [
    "# we can change value of Class variable according to need\n",
    "\n",
    "Car.default_discount = 0 \n",
    "print(car1.discount_offer())"
   ]
  },
  {
   "cell_type": "code",
   "execution_count": 5,
   "id": "6585e081-645b-4b66-bc5e-0063dc66063e",
   "metadata": {},
   "outputs": [
    {
     "name": "stdout",
     "output_type": "stream",
     "text": [
      "{'company': 'Honda', 'model': 'Civic', 'price': 4600000}\n"
     ]
    }
   ],
   "source": [
    "## dict string\n",
    "# To check the variables or property of an object / instance \n",
    "# we can use the dict string property which will make dictionary of all variables of object\n",
    "\n",
    "class Car:\n",
    "    def __init__(self, company_name, model_name, price):\n",
    "        self.company = company_name\n",
    "        self.model = model_name\n",
    "        self.price = price\n",
    "\n",
    "car1 = Car('Toyota', 'grande', 3900000)\n",
    "car2 = Car('Honda', 'Civic', 4600000)\n",
    "\n",
    "print(car2.__dict__)"
   ]
  },
  {
   "cell_type": "code",
   "execution_count": 6,
   "id": "ce673cd1-9fcd-486c-970c-3a3f9715ff39",
   "metadata": {},
   "outputs": [
    {
     "name": "stdout",
     "output_type": "stream",
     "text": [
      "2\n"
     ]
    }
   ],
   "source": [
    "## Exercise\n",
    "# Write a code using class variable / attribute ‘count_instance’ which will tell the total instances of a class\n",
    "\n",
    "## Solution\n",
    "class Car:\n",
    "    count_instance = 0\n",
    "    def __init__(self):\n",
    "        Car.count_instance += 1\n",
    "\n",
    "c1 = Car()\n",
    "c2 = Car()\n",
    "print(Car.count_instance)"
   ]
  },
  {
   "cell_type": "markdown",
   "id": "b18992a9-ff15-425f-8003-ad135b8c2bb4",
   "metadata": {},
   "source": [
    "#### Class Methods"
   ]
  },
  {
   "cell_type": "code",
   "execution_count": 7,
   "id": "237c3c70-94f0-482f-af59-c7e983baad9d",
   "metadata": {},
   "outputs": [
    {
     "name": "stdout",
     "output_type": "stream",
     "text": [
      "2 instances created for Car class\n"
     ]
    }
   ],
   "source": [
    "# Mostly Instance methods are used but Class methods can also be used if we want\n",
    "# In instance method first argument is object(self), but in class method first argument is class(cls)\n",
    "    # cls is naming convention, and we don’t write class here because class is used to create a class\n",
    "# we use a decorator @classmethod to create a class method\n",
    "# Example: - a class method which tells about the number of instances created\n",
    "\n",
    "class Car:\n",
    "    count_instance = 0\n",
    "    def __init__(self):\n",
    "        Car.count_instance += 1\n",
    "    \n",
    "    @classmethod\n",
    "    def instance_counter(cls):\n",
    "        return f'{cls.count_instance} instances created for {cls.__name__} class' # cls can also used in the place of Class as cls is also representing the class\n",
    "\n",
    "c1 = Car()\n",
    "c2 = Car()\n",
    "# print(c1.instance_counter()) #wrong way, class method should clled by class name\n",
    "print(Car.instance_counter())"
   ]
  },
  {
   "cell_type": "code",
   "execution_count": 8,
   "id": "efc23608-9d95-4131-bca5-d81686ab2f21",
   "metadata": {},
   "outputs": [
    {
     "name": "stdout",
     "output_type": "stream",
     "text": [
      "Help on class list in module builtins:\n",
      "\n",
      "class list(object)\n",
      " |  list(iterable=(), /)\n",
      " |\n",
      " |  Built-in mutable sequence.\n",
      " |\n",
      " |  If no argument is given, the constructor creates a new empty list.\n",
      " |  The argument must be an iterable if specified.\n",
      " |\n",
      " |  Methods defined here:\n",
      " |\n",
      " |  __add__(self, value, /)\n",
      " |      Return self+value.\n",
      " |\n",
      " |  __contains__(self, key, /)\n",
      " |      Return bool(key in self).\n",
      " |\n",
      " |  __delitem__(self, key, /)\n",
      " |      Delete self[key].\n",
      " |\n",
      " |  __eq__(self, value, /)\n",
      " |      Return self==value.\n",
      " |\n",
      " |  __ge__(self, value, /)\n",
      " |      Return self>=value.\n",
      " |\n",
      " |  __getattribute__(self, name, /)\n",
      " |      Return getattr(self, name).\n",
      " |\n",
      " |  __getitem__(self, index, /)\n",
      " |      Return self[index].\n",
      " |\n",
      " |  __gt__(self, value, /)\n",
      " |      Return self>value.\n",
      " |\n",
      " |  __iadd__(self, value, /)\n",
      " |      Implement self+=value.\n",
      " |\n",
      " |  __imul__(self, value, /)\n",
      " |      Implement self*=value.\n",
      " |\n",
      " |  __init__(self, /, *args, **kwargs)\n",
      " |      Initialize self.  See help(type(self)) for accurate signature.\n",
      " |\n",
      " |  __iter__(self, /)\n",
      " |      Implement iter(self).\n",
      " |\n",
      " |  __le__(self, value, /)\n",
      " |      Return self<=value.\n",
      " |\n",
      " |  __len__(self, /)\n",
      " |      Return len(self).\n",
      " |\n",
      " |  __lt__(self, value, /)\n",
      " |      Return self<value.\n",
      " |\n",
      " |  __mul__(self, value, /)\n",
      " |      Return self*value.\n",
      " |\n",
      " |  __ne__(self, value, /)\n",
      " |      Return self!=value.\n",
      " |\n",
      " |  __repr__(self, /)\n",
      " |      Return repr(self).\n",
      " |\n",
      " |  __reversed__(self, /)\n",
      " |      Return a reverse iterator over the list.\n",
      " |\n",
      " |  __rmul__(self, value, /)\n",
      " |      Return value*self.\n",
      " |\n",
      " |  __setitem__(self, key, value, /)\n",
      " |      Set self[key] to value.\n",
      " |\n",
      " |  __sizeof__(self, /)\n",
      " |      Return the size of the list in memory, in bytes.\n",
      " |\n",
      " |  append(self, object, /)\n",
      " |      Append object to the end of the list.\n",
      " |\n",
      " |  clear(self, /)\n",
      " |      Remove all items from list.\n",
      " |\n",
      " |  copy(self, /)\n",
      " |      Return a shallow copy of the list.\n",
      " |\n",
      " |  count(self, value, /)\n",
      " |      Return number of occurrences of value.\n",
      " |\n",
      " |  extend(self, iterable, /)\n",
      " |      Extend list by appending elements from the iterable.\n",
      " |\n",
      " |  index(self, value, start=0, stop=9223372036854775807, /)\n",
      " |      Return first index of value.\n",
      " |\n",
      " |      Raises ValueError if the value is not present.\n",
      " |\n",
      " |  insert(self, index, object, /)\n",
      " |      Insert object before index.\n",
      " |\n",
      " |  pop(self, index=-1, /)\n",
      " |      Remove and return item at index (default last).\n",
      " |\n",
      " |      Raises IndexError if list is empty or index is out of range.\n",
      " |\n",
      " |  remove(self, value, /)\n",
      " |      Remove first occurrence of value.\n",
      " |\n",
      " |      Raises ValueError if the value is not present.\n",
      " |\n",
      " |  reverse(self, /)\n",
      " |      Reverse *IN PLACE*.\n",
      " |\n",
      " |  sort(self, /, *, key=None, reverse=False)\n",
      " |      Sort the list in ascending order and return None.\n",
      " |\n",
      " |      The sort is in-place (i.e. the list itself is modified) and stable (i.e. the\n",
      " |      order of two equal elements is maintained).\n",
      " |\n",
      " |      If a key function is given, apply it once to each list item and sort them,\n",
      " |      ascending or descending, according to their function values.\n",
      " |\n",
      " |      The reverse flag can be set to sort in descending order.\n",
      " |\n",
      " |  ----------------------------------------------------------------------\n",
      " |  Class methods defined here:\n",
      " |\n",
      " |  __class_getitem__(...)\n",
      " |      See PEP 585\n",
      " |\n",
      " |  ----------------------------------------------------------------------\n",
      " |  Static methods defined here:\n",
      " |\n",
      " |  __new__(*args, **kwargs)\n",
      " |      Create and return a new object.  See help(type) for accurate signature.\n",
      " |\n",
      " |  ----------------------------------------------------------------------\n",
      " |  Data and other attributes defined here:\n",
      " |\n",
      " |  __hash__ = None\n",
      "\n"
     ]
    }
   ],
   "source": [
    "help(list)"
   ]
  },
  {
   "cell_type": "code",
   "execution_count": 9,
   "id": "9c555df4-d051-41d3-bfc4-6dc4a5ecc622",
   "metadata": {},
   "outputs": [
    {
     "name": "stdout",
     "output_type": "stream",
     "text": [
      "Help on class dict in module builtins:\n",
      "\n",
      "class dict(object)\n",
      " |  dict() -> new empty dictionary\n",
      " |  dict(mapping) -> new dictionary initialized from a mapping object's\n",
      " |      (key, value) pairs\n",
      " |  dict(iterable) -> new dictionary initialized as if via:\n",
      " |      d = {}\n",
      " |      for k, v in iterable:\n",
      " |          d[k] = v\n",
      " |  dict(**kwargs) -> new dictionary initialized with the name=value pairs\n",
      " |      in the keyword argument list.  For example:  dict(one=1, two=2)\n",
      " |\n",
      " |  Built-in subclasses:\n",
      " |      StgDict\n",
      " |\n",
      " |  Methods defined here:\n",
      " |\n",
      " |  __contains__(self, key, /)\n",
      " |      True if the dictionary has the specified key, else False.\n",
      " |\n",
      " |  __delitem__(self, key, /)\n",
      " |      Delete self[key].\n",
      " |\n",
      " |  __eq__(self, value, /)\n",
      " |      Return self==value.\n",
      " |\n",
      " |  __ge__(self, value, /)\n",
      " |      Return self>=value.\n",
      " |\n",
      " |  __getattribute__(self, name, /)\n",
      " |      Return getattr(self, name).\n",
      " |\n",
      " |  __getitem__(self, key, /)\n",
      " |      Return self[key].\n",
      " |\n",
      " |  __gt__(self, value, /)\n",
      " |      Return self>value.\n",
      " |\n",
      " |  __init__(self, /, *args, **kwargs)\n",
      " |      Initialize self.  See help(type(self)) for accurate signature.\n",
      " |\n",
      " |  __ior__(self, value, /)\n",
      " |      Return self|=value.\n",
      " |\n",
      " |  __iter__(self, /)\n",
      " |      Implement iter(self).\n",
      " |\n",
      " |  __le__(self, value, /)\n",
      " |      Return self<=value.\n",
      " |\n",
      " |  __len__(self, /)\n",
      " |      Return len(self).\n",
      " |\n",
      " |  __lt__(self, value, /)\n",
      " |      Return self<value.\n",
      " |\n",
      " |  __ne__(self, value, /)\n",
      " |      Return self!=value.\n",
      " |\n",
      " |  __or__(self, value, /)\n",
      " |      Return self|value.\n",
      " |\n",
      " |  __repr__(self, /)\n",
      " |      Return repr(self).\n",
      " |\n",
      " |  __reversed__(self, /)\n",
      " |      Return a reverse iterator over the dict keys.\n",
      " |\n",
      " |  __ror__(self, value, /)\n",
      " |      Return value|self.\n",
      " |\n",
      " |  __setitem__(self, key, value, /)\n",
      " |      Set self[key] to value.\n",
      " |\n",
      " |  __sizeof__(...)\n",
      " |      D.__sizeof__() -> size of D in memory, in bytes\n",
      " |\n",
      " |  clear(...)\n",
      " |      D.clear() -> None.  Remove all items from D.\n",
      " |\n",
      " |  copy(...)\n",
      " |      D.copy() -> a shallow copy of D\n",
      " |\n",
      " |  get(self, key, default=None, /)\n",
      " |      Return the value for key if key is in the dictionary, else default.\n",
      " |\n",
      " |  items(...)\n",
      " |      D.items() -> a set-like object providing a view on D's items\n",
      " |\n",
      " |  keys(...)\n",
      " |      D.keys() -> a set-like object providing a view on D's keys\n",
      " |\n",
      " |  pop(...)\n",
      " |      D.pop(k[,d]) -> v, remove specified key and return the corresponding value.\n",
      " |\n",
      " |      If the key is not found, return the default if given; otherwise,\n",
      " |      raise a KeyError.\n",
      " |\n",
      " |  popitem(self, /)\n",
      " |      Remove and return a (key, value) pair as a 2-tuple.\n",
      " |\n",
      " |      Pairs are returned in LIFO (last-in, first-out) order.\n",
      " |      Raises KeyError if the dict is empty.\n",
      " |\n",
      " |  setdefault(self, key, default=None, /)\n",
      " |      Insert key with a value of default if key is not in the dictionary.\n",
      " |\n",
      " |      Return the value for key if key is in the dictionary, else default.\n",
      " |\n",
      " |  update(...)\n",
      " |      D.update([E, ]**F) -> None.  Update D from dict/iterable E and F.\n",
      " |      If E is present and has a .keys() method, then does:  for k in E: D[k] = E[k]\n",
      " |      If E is present and lacks a .keys() method, then does:  for k, v in E: D[k] = v\n",
      " |      In either case, this is followed by: for k in F:  D[k] = F[k]\n",
      " |\n",
      " |  values(...)\n",
      " |      D.values() -> an object providing a view on D's values\n",
      " |\n",
      " |  ----------------------------------------------------------------------\n",
      " |  Class methods defined here:\n",
      " |\n",
      " |  __class_getitem__(...)\n",
      " |      See PEP 585\n",
      " |\n",
      " |  fromkeys(iterable, value=None, /)\n",
      " |      Create a new dictionary with keys from iterable and values set to value.\n",
      " |\n",
      " |  ----------------------------------------------------------------------\n",
      " |  Static methods defined here:\n",
      " |\n",
      " |  __new__(*args, **kwargs)\n",
      " |      Create and return a new object.  See help(type) for accurate signature.\n",
      " |\n",
      " |  ----------------------------------------------------------------------\n",
      " |  Data and other attributes defined here:\n",
      " |\n",
      " |  __hash__ = None\n",
      "\n"
     ]
    }
   ],
   "source": [
    "help(dict)"
   ]
  },
  {
   "cell_type": "markdown",
   "id": "4a6cca59-702f-4bb6-b8fa-ead2b56570f3",
   "metadata": {},
   "source": [
    "#### OOP Static method\n",
    "\n",
    "As Class Method is attached through ‘cls’ and Instance method is attached through ‘self’ but\n",
    "\n",
    "Static method is not attached as such with object / instance, its just like normal function\n",
    "\n",
    "We declare them due to some logical relation\n",
    "\n",
    "A decorator @staticmethod is used to create a static method"
   ]
  },
  {
   "cell_type": "code",
   "execution_count": 10,
   "id": "068637a2-468c-4501-a0a7-b538268d429e",
   "metadata": {},
   "outputs": [
    {
     "name": "stdout",
     "output_type": "stream",
     "text": [
      "static method is called\n"
     ]
    }
   ],
   "source": [
    "class Car:\n",
    "    def __init__(self, company_name):\n",
    "        self.company = company_name\n",
    "    \n",
    "    @staticmethod\n",
    "    def st_md():\n",
    "        return 'static method is called'\n",
    "\n",
    "print(Car.st_md())"
   ]
  },
  {
   "cell_type": "code",
   "execution_count": null,
   "id": "742b957f-8375-4e7f-a33e-da0fe36d9025",
   "metadata": {},
   "outputs": [],
   "source": [
    "## some important terminologies of OOP\n",
    "\n",
    "## Defining Class\n",
    "class Car:\n",
    "    count_instance = 0  ## Class Variable / attribute\n",
    "\n",
    "\n",
    "## constructor\n",
    "    def __init__(self, company_name, model_name, price):  ## constructor(instance, variables of instance)\n",
    "\n",
    "        Car.count_instance += 1\n",
    "\n",
    "        self.company = company_name  # Instance variables\n",
    "        self.model = model_name\n",
    "        self.price = price\n",
    "\n",
    "\n",
    "## Instance method\n",
    "    def discount_offer(self, d): \n",
    "        return f\"Total amount is {self.price} and Final amount after {d}% discount is {self.price - ((self.price*d)/100)}\"\n",
    "\n",
    "\n",
    "## Class method\n",
    "    @classmethod  \n",
    "    def instance_counter(cls):\n",
    "        return f'{cls.count_instance} instances created for {cls.__name__} class'  # cls can also used in the place of Class as cls is also representing the class\n",
    "\n",
    "    \n",
    "## Static method   \n",
    "    @staticmethod  \n",
    "    def st_md():\n",
    "        return 'static method is called'\n",
    "\n",
    "\n",
    "\n",
    "## instances\n",
    "car1 = Car('Toyota', 'grande', 3900000)\n",
    "car2 = Car('Honda', 'Civic', 4600000)\n",
    "\n",
    "\n",
    "## Instance method called\n",
    "print(car1.discount_offer(5))\n",
    "\n",
    "\n",
    "## Class method called\n",
    "print(Car.instance_counter())\n",
    "\n",
    "\n",
    "## static method called\n",
    "print(Car.st_md()) "
   ]
  },
  {
   "cell_type": "markdown",
   "id": "0aa40fad-0c38-4575-a6bb-c132341b3e7e",
   "metadata": {},
   "source": [
    "## OOP Pillars"
   ]
  },
  {
   "cell_type": "markdown",
   "id": "842da50d-42ad-42be-a7ec-bce28afd6008",
   "metadata": {},
   "source": [
    "### 1- Encapsulation\n",
    "\n",
    "Encapsulation is a method of making a complex system easier to handle for end users.\n",
    "\n",
    "It describes the idea of wrapping data and the methods that work on data within one unit.\n",
    "\n",
    "By doing so, you can hide the internal state of the object from the outside. This is known as information hiding.\n",
    "\n",
    "A class is an example of encapsulation. A class bundles data and methods into a single unit. \n",
    "\n",
    "And a class provides the access to its attributes via methods."
   ]
  },
  {
   "cell_type": "code",
   "execution_count": null,
   "id": "d85f5788-7db1-40b4-891c-3baa5a14713f",
   "metadata": {},
   "outputs": [],
   "source": [
    "## For Example: \n",
    "    # a class is given below which is example of encapsulation\n",
    "\n",
    "class Car:\n",
    "    def __init__(self, company_name, model_name, price):\n",
    "\n",
    "        self.company = company_name\n",
    "        self.model = model_name\n",
    "        self.price = price\n",
    "    \n",
    "    def full_name(self):\n",
    "        return f'full name is {self.company} {self.model}'"
   ]
  },
  {
   "cell_type": "markdown",
   "id": "5b28da11-92a1-4e79-a14c-ba74f9814012",
   "metadata": {},
   "source": [
    "### 2- Abstraction\n",
    "\n",
    "It \"<b>shows</b>\" only essential attributes and \"<b>hides</b>\" unnecessary information. \n",
    "\n",
    "The main purpose of abstraction is hiding the unnecessary details from the users. \n",
    "\n",
    "Abstraction is selecting data from a larger pool to show only relevant details of the object to the user. \n",
    "\n",
    "It helps in reducing programming complexity and efforts from user. It is one of the most important concepts of OOPs."
   ]
  },
  {
   "cell_type": "code",
   "execution_count": 11,
   "id": "17ce61ab-1d70-4d90-b46e-fbbdfaf1acbb",
   "metadata": {},
   "outputs": [
    {
     "name": "stdout",
     "output_type": "stream",
     "text": [
      "full name is Toyota grande\n",
      "[11, 21, 35, 67, 85]\n"
     ]
    }
   ],
   "source": [
    "# For example: a code is given below\n",
    "\n",
    "# -------------------\n",
    "# Encapsulation start\n",
    "#--------------------\n",
    "class Car:\n",
    "    def __init__(self, company_name, model_name, price):\n",
    "\n",
    "        self.company = company_name\n",
    "        self.model = model_name\n",
    "        self.price = price\n",
    "    \n",
    "    def full_name(self):\n",
    "        return f'full name is {self.company} {self.model}'\n",
    "\n",
    "# -------------------\n",
    "# Encapsulation End\n",
    "#--------------------\n",
    "\n",
    "\n",
    "car1 = Car('Toyota', 'grande', 3900000)\n",
    "car2 = Car('Honda', 'Civic', 4600000)\n",
    "\n",
    "\n",
    "# abstraction example 1 (car1.full_name)\n",
    "print(car1.full_name()) # end-user will don't know that how full_name method will work, but will get output\n",
    "\n",
    "#  or \n",
    "\n",
    "l = [85,35,67,21,11]\n",
    "\n",
    "\n",
    "#abstraction example 2 (l.sort())\n",
    "l.sort() # don't know how tim sorting algorithem is working\n",
    "print(l)\n",
    "\n",
    "## Encapsulation is compulsory before abstraction"
   ]
  },
  {
   "cell_type": "markdown",
   "id": "809dd91a-fca4-4150-943d-4c4f734d1fc7",
   "metadata": {},
   "source": [
    "### 3- Inheritence\n",
    "\n",
    "Inheritance enables us to define a class that takes all the functionality from a parent class and allows us to add more.\n",
    "\n",
    "It refers to defining a new class with little or no modification to an existing class. The new class is called derived (or child) class and the one from which it inherits is called the base (or parent) class."
   ]
  },
  {
   "cell_type": "code",
   "execution_count": null,
   "id": "672e89b1-1d34-460b-a563-933446553df6",
   "metadata": {},
   "outputs": [],
   "source": [
    "## Python Inheritance Syntax\n",
    "\n",
    "# class BaseClass:\n",
    "   # Body of base class\n",
    "  \n",
    "# class DerivedClass(BaseClass):\n",
    "   # Body of derived class"
   ]
  },
  {
   "cell_type": "code",
   "execution_count": 13,
   "id": "4eba0c9a-8db1-4257-8245-de9e06b62a3d",
   "metadata": {},
   "outputs": [
    {
     "data": {
      "text/plain": [
       "'Ali Ahmad'"
      ]
     },
     "execution_count": 13,
     "metadata": {},
     "output_type": "execute_result"
    }
   ],
   "source": [
    "class Person: # base or parent class\n",
    "    def __init__(self, fname, lname):\n",
    "        self.firstname = fname\n",
    "        self.lastname = lname\n",
    "\n",
    "    def printname(self):\n",
    "        return f'{self.firstname} {self.lastname}'\n",
    "        \n",
    "        \n",
    "#Use the Person class to create an object, and then execute the printname method:\n",
    "\n",
    "p1 = Person(\"Ali\", \"Ahmad\")\n",
    "p1.printname()"
   ]
  },
  {
   "cell_type": "code",
   "execution_count": 14,
   "id": "999498d1-6380-43c5-ad64-66fdb639c8cb",
   "metadata": {},
   "outputs": [
    {
     "name": "stdout",
     "output_type": "stream",
     "text": [
      "Jamshaid ali\n"
     ]
    }
   ],
   "source": [
    "class Student(Person):\n",
    "    pass\n",
    "\n",
    "s1 = Student(\"Jamshaid\", \"ali\")\n",
    "print(s1.printname())"
   ]
  },
  {
   "cell_type": "markdown",
   "id": "0ce1d9f6-81a7-4d6e-b764-66eba9656db4",
   "metadata": {},
   "source": [
    "So far we have created a child class that inherits the properties and methods from its parent.\n",
    "\n",
    "now we are going to add instance variables and methods in child class"
   ]
  },
  {
   "cell_type": "code",
   "execution_count": 15,
   "id": "44a3cdd3-0f4d-46d7-93b3-28330fd92a16",
   "metadata": {},
   "outputs": [
    {
     "name": "stdout",
     "output_type": "stream",
     "text": [
      "Jamshaid ali\n"
     ]
    }
   ],
   "source": [
    "class Student(Person):\n",
    "    def __init__(self, fname, lname, roll_no, grade):\n",
    "        self.firstname = fname\n",
    "        self.lastname = lname\n",
    "        self.roll_no = roll_no\n",
    "        self.grade = grade\n",
    "\n",
    "s1 = Student(\"Jamshaid\", \"ali\", 172, 'A')\n",
    "print(s1.printname())"
   ]
  },
  {
   "cell_type": "markdown",
   "id": "75c92603-e8eb-4bf4-97c7-29d5cfe4f0dc",
   "metadata": {},
   "source": [
    "we have not applied inheritence yet  \n",
    "due to this method, DRY principle will voilate  \n",
    "now we will use inheritance to avoid repetation  \n",
    "  \n",
    "##### There are two methods of inheritance"
   ]
  },
  {
   "cell_type": "code",
   "execution_count": null,
   "id": "b7b3e637-3c81-481a-97a1-776208793cf2",
   "metadata": {},
   "outputs": [],
   "source": [
    "## 1st Method (uncommon way)\n",
    "\n",
    "class Student(Person): # derived class\n",
    "    def __init__(self, fname, lname, roll_no, grade):\n",
    "        Person.__init__(self, fname, lname) # now instance variables will be created by Person class\n",
    "        self.roll_no = roll_no\n",
    "        self.grade = grade\n",
    "\n",
    "s1 = Student(\"Jamshaid\", \"ali\", 172, 'A')\n",
    "print(s1.printname())\n",
    "print(f'Grade of {s1.printname()} is \"{s1.grade}\"')"
   ]
  },
  {
   "cell_type": "code",
   "execution_count": null,
   "id": "7866ba99-c376-4800-9543-608b56eb79f1",
   "metadata": {},
   "outputs": [],
   "source": [
    "## 2nd Method (super() method)(common way)\n",
    "\n",
    "class Student(Person): # derived class\n",
    "    def __init__(self, fname, lname, roll_no, grade):\n",
    "        super().__init__(fname, lname)\n",
    "        self.roll_no = roll_no\n",
    "        self.grade = grade\n",
    "\n",
    "s1 = Student(\"Jamshaid\", \"ali\", 172, 'A')\n",
    "print(s1.printname())\n",
    "print(f'Grade of {s1.printname()} is \"{s1.grade}\"')"
   ]
  },
  {
   "cell_type": "code",
   "execution_count": 17,
   "id": "31f3c793-47dc-454f-b8a9-1ab211ca8bb4",
   "metadata": {},
   "outputs": [
    {
     "name": "stdout",
     "output_type": "stream",
     "text": [
      "Jamshaid ali\n",
      "Grade of Jamshaid ali is \"A\"\n"
     ]
    }
   ],
   "source": [
    "class Person: # base or parent class\n",
    "    def __init__(self, fname, lname):\n",
    "        self.firstname = fname\n",
    "        self.lastname = lname\n",
    "\n",
    "    def printname(self):\n",
    "        return f'{self.firstname} {self.lastname}'\n",
    "\n",
    "\n",
    "class Student(Person): # derived class\n",
    "    def __init__(self, fname, lname, roll_no, grade):\n",
    "        super().__init__(fname, lname)\n",
    "        self.roll_no = roll_no\n",
    "        self.grade = grade\n",
    "\n",
    "s1 = Student(\"Jamshaid\", \"ali\", 172, 'A')\n",
    "print(s1.printname())\n",
    "print(f'Grade of {s1.printname()} is \"{s1.grade}\"')"
   ]
  },
  {
   "cell_type": "markdown",
   "id": "3541d2e3-8af9-455e-bfab-1470f1e675e5",
   "metadata": {},
   "source": [
    "#### Multilevel inheritance\n",
    "---\n",
    "\n",
    "In python, Multilevel inheritance is one type of inheritance being used to inherit both base class and derived class features to the newly derived class.\n",
    "\n",
    "when we inherit a derived class from a base class and another derived class from the previous derived class up to any extent of depth of classes in python is called multilevel inheritance. \n",
    "\n",
    "While inheriting the methods and members of both base class and derived class will be inherited to the newly derived class."
   ]
  },
  {
   "cell_type": "code",
   "execution_count": 20,
   "id": "8ab3b102-74da-4f8d-9d47-76561d926321",
   "metadata": {},
   "outputs": [],
   "source": [
    "# Parent 1\n",
    "class Phone: # (User-defined Function)\n",
    "    def __init__(self, brand, model_name, price):\n",
    "        self.brand = brand                 # (Instance variable)\n",
    "        self.model_name = model_name       # (Instance variable)\n",
    "        self._price = max(price,0)         # (Instance variable)\n",
    "\n",
    "    def full_name(self): # (Instance Method)\n",
    "        return f'{self.brand} {self.model_name}'"
   ]
  },
  {
   "cell_type": "code",
   "execution_count": 21,
   "id": "27e05903-5eb5-4838-afd7-4954fac04bf5",
   "metadata": {},
   "outputs": [],
   "source": [
    "# Parent 2\n",
    "class Samrtphone(Phone):\n",
    "    def __init__(self, brand, model_name, price, ram, internal_memory, rear_camera):\n",
    "        super().__init__(brand, model_name, price)\n",
    "        self.ram = ram\n",
    "        self.internal_memory = internal_memory\n",
    "        self.rear_camera = rear_camera"
   ]
  },
  {
   "cell_type": "code",
   "execution_count": 22,
   "id": "786f019a-467d-4d09-9888-548fd739c4e9",
   "metadata": {},
   "outputs": [],
   "source": [
    "# child Class\n",
    "class Flagshiphone(Samrtphone):\n",
    "    def __init__(self, brand, model_name, price, ram, internal_memory, rear_camera, total_rear_cameras, front_camera, CPU):\n",
    "        super().__init__(brand, model_name, price, ram, internal_memory, rear_camera)\n",
    "        self.total_rear_cameras = total_rear_cameras\n",
    "        self.front_camera = front_camera\n",
    "        self.CPU = CPU"
   ]
  },
  {
   "cell_type": "code",
   "execution_count": 23,
   "id": "932a36f1-f71a-474e-9499-e5dc52cefc0d",
   "metadata": {},
   "outputs": [],
   "source": [
    "fp1 = Flagshiphone('Apple iPhone', '13 Pro Max', 293199, '6 GB', '128/256/512 GB', '12 MP + 12 MP + 2 MP + 3D LiDAR scanner', 'Quad Camera', '12 MP', 'Hexa-core')"
   ]
  },
  {
   "cell_type": "code",
   "execution_count": 24,
   "id": "032940a0-0287-4c34-b014-811405580335",
   "metadata": {},
   "outputs": [
    {
     "name": "stdout",
     "output_type": "stream",
     "text": [
      "293199\n",
      "12 MP + 12 MP + 2 MP + 3D LiDAR scanner\n",
      "Apple iPhone 13 Pro Max\n"
     ]
    }
   ],
   "source": [
    "print(fp1._price)\n",
    "print(fp1.rear_camera)\n",
    "print(fp1.full_name())"
   ]
  },
  {
   "cell_type": "code",
   "execution_count": 25,
   "id": "3f14bc33-b51f-47ca-96c3-4a9cec101421",
   "metadata": {},
   "outputs": [
    {
     "name": "stdout",
     "output_type": "stream",
     "text": [
      "Help on class Flagshiphone in module __main__:\n",
      "\n",
      "class Flagshiphone(Samrtphone)\n",
      " |  Flagshiphone(brand, model_name, price, ram, internal_memory, rear_camera, total_rear_cameras, front_camera, CPU)\n",
      " |\n",
      " |  Method resolution order:\n",
      " |      Flagshiphone\n",
      " |      Samrtphone\n",
      " |      Phone\n",
      " |      builtins.object\n",
      " |\n",
      " |  Methods defined here:\n",
      " |\n",
      " |  __init__(self, brand, model_name, price, ram, internal_memory, rear_camera, total_rear_cameras, front_camera, CPU)\n",
      " |      Initialize self.  See help(type(self)) for accurate signature.\n",
      " |\n",
      " |  ----------------------------------------------------------------------\n",
      " |  Methods inherited from Phone:\n",
      " |\n",
      " |  full_name(self)\n",
      " |\n",
      " |  ----------------------------------------------------------------------\n",
      " |  Data descriptors inherited from Phone:\n",
      " |\n",
      " |  __dict__\n",
      " |      dictionary for instance variables\n",
      " |\n",
      " |  __weakref__\n",
      " |      list of weak references to the object\n",
      "\n"
     ]
    }
   ],
   "source": [
    "help(Flagshiphone)"
   ]
  },
  {
   "cell_type": "markdown",
   "id": "42e69ee3-639f-4c92-8a64-df3034051451",
   "metadata": {},
   "source": [
    "#### Method over riding\n",
    "\n",
    "Method overriding, in object-oriented programming, is a language feature that allows a subclass or child class to provide a specific implementation of a method that is already provided by one of its superclasses or parent classes. \n",
    "\n",
    "It allows for a specific type of polymorphism (subtyping)."
   ]
  },
  {
   "cell_type": "code",
   "execution_count": 27,
   "id": "28d3e4b6-a504-4208-a40c-5bfddaf77468",
   "metadata": {},
   "outputs": [
    {
     "name": "stdout",
     "output_type": "stream",
     "text": [
      "Apple iPhone 13 Pro Max and price is 293199\n"
     ]
    }
   ],
   "source": [
    "# Parent 1\n",
    "class Phone: # (User-defined Function)\n",
    "    def __init__(self, brand, model_name, price):\n",
    "        self.brand = brand                 # (Instance variable)\n",
    "        self.model_name = model_name       # (Instance variable)\n",
    "        self._price = max(price,0)         # (Instance variable)\n",
    "\n",
    "    def full_name(self): # (Instance Method)\n",
    "        return f'{self.brand} {self.model_name}'\n",
    "\n",
    "\n",
    "# Parent 2\n",
    "class Samrtphone(Phone):\n",
    "    def __init__(self, brand, model_name, price, ram, internal_memory, rear_camera):\n",
    "        super().__init__(brand, model_name, price)\n",
    "        self.ram = ram\n",
    "        self.internal_memory = internal_memory\n",
    "        self.rear_camera = rear_camera\n",
    "\n",
    "\n",
    "# child Class\n",
    "class Flagshiphone(Samrtphone):\n",
    "    def __init__(self, brand, model_name, price, ram, internal_memory, rear_camera, total_rear_cameras, front_camera, CPU):\n",
    "        super().__init__(brand, model_name, price, ram, internal_memory, rear_camera)\n",
    "        self.total_rear_cameras = total_rear_cameras\n",
    "        self.front_camera = front_camera\n",
    "        self.CPU = CPU\n",
    "\n",
    "    def full_name(self):\n",
    "        return f'{self.brand} {self.model_name} and price is {self._price}'\n",
    "\n",
    "fp1 = Flagshiphone('Apple iPhone', '13 Pro Max', 293199, '6 GB', '128/256/512 GB', '12 MP + 12 MP + 2 MP + 3D LiDAR scanner', 'Quad Camera', '12 MP', 'Hexa-core')\n",
    "\n",
    "print(fp1.full_name())"
   ]
  },
  {
   "cell_type": "markdown",
   "id": "c257b936-55fb-4fbf-8909-e60096d0ef57",
   "metadata": {},
   "source": [
    "#### Multiple Inheritance\n",
    "---\n",
    "\n",
    "A class can be derived from more than one base class in Python, similar to C++. This is called multiple inheritance. \n",
    "\n",
    "In multiple inheritance, the features of all the base classes are inherited into the derived class. \n",
    "\n",
    "The syntax for multiple inheritance is similar to single inheritance.\n",
    "\n",
    "Mostly programmers avoid to use multiple inheritence because it makes code complex, but if it is neccessory then we can use it"
   ]
  },
  {
   "cell_type": "code",
   "execution_count": 29,
   "id": "54b19ccb-1e07-4d76-8fe7-08b37d4307b6",
   "metadata": {},
   "outputs": [
    {
     "name": "stdout",
     "output_type": "stream",
     "text": [
      "Hello from class A\n"
     ]
    }
   ],
   "source": [
    "# base class A declaration\n",
    "class A:\n",
    "    def class_a_method(self):\n",
    "        return 'its class A Method'\n",
    "    \n",
    "    def hello(self):\n",
    "        return 'Hello from class A'\n",
    "    \n",
    "a1 = A()\n",
    "print(a1.hello())\n",
    "\n",
    "# base class B declaration    \n",
    "class B:\n",
    "    def class_b_method(self):\n",
    "        return 'its class B Method'\n",
    "    \n",
    "    def hello(self):\n",
    "        return 'Hello from class B'"
   ]
  },
  {
   "cell_type": "code",
   "execution_count": 32,
   "id": "d6d50139-3c72-4800-a0d7-c55364cbf2f4",
   "metadata": {},
   "outputs": [
    {
     "name": "stdout",
     "output_type": "stream",
     "text": [
      "its class A Method\n",
      "its class B Method\n"
     ]
    }
   ],
   "source": [
    "# derived class C declaration\n",
    "class C(B,A):\n",
    "    pass\n",
    "\n",
    "c1 = C()\n",
    "\n",
    "print(c1.class_a_method())\n",
    "print(c1.class_b_method())"
   ]
  },
  {
   "cell_type": "code",
   "execution_count": 33,
   "id": "60d5c2dd-8367-408a-9ef0-530e0f3834b2",
   "metadata": {},
   "outputs": [
    {
     "name": "stdout",
     "output_type": "stream",
     "text": [
      "Help on class C in module __main__:\n",
      "\n",
      "class C(B, A)\n",
      " |  Method resolution order:\n",
      " |      C\n",
      " |      B\n",
      " |      A\n",
      " |      builtins.object\n",
      " |\n",
      " |  Methods inherited from B:\n",
      " |\n",
      " |  class_b_method(self)\n",
      " |\n",
      " |  hello(self)\n",
      " |\n",
      " |  ----------------------------------------------------------------------\n",
      " |  Data descriptors inherited from B:\n",
      " |\n",
      " |  __dict__\n",
      " |      dictionary for instance variables\n",
      " |\n",
      " |  __weakref__\n",
      " |      list of weak references to the object\n",
      " |\n",
      " |  ----------------------------------------------------------------------\n",
      " |  Methods inherited from A:\n",
      " |\n",
      " |  class_a_method(self)\n",
      "\n"
     ]
    }
   ],
   "source": [
    "help(C)"
   ]
  },
  {
   "cell_type": "markdown",
   "id": "ac8fb742-b20c-4863-b757-c6a8e404cf5f",
   "metadata": {},
   "source": [
    "#### Magic methods"
   ]
  },
  {
   "cell_type": "code",
   "execution_count": 34,
   "id": "4b3b27b9-62bd-4e06-89af-513ba34561de",
   "metadata": {},
   "outputs": [
    {
     "name": "stdout",
     "output_type": "stream",
     "text": [
      "[1, 2, 3]\n"
     ]
    }
   ],
   "source": [
    "l = [1,2,3]\n",
    "print(l) #it gives data store in object"
   ]
  },
  {
   "cell_type": "code",
   "execution_count": 35,
   "id": "e529a01a-64f6-4ea7-b6be-710beed10070",
   "metadata": {},
   "outputs": [
    {
     "name": "stdout",
     "output_type": "stream",
     "text": [
      "<__main__.Phone object at 0x00000206D35B9A90>\n"
     ]
    }
   ],
   "source": [
    "class Phone: \n",
    "    def __init__(self, brand, model_name, price):\n",
    "        self.brand = brand                 \n",
    "        self.model_name = model_name       \n",
    "        self._price = max(price,0)         \n",
    "\n",
    "    def full_name(self):\n",
    "        return f'{self.brand} {self.model_name}'\n",
    "    \n",
    "p1 = Phone('Redmi', 'Note 10', 32000)\n",
    "\n",
    "print(p1) # but it gives memory location of object"
   ]
  },
  {
   "cell_type": "code",
   "execution_count": 41,
   "id": "0b6df220-95d1-4447-aa6a-5cb4a13af626",
   "metadata": {},
   "outputs": [],
   "source": [
    "##__str__\n",
    "class Phone: \n",
    "    def __init__(self, brand, model_name, price):\n",
    "        self.brand = brand                 \n",
    "        self.model_name = model_name       \n",
    "        self._price = max(price,0)         \n",
    "\n",
    "    def full_name(self):\n",
    "        return f'{self.brand} {self.model_name}'\n",
    "    \n",
    "    def __str__(self):\n",
    "        return f'{self.brand} {self.model_name} {self._price}'\n",
    "    \n",
    "p2 = Phone('Redmi', 'Note 10', 32000)"
   ]
  },
  {
   "cell_type": "code",
   "execution_count": 42,
   "id": "65bc7fbf-3d7b-4f2d-b283-bfd89bef2e5e",
   "metadata": {},
   "outputs": [
    {
     "name": "stdout",
     "output_type": "stream",
     "text": [
      "Redmi Note 10 32000\n"
     ]
    }
   ],
   "source": [
    "print(p2)"
   ]
  },
  {
   "cell_type": "code",
   "execution_count": 40,
   "id": "3a44b021-6e6b-4751-8694-7ece127e4288",
   "metadata": {
    "scrolled": true
   },
   "outputs": [
    {
     "name": "stdout",
     "output_type": "stream",
     "text": [
      "Help on class list in module builtins:\n",
      "\n",
      "class list(object)\n",
      " |  list(iterable=(), /)\n",
      " |\n",
      " |  Built-in mutable sequence.\n",
      " |\n",
      " |  If no argument is given, the constructor creates a new empty list.\n",
      " |  The argument must be an iterable if specified.\n",
      " |\n",
      " |  Methods defined here:\n",
      " |\n",
      " |  __add__(self, value, /)\n",
      " |      Return self+value.\n",
      " |\n",
      " |  __contains__(self, key, /)\n",
      " |      Return bool(key in self).\n",
      " |\n",
      " |  __delitem__(self, key, /)\n",
      " |      Delete self[key].\n",
      " |\n",
      " |  __eq__(self, value, /)\n",
      " |      Return self==value.\n",
      " |\n",
      " |  __ge__(self, value, /)\n",
      " |      Return self>=value.\n",
      " |\n",
      " |  __getattribute__(self, name, /)\n",
      " |      Return getattr(self, name).\n",
      " |\n",
      " |  __getitem__(self, index, /)\n",
      " |      Return self[index].\n",
      " |\n",
      " |  __gt__(self, value, /)\n",
      " |      Return self>value.\n",
      " |\n",
      " |  __iadd__(self, value, /)\n",
      " |      Implement self+=value.\n",
      " |\n",
      " |  __imul__(self, value, /)\n",
      " |      Implement self*=value.\n",
      " |\n",
      " |  __init__(self, /, *args, **kwargs)\n",
      " |      Initialize self.  See help(type(self)) for accurate signature.\n",
      " |\n",
      " |  __iter__(self, /)\n",
      " |      Implement iter(self).\n",
      " |\n",
      " |  __le__(self, value, /)\n",
      " |      Return self<=value.\n",
      " |\n",
      " |  __len__(self, /)\n",
      " |      Return len(self).\n",
      " |\n",
      " |  __lt__(self, value, /)\n",
      " |      Return self<value.\n",
      " |\n",
      " |  __mul__(self, value, /)\n",
      " |      Return self*value.\n",
      " |\n",
      " |  __ne__(self, value, /)\n",
      " |      Return self!=value.\n",
      " |\n",
      " |  __repr__(self, /)\n",
      " |      Return repr(self).\n",
      " |\n",
      " |  __reversed__(self, /)\n",
      " |      Return a reverse iterator over the list.\n",
      " |\n",
      " |  __rmul__(self, value, /)\n",
      " |      Return value*self.\n",
      " |\n",
      " |  __setitem__(self, key, value, /)\n",
      " |      Set self[key] to value.\n",
      " |\n",
      " |  __sizeof__(self, /)\n",
      " |      Return the size of the list in memory, in bytes.\n",
      " |\n",
      " |  append(self, object, /)\n",
      " |      Append object to the end of the list.\n",
      " |\n",
      " |  clear(self, /)\n",
      " |      Remove all items from list.\n",
      " |\n",
      " |  copy(self, /)\n",
      " |      Return a shallow copy of the list.\n",
      " |\n",
      " |  count(self, value, /)\n",
      " |      Return number of occurrences of value.\n",
      " |\n",
      " |  extend(self, iterable, /)\n",
      " |      Extend list by appending elements from the iterable.\n",
      " |\n",
      " |  index(self, value, start=0, stop=9223372036854775807, /)\n",
      " |      Return first index of value.\n",
      " |\n",
      " |      Raises ValueError if the value is not present.\n",
      " |\n",
      " |  insert(self, index, object, /)\n",
      " |      Insert object before index.\n",
      " |\n",
      " |  pop(self, index=-1, /)\n",
      " |      Remove and return item at index (default last).\n",
      " |\n",
      " |      Raises IndexError if list is empty or index is out of range.\n",
      " |\n",
      " |  remove(self, value, /)\n",
      " |      Remove first occurrence of value.\n",
      " |\n",
      " |      Raises ValueError if the value is not present.\n",
      " |\n",
      " |  reverse(self, /)\n",
      " |      Reverse *IN PLACE*.\n",
      " |\n",
      " |  sort(self, /, *, key=None, reverse=False)\n",
      " |      Sort the list in ascending order and return None.\n",
      " |\n",
      " |      The sort is in-place (i.e. the list itself is modified) and stable (i.e. the\n",
      " |      order of two equal elements is maintained).\n",
      " |\n",
      " |      If a key function is given, apply it once to each list item and sort them,\n",
      " |      ascending or descending, according to their function values.\n",
      " |\n",
      " |      The reverse flag can be set to sort in descending order.\n",
      " |\n",
      " |  ----------------------------------------------------------------------\n",
      " |  Class methods defined here:\n",
      " |\n",
      " |  __class_getitem__(...)\n",
      " |      See PEP 585\n",
      " |\n",
      " |  ----------------------------------------------------------------------\n",
      " |  Static methods defined here:\n",
      " |\n",
      " |  __new__(*args, **kwargs)\n",
      " |      Create and return a new object.  See help(type) for accurate signature.\n",
      " |\n",
      " |  ----------------------------------------------------------------------\n",
      " |  Data and other attributes defined here:\n",
      " |\n",
      " |  __hash__ = None\n",
      "\n"
     ]
    }
   ],
   "source": [
    "help(list)"
   ]
  },
  {
   "cell_type": "code",
   "execution_count": 43,
   "id": "614a1dd8-a349-4800-a99b-f960ed85dfae",
   "metadata": {},
   "outputs": [
    {
     "data": {
      "text/plain": [
       "3"
      ]
     },
     "execution_count": 43,
     "metadata": {},
     "output_type": "execute_result"
    }
   ],
   "source": [
    "l = [1,2,3]\n",
    "len(l)"
   ]
  },
  {
   "cell_type": "code",
   "execution_count": 44,
   "id": "bd943a3d-533c-4d6a-b3d7-49c6888f6ead",
   "metadata": {},
   "outputs": [
    {
     "ename": "TypeError",
     "evalue": "object of type 'Phone' has no len()",
     "output_type": "error",
     "traceback": [
      "\u001b[1;31m---------------------------------------------------------------------------\u001b[0m",
      "\u001b[1;31mTypeError\u001b[0m                                 Traceback (most recent call last)",
      "Cell \u001b[1;32mIn[44], line 1\u001b[0m\n\u001b[1;32m----> 1\u001b[0m \u001b[38;5;28mlen\u001b[39m(p2)\n",
      "\u001b[1;31mTypeError\u001b[0m: object of type 'Phone' has no len()"
     ]
    }
   ],
   "source": [
    "len(p2)"
   ]
  },
  {
   "cell_type": "code",
   "execution_count": 45,
   "id": "ad88b543-70bf-4b9d-9438-66be7b090fde",
   "metadata": {},
   "outputs": [
    {
     "name": "stdout",
     "output_type": "stream",
     "text": [
      "5\n"
     ]
    }
   ],
   "source": [
    "# __len__ (magic method to return length)\n",
    "\n",
    "class Phone: \n",
    "    def __init__(self, brand, model_name, price):\n",
    "        self.brand = brand                 \n",
    "        self.model_name = model_name       \n",
    "        self._price = max(price,0)         \n",
    "\n",
    "    def full_name(self):\n",
    "        return f'{self.brand} {self.model_name}'\n",
    "    \n",
    "    def __len__(self):\n",
    "        return len(self.brand)\n",
    "    \n",
    "p6 = Phone('Redmi', 'Note 10', 32000)\n",
    "\n",
    "print(len(p6))"
   ]
  },
  {
   "cell_type": "markdown",
   "id": "6f2bc581-458c-48ab-890c-47fcef62cefa",
   "metadata": {},
   "source": [
    "#### Operator overloading\n",
    "---\n",
    "Operator Overloading means <b>giving extended meaning beyond their predefined operational meaning</b>. \n",
    "\n",
    "For example operator + is used to add two integers as well as join two strings and merge two lists. \n",
    "\n",
    "It is achievable because '+' operator is overloaded by int class and str class.  \n",
    "\n",
    "The __add__() method in Python specifies what happens when you call + on two objects. When you call obj1 + obj2, you are essentially calling obj1. __add__(obj2)."
   ]
  },
  {
   "cell_type": "code",
   "execution_count": 46,
   "id": "4bb8a4cc-353a-46c9-b9c9-9c7ad04b67c4",
   "metadata": {},
   "outputs": [
    {
     "ename": "TypeError",
     "evalue": "unsupported operand type(s) for +: 'Phone' and 'Phone'",
     "output_type": "error",
     "traceback": [
      "\u001b[1;31m---------------------------------------------------------------------------\u001b[0m",
      "\u001b[1;31mTypeError\u001b[0m                                 Traceback (most recent call last)",
      "Cell \u001b[1;32mIn[46], line 13\u001b[0m\n\u001b[0;32m     10\u001b[0m p7 \u001b[38;5;241m=\u001b[39m Phone(\u001b[38;5;124m'\u001b[39m\u001b[38;5;124mRedmi\u001b[39m\u001b[38;5;124m'\u001b[39m, \u001b[38;5;124m'\u001b[39m\u001b[38;5;124mNote 10\u001b[39m\u001b[38;5;124m'\u001b[39m, \u001b[38;5;241m32000\u001b[39m)\n\u001b[0;32m     11\u001b[0m p8 \u001b[38;5;241m=\u001b[39m Phone(\u001b[38;5;124m'\u001b[39m\u001b[38;5;124mApple iPhone\u001b[39m\u001b[38;5;124m'\u001b[39m, \u001b[38;5;124m'\u001b[39m\u001b[38;5;124m13 Pro Max\u001b[39m\u001b[38;5;124m'\u001b[39m, \u001b[38;5;241m293199\u001b[39m)\n\u001b[1;32m---> 13\u001b[0m \u001b[38;5;28mprint\u001b[39m(p7\u001b[38;5;241m+\u001b[39mp8)\n",
      "\u001b[1;31mTypeError\u001b[0m: unsupported operand type(s) for +: 'Phone' and 'Phone'"
     ]
    }
   ],
   "source": [
    "class Phone: \n",
    "    def __init__(self, brand, model_name, price):\n",
    "        self.brand = brand                 \n",
    "        self.model_name = model_name       \n",
    "        self.price = max(price,0)         \n",
    "\n",
    "    def full_name(self):\n",
    "        return f'{self.brand} {self.model_name}'\n",
    "    \n",
    "p7 = Phone('Redmi', 'Note 10', 32000)\n",
    "p8 = Phone('Apple iPhone', '13 Pro Max', 293199)\n",
    "\n",
    "print(p7+p8)"
   ]
  },
  {
   "cell_type": "code",
   "execution_count": 47,
   "id": "34c567fe-09ca-441e-a9a4-9ecff2fc5eca",
   "metadata": {},
   "outputs": [
    {
     "name": "stdout",
     "output_type": "stream",
     "text": [
      "325199\n"
     ]
    }
   ],
   "source": [
    "# __add__ magic method is used for operator overloading\n",
    "\n",
    "class Phone: \n",
    "    def __init__(self, brand, model_name, price):\n",
    "        self.brand = brand                 \n",
    "        self.model_name = model_name       \n",
    "        self.price = max(price,0)         \n",
    "\n",
    "    def full_name(self):\n",
    "        return f'{self.brand} {self.model_name}'\n",
    "    \n",
    "    def __add__(self,other):\n",
    "        return self.price + other.price\n",
    "    \n",
    "p7 = Phone('Redmi', 'Note 10', 32000)\n",
    "p8 = Phone('Apple iPhone', '13 Pro Max', 293199)\n",
    "\n",
    "print(p7+p8)"
   ]
  },
  {
   "cell_type": "code",
   "execution_count": 48,
   "id": "930e0c1b-353f-436d-ba7d-67792e0d1c46",
   "metadata": {},
   "outputs": [
    {
     "name": "stdout",
     "output_type": "stream",
     "text": [
      "-261199\n"
     ]
    }
   ],
   "source": [
    "# __add__ magic method is used for operator overloading\n",
    "\n",
    "class Phone: \n",
    "    def __init__(self, brand, model_name, price):\n",
    "        self.brand = brand                 \n",
    "        self.model_name = model_name       \n",
    "        self.price = max(price,0)         \n",
    "\n",
    "    def full_name(self):\n",
    "        return f'{self.brand} {self.model_name}'\n",
    "    \n",
    "    def __sub__(self,other):\n",
    "        return self.price - other.price\n",
    "    \n",
    "p9 = Phone('Redmi', 'Note 10', 32000)\n",
    "p10 = Phone('Apple iPhone', '13 Pro Max', 293199)\n",
    "\n",
    "print(p9-p10)"
   ]
  },
  {
   "cell_type": "code",
   "execution_count": null,
   "id": "0300d51e-fcfd-4efe-b47f-d08a14f6a253",
   "metadata": {},
   "outputs": [],
   "source": [
    "## operators that can overload\n",
    "# __add__\n",
    "# __sub__\n",
    "# __mul__\n",
    "# __matmul__\n",
    "# __truediv__\n",
    "# __floordiv__\n",
    "# __mod__\n",
    "# __divmod__\n",
    "# __pow__\n",
    "# __lshift__\n",
    "# __rshift__\n",
    "# __and__\n",
    "# __xor__\n",
    "# __or__"
   ]
  },
  {
   "cell_type": "markdown",
   "id": "01f514af-fa13-4405-b38a-9099ffbb4f8d",
   "metadata": {},
   "source": [
    "### 4- Polymorphism\n",
    "---\n",
    "Polymorphism (many forms)\n",
    "\n",
    "Polymorphism in python <b>defines methods in the child class that have the same name as the methods in the parent class</b>. \n",
    "\n",
    "In inheritance, the child class inherits the methods from the parent class. \n",
    "\n",
    "Also, it is possible to modify a method in a child class that it has inherited from the parent class."
   ]
  },
  {
   "cell_type": "code",
   "execution_count": null,
   "id": "aec66375-a9af-4f26-9c25-7d31d2504590",
   "metadata": {},
   "outputs": [],
   "source": []
  }
 ],
 "metadata": {
  "kernelspec": {
   "display_name": "Python 3 (ipykernel)",
   "language": "python",
   "name": "python3"
  },
  "language_info": {
   "codemirror_mode": {
    "name": "ipython",
    "version": 3
   },
   "file_extension": ".py",
   "mimetype": "text/x-python",
   "name": "python",
   "nbconvert_exporter": "python",
   "pygments_lexer": "ipython3",
   "version": "3.9.12"
  }
 },
 "nbformat": 4,
 "nbformat_minor": 5
}
